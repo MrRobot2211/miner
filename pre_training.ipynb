{
 "cells": [
  {
   "cell_type": "code",
   "execution_count": 2,
   "metadata": {},
   "outputs": [],
   "source": [
    "from dataclasses import dataclass\n",
    "import os\n",
    "import datetime\n",
    "import pickle\n",
    "import numpy as np\n",
    "import random\n",
    "import torch\n",
    "import pandas as pd\n",
    "from torch.utils.data import TensorDataset,Dataset\n",
    "from transformers import BertTokenizer, RobertaTokenizer, BartTokenizer, AutoTokenizer\n",
    "from sklearn.metrics import precision_score, recall_score, f1_score\n",
    "from torch.utils.data import DataLoader, RandomSampler, SequentialSampler,WeightedRandomSampler\n",
    "from torch.nn import CrossEntropyLoss, MSELoss\n",
    "from transformers import (\n",
    "    BertForSequenceClassification,\n",
    "    AdamW,\n",
    "    get_linear_schedule_with_warmup,\n",
    ")\n",
    "from transformers import (\n",
    "    RobertaForSequenceClassification,\n",
    "    BartForSequenceClassification,\n",
    "    AutoModelForSequenceClassification,\n",
    ")\n",
    "from tqdm.auto import tqdm"
   ]
  },
  {
   "cell_type": "code",
   "execution_count": null,
   "metadata": {},
   "outputs": [],
   "source": [
    "from src.model.news_encoder import NewsEncoderMoe,NewsEncoder\n",
    "from src.model.model_unbert import UNBERT\n",
    "from src.model.model import Miner"
   ]
  },
  {
   "cell_type": "code",
   "execution_count": null,
   "metadata": {},
   "outputs": [],
   "source": [
    "miner_args = {\n",
    "    \"apply_reduce_dim\": True,\n",
    "    \"category2id_path\": \"data/category2id.json\",\n",
    "    \"category_embed_dim\": 100,\n",
    "    \"category_embed_path\":None,\n",
    "    \"combine_type\": \"linear\",\n",
    "    \"context_code_dim\": 200,\n",
    "    \"data_name\": \"CafeF_News_Recommend_Data\",\n",
    "    \"dataloader_drop_last\": True,\n",
    "    \"dataloader_num_workers\": 4,\n",
    "    \"dataloader_pin_memory\": True,\n",
    "    \"dropout\": 0.2,\n",
    "    \"eval_batch_size\": 64,\n",
    "    \"eval_behaviors_path\": \"data/valid/behaviors.tsv\",\n",
    "    \"eval_news_path\": \"data/valid/news.tsv\",\n",
    "    \"eval_steps\": 400,\n",
    "    \"evaluation_info\": [\n",
    "        \"metrics\"\n",
    "    ],\n",
    "    \"fast_eval\": False,\n",
    "    \"fp16\": False,\n",
    "    \"freeze_transformer\": False,\n",
    "    \"gradient_accumulation_steps\": 16,\n",
    "    \"his_length\": 50,\n",
    "    \"learning_rate\": 2e-05,\n",
    "    \"logging_steps\": 200,\n",
    "    \"lstm_dropout\": None,\n",
    "    \"lstm_num_layers\": None,\n",
    "    \"max_grad_norm\": 1.0,\n",
    "    \"max_sapo_length\": 64,\n",
    "    \"max_steps\": None,\n",
    "    \"max_title_length\": 32,\n",
    "    \"metrics\": [\n",
    "        \"auc\"\n",
    "    ],\n",
    "    \"mode\": \"train\",\n",
    "    \"model_name\": \"Miner\",\n",
    "    \"npratio\": 4,\n",
    "    \"num_context_codes\": 32,\n",
    "    \"num_train_epochs\": 5,\n",
    "    \"pretrained_embedding\": \"FacebookAI/roberta-base\",\n",
    "    \"pretrained_tokenizer\": \"FacebookAI/roberta-base\",\n",
    "    \"save_eval_result\": False,\n",
    "    \"score_type\": \"weighted\",\n",
    "    \"seed\": 36,\n",
    "    \"tensorboard_path\": \"runs\",\n",
    "    \"train_batch_size\": 4,\n",
    "    \"train_behaviors_path\": \"data/train/behaviors.tsv\",\n",
    "    \"train_news_path\": \"data/train/news.tsv\",\n",
    "    \"train_path\": \"train\",\n",
    "    \"use_category_bias\": False,\n",
    "    \"use_sapo\": True,\n",
    "    \"user2id_path\": \"data/user2id.json\",\n",
    "    \"warmup_ratio\": 0.1,\n",
    "    \"warmup_steps\": None,\n",
    "    \"weight_decay\": 0.01,\n",
    "    \"word_embed_dim\": 256\n",
    "}"
   ]
  },
  {
   "cell_type": "code",
   "execution_count": null,
   "metadata": {},
   "outputs": [],
   "source": [
    "UNBERT_args = {{\n",
    "    \"apply_reduce_dim\": True,\n",
    "    \"augmentation_mode\": \"unbert\",\n",
    "    \"augmentations\": None,\n",
    "    \"category2id_path\": \"data/category2id.json\",\n",
    "    \"category_embed_dim\": 100,\n",
    "    \"category_embed_path\": None,\n",
    "    \"combine_type\": \"linear\",\n",
    "    \"context_code_dim\": 200,\n",
    "    \"data_name\": \"CafeF_News_Recommend_Data\",\n",
    "    \"dataloader_drop_last\": True,\n",
    "    \"dataloader_num_workers\": 4,\n",
    "    \"dataloader_pin_memory\": True,\n",
    "    \"device\": \"cuda:2\",\n",
    "    \"dropout\": 0.2,\n",
    "    \"eval_batch_size\": 16,\n",
    "    \"eval_behaviors_path\": \"data/valid/behaviors.tsv\",\n",
    "    \"eval_news_path\": \"data/valid/news.tsv\",\n",
    "    \"eval_steps\": 400,\n",
    "    \"evaluation_info\": [\n",
    "        \"metrics\",\n",
    "        \"loss\"\n",
    "    ],\n",
    "    \"fast_eval\": False,\n",
    "    \"fp16\": False,\n",
    "    \"freeze_transformer\": False,\n",
    "    \"gradient_accumulation_steps\": 8,\n",
    "    \"his_length\": 50,\n",
    "    \"learning_rate\": 2e-05,\n",
    "    \"logging_steps\": 200,\n",
    "    \"lstm_dropout\": None,\n",
    "    \"lstm_num_layers\": None,\n",
    "    \"max_grad_norm\": 1.0,\n",
    "    \"max_sapo_length\": 128,\n",
    "    \"max_steps\": None,\n",
    "    \"max_title_length\": 32,\n",
    "    \"metrics\": [\n",
    "        \"auc\",\n",
    "        \"mrr\",\n",
    "        \"ndcg@5\"\n",
    "    ],\n",
    "    \"mode\": \"train_fastformer\",\n",
    "    \"model_name\": \"unbert\",\n",
    "    \"npratio\": 4,\n",
    "    \"num_context_codes\": 32,\n",
    "    \"num_train_epochs\": 5,\n",
    "    \"online\": 1,\n",
    "    \"pretrained_embedding\": \"bert-base-uncased\",\n",
    "    \"pretrained_tokenizer\": \"bert-base-uncased\",\n",
    "    \"save_eval_result\": False,\n",
    "    \"score_type\": \"weighted\",\n",
    "    \"seed\": 36,\n",
    "    \"tensorboard_path\": \"runs\",\n",
    "    \"train_batch_size\": 16,\n",
    "    \"train_behaviors_path\": \"data/train/behaviors.tsv\",\n",
    "    \"train_news_path\": \"data/train/news.tsv\",\n",
    "    \"train_path\": \"train\",\n",
    "    \"use_category_bias\": False,\n",
    "    \"use_sapo\": True,\n",
    "    \"user2id_path\": \"data/user2id.json\",\n",
    "    \"warmup_ratio\": 0.1,\n",
    "    \"warmup_steps\": None,\n",
    "    \"weight_decay\": 0.01,\n",
    "    \"word_embed_dim\": 256\n",
    "}}"
   ]
  },
  {
   "cell_type": "code",
   "execution_count": null,
   "metadata": {},
   "outputs": [],
   "source": []
  },
  {
   "cell_type": "markdown",
   "metadata": {},
   "source": [
    "Model List\n",
    "\n",
    "- \"microsoft/deberta-v3-base\" \n",
    "- \"facebook/bart-base\" \n",
    "\n",
    "- \"google/gemma-2b\""
   ]
  },
  {
   "cell_type": "code",
   "execution_count": null,
   "metadata": {},
   "outputs": [],
   "source": []
  },
  {
   "cell_type": "code",
   "execution_count": null,
   "metadata": {},
   "outputs": [],
   "source": [
    "0.5 0.1"
   ]
  },
  {
   "cell_type": "code",
   "execution_count": null,
   "metadata": {},
   "outputs": [],
   "source": [
    "# we need to sample 1 neg and one uag"
   ]
  },
  {
   "cell_type": "code",
   "execution_count": null,
   "metadata": {},
   "outputs": [],
   "source": []
  },
  {
   "cell_type": "code",
   "execution_count": 3,
   "metadata": {},
   "outputs": [],
   "source": [
    "news= pd.read_table(\"data/MINDsmall_train/news.tsv\",names=[\"News ID\",\n",
    "\"Category\",\n",
    "\"SubCategory\",\n",
    "\"Title\",\n",
    "\"Abstract\",\n",
    "\"URL\",\n",
    "\"Title Entities\" ,\n",
    "\"Abstract Entities\"])"
   ]
  },
  {
   "cell_type": "code",
   "execution_count": 4,
   "metadata": {},
   "outputs": [
    {
     "data": {
      "text/plain": [
       "(51282, 18881, 3107)"
      ]
     },
     "execution_count": 4,
     "metadata": {},
     "output_type": "execute_result"
    }
   ],
   "source": [
    "(len(news),news['Category'].isin(['news','finance']).sum(),news['Category'].isin(['finance']).sum())"
   ]
  },
  {
   "cell_type": "code",
   "execution_count": 5,
   "metadata": {},
   "outputs": [
    {
     "data": {
      "text/plain": [
       "(42416, 15606, 2563)"
      ]
     },
     "execution_count": 5,
     "metadata": {},
     "output_type": "execute_result"
    }
   ],
   "source": [
    "news= pd.read_table(\"data/MINDsmall_dev/news.tsv\",names=[\"News ID\",\n",
    "\"Category\",\n",
    "\"SubCategory\",\n",
    "\"Title\",\n",
    "\"Abstract\",\n",
    "\"URL\",\n",
    "\"Title Entities\" ,\n",
    "\"Abstract Entities\"])\n",
    "(len(news),news['Category'].isin(['news','finance']).sum(),news['Category'].isin(['finance']).sum())"
   ]
  },
  {
   "cell_type": "code",
   "execution_count": 6,
   "metadata": {},
   "outputs": [
    {
     "data": {
      "text/plain": [
       "(72023, 26157, 4331)"
      ]
     },
     "execution_count": 6,
     "metadata": {},
     "output_type": "execute_result"
    }
   ],
   "source": [
    "news= pd.read_table(\"data/MINDlarge_dev/news.tsv\",names=[\"News ID\",\n",
    "\"Category\",\n",
    "\"SubCategory\",\n",
    "\"Title\",\n",
    "\"Abstract\",\n",
    "\"URL\",\n",
    "\"Title Entities\" ,\n",
    "\"Abstract Entities\"])\n",
    "(len(news),news['Category'].isin(['news','finance']).sum(),news['Category'].isin(['finance']).sum())"
   ]
  },
  {
   "cell_type": "code",
   "execution_count": 7,
   "metadata": {},
   "outputs": [
    {
     "data": {
      "text/plain": [
       "(120959, 43951, 7034)"
      ]
     },
     "execution_count": 7,
     "metadata": {},
     "output_type": "execute_result"
    }
   ],
   "source": [
    "news= pd.read_table(\"data/MINDlarge_test/news.tsv\",names=[\"News ID\",\n",
    "\"Category\",\n",
    "\"SubCategory\",\n",
    "\"Title\",\n",
    "\"Abstract\",\n",
    "\"URL\",\n",
    "\"Title Entities\" ,\n",
    "\"Abstract Entities\"])\n",
    "(len(news),news['Category'].isin(['news','finance']).sum(),news['Category'].isin(['finance']).sum())"
   ]
  },
  {
   "cell_type": "code",
   "execution_count": null,
   "metadata": {},
   "outputs": [],
   "source": []
  },
  {
   "cell_type": "code",
   "execution_count": 8,
   "metadata": {},
   "outputs": [
    {
     "data": {
      "text/plain": [
       "(101527, 36394, 5916)"
      ]
     },
     "execution_count": 8,
     "metadata": {},
     "output_type": "execute_result"
    }
   ],
   "source": [
    "news= pd.read_table(\"data/MINDlarge_train/news.tsv\",names=[\"News ID\",\n",
    "\"Category\",\n",
    "\"SubCategory\",\n",
    "\"Title\",\n",
    "\"Abstract\",\n",
    "\"URL\",\n",
    "\"Title Entities\" ,\n",
    "\"Abstract Entities\"])\n",
    "(len(news),news['Category'].isin(['news','finance']).sum(),news['Category'].isin(['finance']).sum())"
   ]
  },
  {
   "cell_type": "code",
   "execution_count": 9,
   "metadata": {},
   "outputs": [],
   "source": [
    "useful_news = news.loc[news['Category'].isin(['news','finance'])].copy(deep=True)"
   ]
  },
  {
   "cell_type": "code",
   "execution_count": 10,
   "metadata": {},
   "outputs": [],
   "source": [
    "useful_news['full_text'] = useful_news['Title'].fillna(\" \")+\" \"+useful_news['Abstract'].fillna(\" \")"
   ]
  },
  {
   "cell_type": "code",
   "execution_count": 11,
   "metadata": {},
   "outputs": [],
   "source": [
    "import pickle as pk"
   ]
  },
  {
   "cell_type": "code",
   "execution_count": 12,
   "metadata": {},
   "outputs": [],
   "source": [
    "aug_topic_ls = pk.load( open('./data/aug/first_300_topic2.pkl','rb'))"
   ]
  },
  {
   "cell_type": "code",
   "execution_count": null,
   "metadata": {},
   "outputs": [],
   "source": []
  },
  {
   "cell_type": "code",
   "execution_count": 13,
   "metadata": {},
   "outputs": [],
   "source": [
    "aug_df = pk.load(open('./data/aug/full_small_news_aug.pkl','rb'))"
   ]
  },
  {
   "cell_type": "code",
   "execution_count": 14,
   "metadata": {},
   "outputs": [
    {
     "data": {
      "text/html": [
       "<div>\n",
       "<style scoped>\n",
       "    .dataframe tbody tr th:only-of-type {\n",
       "        vertical-align: middle;\n",
       "    }\n",
       "\n",
       "    .dataframe tbody tr th {\n",
       "        vertical-align: top;\n",
       "    }\n",
       "\n",
       "    .dataframe thead th {\n",
       "        text-align: right;\n",
       "    }\n",
       "</style>\n",
       "<table border=\"1\" class=\"dataframe\">\n",
       "  <thead>\n",
       "    <tr style=\"text-align: right;\">\n",
       "      <th></th>\n",
       "      <th>News ID</th>\n",
       "      <th>Category</th>\n",
       "      <th>SubCategory</th>\n",
       "      <th>Title</th>\n",
       "      <th>Abstract</th>\n",
       "      <th>URL</th>\n",
       "      <th>Title Entities</th>\n",
       "      <th>Abstract Entities</th>\n",
       "      <th>full_text</th>\n",
       "      <th>already_done</th>\n",
       "      <th>enhanced_text</th>\n",
       "      <th>enhanced_id</th>\n",
       "      <th>semi_enhanced_text</th>\n",
       "      <th>change_topic_id</th>\n",
       "      <th>changed_topic_text</th>\n",
       "      <th>from_large</th>\n",
       "    </tr>\n",
       "  </thead>\n",
       "  <tbody>\n",
       "    <tr>\n",
       "      <th>2</th>\n",
       "      <td>N61837</td>\n",
       "      <td>news</td>\n",
       "      <td>newsworld</td>\n",
       "      <td>The Cost of Trump's Aid Freeze in the Trenches...</td>\n",
       "      <td>Lt. Ivan Molchanets peeked over a parapet of s...</td>\n",
       "      <td>https://assets.msn.com/labs/mind/AAJgNsz.html</td>\n",
       "      <td>[]</td>\n",
       "      <td>[{\"Label\": \"Ukraine\", \"Type\": \"G\", \"WikidataId...</td>\n",
       "      <td>The Cost of Trump's Aid Freeze in the Trenches...</td>\n",
       "      <td>True</td>\n",
       "      <td>As the conflict in Ukraine continues to escal...</td>\n",
       "      <td>0.0</td>\n",
       "      <td>The conflict in Ukraine continues to escalate...</td>\n",
       "      <td>7.0</td>\n",
       "      <td>Ukraine's Lt. Ivan Molchanets Faces Financial...</td>\n",
       "      <td>True</td>\n",
       "    </tr>\n",
       "    <tr>\n",
       "      <th>7</th>\n",
       "      <td>N59295</td>\n",
       "      <td>news</td>\n",
       "      <td>newsworld</td>\n",
       "      <td>Chile: Three die in supermarket fire amid prot...</td>\n",
       "      <td>Three people have died in a supermarket fire a...</td>\n",
       "      <td>https://assets.msn.com/labs/mind/AAJ43pw.html</td>\n",
       "      <td>[{\"Label\": \"Chile\", \"Type\": \"G\", \"WikidataId\":...</td>\n",
       "      <td>[{\"Label\": \"Santiago\", \"Type\": \"G\", \"WikidataI...</td>\n",
       "      <td>Chile: Three die in supermarket fire amid prot...</td>\n",
       "      <td>True</td>\n",
       "      <td>Chile: Three die in supermarket fire amid ong...</td>\n",
       "      <td>1.0</td>\n",
       "      <td>According to unconfirmed reports, three indiv...</td>\n",
       "      <td>7.0</td>\n",
       "      <td>Chile's Santiago-Based Bankruptcy: A Lesson L...</td>\n",
       "      <td>True</td>\n",
       "    </tr>\n",
       "    <tr>\n",
       "      <th>9</th>\n",
       "      <td>N39237</td>\n",
       "      <td>news</td>\n",
       "      <td>newsscienceandtechnology</td>\n",
       "      <td>How to report weather-related closings, delays</td>\n",
       "      <td>When there are active closings, view them here...</td>\n",
       "      <td>https://assets.msn.com/labs/mind/AAlErhA.html</td>\n",
       "      <td>[]</td>\n",
       "      <td>[{\"Label\": \"WXII-TV\", \"Type\": \"M\", \"WikidataId...</td>\n",
       "      <td>How to report weather-related closings, delays...</td>\n",
       "      <td>True</td>\n",
       "      <td>WXII 12 News receives numerous phone calls an...</td>\n",
       "      <td>2.0</td>\n",
       "      <td>WXII 12 News receives numerous phone calls an...</td>\n",
       "      <td>6.0</td>\n",
       "      <td>WXII 12 News: New Tariffs on Chinese Goods Co...</td>\n",
       "      <td>True</td>\n",
       "    </tr>\n",
       "    <tr>\n",
       "      <th>20</th>\n",
       "      <td>N9786</td>\n",
       "      <td>news</td>\n",
       "      <td>newspolitics</td>\n",
       "      <td>Elijah Cummings to lie in state at US Capitol ...</td>\n",
       "      <td>Cummings, a Democrat whose district included s...</td>\n",
       "      <td>https://assets.msn.com/labs/mind/AAJgNxm.html</td>\n",
       "      <td>[{\"Label\": \"Elijah Cummings\", \"Type\": \"P\", \"Wi...</td>\n",
       "      <td>[{\"Label\": \"Elijah Cummings\", \"Type\": \"P\", \"Wi...</td>\n",
       "      <td>Elijah Cummings to lie in state at US Capitol ...</td>\n",
       "      <td>True</td>\n",
       "      <td>Elijah Cummings, a prominent Democrat whose d...</td>\n",
       "      <td>3.0</td>\n",
       "      <td>An event that impacts a significant number of...</td>\n",
       "      <td>0.0</td>\n",
       "      <td>Elijah Cummings' Impact on Political and Econ...</td>\n",
       "      <td>True</td>\n",
       "    </tr>\n",
       "    <tr>\n",
       "      <th>23</th>\n",
       "      <td>N42474</td>\n",
       "      <td>news</td>\n",
       "      <td>newsbusiness</td>\n",
       "      <td>Trump's Trustbusters Bring Microsoft Lessons t...</td>\n",
       "      <td>DOJ's Makan Delrahim and the FTC's Joe Simons ...</td>\n",
       "      <td>https://assets.msn.com/labs/mind/AACI1SK.html</td>\n",
       "      <td>[{\"Label\": \"Big Four tech companies\", \"Type\": ...</td>\n",
       "      <td>[{\"Label\": \"Makan Delrahim\", \"Type\": \"P\", \"Wik...</td>\n",
       "      <td>Trump's Trustbusters Bring Microsoft Lessons t...</td>\n",
       "      <td>True</td>\n",
       "      <td>The recent decision by the DOJ's Makan Delrah...</td>\n",
       "      <td>3.0</td>\n",
       "      <td>The recent decision by the DOJ's Makan Delrah...</td>\n",
       "      <td>1.0</td>\n",
       "      <td>\"Trump's Big Lessons on Natural Disasters: Ho...</td>\n",
       "      <td>True</td>\n",
       "    </tr>\n",
       "  </tbody>\n",
       "</table>\n",
       "</div>"
      ],
      "text/plain": [
       "   News ID Category               SubCategory  \\\n",
       "2   N61837     news                 newsworld   \n",
       "7   N59295     news                 newsworld   \n",
       "9   N39237     news  newsscienceandtechnology   \n",
       "20   N9786     news              newspolitics   \n",
       "23  N42474     news              newsbusiness   \n",
       "\n",
       "                                                Title  \\\n",
       "2   The Cost of Trump's Aid Freeze in the Trenches...   \n",
       "7   Chile: Three die in supermarket fire amid prot...   \n",
       "9      How to report weather-related closings, delays   \n",
       "20  Elijah Cummings to lie in state at US Capitol ...   \n",
       "23  Trump's Trustbusters Bring Microsoft Lessons t...   \n",
       "\n",
       "                                             Abstract  \\\n",
       "2   Lt. Ivan Molchanets peeked over a parapet of s...   \n",
       "7   Three people have died in a supermarket fire a...   \n",
       "9   When there are active closings, view them here...   \n",
       "20  Cummings, a Democrat whose district included s...   \n",
       "23  DOJ's Makan Delrahim and the FTC's Joe Simons ...   \n",
       "\n",
       "                                              URL  \\\n",
       "2   https://assets.msn.com/labs/mind/AAJgNsz.html   \n",
       "7   https://assets.msn.com/labs/mind/AAJ43pw.html   \n",
       "9   https://assets.msn.com/labs/mind/AAlErhA.html   \n",
       "20  https://assets.msn.com/labs/mind/AAJgNxm.html   \n",
       "23  https://assets.msn.com/labs/mind/AACI1SK.html   \n",
       "\n",
       "                                       Title Entities  \\\n",
       "2                                                  []   \n",
       "7   [{\"Label\": \"Chile\", \"Type\": \"G\", \"WikidataId\":...   \n",
       "9                                                  []   \n",
       "20  [{\"Label\": \"Elijah Cummings\", \"Type\": \"P\", \"Wi...   \n",
       "23  [{\"Label\": \"Big Four tech companies\", \"Type\": ...   \n",
       "\n",
       "                                    Abstract Entities  \\\n",
       "2   [{\"Label\": \"Ukraine\", \"Type\": \"G\", \"WikidataId...   \n",
       "7   [{\"Label\": \"Santiago\", \"Type\": \"G\", \"WikidataI...   \n",
       "9   [{\"Label\": \"WXII-TV\", \"Type\": \"M\", \"WikidataId...   \n",
       "20  [{\"Label\": \"Elijah Cummings\", \"Type\": \"P\", \"Wi...   \n",
       "23  [{\"Label\": \"Makan Delrahim\", \"Type\": \"P\", \"Wik...   \n",
       "\n",
       "                                            full_text  already_done  \\\n",
       "2   The Cost of Trump's Aid Freeze in the Trenches...          True   \n",
       "7   Chile: Three die in supermarket fire amid prot...          True   \n",
       "9   How to report weather-related closings, delays...          True   \n",
       "20  Elijah Cummings to lie in state at US Capitol ...          True   \n",
       "23  Trump's Trustbusters Bring Microsoft Lessons t...          True   \n",
       "\n",
       "                                        enhanced_text  enhanced_id  \\\n",
       "2    As the conflict in Ukraine continues to escal...          0.0   \n",
       "7    Chile: Three die in supermarket fire amid ong...          1.0   \n",
       "9    WXII 12 News receives numerous phone calls an...          2.0   \n",
       "20   Elijah Cummings, a prominent Democrat whose d...          3.0   \n",
       "23   The recent decision by the DOJ's Makan Delrah...          3.0   \n",
       "\n",
       "                                   semi_enhanced_text  change_topic_id  \\\n",
       "2    The conflict in Ukraine continues to escalate...              7.0   \n",
       "7    According to unconfirmed reports, three indiv...              7.0   \n",
       "9    WXII 12 News receives numerous phone calls an...              6.0   \n",
       "20   An event that impacts a significant number of...              0.0   \n",
       "23   The recent decision by the DOJ's Makan Delrah...              1.0   \n",
       "\n",
       "                                   changed_topic_text  from_large  \n",
       "2    Ukraine's Lt. Ivan Molchanets Faces Financial...        True  \n",
       "7    Chile's Santiago-Based Bankruptcy: A Lesson L...        True  \n",
       "9    WXII 12 News: New Tariffs on Chinese Goods Co...        True  \n",
       "20   Elijah Cummings' Impact on Political and Econ...        True  \n",
       "23   \"Trump's Big Lessons on Natural Disasters: Ho...        True  "
      ]
     },
     "execution_count": 14,
     "metadata": {},
     "output_type": "execute_result"
    }
   ],
   "source": [
    "aug_df.head()"
   ]
  },
  {
   "cell_type": "code",
   "execution_count": null,
   "metadata": {},
   "outputs": [],
   "source": []
  },
  {
   "cell_type": "code",
   "execution_count": 15,
   "metadata": {},
   "outputs": [],
   "source": [
    "class CFG:\n",
    "    wandb = True\n",
    "    competition = \"PPPM\"\n",
    "    _wandb_kernel = \"nakama\"\n",
    "    debug = False\n",
    "    apex = True\n",
    "    print_freq = 100\n",
    "    num_workers = 4\n",
    "    model = \"microsoft/deberta-v3-small\"\n",
    "    scheduler = \"linear\"  #'cosine' # ['linear', 'cosine','constant','plateau']\n",
    "    batch_scheduler = True\n",
    "    num_cycles = 1.0\n",
    "    num_warmup_steps = 0\n",
    "    epochs = 5\n",
    "    encoder_lr = 7e-5#5e-5  # lr 5e-5 accumulation 4 batch 8 wd 0.003produces overfittin in the first epch\n",
    "    decoder_lr = 3e-5  # 3e-5# 8e-6\n",
    "    min_lr = 1e-7\n",
    "    eps = 1e-8\n",
    "    betas = (0.9, 0.999)\n",
    "    batch_size = 8 #36\n",
    "    fc_dropout = 0.2\n",
    "    target_size = 1\n",
    "    max_len = 320\n",
    "    weight_decay = 0.003#0.01  # 0.002#0.015#0.005#0.001#0.00005\n",
    "    gradient_accumulation_steps = 1\n",
    "    max_grad_norm = 60  # 200#500 #10#100#1000#150#1000\n",
    "    seed = 42\n",
    "    n_fold = 5\n",
    "    trn_fold = [0, 1, 2, 3, 4]\n",
    "    train = True\n"
   ]
  },
  {
   "cell_type": "code",
   "execution_count": 16,
   "metadata": {},
   "outputs": [],
   "source": [
    "CFG= dict(wandb = True,\n",
    "    competition = \"PPPM\",\n",
    "    _wandb_kernel = \"nakama\",\n",
    "    debug = False,\n",
    "    apex = True,\n",
    "    print_freq = 100,\n",
    "    num_workers = 4,\n",
    "    model = \"microsoft/deberta-v3-small\",\n",
    "    scheduler = \"linear\" , #'cosine' # ['linear', 'cosine','constant','plateau'],\n",
    "    batch_scheduler = True,\n",
    "    num_cycles = 1.0,\n",
    "    num_warmup_steps = 0,\n",
    "    epochs = 5,\n",
    "    encoder_lr = 7e-5 ,#5e-5  # lr 5e-5 accumulation 4 batch 8 wd 0.003produces overfittin in the first epch,\n",
    "    decoder_lr = 3e-5 , # 3e-5# 8e-6,\n",
    "    min_lr = 1e-7,\n",
    "    eps = 1e-8,\n",
    "    betas = (0.9, 0.999),\n",
    "    batch_size = 8,#36,\n",
    "    fc_dropout = 0.2,\n",
    "    target_size = 1,\n",
    "    max_len = 320,\n",
    "    weight_decay = 0.003,#0.01  # 0.002#0.015#0.005#0.001#0.00005,\n",
    "    gradient_accumulation_steps = 1,\n",
    "    max_grad_norm = 60 , # 200#500 #10#100#1000#150#1000,\n",
    "    seed = 42,\n",
    "    n_fold = 5,\n",
    "    trn_fold = [0, 1, 2, 3, 4],\n",
    "    train = True)\n"
   ]
  },
  {
   "cell_type": "code",
   "execution_count": 17,
   "metadata": {},
   "outputs": [],
   "source": [
    "model_name = \"derbertav3_base_oversampling\"\n",
    "model_hug = \"microsoft/deberta-v3-base\"\n",
    "max_seq_length = 512\n",
    "batch_size = 16\n",
    "epoch = 15\n",
    "lr = 1e-5\n",
    "seed_val = 42\n"
   ]
  },
  {
   "cell_type": "code",
   "execution_count": 18,
   "metadata": {},
   "outputs": [],
   "source": [
    "class ClassificationAugmentedTrainDataset(Dataset):\n",
    "    def __init__(self,pos_data,neg_data):\n",
    "\n",
    "        self.pos_data = pos_data\n",
    "        self.neg_data = neg_data\n",
    "        self.columns =  ['labels', 'input_ids', 'attention_masks']\n",
    "\n",
    "    def __len__(self):\n",
    "        return (len(self.pos_data))*2\n",
    "\n",
    "    def __getitem__(self, index):\n",
    "\n",
    "        if index%2==0:\n",
    "\n",
    "            text = self.pos_data[index//2]\n",
    "        \n",
    "        else:\n",
    "            idx = np.random.randint(len(self.neg_data))\n",
    "            text = self.neg_data[idx]\n",
    "    \n",
    "        \n",
    "        \n",
    "        return {'text':text.strip() ,\"labels\":index%2 }"
   ]
  },
  {
   "cell_type": "code",
   "execution_count": 19,
   "metadata": {},
   "outputs": [
    {
     "name": "stderr",
     "output_type": "stream",
     "text": [
      "/home/felipe/anaconda3/envs/cuda_12.1/lib/python3.11/site-packages/transformers/convert_slow_tokenizer.py:550: UserWarning: The sentencepiece tokenizer that you are converting to a fast tokenizer uses the byte fallback option which is not implemented in the fast tokenizers. In practice this means that the fast version of the tokenizer can produce unknown tokens whereas the sentencepiece version would have converted these unknown tokens into a sequence of byte tokens matching the original piece of text.\n",
      "  warnings.warn(\n"
     ]
    }
   ],
   "source": [
    "tokenizer = AutoTokenizer.from_pretrained(CFG['model'])"
   ]
  },
  {
   "cell_type": "code",
   "execution_count": 20,
   "metadata": {},
   "outputs": [],
   "source": [
    "\n",
    "tr_dataset = ClassificationAugmentedTrainDataset([text for text,_ in aug_topic_ls],useful_news['full_text'].to_list())\n",
    "\n",
    "\n",
    "\n"
   ]
  },
  {
   "cell_type": "code",
   "execution_count": 21,
   "metadata": {},
   "outputs": [],
   "source": [
    "tr_dataset = ClassificationAugmentedTrainDataset(aug_df.loc[~aug_df['changed_topic_text'].isna(),'changed_topic_text'].to_list(),useful_news['full_text'].to_list())"
   ]
  },
  {
   "cell_type": "code",
   "execution_count": 22,
   "metadata": {},
   "outputs": [
    {
     "data": {
      "text/plain": [
       "2         Ukraine's Lt. Ivan Molchanets Faces Financial...\n",
       "7         Chile's Santiago-Based Bankruptcy: A Lesson L...\n",
       "9         WXII 12 News: New Tariffs on Chinese Goods Co...\n",
       "20        Elijah Cummings' Impact on Political and Econ...\n",
       "23        \"Trump's Big Lessons on Natural Disasters: Ho...\n",
       "                               ...                        \n",
       "51271     Turkish Army Deploys to Help Rebuild Syria Af...\n",
       "51272     Dayton-Wright Brothers Airport Faces Uncertai...\n",
       "51273     John Catsimatidis and Guardian Angels Join Fo...\n",
       "51274     US Forest Service and Georgia's Chattahoochee...\n",
       "51275     Realme's Profitability Takes a Hit as India's...\n",
       "Name: changed_topic_text, Length: 18881, dtype: object"
      ]
     },
     "execution_count": 22,
     "metadata": {},
     "output_type": "execute_result"
    }
   ],
   "source": [
    "aug_df['changed_topic_text']"
   ]
  },
  {
   "cell_type": "code",
   "execution_count": 23,
   "metadata": {},
   "outputs": [
    {
     "data": {
      "text/plain": [
       "37762"
      ]
     },
     "execution_count": 23,
     "metadata": {},
     "output_type": "execute_result"
    }
   ],
   "source": [
    "len(tr_dataset)"
   ]
  },
  {
   "cell_type": "code",
   "execution_count": 24,
   "metadata": {},
   "outputs": [
    {
     "data": {
      "text/plain": [
       "{'text': \"Top Chicago news: Black customers told to switch tables; cop suspected of slapping cop; more Here's the most recent top news in Chicago; see what headlines are trending among local readers, with links to full articles.\",\n",
       " 'labels': 1}"
      ]
     },
     "execution_count": 24,
     "metadata": {},
     "output_type": "execute_result"
    }
   ],
   "source": [
    "tr_dataset[599]"
   ]
  },
  {
   "cell_type": "code",
   "execution_count": 25,
   "metadata": {},
   "outputs": [
    {
     "data": {
      "text/plain": [
       "{'text': 'Small plane crashes into California home; 2 residents escape Authorities say a single-engine plane has crashed into a house in Southern California, sparking a house fire . Police say a father and child were in the home at the time and escaped without injuries. (Nov. 7)',\n",
       " 'labels': 1}"
      ]
     },
     "execution_count": 25,
     "metadata": {},
     "output_type": "execute_result"
    }
   ],
   "source": [
    "tr_dataset[11]"
   ]
  },
  {
   "cell_type": "code",
   "execution_count": 26,
   "metadata": {},
   "outputs": [],
   "source": [
    "dl = DataLoader(tr_dataset,batch_size=CFG['batch_size'],shuffle=True)"
   ]
  },
  {
   "cell_type": "code",
   "execution_count": 27,
   "metadata": {},
   "outputs": [],
   "source": [
    "for batch in dl:\n",
    "    break"
   ]
  },
  {
   "cell_type": "code",
   "execution_count": 28,
   "metadata": {},
   "outputs": [
    {
     "data": {
      "text/plain": [
       "{'text': [\"Jamestown's Infrastructure Takes a Hit from Hurricane\\n\\nJamestown, a small coastal town in North Carolina, was hit hard by Hurricane Florence in September 2018. The storm caused significant damage to the town's infrastructure, including roads, bridges, and power lines. This disrupted supply chains and caused significant economic losses for the town.\\n\\nThe Guilford County Sheriff's Department was also affected by the hurricane. The department had to redirect resources to assist with emergency response efforts in Jamestown and other affected areas. This diversion of resources caused delays in response times to other incidents in the county.\\n\\nThe value of investments in Jamestown and the surrounding area was also affected by the hurricane. The stock market saw increased volatility as investors reacted to the news of the damage caused by the storm. This volatility continued for several weeks after the hurricane passed.\\n\\nDespite the challenges faced by Jamestown and the Guilford County Sheriff's Department, the town's resilience and determination to recover have been commendable. The community has come together to support one another and rebuild their infrastructure, and the sheriff's department has worked tirelessly to ensure public safety. As Jamestown continues to recover from the hurricane, it serves as a reminder of the importance of being prepared for natural disasters and the impact they can have on our communities and economies.\",\n",
       "  'Conservative UNCC students created anti-socialism display. It disappeared overnight. A conservative student group at UNC Charlotte says a display it created on campus, lampooning socialism, disappeared overnight. Members of Young Americans for Freedom say they put up the display -- a mock \"socialism graveyard\" with fake tombstones -- in a grassy area near the Student Union on Oct. 14. By 10 a.m. the next day, they say, the display was gone. The group calls the removal ...',\n",
       "  \"Shift Project's Disaster Response Plan in the Wake of Hurricane Laura\\n\\nThe Shift Project, a leading technology consulting firm, has been working closely with the University of California to develop a disaster response plan in the wake of Hurricane Laura. The plan aims to mitigate the impact of natural disasters on infrastructure, supply chains, and the economy.\\n\\nAs the hurricane hit the Gulf Coast region, many businesses and organizations were left without power, water, and internet connectivity. This disrupted supply chains and caused significant damage to infrastructure, leading to increased volatility in financial markets and affecting the value of investments.\\n\\nThe Shift Project's disaster response plan includes a range of measures to help businesses and organizations recover from the hurricane. These include:\\n\\n1. Emergency IT support: The Shift Project's team of IT experts is available 24/7 to provide emergency support to businesses and organizations affected by the hurricane. This includes help with data recovery, network restoration, and cybersecurity.\\n2. Disaster recovery planning: The Shift Project is working with the University of California to develop a comprehensive disaster recovery plan that includes backup and recovery strategies, business continuity plans, and emergency response protocols.\\n3. Supply chain management: The Shift Project is helping businesses and organizations to manage their supply chains in the wake of the hurricane. This includes identifying alternative suppliers, optimizing logistics, and managing inventory.\\n4. Economic analysis: The Shift Project is conducting an economic analysis of the impact of the hurricane on the region. This includes an assessment of the damage to infrastructure, the disruption to supply chains, and the impact on the economy.\\n\\nThe Shift Project's disaster response plan is designed to help businesses and organizations to recover from natural disasters and minimize the impact on their operations and investments. As the region continues to recover from the hurricane, the Shift Project will continue to work closely with the University of California and other organizations to develop and implement effective disaster response strategies.\",\n",
       "  'Starbucks Faces Cyber Attack Risk Amid Growing Threats to Major Institutions and Infrastructure\\n\\nAs cyber attacks become increasingly common, major institutions and infrastructure are at risk of significant disruptions. One such institution is Starbucks, which has faced several cyber attacks in recent years. In 2018, the company suffered a data breach that exposed the personal information of millions of customers, including names, email addresses, and payment information.\\n\\nDespite taking precautions to prevent such attacks, Starbucks and other companies must remain vigilant in the face of growing threats. Cyber criminals are becoming more sophisticated and are using a variety of tactics to gain access to sensitive data. These tactics include phishing attacks, malware, and ransomware.\\n\\nIn addition to the risks faced by companies like Starbucks, governments are also taking steps to protect against cyber attacks. For example, the US government has established the Cybersecurity and Infrastructure Security Agency (CISA) to coordinate efforts to protect critical infrastructure from cyber threats.\\n\\nHowever, even with these precautions in place, a significant cyber attack on a major institution or infrastructure could have far-reaching impacts on the market. Such an attack could disrupt supply chains, cause financial losses, and damage the reputation of the affected institution.\\n\\nAs such, it is important for companies and governments to continue to take steps to prevent cyber attacks and to be prepared to respond quickly in the event of an attack. This includes investing in cyber',\n",
       "  \"Sony is bringing immersive audio to Tidal, Amazon Music and Deezer very soon Sony's immersive audio tech is bringing 1,000 tracks to music streaming services   though not Spotify.\",\n",
       "  'Meteor streaks through sky over St. Louis Many people in the St. Louis area reported seeing a bright blue flash of light followed by an apparent meteor falling to Earth. It happened during the peak of the Northern Taurids meteor shower. \"CBS This Morning\" has details.',\n",
       "  'New Orleans Coroner\\'s Office: \"New Orleans Coroner\\'s Office Warns of Health Risks from Climate Change\"\\n\\nThe New Orleans Coroner\\'s Office is urging residents of the city to take precautions against the health risks posed by climate change. The office has seen an increase in heat-related deaths in recent years, and officials believe that this trend will continue as temperatures rise due to climate change.\\n\\nAccording to the office, extreme heat can cause a range of health problems, including heat exhaustion, heat stroke, and respiratory problems. These conditions can be particularly dangerous for vulnerable populations, such as the elderly and those with pre-existing health conditions.\\n\\nTo help prevent these types of deaths, the office is encouraging residents to stay hydrated, wear loose, light-colored clothing, and avoid direct sunlight during the hottest parts of the day. They are also reminding people to check on their neighbors and loved ones, especially those who may be more vulnerable to the heat.\\n\\n\"We want to make sure that everyone in our community is aware of the risks posed by climate change and takes steps to protect themselves,\" said Dr. Dwight McKenna, the chief medical examiner for the New Orleans Coroner\\'s Office. \"We don\\'t want to see any more unnecessary deaths due to extreme heat.\"',\n",
       "  \"Trump's Health Crisis Response: A Global Impact on the Economy and Financial Markets\\n\\nIn the wake of the COVID-19 pandemic, the world has been grappling with the economic and financial consequences of the health crisis. The pandemic has caused widespread disruptions to global supply chains, reduced demand for certain goods and services, and led to increased volatility in financial markets.\\n\\nPresident Trump's response to the pandemic has been a topic of debate, with some arguing that his actions have been effective in mitigating the economic impact of the crisis, while others have criticized his handling of the situation.\\n\\nOne of the key areas where Trump's response has had an impact is in the financial markets. The stock market has been volatile since the pandemic began, with the Dow Jones Industrial Average experiencing its worst single-day point drop in history on March 16, 2020. However, the market has since recovered, with the Dow Jones reaching new record highs in 2021.\\n\\nTrump's response to the pandemic has also had an impact on the global economy. The pandemic has led to widespread job losses and economic uncertainty, with many countries implementing lockdowns and other measures to slow the spread of the virus. Trump's administration has implemented a number of stimulus measures to help mitigate the economic impact of the pandemic, including direct payments to individuals and loans to small businesses.\\n\\nDespite these efforts, the pandemic has had a significant impact\"],\n",
       " 'labels': tensor([0, 1, 0, 0, 1, 1, 0, 0])}"
      ]
     },
     "execution_count": 28,
     "metadata": {},
     "output_type": "execute_result"
    }
   ],
   "source": [
    "batch"
   ]
  },
  {
   "cell_type": "code",
   "execution_count": 29,
   "metadata": {},
   "outputs": [],
   "source": [
    "res = tokenizer(batch['text'],padding=True,return_tensors='pt',)"
   ]
  },
  {
   "cell_type": "code",
   "execution_count": null,
   "metadata": {},
   "outputs": [],
   "source": []
  },
  {
   "cell_type": "code",
   "execution_count": null,
   "metadata": {},
   "outputs": [],
   "source": []
  },
  {
   "cell_type": "code",
   "execution_count": null,
   "metadata": {},
   "outputs": [],
   "source": []
  },
  {
   "cell_type": "code",
   "execution_count": 30,
   "metadata": {},
   "outputs": [],
   "source": [
    "def get_optimizer_params(model, encoder_lr, decoder_lr, weight_decay=0.0):\n",
    "    param_optimizer = list(model.named_parameters())\n",
    "    no_decay = [\"bias\", \"LayerNorm.bias\", \"LayerNorm.weight\"]\n",
    "    optimizer_parameters = [\n",
    "        {\n",
    "            \"params\": [\n",
    "                p\n",
    "                for n, p in model.named_parameters()\n",
    "                if not any(nd in n for nd in no_decay)\n",
    "            ],\n",
    "            \"lr\": encoder_lr,\n",
    "            \"weight_decay\": weight_decay,\n",
    "        },\n",
    "        {\n",
    "            \"params\": [\n",
    "                p\n",
    "                for n, p in model.named_parameters()\n",
    "                if any(nd in n for nd in no_decay)\n",
    "            ],\n",
    "            \"lr\": encoder_lr,\n",
    "            \"weight_decay\": 0.0,\n",
    "        },\n",
    "        # {'params': [p for n, p in model.named_parameters() if \"model\" not in n],\n",
    "        #     'lr': decoder_lr, 'weight_decay':  weight_decay}\n",
    "    ]\n",
    "    return optimizer_parameters\n",
    "\n",
    "\n",
    "# optimizer_parameters = get_optimizer_params(\n",
    "#     model,\n",
    "#     encoder_lr=CFG.encoder_lr,\n",
    "#     decoder_lr=CFG.decoder_lr,\n",
    "#     weight_decay=CFG.weight_decay,\n",
    "# )\n",
    "\n",
    "\n",
    "#optimizer = Adam(optimizer_parameters, lr=CFG.encoder_lr, eps=CFG.eps, betas=CFG.betas)\n",
    "\n",
    "\n",
    "# optimizer_grouped_parameters = [{'params': [p for n, p in param_optimizer if not any(nd in n for nd in no_decay)], 'weight_decay': 0.01}, {'params': [p for n, p in param_optimizer if any(nd in n for nd in no_decay)], 'weight_decay': 0.0}]\n",
    "\n",
    "#num_train_steps = int(EPOCHS * len(dl) / accumulation_steps)\n",
    "# scheduler = get_linear_schedule_with_warmup(optimizer, num_warmup_steps=0.3 * num_train_optimization_steps, num_training_steps = num_train_optimization_steps)\n",
    "#print(num_train_steps)\n",
    "\n",
    "\n",
    "def get_scheduler(cfg, optimizer, num_train_steps):\n",
    "    # if cfg.scheduler == 'linear':\n",
    "    #     scheduler = transformers.get_linear_schedule_with_warmup(\n",
    "    #         optimizer, num_warmup_steps=0.2 * num_train_steps, num_training_steps=num_train_steps\n",
    "    #     )\n",
    "    if cfg.scheduler == \"linear\":\n",
    "        scheduler = transformers.get_linear_schedule_with_warmup(\n",
    "            optimizer, num_warmup_steps=0, num_training_steps=num_train_steps\n",
    "        )\n",
    "    elif cfg.scheduler == \"cosine\":\n",
    "        scheduler = transformers.get_cosine_schedule_with_warmup(\n",
    "            optimizer,\n",
    "            num_warmup_steps=0.2 * num_train_steps,\n",
    "            num_training_steps=int(num_train_steps * 1.1),\n",
    "            num_cycles=cfg.num_cycles,\n",
    "        )\n",
    "    elif cfg.scheduler == \"constant\":\n",
    "        scheduler = transformers.get_constant_schedule_with_warmup(\n",
    "            optimizer, num_warmup_steps=0.3 * num_train_steps\n",
    "        )\n",
    "\n",
    "    elif cfg.scheduler == \"plateau\":\n",
    "        scheduler = transformers.ReduceLronPlateau(\n",
    "            optimizer, num_warmup_steps=0.3 * num_train_steps\n",
    "        )\n",
    "\n",
    "    return scheduler\n",
    "\n",
    "\n",
    "#scheduler = get_scheduler(CFG, optimizer, num_train_steps)"
   ]
  },
  {
   "cell_type": "code",
   "execution_count": 31,
   "metadata": {},
   "outputs": [],
   "source": [
    "class AWP:\n",
    "    def __init__(\n",
    "        self,\n",
    "        model,\n",
    "        optimizer,\n",
    "        adv_param=\"weight\",\n",
    "        adv_lr=1e-2,\n",
    "        adv_eps=9e-4,\n",
    "        start_epoch=0,\n",
    "        adv_step=1,\n",
    "        scaler=None\n",
    "    ):\n",
    "        self.model = model\n",
    "        self.optimizer = optimizer\n",
    "        self.adv_param = adv_param\n",
    "        self.adv_lr = adv_lr\n",
    "        self.adv_eps = adv_eps\n",
    "        self.start_epoch = start_epoch\n",
    "        self.adv_step = adv_step\n",
    "        self.backup = {}\n",
    "        self.backup_eps = {}\n",
    "        self.scaler = scaler\n",
    "        self.loss = torch.nn.CrossEntropyLoss()\n",
    "    def attack_backward(self, x, y, attention_mask,epoch):\n",
    "        if (self.adv_lr == 0) or (epoch < self.start_epoch):\n",
    "            return None\n",
    "\n",
    "        self._save() \n",
    "        for i in range(self.adv_step):\n",
    "            self._attack_step() \n",
    "            with torch.cuda.amp.autocast():\n",
    "                tr_logits = self.model(x,attention_mask)['logits']\n",
    "                adv_loss =  self.loss(tr_logits,y)\n",
    "                adv_loss = adv_loss.mean()\n",
    "            self.optimizer.zero_grad()\n",
    "            self.scaler.scale(adv_loss).backward()\n",
    "            \n",
    "        self._restore()\n",
    "\n",
    "    def _attack_step(self):\n",
    "        e = 1e-6\n",
    "        #e=1e-3\n",
    "        #e=1e-3\n",
    "        for name, param in self.model.named_parameters():\n",
    "            if param.requires_grad and param.grad is not None and self.adv_param in name:\n",
    "                norm1 = torch.norm(param.grad)\n",
    "                norm2 = torch.norm(param.data.detach())\n",
    "                if norm1 != 0 and not torch.isnan(norm1):\n",
    "                    r_at = self.adv_lr * param.grad / (norm1 + e) * (norm2 + e)\n",
    "                    param.data.add_(r_at)\n",
    "                    param.data = torch.min(\n",
    "                        torch.max(param.data, self.backup_eps[name][0]), self.backup_eps[name][1]\n",
    "                    )\n",
    "                # param.data.clamp_(*self.backup_eps[name])\n",
    "\n",
    "    def _save(self):\n",
    "        for name, param in self.model.named_parameters():\n",
    "            if param.requires_grad and param.grad is not None and self.adv_param in name:\n",
    "                if name not in self.backup:\n",
    "                    self.backup[name] = param.data.clone()\n",
    "                    grad_eps = self.adv_eps * param.abs().detach()\n",
    "                    self.backup_eps[name] = (\n",
    "                        self.backup[name] - grad_eps,\n",
    "                        self.backup[name] + grad_eps,\n",
    "                    )\n",
    "\n",
    "    def _restore(self,):\n",
    "        for name, param in self.model.named_parameters():\n",
    "            if name in self.backup:\n",
    "                param.data = self.backup[name]\n",
    "        self.backup = {}\n",
    "        self.backup_eps = {}\n"
   ]
  },
  {
   "cell_type": "code",
   "execution_count": null,
   "metadata": {},
   "outputs": [],
   "source": []
  },
  {
   "cell_type": "code",
   "execution_count": null,
   "metadata": {},
   "outputs": [],
   "source": []
  },
  {
   "cell_type": "code",
   "execution_count": 32,
   "metadata": {},
   "outputs": [],
   "source": [
    "def eval_result( labels,preds):\n",
    "    \"\"\" Calculate the accuracy, f1, precision, recall of our predictions vs labels\n",
    "    \"\"\"\n",
    "    if len(preds.shape) ==2:\n",
    "        y_pred = np.argmax(preds, axis=1).flatten()\n",
    "    else:\n",
    "        y_pred=preds\n",
    "    y_true = labels.flatten()\n",
    "\n",
    "    precision = precision_score(y_true, y_pred,zero_division=1)\n",
    "    recall = recall_score(y_true, y_pred,zero_division=1)\n",
    "    f1 = f1_score(y_true, y_pred, average='macro',zero_division=1)\n",
    "    accuracy = np.sum(y_pred == y_true) / len(y_true) \n",
    "\n",
    "    return (precision, recall, f1, accuracy)\n",
    "\n",
    "from sklearn.metrics import classification_report"
   ]
  },
  {
   "cell_type": "code",
   "execution_count": 33,
   "metadata": {},
   "outputs": [],
   "source": [
    "def train_model(\n",
    "    model_name,\n",
    "    model,\n",
    "    train_dataloader,\n",
    "    val_dataloader,\n",
    "    scheduler,\n",
    "    optimizer,\n",
    "    criterion,\n",
    "    epochs,\n",
    "    lr,\n",
    "    fold=0,\n",
    "):\n",
    "    random.seed(seed_val)\n",
    "    np.random.seed(seed_val)\n",
    "    torch.manual_seed(seed_val)\n",
    "    torch.cuda.manual_seed_all(seed_val)\n",
    "\n",
    "    \n",
    "    scaler = torch.cuda.amp.GradScaler()\n",
    "    # For each epoch...\n",
    "    for epoch in range(epochs):\n",
    "\n",
    "        total_train_loss = 0\n",
    "        train_n_correct = 0\n",
    "        nb_tr_examples = 0\n",
    "\n",
    "        model.train()\n",
    "\n",
    "        for step, batch in tqdm(\n",
    "            enumerate(train_dataloader),\n",
    "            total=len(train_dataloader),\n",
    "            desc=f\"Train epoch {epoch+1}/{epochs}\",\n",
    "        ):\n",
    "\n",
    "            batch.update(tokenizer(batch['text'],max_length=512,padding=True,truncation=True,return_tensors='pt'))\n",
    "            b_input_ids = batch['input_ids'].to(device)\n",
    "            b_input_mask = batch['attention_mask'].to(device)\n",
    "            b_labels = batch['labels'].to(device)\n",
    "\n",
    "            model.zero_grad()\n",
    "            with torch.cuda.amp.autocast():\n",
    "                result = model(b_input_ids, attention_mask=b_input_mask)\n",
    "\n",
    "                loss = criterion(result.logits, b_labels)\n",
    "\n",
    "                \n",
    "            #loss.backward()\n",
    "            scaler.scale(loss).backward()\n",
    "            if step % accumulation_steps == 0 or step == len(train_dataloader) - 1:\n",
    "            # Unscales the gradients of optimizer's assigned params in-place\n",
    "            #    scaler.unscale_(optimizer)\n",
    "\n",
    "            #                   # Since the gradients of optimizer's assigned params are unscaled, clips as usual:\n",
    "            #    torch.nn.utils.clip_grad_norm_(net.parameters(), CFG.max_grad_norm)\n",
    "\n",
    "                scaler.step(optimizer)\n",
    "                scaler.update()\n",
    "                # optimizer.step()\n",
    "                scheduler.step()\n",
    "                optimizer.zero_grad(set_to_none=True)\n",
    "                \n",
    "            total_train_loss+=loss.item()\n",
    "            logits = result.logits.detach().cpu().numpy()\n",
    "            label_ids = b_labels.to(\"cpu\").numpy()\n",
    "            _, _, _, accuracy = eval_result(label_ids,logits)\n",
    "            train_n_correct += accuracy\n",
    "            nb_tr_examples += b_input_ids.size(0)\n",
    "\n",
    "        avg_train_loss = total_train_loss / len(train_dataloader)\n",
    "        train_acc = train_n_correct / len(train_dataloader)\n",
    "\n",
    "        print(\n",
    "            \"Epoch [{}/{}], Train Loss: {:.4f}, Train Accuracy: {:.4f} \".format(\n",
    "                epoch + 1, epochs, avg_train_loss, train_acc\n",
    "            )\n",
    "        )\n",
    "\n",
    "        model.eval()\n",
    "\n",
    "        test_results = []\n",
    "        test_labels = []\n",
    "        total_val_loss=0\n",
    "        test_results_predicted_lavels = []\n",
    "        test_results_predicted_lavels2 = []\n",
    "        test_results_predicted_lavels3 = []\n",
    "        for batch in tqdm(val_dataloader, desc=\"Eval model\"):\n",
    "            #'labels', 'input_ids', 'attention_masks'\n",
    "\n",
    "            batch.update(tokenizer(batch['text'],max_length=512,padding=True,truncation=True,return_tensors='pt'))\n",
    "            b_input_ids = batch['input_ids'].to(device)\n",
    "            b_input_mask = batch['attention_mask'].to(device)\n",
    "            b_labels = batch['labels'].to(device)\n",
    "\n",
    "            with torch.no_grad():\n",
    "                result = model(\n",
    "                    b_input_ids,\n",
    "                    attention_mask=b_input_mask,\n",
    "                    labels=b_labels,\n",
    "                    return_dict=True,\n",
    "                )\n",
    "                loss = criterion(result.logits, b_labels)\n",
    "            total_val_loss += loss.item()\n",
    "            logits = torch.softmax(result.logits,axis=1)#result.logits\n",
    "            logits = logits.detach().cpu().numpy()\n",
    "            test_results.extend(logits.tolist())\n",
    "            tmp = np.asarray(logits.tolist())\n",
    "\n",
    "            # test_results_predicted_lavels.extend(np.max(tmp,axis=1).flatten())\n",
    "\n",
    "            test_results_predicted_lavels.extend(tmp[:,1]>0.15)\n",
    "            test_results_predicted_lavels2.extend(tmp[:,1]>0.5)\n",
    "            test_results_predicted_lavels3.extend(tmp[:,1]>0.7)\n",
    "            \n",
    "            avg_val_loss = total_val_loss / len(val_dataloader)\n",
    "            label_ids = b_labels.to(\"cpu\").numpy()\n",
    "            test_labels.extend(label_ids)\n",
    "\n",
    "        print(\n",
    "            classification_report(\n",
    "                np.asarray(test_labels), np.asarray(test_results_predicted_lavels)\n",
    "            )\n",
    "        )\n",
    "        (precision, recall, f1, accuracy) = eval_result(\n",
    "            np.asarray(test_labels), np.asarray(test_results_predicted_lavels)\n",
    "        )\n",
    "\n",
    "        print(\n",
    "            \"Epoch [{}/{}], Test Loss: {:.4f},Test Precision: {:.4f}, Test Recall: {:.4f}, Test Macro F1: {:.4f}, Test Accuracy: {:.4f} \".format(\n",
    "                epoch + 1, epochs, avg_val_loss, precision, recall, f1, accuracy\n",
    "            )\n",
    "        )\n",
    "\n",
    "\n",
    "        print(classification_report( np.asarray(test_labels), np.asarray(test_results_predicted_lavels2)))\n",
    "        (precision, recall, f1, accuracy) = eval_result(np.asarray(test_labels), np.asarray(test_results_predicted_lavels2))\n",
    "\n",
    "        print('Test Precision: {:.4f}, Test Recall: {:.4f}, Test Macro F1: {:.4f}, Test Accuracy: {:.4f} ' .format(precision, recall, f1, accuracy))\n",
    "\n",
    "        (precision, recall, f1, accuracy) = eval_result(np.asarray(test_labels), np.asarray(test_results_predicted_lavels3))\n",
    "\n",
    "        print('Test Precision: {:.4f}, Test Recall: {:.4f}, Test Macro F1: {:.4f}, Test Accuracy: {:.4f} ' .format(precision, recall, f1, accuracy))\n",
    "\n",
    "        model.save_pretrained(f\"saved_model/{model_name}_{epoch}/{epochs}e_{lr}lr_f{fold}\")\n",
    "\n",
    "    print(\"Training complete!\")\n",
    "\n",
    "   \n",
    "    # model.save_pretrained(f\"drive/MyDrive/IGLU-cq-data/{model_name}_{epochs}e_{lr}lr\")\n"
   ]
  },
  {
   "cell_type": "code",
   "execution_count": 34,
   "metadata": {},
   "outputs": [],
   "source": [
    "device=\"cuda:2\""
   ]
  },
  {
   "cell_type": "code",
   "execution_count": 35,
   "metadata": {},
   "outputs": [],
   "source": [
    "aug_topic_ls = aug_df.loc[~aug_df['changed_topic_text'].isna(),'changed_topic_text'].to_list()"
   ]
  },
  {
   "cell_type": "code",
   "execution_count": 36,
   "metadata": {},
   "outputs": [],
   "source": [
    "\n",
    "tr_dataset = ClassificationAugmentedTrainDataset([text for text in aug_topic_ls[:-50]],useful_news['full_text'].to_list()[:-500])\n",
    "val_dataset = ClassificationAugmentedTrainDataset([text for text in aug_topic_ls[-50:]],useful_news['full_text'].to_list()[-500:])\n",
    "\n",
    "\n",
    "\n"
   ]
  },
  {
   "cell_type": "code",
   "execution_count": 37,
   "metadata": {},
   "outputs": [
    {
     "data": {
      "text/plain": [
       "Index(['News ID', 'Category', 'SubCategory', 'Title', 'Abstract', 'URL',\n",
       "       'Title Entities', 'Abstract Entities', 'full_text', 'already_done',\n",
       "       'enhanced_text', 'enhanced_id', 'semi_enhanced_text', 'change_topic_id',\n",
       "       'changed_topic_text', 'from_large'],\n",
       "      dtype='object')"
      ]
     },
     "execution_count": 37,
     "metadata": {},
     "output_type": "execute_result"
    }
   ],
   "source": [
    "aug_df.columns"
   ]
  },
  {
   "cell_type": "code",
   "execution_count": 38,
   "metadata": {},
   "outputs": [],
   "source": [
    "common_topic_news = aug_df.loc[~aug_df['enhanced_text'].isna(),'enhanced_text'].to_list() + aug_df.loc[~aug_df['semi_enhanced_text'].isna(),'semi_enhanced_text'].to_list()"
   ]
  },
  {
   "cell_type": "code",
   "execution_count": 39,
   "metadata": {},
   "outputs": [],
   "source": [
    "\n",
    "tr_dataset = ClassificationAugmentedTrainDataset([text for text in aug_topic_ls[:-50]],common_topic_news[:-500])\n",
    "val_dataset = ClassificationAugmentedTrainDataset([text for text in aug_topic_ls[-50:]],common_topic_news[-500:])\n",
    "\n",
    "\n",
    "\n"
   ]
  },
  {
   "cell_type": "code",
   "execution_count": 40,
   "metadata": {},
   "outputs": [
    {
     "data": {
      "text/plain": [
       "37762"
      ]
     },
     "execution_count": 40,
     "metadata": {},
     "output_type": "execute_result"
    }
   ],
   "source": [
    "len(common_topic_news)"
   ]
  },
  {
   "cell_type": "code",
   "execution_count": 41,
   "metadata": {},
   "outputs": [
    {
     "data": {
      "text/plain": [
       "{'text': \"Texas Republican Congressman John Smith has once again called for the protection of the identity of the whistleblower who exposed corruption in the Ukraine government. Smith, who has been a vocal advocate for transparency and accountability in government, believes that the whistleblower's identity should be kept confidential to prevent retaliation and ensure their safety.\\n\\nAccording to Smith, the whistleblower's allegations of corruption and abuse of power in the Ukraine government have been largely ignored by the international community, despite the potential consequences for global stability and security. Smith believes that the whistleblower's identity should be protected to encourage others to come forward and expose corruption, and to ensure that those responsible for wrongdoing are held accountable.\\n\\nSmith has also called for increased funding and resources to be allocated to investigating corruption in the Ukraine government. He believes that this will help to root out corruption and ensure that the government is operating in the best interests of its citizens.\\n\\nIn addition to his calls for increased transparency and accountability, Smith has also been a vocal advocate for increased security measures to protect the whistleblower's identity. He believes that this will help to ensure that the whistleblower is safe and able to come forward without fear of retaliation.\\n\\nSmith has also called for increased international cooperation to address the issue of corruption in the Ukraine government. He believes that this will help to ensure that the international community is working together to hold those responsible for wrongdoing accountable and to prevent the spread of corruption to other countries.\",\n",
       " 'labels': 1}"
      ]
     },
     "execution_count": 41,
     "metadata": {},
     "output_type": "execute_result"
    }
   ],
   "source": [
    "val_dataset[11]"
   ]
  },
  {
   "cell_type": "code",
   "execution_count": null,
   "metadata": {},
   "outputs": [],
   "source": []
  },
  {
   "cell_type": "code",
   "execution_count": 42,
   "metadata": {},
   "outputs": [],
   "source": [
    "dl = DataLoader(tr_dataset,batch_size=CFG['batch_size'],shuffle=True)"
   ]
  },
  {
   "cell_type": "code",
   "execution_count": 43,
   "metadata": {},
   "outputs": [],
   "source": [
    "train_dataloader=dl\n",
    "val_dataloader=DataLoader(val_dataset,batch_size=CFG['batch_size'],shuffle=True)"
   ]
  },
  {
   "cell_type": "code",
   "execution_count": 44,
   "metadata": {},
   "outputs": [],
   "source": [
    "epochs=5\n",
    "fold=0\n",
    "accumulation_steps=1"
   ]
  },
  {
   "cell_type": "code",
   "execution_count": 45,
   "metadata": {},
   "outputs": [
    {
     "name": "stderr",
     "output_type": "stream",
     "text": [
      "Some weights of DebertaV2ForSequenceClassification were not initialized from the model checkpoint at microsoft/deberta-v3-base and are newly initialized: ['classifier.bias', 'classifier.weight', 'pooler.dense.bias', 'pooler.dense.weight']\n",
      "You should probably TRAIN this model on a down-stream task to be able to use it for predictions and inference.\n",
      "/home/felipe/anaconda3/envs/cuda_12.1/lib/python3.11/site-packages/transformers/optimization.py:457: FutureWarning: This implementation of AdamW is deprecated and will be removed in a future version. Use the PyTorch implementation torch.optim.AdamW instead, or set `no_deprecation_warning=True` to disable this warning\n",
      "  warnings.warn(\n"
     ]
    },
    {
     "data": {
      "application/vnd.jupyter.widget-view+json": {
       "model_id": "4bcce867739347aa931138b9abcc8fd7",
       "version_major": 2,
       "version_minor": 0
      },
      "text/plain": [
       "Train epoch 1/5:   0%|          | 0/4708 [00:00<?, ?it/s]"
      ]
     },
     "metadata": {},
     "output_type": "display_data"
    },
    {
     "name": "stdout",
     "output_type": "stream",
     "text": [
      "Epoch [1/5], Train Loss: 0.0196, Train Accuracy: 0.9924 \n"
     ]
    },
    {
     "data": {
      "application/vnd.jupyter.widget-view+json": {
       "model_id": "f8fa68ff2b224ca599ddecb9e3113eaa",
       "version_major": 2,
       "version_minor": 0
      },
      "text/plain": [
       "Eval model:   0%|          | 0/13 [00:00<?, ?it/s]"
      ]
     },
     "metadata": {},
     "output_type": "display_data"
    },
    {
     "name": "stdout",
     "output_type": "stream",
     "text": [
      "              precision    recall  f1-score   support\n",
      "\n",
      "           0       1.00      1.00      1.00        50\n",
      "           1       1.00      1.00      1.00        50\n",
      "\n",
      "    accuracy                           1.00       100\n",
      "   macro avg       1.00      1.00      1.00       100\n",
      "weighted avg       1.00      1.00      1.00       100\n",
      "\n",
      "Epoch [1/5], Test Loss: 0.0000,Test Precision: 1.0000, Test Recall: 1.0000, Test Macro F1: 1.0000, Test Accuracy: 1.0000 \n",
      "              precision    recall  f1-score   support\n",
      "\n",
      "           0       1.00      1.00      1.00        50\n",
      "           1       1.00      1.00      1.00        50\n",
      "\n",
      "    accuracy                           1.00       100\n",
      "   macro avg       1.00      1.00      1.00       100\n",
      "weighted avg       1.00      1.00      1.00       100\n",
      "\n",
      "Test Precision: 1.0000, Test Recall: 1.0000, Test Macro F1: 1.0000, Test Accuracy: 1.0000 \n",
      "Test Precision: 1.0000, Test Recall: 1.0000, Test Macro F1: 1.0000, Test Accuracy: 1.0000 \n"
     ]
    },
    {
     "data": {
      "application/vnd.jupyter.widget-view+json": {
       "model_id": "e4a77ec48180432e836e65b2628c8722",
       "version_major": 2,
       "version_minor": 0
      },
      "text/plain": [
       "Train epoch 2/5:   0%|          | 0/4708 [00:00<?, ?it/s]"
      ]
     },
     "metadata": {},
     "output_type": "display_data"
    },
    {
     "name": "stdout",
     "output_type": "stream",
     "text": [
      "Epoch [2/5], Train Loss: 0.0033, Train Accuracy: 0.9991 \n"
     ]
    },
    {
     "data": {
      "application/vnd.jupyter.widget-view+json": {
       "model_id": "1fa49c54e7a0453e823d6a9b7a509894",
       "version_major": 2,
       "version_minor": 0
      },
      "text/plain": [
       "Eval model:   0%|          | 0/13 [00:00<?, ?it/s]"
      ]
     },
     "metadata": {},
     "output_type": "display_data"
    },
    {
     "name": "stdout",
     "output_type": "stream",
     "text": [
      "              precision    recall  f1-score   support\n",
      "\n",
      "           0       1.00      1.00      1.00        50\n",
      "           1       1.00      1.00      1.00        50\n",
      "\n",
      "    accuracy                           1.00       100\n",
      "   macro avg       1.00      1.00      1.00       100\n",
      "weighted avg       1.00      1.00      1.00       100\n",
      "\n",
      "Epoch [2/5], Test Loss: 0.0000,Test Precision: 1.0000, Test Recall: 1.0000, Test Macro F1: 1.0000, Test Accuracy: 1.0000 \n",
      "              precision    recall  f1-score   support\n",
      "\n",
      "           0       1.00      1.00      1.00        50\n",
      "           1       1.00      1.00      1.00        50\n",
      "\n",
      "    accuracy                           1.00       100\n",
      "   macro avg       1.00      1.00      1.00       100\n",
      "weighted avg       1.00      1.00      1.00       100\n",
      "\n",
      "Test Precision: 1.0000, Test Recall: 1.0000, Test Macro F1: 1.0000, Test Accuracy: 1.0000 \n",
      "Test Precision: 1.0000, Test Recall: 1.0000, Test Macro F1: 1.0000, Test Accuracy: 1.0000 \n"
     ]
    },
    {
     "data": {
      "application/vnd.jupyter.widget-view+json": {
       "model_id": "d90111d9eda34c33bfb38fd127a24872",
       "version_major": 2,
       "version_minor": 0
      },
      "text/plain": [
       "Train epoch 3/5:   0%|          | 0/4708 [00:00<?, ?it/s]"
      ]
     },
     "metadata": {},
     "output_type": "display_data"
    },
    {
     "name": "stdout",
     "output_type": "stream",
     "text": [
      "Epoch [3/5], Train Loss: 0.0010, Train Accuracy: 0.9997 \n"
     ]
    },
    {
     "data": {
      "application/vnd.jupyter.widget-view+json": {
       "model_id": "3e657e963a9d480f9816c86f5e5c2d84",
       "version_major": 2,
       "version_minor": 0
      },
      "text/plain": [
       "Eval model:   0%|          | 0/13 [00:00<?, ?it/s]"
      ]
     },
     "metadata": {},
     "output_type": "display_data"
    },
    {
     "name": "stdout",
     "output_type": "stream",
     "text": [
      "              precision    recall  f1-score   support\n",
      "\n",
      "           0       1.00      1.00      1.00        50\n",
      "           1       1.00      1.00      1.00        50\n",
      "\n",
      "    accuracy                           1.00       100\n",
      "   macro avg       1.00      1.00      1.00       100\n",
      "weighted avg       1.00      1.00      1.00       100\n",
      "\n",
      "Epoch [3/5], Test Loss: 0.0000,Test Precision: 1.0000, Test Recall: 1.0000, Test Macro F1: 1.0000, Test Accuracy: 1.0000 \n",
      "              precision    recall  f1-score   support\n",
      "\n",
      "           0       1.00      1.00      1.00        50\n",
      "           1       1.00      1.00      1.00        50\n",
      "\n",
      "    accuracy                           1.00       100\n",
      "   macro avg       1.00      1.00      1.00       100\n",
      "weighted avg       1.00      1.00      1.00       100\n",
      "\n",
      "Test Precision: 1.0000, Test Recall: 1.0000, Test Macro F1: 1.0000, Test Accuracy: 1.0000 \n",
      "Test Precision: 1.0000, Test Recall: 1.0000, Test Macro F1: 1.0000, Test Accuracy: 1.0000 \n"
     ]
    },
    {
     "data": {
      "application/vnd.jupyter.widget-view+json": {
       "model_id": "e4a2a750728c4295b9bd35b542713c77",
       "version_major": 2,
       "version_minor": 0
      },
      "text/plain": [
       "Train epoch 4/5:   0%|          | 0/4708 [00:00<?, ?it/s]"
      ]
     },
     "metadata": {},
     "output_type": "display_data"
    },
    {
     "name": "stdout",
     "output_type": "stream",
     "text": [
      "Epoch [4/5], Train Loss: 0.0006, Train Accuracy: 0.9998 \n"
     ]
    },
    {
     "data": {
      "application/vnd.jupyter.widget-view+json": {
       "model_id": "513b290110d74511b6ea7fe11052315e",
       "version_major": 2,
       "version_minor": 0
      },
      "text/plain": [
       "Eval model:   0%|          | 0/13 [00:00<?, ?it/s]"
      ]
     },
     "metadata": {},
     "output_type": "display_data"
    },
    {
     "name": "stdout",
     "output_type": "stream",
     "text": [
      "              precision    recall  f1-score   support\n",
      "\n",
      "           0       1.00      1.00      1.00        50\n",
      "           1       1.00      1.00      1.00        50\n",
      "\n",
      "    accuracy                           1.00       100\n",
      "   macro avg       1.00      1.00      1.00       100\n",
      "weighted avg       1.00      1.00      1.00       100\n",
      "\n",
      "Epoch [4/5], Test Loss: 0.0000,Test Precision: 1.0000, Test Recall: 1.0000, Test Macro F1: 1.0000, Test Accuracy: 1.0000 \n",
      "              precision    recall  f1-score   support\n",
      "\n",
      "           0       1.00      1.00      1.00        50\n",
      "           1       1.00      1.00      1.00        50\n",
      "\n",
      "    accuracy                           1.00       100\n",
      "   macro avg       1.00      1.00      1.00       100\n",
      "weighted avg       1.00      1.00      1.00       100\n",
      "\n",
      "Test Precision: 1.0000, Test Recall: 1.0000, Test Macro F1: 1.0000, Test Accuracy: 1.0000 \n",
      "Test Precision: 1.0000, Test Recall: 1.0000, Test Macro F1: 1.0000, Test Accuracy: 1.0000 \n"
     ]
    },
    {
     "data": {
      "application/vnd.jupyter.widget-view+json": {
       "model_id": "bdd58bd101c64d08921051d73bdbfe3c",
       "version_major": 2,
       "version_minor": 0
      },
      "text/plain": [
       "Train epoch 5/5:   0%|          | 0/4708 [00:00<?, ?it/s]"
      ]
     },
     "metadata": {},
     "output_type": "display_data"
    },
    {
     "name": "stdout",
     "output_type": "stream",
     "text": [
      "Epoch [5/5], Train Loss: 0.0001, Train Accuracy: 1.0000 \n"
     ]
    },
    {
     "data": {
      "application/vnd.jupyter.widget-view+json": {
       "model_id": "5bb1a70cf01f40e48c25ae5e0e4f0cb2",
       "version_major": 2,
       "version_minor": 0
      },
      "text/plain": [
       "Eval model:   0%|          | 0/13 [00:00<?, ?it/s]"
      ]
     },
     "metadata": {},
     "output_type": "display_data"
    },
    {
     "name": "stdout",
     "output_type": "stream",
     "text": [
      "              precision    recall  f1-score   support\n",
      "\n",
      "           0       1.00      1.00      1.00        50\n",
      "           1       1.00      1.00      1.00        50\n",
      "\n",
      "    accuracy                           1.00       100\n",
      "   macro avg       1.00      1.00      1.00       100\n",
      "weighted avg       1.00      1.00      1.00       100\n",
      "\n",
      "Epoch [5/5], Test Loss: 0.0000,Test Precision: 1.0000, Test Recall: 1.0000, Test Macro F1: 1.0000, Test Accuracy: 1.0000 \n",
      "              precision    recall  f1-score   support\n",
      "\n",
      "           0       1.00      1.00      1.00        50\n",
      "           1       1.00      1.00      1.00        50\n",
      "\n",
      "    accuracy                           1.00       100\n",
      "   macro avg       1.00      1.00      1.00       100\n",
      "weighted avg       1.00      1.00      1.00       100\n",
      "\n",
      "Test Precision: 1.0000, Test Recall: 1.0000, Test Macro F1: 1.0000, Test Accuracy: 1.0000 \n",
      "Test Precision: 1.0000, Test Recall: 1.0000, Test Macro F1: 1.0000, Test Accuracy: 1.0000 \n",
      "Training complete!\n"
     ]
    }
   ],
   "source": [
    "from transformers import AutoModelForSequenceClassification\n",
    "\n",
    "model = AutoModelForSequenceClassification.from_pretrained(model_hug, num_labels=2)\n",
    "model.to(device)\n",
    "\n",
    "optimizer = AdamW(\n",
    "    model.parameters(), lr=lr, weight_decay=0.05  # 0.03 73.4 ar epoch 6\n",
    ")\n",
    "num_train_steps = int(epochs * len(train_dataloader) / accumulation_steps)\n",
    "\n",
    "criterion = CrossEntropyLoss()\n",
    "total_steps = len(train_dataloader) * epoch\n",
    "scheduler = get_linear_schedule_with_warmup(\n",
    "    optimizer, num_warmup_steps=0, num_training_steps=num_train_steps\n",
    ")\n",
    "\n",
    "# Train Model\n",
    "train_model(\n",
    "    model_name,\n",
    "    model,\n",
    "    train_dataloader,\n",
    "    val_dataloader,\n",
    "    scheduler,\n",
    "    optimizer,\n",
    "    criterion,\n",
    "    epochs,\n",
    "    lr,\n",
    "    fold,\n",
    ")"
   ]
  },
  {
   "cell_type": "code",
   "execution_count": null,
   "metadata": {},
   "outputs": [],
   "source": []
  },
  {
   "cell_type": "code",
   "execution_count": null,
   "metadata": {},
   "outputs": [],
   "source": []
  },
  {
   "cell_type": "code",
   "execution_count": 49,
   "metadata": {},
   "outputs": [
    {
     "name": "stderr",
     "output_type": "stream",
     "text": [
      "Some weights of DebertaV2ForSequenceClassification were not initialized from the model checkpoint at microsoft/deberta-v3-base and are newly initialized: ['classifier.bias', 'classifier.weight', 'pooler.dense.bias', 'pooler.dense.weight']\n",
      "You should probably TRAIN this model on a down-stream task to be able to use it for predictions and inference.\n",
      "/home/felipe/anaconda3/envs/cuda_12.1/lib/python3.11/site-packages/transformers/optimization.py:457: FutureWarning: This implementation of AdamW is deprecated and will be removed in a future version. Use the PyTorch implementation torch.optim.AdamW instead, or set `no_deprecation_warning=True` to disable this warning\n",
      "  warnings.warn(\n"
     ]
    },
    {
     "data": {
      "application/vnd.jupyter.widget-view+json": {
       "model_id": "9fa5e2d7befa4cc39eb78ee97b51c75c",
       "version_major": 2,
       "version_minor": 0
      },
      "text/plain": [
       "Train epoch 1/5:   0%|          | 0/758 [00:00<?, ?it/s]"
      ]
     },
     "metadata": {},
     "output_type": "display_data"
    },
    {
     "name": "stdout",
     "output_type": "stream",
     "text": [
      "Epoch [1/5], Train Loss: 0.0903, Train Accuracy: 0.9647 \n"
     ]
    },
    {
     "data": {
      "application/vnd.jupyter.widget-view+json": {
       "model_id": "4d4907da8f314f0dbea9cfd7af960860",
       "version_major": 2,
       "version_minor": 0
      },
      "text/plain": [
       "Eval model:   0%|          | 0/13 [00:00<?, ?it/s]"
      ]
     },
     "metadata": {},
     "output_type": "display_data"
    },
    {
     "name": "stdout",
     "output_type": "stream",
     "text": [
      "              precision    recall  f1-score   support\n",
      "\n",
      "           0       1.00      0.98      0.99        50\n",
      "           1       0.98      1.00      0.99        50\n",
      "\n",
      "    accuracy                           0.99       100\n",
      "   macro avg       0.99      0.99      0.99       100\n",
      "weighted avg       0.99      0.99      0.99       100\n",
      "\n",
      "Epoch [1/5], Test Loss: 0.0029,Test Precision: 0.9804, Test Recall: 1.0000, Test Macro F1: 0.9900, Test Accuracy: 0.9900 \n",
      "              precision    recall  f1-score   support\n",
      "\n",
      "           0       1.00      1.00      1.00        50\n",
      "           1       1.00      1.00      1.00        50\n",
      "\n",
      "    accuracy                           1.00       100\n",
      "   macro avg       1.00      1.00      1.00       100\n",
      "weighted avg       1.00      1.00      1.00       100\n",
      "\n",
      "Test Precision: 1.0000, Test Recall: 1.0000, Test Macro F1: 1.0000, Test Accuracy: 1.0000 \n",
      "Test Precision: 1.0000, Test Recall: 1.0000, Test Macro F1: 1.0000, Test Accuracy: 1.0000 \n"
     ]
    },
    {
     "data": {
      "application/vnd.jupyter.widget-view+json": {
       "model_id": "e923b91d58434e5db7e1cc3f39457e6e",
       "version_major": 2,
       "version_minor": 0
      },
      "text/plain": [
       "Train epoch 2/5:   0%|          | 0/758 [00:00<?, ?it/s]"
      ]
     },
     "metadata": {},
     "output_type": "display_data"
    },
    {
     "name": "stdout",
     "output_type": "stream",
     "text": [
      "Epoch [2/5], Train Loss: 0.0053, Train Accuracy: 0.9988 \n"
     ]
    },
    {
     "data": {
      "application/vnd.jupyter.widget-view+json": {
       "model_id": "672e3caff8db4eeeb01518e94e6fbca1",
       "version_major": 2,
       "version_minor": 0
      },
      "text/plain": [
       "Eval model:   0%|          | 0/13 [00:00<?, ?it/s]"
      ]
     },
     "metadata": {},
     "output_type": "display_data"
    },
    {
     "name": "stdout",
     "output_type": "stream",
     "text": [
      "              precision    recall  f1-score   support\n",
      "\n",
      "           0       1.00      1.00      1.00        50\n",
      "           1       1.00      1.00      1.00        50\n",
      "\n",
      "    accuracy                           1.00       100\n",
      "   macro avg       1.00      1.00      1.00       100\n",
      "weighted avg       1.00      1.00      1.00       100\n",
      "\n",
      "Epoch [2/5], Test Loss: 0.0002,Test Precision: 1.0000, Test Recall: 1.0000, Test Macro F1: 1.0000, Test Accuracy: 1.0000 \n",
      "              precision    recall  f1-score   support\n",
      "\n",
      "           0       1.00      1.00      1.00        50\n",
      "           1       1.00      1.00      1.00        50\n",
      "\n",
      "    accuracy                           1.00       100\n",
      "   macro avg       1.00      1.00      1.00       100\n",
      "weighted avg       1.00      1.00      1.00       100\n",
      "\n",
      "Test Precision: 1.0000, Test Recall: 1.0000, Test Macro F1: 1.0000, Test Accuracy: 1.0000 \n",
      "Test Precision: 1.0000, Test Recall: 1.0000, Test Macro F1: 1.0000, Test Accuracy: 1.0000 \n"
     ]
    },
    {
     "data": {
      "application/vnd.jupyter.widget-view+json": {
       "model_id": "ec4c6f41e8a642d49d72ee2ce55214d9",
       "version_major": 2,
       "version_minor": 0
      },
      "text/plain": [
       "Train epoch 3/5:   0%|          | 0/758 [00:00<?, ?it/s]"
      ]
     },
     "metadata": {},
     "output_type": "display_data"
    },
    {
     "name": "stdout",
     "output_type": "stream",
     "text": [
      "Epoch [3/5], Train Loss: 0.0037, Train Accuracy: 0.9995 \n"
     ]
    },
    {
     "data": {
      "application/vnd.jupyter.widget-view+json": {
       "model_id": "177402fb84da4066b6f3a2cfd8c5fc32",
       "version_major": 2,
       "version_minor": 0
      },
      "text/plain": [
       "Eval model:   0%|          | 0/13 [00:00<?, ?it/s]"
      ]
     },
     "metadata": {},
     "output_type": "display_data"
    },
    {
     "name": "stdout",
     "output_type": "stream",
     "text": [
      "              precision    recall  f1-score   support\n",
      "\n",
      "           0       1.00      1.00      1.00        50\n",
      "           1       1.00      1.00      1.00        50\n",
      "\n",
      "    accuracy                           1.00       100\n",
      "   macro avg       1.00      1.00      1.00       100\n",
      "weighted avg       1.00      1.00      1.00       100\n",
      "\n",
      "Epoch [3/5], Test Loss: 0.0001,Test Precision: 1.0000, Test Recall: 1.0000, Test Macro F1: 1.0000, Test Accuracy: 1.0000 \n",
      "              precision    recall  f1-score   support\n",
      "\n",
      "           0       1.00      1.00      1.00        50\n",
      "           1       1.00      1.00      1.00        50\n",
      "\n",
      "    accuracy                           1.00       100\n",
      "   macro avg       1.00      1.00      1.00       100\n",
      "weighted avg       1.00      1.00      1.00       100\n",
      "\n",
      "Test Precision: 1.0000, Test Recall: 1.0000, Test Macro F1: 1.0000, Test Accuracy: 1.0000 \n",
      "Test Precision: 1.0000, Test Recall: 1.0000, Test Macro F1: 1.0000, Test Accuracy: 1.0000 \n"
     ]
    },
    {
     "data": {
      "application/vnd.jupyter.widget-view+json": {
       "model_id": "aa63bd58c616469b8d9b42399b31323c",
       "version_major": 2,
       "version_minor": 0
      },
      "text/plain": [
       "Train epoch 4/5:   0%|          | 0/758 [00:00<?, ?it/s]"
      ]
     },
     "metadata": {},
     "output_type": "display_data"
    },
    {
     "name": "stdout",
     "output_type": "stream",
     "text": [
      "Epoch [4/5], Train Loss: 0.0018, Train Accuracy: 0.9997 \n"
     ]
    },
    {
     "data": {
      "application/vnd.jupyter.widget-view+json": {
       "model_id": "28911ce557d845698ef09f241f1905a8",
       "version_major": 2,
       "version_minor": 0
      },
      "text/plain": [
       "Eval model:   0%|          | 0/13 [00:00<?, ?it/s]"
      ]
     },
     "metadata": {},
     "output_type": "display_data"
    },
    {
     "name": "stdout",
     "output_type": "stream",
     "text": [
      "              precision    recall  f1-score   support\n",
      "\n",
      "           0       1.00      1.00      1.00        50\n",
      "           1       1.00      1.00      1.00        50\n",
      "\n",
      "    accuracy                           1.00       100\n",
      "   macro avg       1.00      1.00      1.00       100\n",
      "weighted avg       1.00      1.00      1.00       100\n",
      "\n",
      "Epoch [4/5], Test Loss: 0.0001,Test Precision: 1.0000, Test Recall: 1.0000, Test Macro F1: 1.0000, Test Accuracy: 1.0000 \n",
      "              precision    recall  f1-score   support\n",
      "\n",
      "           0       1.00      1.00      1.00        50\n",
      "           1       1.00      1.00      1.00        50\n",
      "\n",
      "    accuracy                           1.00       100\n",
      "   macro avg       1.00      1.00      1.00       100\n",
      "weighted avg       1.00      1.00      1.00       100\n",
      "\n",
      "Test Precision: 1.0000, Test Recall: 1.0000, Test Macro F1: 1.0000, Test Accuracy: 1.0000 \n",
      "Test Precision: 1.0000, Test Recall: 1.0000, Test Macro F1: 1.0000, Test Accuracy: 1.0000 \n"
     ]
    },
    {
     "data": {
      "application/vnd.jupyter.widget-view+json": {
       "model_id": "df0436a5763f415eb0fa8a5c336d6342",
       "version_major": 2,
       "version_minor": 0
      },
      "text/plain": [
       "Train epoch 5/5:   0%|          | 0/758 [00:00<?, ?it/s]"
      ]
     },
     "metadata": {},
     "output_type": "display_data"
    },
    {
     "name": "stdout",
     "output_type": "stream",
     "text": [
      "Epoch [5/5], Train Loss: 0.0013, Train Accuracy: 0.9997 \n"
     ]
    },
    {
     "data": {
      "application/vnd.jupyter.widget-view+json": {
       "model_id": "e3e7bccbdec941678086d9c96de4d0b0",
       "version_major": 2,
       "version_minor": 0
      },
      "text/plain": [
       "Eval model:   0%|          | 0/13 [00:00<?, ?it/s]"
      ]
     },
     "metadata": {},
     "output_type": "display_data"
    },
    {
     "name": "stdout",
     "output_type": "stream",
     "text": [
      "              precision    recall  f1-score   support\n",
      "\n",
      "           0       1.00      1.00      1.00        50\n",
      "           1       1.00      1.00      1.00        50\n",
      "\n",
      "    accuracy                           1.00       100\n",
      "   macro avg       1.00      1.00      1.00       100\n",
      "weighted avg       1.00      1.00      1.00       100\n",
      "\n",
      "Epoch [5/5], Test Loss: 0.0001,Test Precision: 1.0000, Test Recall: 1.0000, Test Macro F1: 1.0000, Test Accuracy: 1.0000 \n",
      "              precision    recall  f1-score   support\n",
      "\n",
      "           0       1.00      1.00      1.00        50\n",
      "           1       1.00      1.00      1.00        50\n",
      "\n",
      "    accuracy                           1.00       100\n",
      "   macro avg       1.00      1.00      1.00       100\n",
      "weighted avg       1.00      1.00      1.00       100\n",
      "\n",
      "Test Precision: 1.0000, Test Recall: 1.0000, Test Macro F1: 1.0000, Test Accuracy: 1.0000 \n",
      "Test Precision: 1.0000, Test Recall: 1.0000, Test Macro F1: 1.0000, Test Accuracy: 1.0000 \n",
      "Training complete!\n"
     ]
    }
   ],
   "source": [
    "from transformers import AutoModelForSequenceClassification\n",
    "\n",
    "model = AutoModelForSequenceClassification.from_pretrained(model_hug, num_labels=2)\n",
    "model.to(device)\n",
    "\n",
    "optimizer = AdamW(\n",
    "    model.parameters(), lr=lr, weight_decay=0.05  # 0.03 73.4 ar epoch 6\n",
    ")\n",
    "num_train_steps = int(epochs * len(train_dataloader) / accumulation_steps)\n",
    "\n",
    "criterion = CrossEntropyLoss()\n",
    "total_steps = len(train_dataloader) * epoch\n",
    "scheduler = get_linear_schedule_with_warmup(\n",
    "    optimizer, num_warmup_steps=0, num_training_steps=num_train_steps\n",
    ")\n",
    "\n",
    "# Train Model\n",
    "train_model(\n",
    "    model_name,\n",
    "    model,\n",
    "    train_dataloader,\n",
    "    val_dataloader,\n",
    "    scheduler,\n",
    "    optimizer,\n",
    "    criterion,\n",
    "    epochs,\n",
    "    lr,\n",
    "    fold,\n",
    ")"
   ]
  },
  {
   "cell_type": "code",
   "execution_count": 45,
   "metadata": {},
   "outputs": [
    {
     "data": {
      "text/plain": [
       "DebertaV2ForSequenceClassification(\n",
       "  (deberta): DebertaV2Model(\n",
       "    (embeddings): DebertaV2Embeddings(\n",
       "      (word_embeddings): Embedding(128100, 768, padding_idx=0)\n",
       "      (LayerNorm): LayerNorm((768,), eps=1e-07, elementwise_affine=True)\n",
       "      (dropout): StableDropout()\n",
       "    )\n",
       "    (encoder): DebertaV2Encoder(\n",
       "      (layer): ModuleList(\n",
       "        (0-11): 12 x DebertaV2Layer(\n",
       "          (attention): DebertaV2Attention(\n",
       "            (self): DisentangledSelfAttention(\n",
       "              (query_proj): Linear(in_features=768, out_features=768, bias=True)\n",
       "              (key_proj): Linear(in_features=768, out_features=768, bias=True)\n",
       "              (value_proj): Linear(in_features=768, out_features=768, bias=True)\n",
       "              (pos_dropout): StableDropout()\n",
       "              (dropout): StableDropout()\n",
       "            )\n",
       "            (output): DebertaV2SelfOutput(\n",
       "              (dense): Linear(in_features=768, out_features=768, bias=True)\n",
       "              (LayerNorm): LayerNorm((768,), eps=1e-07, elementwise_affine=True)\n",
       "              (dropout): StableDropout()\n",
       "            )\n",
       "          )\n",
       "          (intermediate): DebertaV2Intermediate(\n",
       "            (dense): Linear(in_features=768, out_features=3072, bias=True)\n",
       "            (intermediate_act_fn): GELUActivation()\n",
       "          )\n",
       "          (output): DebertaV2Output(\n",
       "            (dense): Linear(in_features=3072, out_features=768, bias=True)\n",
       "            (LayerNorm): LayerNorm((768,), eps=1e-07, elementwise_affine=True)\n",
       "            (dropout): StableDropout()\n",
       "          )\n",
       "        )\n",
       "      )\n",
       "      (rel_embeddings): Embedding(512, 768)\n",
       "      (LayerNorm): LayerNorm((768,), eps=1e-07, elementwise_affine=True)\n",
       "    )\n",
       "  )\n",
       "  (pooler): ContextPooler(\n",
       "    (dense): Linear(in_features=768, out_features=768, bias=True)\n",
       "    (dropout): StableDropout()\n",
       "  )\n",
       "  (classifier): Linear(in_features=768, out_features=2, bias=True)\n",
       "  (dropout): StableDropout()\n",
       ")"
      ]
     },
     "execution_count": 45,
     "metadata": {},
     "output_type": "execute_result"
    }
   ],
   "source": [
    "from transformers import AutoModelForSequenceClassification\n",
    "\n",
    "model = AutoModelForSequenceClassification.from_pretrained(\"/home/felipe/New Recommendations/saved_model/derbertav3_base_oversampling_2/5e_1e-05lr_f0\")\n",
    "model.to(device)\n"
   ]
  },
  {
   "cell_type": "code",
   "execution_count": null,
   "metadata": {},
   "outputs": [],
   "source": []
  },
  {
   "cell_type": "code",
   "execution_count": null,
   "metadata": {},
   "outputs": [],
   "source": []
  },
  {
   "cell_type": "code",
   "execution_count": 46,
   "metadata": {},
   "outputs": [],
   "source": [
    "all_pred = []"
   ]
  },
  {
   "cell_type": "code",
   "execution_count": 47,
   "metadata": {},
   "outputs": [],
   "source": [
    "\n",
    "\n",
    "\n",
    "model.eval()\n",
    "for i in range((len(useful_news)//32)+1):\n",
    "    arts = useful_news['full_text'].iloc[i*32:(i+1)*32].to_list()\n",
    "    batch = tokenizer(arts, max_length=512,padding=True,truncation=True,return_tensors='pt')\n",
    "\n",
    "    batch = {k:v.to(device) for k,v in batch.items()}\n",
    "    with torch.no_grad():\n",
    "        pred = model(**batch)['logits'].detach().cpu()\n",
    "    all_pred.extend( torch.sigmoid(pred[:,1]).tolist())"
   ]
  },
  {
   "cell_type": "code",
   "execution_count": 48,
   "metadata": {},
   "outputs": [
    {
     "data": {
      "text/plain": [
       "[0.6870428323745728,\n",
       " 0.9982751607894897,\n",
       " 0.9917486906051636,\n",
       " 0.9977487921714783,\n",
       " 0.998384952545166,\n",
       " 0.9982522130012512,\n",
       " 0.7957712411880493,\n",
       " 0.9650083184242249,\n",
       " 0.998375654220581,\n",
       " 0.9981517195701599,\n",
       " 0.9962421655654907,\n",
       " 0.9984028935432434,\n",
       " 0.9975276589393616,\n",
       " 0.993701696395874,\n",
       " 0.9979162812232971,\n",
       " 0.9960952401161194,\n",
       " 0.9982749223709106,\n",
       " 0.9983123540878296,\n",
       " 0.9960820078849792,\n",
       " 0.9981682300567627,\n",
       " 0.8657504916191101,\n",
       " 0.9981585144996643,\n",
       " 0.9980448484420776,\n",
       " 0.9975804090499878,\n",
       " 0.7268761396408081,\n",
       " 0.9982341527938843,\n",
       " 0.9977726340293884,\n",
       " 0.9975544810295105,\n",
       " 0.9846833348274231,\n",
       " 0.9982106685638428,\n",
       " 0.997996985912323,\n",
       " 0.9760571718215942,\n",
       " 0.995753288269043,\n",
       " 0.9980668425559998,\n",
       " 0.9872516393661499,\n",
       " 0.9983460903167725,\n",
       " 0.998455286026001,\n",
       " 0.9400443434715271,\n",
       " 0.9976702332496643,\n",
       " 0.998188316822052,\n",
       " 0.9980310797691345,\n",
       " 0.9966610670089722,\n",
       " 0.9977587461471558,\n",
       " 0.9982210993766785,\n",
       " 0.9981786012649536,\n",
       " 0.9982323050498962,\n",
       " 0.9768893122673035,\n",
       " 0.9918563365936279,\n",
       " 0.998261034488678,\n",
       " 0.9852035045623779,\n",
       " 0.9069458842277527,\n",
       " 0.9782911539077759,\n",
       " 0.9951005578041077,\n",
       " 0.998132050037384,\n",
       " 0.997514009475708,\n",
       " 0.9268770217895508,\n",
       " 0.9977555871009827,\n",
       " 0.9984133243560791,\n",
       " 0.9984277486801147,\n",
       " 0.9984227418899536,\n",
       " 0.9983376264572144,\n",
       " 0.9984159469604492,\n",
       " 0.9984560012817383,\n",
       " 0.9975392818450928,\n",
       " 0.9971664547920227,\n",
       " 0.9983508586883545,\n",
       " 0.9980964064598083,\n",
       " 0.9981856942176819,\n",
       " 0.981491208076477,\n",
       " 0.9973810315132141,\n",
       " 0.998271107673645,\n",
       " 0.9914047718048096,\n",
       " 0.9356448650360107,\n",
       " 0.9976075887680054,\n",
       " 0.4697388708591461,\n",
       " 0.9982548356056213,\n",
       " 0.9923284649848938,\n",
       " 0.9961944818496704,\n",
       " 0.9944549202919006,\n",
       " 0.9976958632469177,\n",
       " 0.9841248989105225,\n",
       " 0.9971441626548767,\n",
       " 0.926037073135376,\n",
       " 0.9917405843734741,\n",
       " 0.997825026512146,\n",
       " 0.9859905242919922,\n",
       " 0.9980085492134094,\n",
       " 0.9983735084533691,\n",
       " 0.9984155893325806,\n",
       " 0.9982494711875916,\n",
       " 0.998296320438385,\n",
       " 0.9978106617927551,\n",
       " 0.9921682476997375,\n",
       " 0.5738285183906555,\n",
       " 0.9976868629455566,\n",
       " 0.9982967972755432,\n",
       " 0.9983483552932739,\n",
       " 0.9970511198043823,\n",
       " 0.9982839226722717,\n",
       " 0.9976552724838257,\n",
       " 0.9980080723762512,\n",
       " 0.9973093271255493,\n",
       " 0.9984569549560547,\n",
       " 0.9982799291610718,\n",
       " 0.6326441764831543,\n",
       " 0.9976571798324585,\n",
       " 0.9953222870826721,\n",
       " 0.9966919422149658,\n",
       " 0.9980104565620422,\n",
       " 0.9983144998550415,\n",
       " 0.9984225034713745,\n",
       " 0.9949784874916077,\n",
       " 0.9980316758155823,\n",
       " 0.9980512857437134,\n",
       " 0.998245358467102,\n",
       " 0.9983956217765808,\n",
       " 0.9980103373527527,\n",
       " 0.9983484745025635,\n",
       " 0.998404324054718,\n",
       " 0.9984989166259766,\n",
       " 0.9616223573684692,\n",
       " 0.9983861446380615,\n",
       " 0.996277391910553,\n",
       " 0.9975305199623108,\n",
       " 0.9977510571479797,\n",
       " 0.9980818033218384,\n",
       " 0.9980233907699585,\n",
       " 0.9426746368408203,\n",
       " 0.9970965385437012,\n",
       " 0.9984493255615234,\n",
       " 0.998036801815033,\n",
       " 0.9974901676177979,\n",
       " 0.9983150959014893,\n",
       " 0.9939149022102356,\n",
       " 0.9975723624229431,\n",
       " 0.9983199238777161,\n",
       " 0.998353123664856,\n",
       " 0.9984338879585266,\n",
       " 0.8810339570045471,\n",
       " 0.9629348516464233,\n",
       " 0.997356653213501,\n",
       " 0.9958038926124573,\n",
       " 0.9981725215911865,\n",
       " 0.8612076044082642,\n",
       " 0.9758058786392212,\n",
       " 0.998246431350708,\n",
       " 0.627947986125946,\n",
       " 0.19842670857906342,\n",
       " 0.9976905584335327,\n",
       " 0.9983811378479004,\n",
       " 0.9984428286552429,\n",
       " 0.9983057975769043,\n",
       " 0.9950893521308899,\n",
       " 0.9982215762138367,\n",
       " 0.9962677359580994,\n",
       " 0.9983344674110413,\n",
       " 0.9979643821716309,\n",
       " 0.997960090637207,\n",
       " 0.9929191470146179,\n",
       " 0.9983697533607483,\n",
       " 0.9975141286849976,\n",
       " 0.9983501434326172,\n",
       " 0.9966253042221069,\n",
       " 0.9982457160949707,\n",
       " 0.9969311952590942,\n",
       " 0.9961962699890137,\n",
       " 0.0951266810297966,\n",
       " 0.9983046054840088,\n",
       " 0.9976125955581665,\n",
       " 0.9983627200126648,\n",
       " 0.9983662962913513,\n",
       " 0.9938122034072876,\n",
       " 0.9981874823570251,\n",
       " 0.9982832670211792,\n",
       " 0.9981367588043213,\n",
       " 0.9980214834213257,\n",
       " 0.9980535507202148,\n",
       " 0.9807865023612976,\n",
       " 0.8959070444107056,\n",
       " 0.9983686804771423,\n",
       " 0.9984083771705627,\n",
       " 0.9339342713356018,\n",
       " 0.998498797416687,\n",
       " 0.9964057207107544,\n",
       " 0.9947234392166138,\n",
       " 0.9982022047042847,\n",
       " 0.9969382286071777,\n",
       " 0.9983441829681396,\n",
       " 0.9336305856704712,\n",
       " 0.9963001608848572,\n",
       " 0.04167087376117706,\n",
       " 0.9982179999351501,\n",
       " 0.9981667995452881,\n",
       " 0.9970663189888,\n",
       " 0.9761541485786438,\n",
       " 0.9977259039878845,\n",
       " 0.7638169527053833,\n",
       " 0.995896577835083,\n",
       " 0.9978702068328857,\n",
       " 0.9937762022018433,\n",
       " 0.9983497858047485,\n",
       " 0.9983495473861694,\n",
       " 0.9981970191001892,\n",
       " 0.9972780346870422,\n",
       " 0.9978514909744263,\n",
       " 0.9851921796798706,\n",
       " 0.9982282519340515,\n",
       " 0.9977854490280151,\n",
       " 0.9980652928352356,\n",
       " 0.9981809854507446,\n",
       " 0.9969419836997986,\n",
       " 0.9980756044387817,\n",
       " 0.9979109168052673,\n",
       " 0.998029887676239,\n",
       " 0.9964762330055237,\n",
       " 0.9663470983505249,\n",
       " 0.9943596720695496,\n",
       " 0.9982717037200928,\n",
       " 0.9965697526931763,\n",
       " 0.9982671737670898,\n",
       " 0.9928227066993713,\n",
       " 0.95147705078125,\n",
       " 0.9984429478645325,\n",
       " 0.998309850692749,\n",
       " 0.998202919960022,\n",
       " 0.9983630776405334,\n",
       " 0.9979974627494812,\n",
       " 0.9979986548423767,\n",
       " 0.9981858134269714,\n",
       " 0.9983103275299072,\n",
       " 0.9983933568000793,\n",
       " 0.9912866950035095,\n",
       " 0.9982984662055969,\n",
       " 0.4339137077331543,\n",
       " 0.9625861644744873,\n",
       " 0.9919660091400146,\n",
       " 0.998273491859436,\n",
       " 0.9983019828796387,\n",
       " 0.9975448250770569,\n",
       " 0.998187243938446,\n",
       " 0.9983084201812744,\n",
       " 0.9967870712280273,\n",
       " 0.8397781848907471,\n",
       " 0.9981510043144226,\n",
       " 0.9982622265815735,\n",
       " 0.9983194470405579,\n",
       " 0.997931957244873,\n",
       " 0.9915534853935242,\n",
       " 0.9752513766288757,\n",
       " 0.9950743317604065,\n",
       " 0.6908212304115295,\n",
       " 0.9983242154121399,\n",
       " 0.997929573059082,\n",
       " 0.9982328414916992,\n",
       " 0.998389720916748,\n",
       " 0.9978367686271667,\n",
       " 0.9981886744499207,\n",
       " 0.9980158805847168,\n",
       " 0.9774397611618042,\n",
       " 0.9946542978286743,\n",
       " 0.996272087097168,\n",
       " 0.9981369972229004,\n",
       " 0.9982964396476746,\n",
       " 0.9971956014633179,\n",
       " 0.9963334798812866,\n",
       " 0.925991415977478,\n",
       " 0.9983036518096924,\n",
       " 0.9974021911621094,\n",
       " 0.9956455826759338,\n",
       " 0.9984378218650818,\n",
       " 0.9979730248451233,\n",
       " 0.9959101676940918,\n",
       " 0.9980003237724304,\n",
       " 0.9983699917793274,\n",
       " 0.9971919655799866,\n",
       " 0.9981780052185059,\n",
       " 0.32210099697113037,\n",
       " 0.9980928301811218,\n",
       " 0.9939584732055664,\n",
       " 0.9977495074272156,\n",
       " 0.9981202483177185,\n",
       " 0.9980675578117371,\n",
       " 0.9975557327270508,\n",
       " 0.9977830052375793,\n",
       " 0.9977565407752991,\n",
       " 0.9759194254875183,\n",
       " 0.997706413269043,\n",
       " 0.9984227418899536,\n",
       " 0.9983853101730347,\n",
       " 0.997516393661499,\n",
       " 0.9981701374053955,\n",
       " 0.9982479810714722,\n",
       " 0.9904696345329285,\n",
       " 0.9982926249504089,\n",
       " 0.9978513717651367,\n",
       " 0.9982579350471497,\n",
       " 0.9630641937255859,\n",
       " 0.9971126317977905,\n",
       " 0.9983890056610107,\n",
       " 0.9977752566337585,\n",
       " 0.9977807402610779,\n",
       " 0.9963449835777283,\n",
       " 0.9971599578857422,\n",
       " 0.9981276392936707,\n",
       " 0.9922114610671997,\n",
       " 0.9966133236885071,\n",
       " 0.960923433303833,\n",
       " 0.9980936646461487,\n",
       " 0.9980348944664001,\n",
       " 0.9984281063079834,\n",
       " 0.611818253993988,\n",
       " 0.9416383504867554,\n",
       " 0.9978318810462952,\n",
       " 0.9982835054397583,\n",
       " 0.9970869421958923,\n",
       " 0.99762362241745,\n",
       " 0.9893082976341248,\n",
       " 0.9983471632003784,\n",
       " 0.9983267188072205,\n",
       " 0.929506778717041,\n",
       " 0.9983238577842712,\n",
       " 0.9979968667030334,\n",
       " 0.9983575940132141,\n",
       " 0.9968129992485046,\n",
       " 0.9982814788818359,\n",
       " 0.9882485866546631,\n",
       " 0.9956439733505249,\n",
       " 0.9984001517295837,\n",
       " 0.9982602000236511,\n",
       " 0.9982479810714722,\n",
       " 0.3266116976737976,\n",
       " 0.9879565834999084,\n",
       " 0.9962005019187927,\n",
       " 0.9982218146324158,\n",
       " 0.9983218312263489,\n",
       " 0.904143750667572,\n",
       " 0.9981434345245361,\n",
       " 0.9979707598686218,\n",
       " 0.9982290863990784,\n",
       " 0.9972122311592102,\n",
       " 0.9981603026390076,\n",
       " 0.9983423948287964,\n",
       " 0.9982800483703613,\n",
       " 0.9925621151924133,\n",
       " 0.9983595013618469,\n",
       " 0.9978553652763367,\n",
       " 0.8287547826766968,\n",
       " 0.9739688038825989,\n",
       " 0.9984322190284729,\n",
       " 0.9983855485916138,\n",
       " 0.9982831478118896,\n",
       " 0.9806963801383972,\n",
       " 0.9978686571121216,\n",
       " 0.6910183429718018,\n",
       " 0.9956674575805664,\n",
       " 0.9314165115356445,\n",
       " 0.9977726340293884,\n",
       " 0.9978981018066406,\n",
       " 0.9754637479782104,\n",
       " 0.2929224669933319,\n",
       " 0.9982331991195679,\n",
       " 0.9971427321434021,\n",
       " 0.9982832670211792,\n",
       " 0.9911948442459106,\n",
       " 0.9984148740768433,\n",
       " 0.9973951578140259,\n",
       " 0.9983903169631958,\n",
       " 0.9935436248779297,\n",
       " 0.9734786748886108,\n",
       " 0.9863676428794861,\n",
       " 0.9983755350112915,\n",
       " 0.9721335172653198,\n",
       " 0.9980321526527405,\n",
       " 0.9984825253486633,\n",
       " 0.9979718327522278,\n",
       " 0.9063153862953186,\n",
       " 0.9914190769195557,\n",
       " 0.9983194470405579,\n",
       " 0.9976314306259155,\n",
       " 0.9973165392875671,\n",
       " 0.9978581070899963,\n",
       " 0.9968675971031189,\n",
       " 0.9982407093048096,\n",
       " 0.9973068237304688,\n",
       " 0.9955697655677795,\n",
       " 0.9983654618263245,\n",
       " 0.8982928395271301,\n",
       " 0.9980413913726807,\n",
       " 0.9981837868690491,\n",
       " 0.9963358640670776,\n",
       " 0.9983300566673279,\n",
       " 0.9964974522590637,\n",
       " 0.9978454113006592,\n",
       " 0.992755115032196,\n",
       " 0.9984561204910278,\n",
       " 0.9971970319747925,\n",
       " 0.9977315068244934,\n",
       " 0.9980790615081787,\n",
       " 0.9979401230812073,\n",
       " 0.9984412789344788,\n",
       " 0.5772383213043213,\n",
       " 0.9952917098999023,\n",
       " 0.9980529546737671,\n",
       " 0.9964781403541565,\n",
       " 0.9983023405075073,\n",
       " 0.9961047172546387,\n",
       " 0.9982163310050964,\n",
       " 0.9983919262886047,\n",
       " 0.9984190464019775,\n",
       " 0.9983139038085938,\n",
       " 0.9983062744140625,\n",
       " 0.9982677698135376,\n",
       " 0.9287223219871521,\n",
       " 0.9937199354171753,\n",
       " 0.9982340335845947,\n",
       " 0.9983445405960083,\n",
       " 0.9980545043945312,\n",
       " 0.9978972673416138,\n",
       " 0.9980150461196899,\n",
       " 0.8371495604515076,\n",
       " 0.4532175064086914,\n",
       " 0.8006986975669861,\n",
       " 0.9971333742141724,\n",
       " 0.9836816787719727,\n",
       " 0.8595438599586487,\n",
       " 0.9980422258377075,\n",
       " 0.99727863073349,\n",
       " 0.9982621073722839,\n",
       " 0.9982424974441528,\n",
       " 0.9982007741928101,\n",
       " 0.9974547028541565,\n",
       " 0.9982905983924866,\n",
       " 0.9980250597000122,\n",
       " 0.9984111785888672,\n",
       " 0.9954953193664551,\n",
       " 0.9973243474960327,\n",
       " 0.9968848824501038,\n",
       " 0.9973580241203308,\n",
       " 0.9978699684143066,\n",
       " 0.8356766104698181,\n",
       " 0.9983293414115906,\n",
       " 0.3753241002559662,\n",
       " 0.9869059920310974,\n",
       " 0.9981801509857178,\n",
       " 0.9982298016548157,\n",
       " 0.9967613816261292,\n",
       " 0.9754617214202881,\n",
       " 0.9970794916152954,\n",
       " 0.9975179433822632,\n",
       " 0.9983459711074829,\n",
       " 0.9810469746589661,\n",
       " 0.9962037205696106,\n",
       " 0.9974997639656067,\n",
       " 0.955350935459137,\n",
       " 0.9951522350311279,\n",
       " 0.9983686804771423,\n",
       " 0.9983471632003784,\n",
       " 0.9983354210853577,\n",
       " 0.9975264668464661,\n",
       " 0.9983685612678528,\n",
       " 0.9983383417129517,\n",
       " 0.9982832670211792,\n",
       " 0.995998740196228,\n",
       " 0.9981617331504822,\n",
       " 0.9972809553146362,\n",
       " 0.9818068742752075,\n",
       " 0.9983094930648804,\n",
       " 0.9873819947242737,\n",
       " 0.9981405735015869,\n",
       " 0.9980668425559998,\n",
       " 0.9981269240379333,\n",
       " 0.996299684047699,\n",
       " 0.9976239800453186,\n",
       " 0.9968687891960144,\n",
       " 0.9983311295509338,\n",
       " 0.9983416795730591,\n",
       " 0.9983023405075073,\n",
       " 0.9984248876571655,\n",
       " 0.9947608113288879,\n",
       " 0.9983294606208801,\n",
       " 0.997572124004364,\n",
       " 0.9984867572784424,\n",
       " 0.9983270764350891,\n",
       " 0.34457775950431824,\n",
       " 0.9983054399490356,\n",
       " 0.98390132188797,\n",
       " 0.9961929321289062,\n",
       " 0.9064857363700867,\n",
       " 0.9981282353401184,\n",
       " 0.9969712495803833,\n",
       " 0.9982209801673889,\n",
       " 0.9984032511711121,\n",
       " 0.9982849955558777,\n",
       " 0.9979445338249207,\n",
       " 0.839583694934845,\n",
       " 0.9470457434654236,\n",
       " 0.9971952438354492,\n",
       " 0.9982629418373108,\n",
       " 0.9968259334564209,\n",
       " 0.9960471987724304,\n",
       " 0.9980574250221252,\n",
       " 0.9984509944915771,\n",
       " 0.9977937936782837,\n",
       " 0.9981264472007751,\n",
       " 0.9974172115325928,\n",
       " 0.9984356760978699,\n",
       " 0.9966753721237183,\n",
       " 0.6758520603179932,\n",
       " 0.7681776881217957,\n",
       " 0.9983487129211426,\n",
       " 0.9969382286071777,\n",
       " 0.9920790791511536,\n",
       " 0.930766224861145,\n",
       " 0.9965417981147766,\n",
       " 0.980908989906311,\n",
       " 0.9931260347366333,\n",
       " 0.9985112547874451,\n",
       " 0.9765694737434387,\n",
       " 0.9983698725700378,\n",
       " 0.9984397292137146,\n",
       " 0.9346022009849548,\n",
       " 0.9970462918281555,\n",
       " 0.9980093836784363,\n",
       " 0.9983831644058228,\n",
       " 0.9968730807304382,\n",
       " 0.9983896017074585,\n",
       " 0.9983271956443787,\n",
       " 0.9983012080192566,\n",
       " 0.9972232580184937,\n",
       " 0.9954764246940613,\n",
       " 0.998289167881012,\n",
       " 0.9983356595039368,\n",
       " 0.9981409311294556,\n",
       " 0.9829602241516113,\n",
       " 0.4088926613330841,\n",
       " 0.9952556490898132,\n",
       " 0.9982086420059204,\n",
       " 0.9980815649032593,\n",
       " 0.9734339714050293,\n",
       " 0.9982064962387085,\n",
       " 0.998078465461731,\n",
       " 0.9964892864227295,\n",
       " 0.9980438947677612,\n",
       " 0.9984745383262634,\n",
       " 0.9979177117347717,\n",
       " 0.9966764450073242,\n",
       " 0.9982947707176208,\n",
       " 0.9979816675186157,\n",
       " 0.9982755184173584,\n",
       " 0.9929425716400146,\n",
       " 0.9957283139228821,\n",
       " 0.9976957440376282,\n",
       " 0.9973664879798889,\n",
       " 0.9982872605323792,\n",
       " 0.9979165196418762,\n",
       " 0.9984163045883179,\n",
       " 0.9690719842910767,\n",
       " 0.9984011054039001,\n",
       " 0.9979191422462463,\n",
       " 0.9926621913909912,\n",
       " 0.9983640313148499,\n",
       " 0.8930992484092712,\n",
       " 0.9982357025146484,\n",
       " 0.7089976072311401,\n",
       " 0.9680363535881042,\n",
       " 0.9983476400375366,\n",
       " 0.9961291551589966,\n",
       " 0.998212456703186,\n",
       " 0.9980897307395935,\n",
       " 0.9954820871353149,\n",
       " 0.9974247217178345,\n",
       " 0.9973147511482239,\n",
       " 0.9983469247817993,\n",
       " 0.9968666434288025,\n",
       " 0.9979056119918823,\n",
       " 0.3827418386936188,\n",
       " 0.9978684186935425,\n",
       " 0.9979293346405029,\n",
       " 0.9983152151107788,\n",
       " 0.9954830408096313,\n",
       " 0.9957892298698425,\n",
       " 0.9980502128601074,\n",
       " 0.9977980852127075,\n",
       " 0.9977194666862488,\n",
       " 0.9947112798690796,\n",
       " 0.9528838396072388,\n",
       " 0.9959427714347839,\n",
       " 0.9982348680496216,\n",
       " 0.9983036518096924,\n",
       " 0.9983980059623718,\n",
       " 0.9983516931533813,\n",
       " 0.9983747005462646,\n",
       " 0.9980035424232483,\n",
       " 0.9981157779693604,\n",
       " 0.9975895881652832,\n",
       " 0.9982317090034485,\n",
       " 0.9898223876953125,\n",
       " 0.7650332450866699,\n",
       " 0.9979903697967529,\n",
       " 0.9981983304023743,\n",
       " 0.9863129258155823,\n",
       " 0.6473892331123352,\n",
       " 0.9981756210327148,\n",
       " 0.9611013531684875,\n",
       " 0.9982641339302063,\n",
       " 0.9981416463851929,\n",
       " 0.9975626468658447,\n",
       " 0.9984667897224426,\n",
       " 0.997296154499054,\n",
       " 0.9968840479850769,\n",
       " 0.9982730150222778,\n",
       " 0.9981537461280823,\n",
       " 0.9982031583786011,\n",
       " 0.9980372786521912,\n",
       " 0.9982568621635437,\n",
       " 0.9904696345329285,\n",
       " 0.998343825340271,\n",
       " 0.9948587417602539,\n",
       " 0.9966418743133545,\n",
       " 0.9983117580413818,\n",
       " 0.9951885938644409,\n",
       " 0.9866047501564026,\n",
       " 0.9983351826667786,\n",
       " 0.9979479908943176,\n",
       " 0.991101086139679,\n",
       " 0.9981136322021484,\n",
       " 0.9974344372749329,\n",
       " 0.9983812570571899,\n",
       " 0.9983458518981934,\n",
       " 0.9982529282569885,\n",
       " 0.9980683922767639,\n",
       " 0.9973717927932739,\n",
       " 0.9983817338943481,\n",
       " 0.9977547526359558,\n",
       " 0.9984104633331299,\n",
       " 0.9722238779067993,\n",
       " 0.8521345853805542,\n",
       " 0.9523584842681885,\n",
       " 0.9978125095367432,\n",
       " 0.996549129486084,\n",
       " 0.9983828067779541,\n",
       " 0.9978699684143066,\n",
       " 0.9972872734069824,\n",
       " 0.997750461101532,\n",
       " 0.9979526996612549,\n",
       " 0.9985465407371521,\n",
       " 0.998143196105957,\n",
       " 0.9983851909637451,\n",
       " 0.9970911741256714,\n",
       " 0.9976339340209961,\n",
       " 0.9981461763381958,\n",
       " 0.9982981085777283,\n",
       " 0.9943668246269226,\n",
       " 0.9981753826141357,\n",
       " 0.998137354850769,\n",
       " 0.9972116351127625,\n",
       " 0.9982056617736816,\n",
       " 0.9935617446899414,\n",
       " 0.997326135635376,\n",
       " 0.9758775234222412,\n",
       " 0.9982934594154358,\n",
       " 0.9983574748039246,\n",
       " 0.9982782602310181,\n",
       " 0.9967718720436096,\n",
       " 0.9983915686607361,\n",
       " 0.8871409893035889,\n",
       " 0.9980067610740662,\n",
       " 0.9570915699005127,\n",
       " 0.11155135929584503,\n",
       " 0.9975183010101318,\n",
       " 0.9965028762817383,\n",
       " 0.9984240531921387,\n",
       " 0.31884169578552246,\n",
       " 0.9978936314582825,\n",
       " 0.9982159733772278,\n",
       " 0.9983649849891663,\n",
       " 0.9955026507377625,\n",
       " 0.9983503818511963,\n",
       " 0.9978423118591309,\n",
       " 0.9981824159622192,\n",
       " 0.9978952407836914,\n",
       " 0.9947372078895569,\n",
       " 0.990638017654419,\n",
       " 0.9786171317100525,\n",
       " 0.9983205199241638,\n",
       " 0.9819563031196594,\n",
       " 0.9983885288238525,\n",
       " 0.9857591390609741,\n",
       " 0.991856575012207,\n",
       " 0.9984025359153748,\n",
       " 0.9967896342277527,\n",
       " 0.9984039664268494,\n",
       " 0.9981722831726074,\n",
       " 0.9983192086219788,\n",
       " 0.9981858134269714,\n",
       " 0.9984095692634583,\n",
       " 0.9982408285140991,\n",
       " 0.9983630776405334,\n",
       " 0.9982247948646545,\n",
       " 0.9855144023895264,\n",
       " 0.9981874823570251,\n",
       " 0.9979087114334106,\n",
       " 0.9971718192100525,\n",
       " 0.9970906972885132,\n",
       " 0.9981887936592102,\n",
       " 0.814014732837677,\n",
       " 0.9956870675086975,\n",
       " 0.9964863061904907,\n",
       " 0.9798031449317932,\n",
       " 0.9981587529182434,\n",
       " 0.9983395338058472,\n",
       " 0.9984373450279236,\n",
       " 0.9982072114944458,\n",
       " 0.9972477555274963,\n",
       " 0.9977893829345703,\n",
       " 0.9984661340713501,\n",
       " 0.9960119724273682,\n",
       " 0.9966643452644348,\n",
       " 0.9976085424423218,\n",
       " 0.9984521865844727,\n",
       " 0.9979975819587708,\n",
       " 0.9971739053726196,\n",
       " 0.998103141784668,\n",
       " 0.998376727104187,\n",
       " 0.9982082843780518,\n",
       " 0.6343561410903931,\n",
       " 0.990581750869751,\n",
       " 0.8915344476699829,\n",
       " 0.9972841739654541,\n",
       " 0.99774169921875,\n",
       " 0.997048556804657,\n",
       " 0.9972140192985535,\n",
       " 0.9941144585609436,\n",
       " 0.9974491000175476,\n",
       " 0.9983048439025879,\n",
       " 0.35848891735076904,\n",
       " 0.9984096884727478,\n",
       " 0.9975577592849731,\n",
       " 0.9980266690254211,\n",
       " 0.9982958436012268,\n",
       " 0.5032486319541931,\n",
       " 0.9807097911834717,\n",
       " 0.9981922507286072,\n",
       " 0.9956522583961487,\n",
       " 0.9978765249252319,\n",
       " 0.9982209801673889,\n",
       " 0.9981037378311157,\n",
       " 0.9981321692466736,\n",
       " 0.9981512427330017,\n",
       " 0.7154173851013184,\n",
       " 0.9984149932861328,\n",
       " 0.9981860518455505,\n",
       " 0.9975125789642334,\n",
       " 0.9891608357429504,\n",
       " 0.9983546137809753,\n",
       " 0.9976769089698792,\n",
       " 0.9971272349357605,\n",
       " 0.9968768358230591,\n",
       " 0.9598686695098877,\n",
       " 0.9972676038742065,\n",
       " 0.9956581592559814,\n",
       " 0.9978064894676208,\n",
       " 0.9962594509124756,\n",
       " 0.9983463287353516,\n",
       " 0.997527539730072,\n",
       " 0.9983252882957458,\n",
       " 0.998290479183197,\n",
       " 0.9864555597305298,\n",
       " 0.9983052015304565,\n",
       " 0.9964470267295837,\n",
       " 0.9979494214057922,\n",
       " 0.9983763694763184,\n",
       " 0.9949513673782349,\n",
       " 0.9984032511711121,\n",
       " 0.9978196620941162,\n",
       " 0.9976533055305481,\n",
       " 0.9962027668952942,\n",
       " 0.9985052347183228,\n",
       " 0.9732827544212341,\n",
       " 0.9962121248245239,\n",
       " 0.9963800311088562,\n",
       " 0.9635515809059143,\n",
       " 0.9706003665924072,\n",
       " 0.9983470439910889,\n",
       " 0.9982802867889404,\n",
       " 0.9981525540351868,\n",
       " 0.9958641529083252,\n",
       " 0.9980364441871643,\n",
       " 0.9954990744590759,\n",
       " 0.9974339604377747,\n",
       " 0.9983659386634827,\n",
       " 0.9979907274246216,\n",
       " 0.9982616305351257,\n",
       " 0.9983006119728088,\n",
       " 0.996461808681488,\n",
       " 0.9978457689285278,\n",
       " 0.9983977675437927,\n",
       " 0.9981535077095032,\n",
       " 0.9984225034713745,\n",
       " 0.24921609461307526,\n",
       " 0.9972286820411682,\n",
       " 0.9960546493530273,\n",
       " 0.9779210686683655,\n",
       " 0.9983851909637451,\n",
       " 0.9984423518180847,\n",
       " 0.9984095692634583,\n",
       " 0.9967329502105713,\n",
       " 0.997736930847168,\n",
       " 0.9981939196586609,\n",
       " 0.9984104633331299,\n",
       " 0.9978873133659363,\n",
       " 0.9941604733467102,\n",
       " 0.9983805418014526,\n",
       " 0.9975771307945251,\n",
       " 0.9983952641487122,\n",
       " 0.9976750016212463,\n",
       " 0.9269086718559265,\n",
       " 0.9768097996711731,\n",
       " 0.9972780346870422,\n",
       " 0.9983986020088196,\n",
       " 0.9975554347038269,\n",
       " 0.9979666471481323,\n",
       " 0.9982163310050964,\n",
       " 0.997323215007782,\n",
       " 0.9962829947471619,\n",
       " 0.9977854490280151,\n",
       " 0.9981632828712463,\n",
       " 0.9983383417129517,\n",
       " 0.9968888163566589,\n",
       " 0.9755174517631531,\n",
       " 0.9983134269714355,\n",
       " 0.4226423501968384,\n",
       " 0.9789777994155884,\n",
       " 0.9981505274772644,\n",
       " 0.9984129667282104,\n",
       " 0.9982869029045105,\n",
       " 0.9984405636787415,\n",
       " 0.9965876340866089,\n",
       " 0.5517005324363708,\n",
       " 0.9984475374221802,\n",
       " 0.9730122089385986,\n",
       " 0.9965974688529968,\n",
       " 0.891320526599884,\n",
       " 0.7030784487724304,\n",
       " 0.9982554316520691,\n",
       " 0.9982241988182068,\n",
       " 0.9495148658752441,\n",
       " 0.9949350953102112,\n",
       " 0.9977426528930664,\n",
       " 0.9983375072479248,\n",
       " 0.9981916546821594,\n",
       " 0.998166561126709,\n",
       " 0.9983183145523071,\n",
       " 0.9975342750549316,\n",
       " 0.9969596862792969,\n",
       " 0.9983648657798767,\n",
       " 0.998449444770813,\n",
       " 0.9982910752296448,\n",
       " 0.7381741404533386,\n",
       " 0.9981558918952942,\n",
       " 0.9976444840431213,\n",
       " 0.9983479976654053,\n",
       " 0.11918383091688156,\n",
       " 0.997973620891571,\n",
       " 0.9981576800346375,\n",
       " 0.9979550838470459,\n",
       " 0.9902284145355225,\n",
       " 0.9966961145401001,\n",
       " 0.9983893632888794,\n",
       " 0.9982084035873413,\n",
       " 0.9967605471611023,\n",
       " 0.9984215497970581,\n",
       " 0.9949918389320374,\n",
       " 0.9982947707176208,\n",
       " 0.9979262351989746,\n",
       " 0.9983817338943481,\n",
       " 0.9959394931793213,\n",
       " 0.9982964396476746,\n",
       " 0.9624674320220947,\n",
       " 0.9980670809745789,\n",
       " 0.9982249140739441,\n",
       " 0.9969268441200256,\n",
       " 0.9978137016296387,\n",
       " 0.9976879358291626,\n",
       " 0.9815955758094788,\n",
       " 0.9921452403068542,\n",
       " 0.9984583854675293,\n",
       " 0.9433363080024719,\n",
       " 0.9982380867004395,\n",
       " 0.9982641339302063,\n",
       " 0.9970082640647888,\n",
       " 0.9983957409858704,\n",
       " 0.9982567429542542,\n",
       " 0.9851999282836914,\n",
       " 0.98492830991745,\n",
       " 0.9979245662689209,\n",
       " 0.9983415603637695,\n",
       " 0.9937406182289124,\n",
       " 0.9983158111572266,\n",
       " 0.995672345161438,\n",
       " 0.9983652234077454,\n",
       " 0.9946182370185852,\n",
       " 0.9971126317977905,\n",
       " 0.9976682066917419,\n",
       " 0.9980813264846802,\n",
       " 0.9981130361557007,\n",
       " 0.9981824159622192,\n",
       " 0.9767813682556152,\n",
       " 0.9983150959014893,\n",
       " 0.9881696701049805,\n",
       " 0.9981138706207275,\n",
       " 0.9983166456222534,\n",
       " 0.9763942360877991,\n",
       " 0.9978400468826294,\n",
       " 0.9980623126029968,\n",
       " 0.9981611371040344,\n",
       " 0.9981915354728699,\n",
       " 0.9983806610107422,\n",
       " 0.9966733455657959,\n",
       " 0.9974520802497864,\n",
       " 0.9957322478294373,\n",
       " 0.9983863830566406,\n",
       " 0.9980388283729553,\n",
       " 0.9981028437614441,\n",
       " 0.9977178573608398,\n",
       " 0.9984763264656067,\n",
       " 0.9984582662582397,\n",
       " 0.9984258413314819,\n",
       " 0.9977821707725525,\n",
       " 0.9982775449752808,\n",
       " 0.9984007477760315,\n",
       " 0.9982591271400452,\n",
       " 0.9983982443809509,\n",
       " 0.9954213500022888,\n",
       " 0.9984079003334045,\n",
       " 0.9973915815353394,\n",
       " 0.8620572090148926,\n",
       " 0.9942664504051208,\n",
       " 0.9420702457427979,\n",
       " 0.9982017278671265,\n",
       " 0.9983093738555908,\n",
       " 0.9976938366889954,\n",
       " 0.9970439076423645,\n",
       " 0.9935728311538696,\n",
       " 0.9980608820915222,\n",
       " 0.9964407086372375,\n",
       " 0.9979642629623413,\n",
       " 0.9983590245246887,\n",
       " 0.9982245564460754,\n",
       " 0.9979066848754883,\n",
       " 0.9984923601150513,\n",
       " 0.9963570237159729,\n",
       " 0.19966091215610504,\n",
       " 0.9953826069831848,\n",
       " 0.9982965588569641,\n",
       " 0.9970869421958923,\n",
       " 0.9975653886795044,\n",
       " 0.9982060194015503,\n",
       " 0.9978694915771484,\n",
       " 0.9641806483268738,\n",
       " 0.32319289445877075,\n",
       " 0.9919306635856628,\n",
       " 0.997936487197876,\n",
       " 0.9818183779716492,\n",
       " 0.9708787798881531,\n",
       " 0.7452294230461121,\n",
       " 0.998460054397583,\n",
       " 0.9815717339515686,\n",
       " 0.9958946704864502,\n",
       " 0.9983013868331909,\n",
       " 0.9984101057052612,\n",
       " 0.9982680082321167,\n",
       " 0.9982947707176208,\n",
       " 0.9243406653404236,\n",
       " 0.9980924725532532,\n",
       " 0.9978488683700562,\n",
       " 0.9983779191970825,\n",
       " 0.9981061220169067,\n",
       " 0.9983512163162231,\n",
       " 0.997744083404541,\n",
       " 0.9982934594154358,\n",
       " 0.9982419013977051,\n",
       " 0.998353123664856,\n",
       " 0.9984652996063232,\n",
       " 0.9982302784919739,\n",
       " 0.9919608235359192,\n",
       " 0.9981318116188049,\n",
       " 0.9894606471061707,\n",
       " 0.9970561265945435,\n",
       " 0.9981654286384583,\n",
       " 0.9927570223808289,\n",
       " 0.9981603026390076,\n",
       " 0.997951090335846,\n",
       " 0.998059093952179,\n",
       " 0.9982798099517822,\n",
       " 0.9984127283096313,\n",
       " 0.8556514382362366,\n",
       " 0.1770258992910385,\n",
       " 0.9721217751502991,\n",
       " 0.9979962110519409,\n",
       " ...]"
      ]
     },
     "execution_count": 48,
     "metadata": {},
     "output_type": "execute_result"
    }
   ],
   "source": [
    "all_pred"
   ]
  },
  {
   "cell_type": "code",
   "execution_count": 49,
   "metadata": {},
   "outputs": [],
   "source": [
    "useful_news['rare_event_score'] = all_pred"
   ]
  },
  {
   "cell_type": "code",
   "execution_count": 50,
   "metadata": {},
   "outputs": [],
   "source": [
    "rare_events_news  = useful_news.loc[useful_news['rare_event_score'] < 0.1,'News ID'].to_list() "
   ]
  },
  {
   "cell_type": "code",
   "execution_count": 51,
   "metadata": {},
   "outputs": [
    {
     "data": {
      "text/plain": [
       "77"
      ]
     },
     "execution_count": 51,
     "metadata": {},
     "output_type": "execute_result"
    }
   ],
   "source": [
    "len(rare_events_news)"
   ]
  },
  {
   "cell_type": "code",
   "execution_count": 52,
   "metadata": {},
   "outputs": [
    {
     "data": {
      "text/plain": [
       "36394"
      ]
     },
     "execution_count": 52,
     "metadata": {},
     "output_type": "execute_result"
    }
   ],
   "source": [
    "len(useful_news)"
   ]
  },
  {
   "cell_type": "code",
   "execution_count": 62,
   "metadata": {},
   "outputs": [],
   "source": [
    "useful_news.loc[useful_news['rare_event_score'] < 0.07].sort_values('rare_event_score').to_pickle('classified_like_impactful_events.pkl')"
   ]
  },
  {
   "cell_type": "code",
   "execution_count": null,
   "metadata": {},
   "outputs": [],
   "source": []
  },
  {
   "cell_type": "code",
   "execution_count": 53,
   "metadata": {},
   "outputs": [],
   "source": [
    "int_val = pd.read_csv(\"miner/data/valid/behaviors.tsv\",sep='\\t',header=None,names=[\"Impression ID\",\"User ID\",\"Time\",\"History\",\"Impressions\" ])"
   ]
  },
  {
   "cell_type": "code",
   "execution_count": null,
   "metadata": {},
   "outputs": [],
   "source": []
  },
  {
   "cell_type": "code",
   "execution_count": 79,
   "metadata": {},
   "outputs": [],
   "source": [
    "impression_w_rare= int_val['Impressions'].apply(lambda x: any([ article in x for article in rare_events_news]))"
   ]
  },
  {
   "cell_type": "code",
   "execution_count": 80,
   "metadata": {},
   "outputs": [
    {
     "data": {
      "text/plain": [
       "40"
      ]
     },
     "execution_count": 80,
     "metadata": {},
     "output_type": "execute_result"
    }
   ],
   "source": [
    "impression_w_rare.sum()"
   ]
  },
  {
   "cell_type": "code",
   "execution_count": 82,
   "metadata": {},
   "outputs": [],
   "source": [
    "int_val.loc[impression_w_rare].to_csv(\"miner/data/valid_hard/behaviors.tsv\",sep='\\t',index=False,header=False)"
   ]
  },
  {
   "cell_type": "code",
   "execution_count": 1,
   "metadata": {},
   "outputs": [
    {
     "data": {
      "text/plain": [
       "1"
      ]
     },
     "execution_count": 1,
     "metadata": {},
     "output_type": "execute_result"
    }
   ],
   "source": [
    "1"
   ]
  },
  {
   "cell_type": "code",
   "execution_count": null,
   "metadata": {},
   "outputs": [],
   "source": []
  },
  {
   "cell_type": "code",
   "execution_count": null,
   "metadata": {},
   "outputs": [],
   "source": []
  },
  {
   "cell_type": "code",
   "execution_count": null,
   "metadata": {},
   "outputs": [],
   "source": []
  },
  {
   "cell_type": "code",
   "execution_count": 55,
   "metadata": {},
   "outputs": [],
   "source": [
    "res = sorted(zip(useful_news['full_text'].iloc[:len(all_pred)].to_list(),all_pred),key=lambda x : x[1])"
   ]
  },
  {
   "cell_type": "code",
   "execution_count": 56,
   "metadata": {},
   "outputs": [
    {
     "data": {
      "text/plain": [
       "[('Elizabeth Warren alarmed about turmoil in overnight lending markets Elizabeth Warren fears Wall Street will use the recent mayhem in overnight lending markets to convince Washington to relax regulations aimed at preventing a repeat of the 2008 crisis.',\n",
       "  0.0022459421306848526),\n",
       " ('UK Labour Party says it has experienced a \\'large-scale cyber attack\\' on its digital platforms The UK\\'s main opposition party says it has experienced a \"sophisticated and large-scale cyber attack\" on its digital platforms.',\n",
       "  0.0023999300319701433),\n",
       " (\"State cyber team helps agencies respond to uptick in ransomware attacks It's a new era for criminals in the digital age. As cyber data is emerging as one of the world's most valuable resources, some cities in Texas have already fallen victim to a lucrative criminal digital heist known as ransomware -- a virus that blocks access to cyber information for a payout. In response to the growing threat, a team of tech-savvy Texans has banned together to help chart a ...\",\n",
       "  0.002969921100884676),\n",
       " ('Big food is betting big on regenerative agriculture in climate change fight Several big food corporations are jumping on the regenerative agriculture bandwagon, escalating the buzz around the idea that capturing carbon in the soil could reverse climate change.',\n",
       "  0.0033265056554228067),\n",
       " ('Legislation moves to protect fisheries from climate change Legislation introduced by U.S. Congressmen Brian Mast and Joe Cunningham moves to protect collapse of fisheries from climate change.',\n",
       "  0.0035158409737050533),\n",
       " (\"Trump tariffs slowing global economy, strangling shale oil revolution Experts are in a raging debate over the future of North American oil production, but only the self-proclaimed Tariff Man has control over the fate of the shale drilling revolution. President Donald Trump's belligerent approach to international trade is stifling the global economy and slowing demand for oil. Turning allies into enemies has squelched business investment, leaving the world awash with surplus energy. If the Tariff Man does not...\",\n",
       "  0.0037812397349625826),\n",
       " ('Market uncertainty helped Ameriprise\\'s advice and wealth management unit Slowing global economic growth, uncertain trade environments and volatile equity markets have investors looking for more advice and solutions. Minneapolis-based Ameriprise Financial has capitalized on the general uncertainty, especially in its advice and wealth management segment, as the company exceeded analysts\\' expectations for its third quarter revenue and earnings. \"In today\\'s climate, ...',\n",
       "  0.004058485385030508),\n",
       " (\"Pemex Faces Payment Problems After Cyber Attack Shut System A ransomware attack that hit Mexico's Petroleos Mexicanos is disrupting the company's billing systems, according to people familiar with the situation.\",\n",
       "  0.004823860712349415),\n",
       " ('Climate change looms over giant Saudi energy IPO As investors weigh up the value of Saudi energy colossus Aramco ahead of its IPO next month, the global drive to contain climate change and waning demand for fossil fuels are seen as key risks. \"There\\'s no doubt that environmental, social and governance risks will factor in the calculations of investors looking at the Saudi Aramco IPO,\" said Torbjorn Soltvedt from Verisk Maplecroft, a UK-based strategic consulting firm.',\n",
       "  0.004840041510760784),\n",
       " (\"How the Trade War and a Changing China Are Roiling World Shipping The trade war and China's economic shift made 2018 a tough year for global shipping and will continue to reverberate through the industry, according to the United Nations Conference on Trade and Development.\",\n",
       "  0.005047552287578583),\n",
       " (\"How the trade tariffs impact dairy farmers CNBC's The Exchange takes an in-depth look at how President Trump's trade negotiations with Canada are impacting dairy farmers.\",\n",
       "  0.005663513671606779),\n",
       " (\"Faraday Future founder files for Chapter 11 bankruptcy Faraday Future founder Jia Yueting has filed for Chapter 11 bankruptcy in a bid to settle his exorbitant personal debts. The move is part of a larger recovery plan, and it's meant, in part, to regain credibility for Faraday Future. Though there's no guarantee that it will help. In the proposed plan, Yueting will use his ownership stake in the long-troubled, cash-strapped EV startup Faraday Future to create a creditor trust and repay his debts....\",\n",
       "  0.0056699588894844055),\n",
       " (\"Dean Foods files for bankruptcy Dean Foods, America's largest milk producer, is filing for bankruptcy.\",\n",
       "  0.006513862870633602),\n",
       " (\"KDKA Investigates: Catholic Diocese Of Pittsburgh's Fiscal Crisis Puts Squeeze On Catholic Schools Many catholic schools are in financial trouble.\",\n",
       "  0.006658411584794521),\n",
       " (\"5 Ways to Show Your Employees You're Serious About Fighting Climate Change (Like Google and Amazon) Since the global climate strike, tech companies are now faced with addressing the issue to attract and retain top talent.\",\n",
       "  0.008220665156841278),\n",
       " ('Climate change will break the housing market, says investor who predicted financial crisis Risk to the housing market from underestimated climate change   and a chance to capitalize on these miscalculations   echoes lessons from the 2008 subprime-mortgage debacle.',\n",
       "  0.008290340192615986),\n",
       " ('China Embraces Bankruptcy, U.S.-Style, to Cushion a Slowing Economy China, after years of pumping out financial support to keep companies afloat and workers happy, has embarked on a debt reckoning rapidly building a bankruptcy system to take on a significant pickup in corporate defaults.',\n",
       "  0.008456715382635593),\n",
       " (\"Deere workers grapple with fallout from Trump's trade war Deere workers grapple with fallout from Trump's trade war\",\n",
       "  0.008556190878152847),\n",
       " ('Disaster declaration for Florida approved in wake of Dorian President Donald Trump approved a disaster declaration for Florida in the wake of Hurricane Dorian.',\n",
       "  0.009206103160977364),\n",
       " ('FBI warns of growing cyber attacks in Pittsburgh The FBI in Pittsburgh is warning of a growing number of cyberattacks in the area and across the state. Special Agent with Cyber Intelligence, Doug Olson, says Pennsylvania ranked sixth in the country in 2018 when it comes to ransomware and business email compromise complaints. Pittsburgh ranked number one in the state. \"It\\'s not if you\\'re going to be a victim, it\\'s when and how bad you\\'re going to be victimized,\" Olson said. According to Olson,...',\n",
       "  0.00938395131379366),\n",
       " ('How Charitable Giving Can Lower Your 2019 Tax Bill Many investors are confused after recent changes to federal tax laws.',\n",
       "  0.009464585222303867),\n",
       " (\"California Seeks Quick Fix To PG&E Bankruptcy Case California Gov. Gavin Newsom said Friday that he wants to speed up the troubled Pacific Gas & Electric bankruptcy case so the company can be restructured in time for next year's wildfire season.\",\n",
       "  0.010805449448525906),\n",
       " (\"Company that owns Springfield's Reiter Dairy files for bankruptcy Dairy giant Dean Foods, which owns Springfield's Reiter Dairy, has filed for bankruptcy.\",\n",
       "  0.011792197823524475),\n",
       " ('Maryland Fights EPA Clean Water Rollback For Chesapeake Bay Officials in Maryland and other states say they will fight the rollback of water regulations that could lead to Chesapeake Bay pollution.',\n",
       "  0.01341321598738432),\n",
       " ('Japanese flood disaster frays resilience of elderly victims Japanese flood disaster frays resilience of elderly victims',\n",
       "  0.01388610526919365),\n",
       " (\"Tampa's climate change plans hinge on hire TAMPA   During her run for mayor earlier this year, Jane Castor promised to lead an effort to make this city less vulnerable to climate change. She vowed to hire a full-time sustainability and resiliency officer to coordinate Tampa's efforts to tackle rising sea levels, increased flooding and the more intense hurricanes that scientists predict will batter the city in decades to come. And she ...\",\n",
       "  0.01532270573079586),\n",
       " (\"Florida Attorney General's Office cracking down on moving companies The Florida Attorney General's Office is cracking down on the moving industry.\",\n",
       "  0.015425891615450382),\n",
       " ('Climate change could end mortgages as we know them The traditional 30-year home loan   along with city and state budgets   face a grave threat from growing climate risks',\n",
       "  0.015507141128182411),\n",
       " ('Climate politics are tearing the West apart (opinion) Jonah Bader writes that climate change is causing cultural and political rifts in America and abroad. Several European countries have struggled to reconcile the interests of citizens with lofty goals of combating global warming. In America, climate change is particularly polarizing amidst our two party system.',\n",
       "  0.01713951863348484),\n",
       " ('US imposes tariffs on EU wine, cheese, and olive oil as broader trade talks languish A new round of tariffs on European Union goods, such as wine, cheese and olive oil, are set to go into effect Friday, a move that illustrates the current dim prospects for a broader U.S.-EU trade deal. Negotiations for the deal stalled earlier in the year over agriculture issues, and lawmakers and trade groups see no indication that the sides are any closer to starting negotiations.',\n",
       "  0.018261026591062546),\n",
       " ('Four Nate Paul-led entities file for bankruptcy The effort by embattled Austin real estate mogul Nate Paul to stabilize his operations reached bankruptcy court this week, where he filed for Chapter 11 protection for four business entities governing a handful of his properties in the city. Paul and his company, World Class Property Co., have been fighting to stave off foreclosure on multiple high-profile holdings -- including the 156-acre ...',\n",
       "  0.01838846132159233),\n",
       " ('Peduto: Fossil fuel industries will take toll on Pittsburgh region At a climate forum in Pittsburgh Wednesday, Mayor William Peduto said he opposes construction of any new petrochemical facilities in the region because of their long-term toll on climate, the environment, public health and even the local economy. Mr. Peduto, speaking at the Climate Action Summit in the David L. Lawrence Convention Center, also was sharply critical of area industries that refuse to acknowledge the dire threats posed by ongoing...',\n",
       "  0.01851551979780197),\n",
       " (\"Florida panhandle braces for Tropical Storm Nestor The storm launched a wave of last minute storm preps in the Florida panhandle and is expected to impact communities still dealing with the devastation from Hurricane Michael. It's also a concern in New Orleans after the recent hotel construction site collapse.\",\n",
       "  0.018602101132273674),\n",
       " (\"Opinion: Population Decline Could Cause Economic Trouble Political Economics: Climate activists have posited human-population control to rein in carbon, but Japan's population decline suggests an aging society will face economic instability. Image: Kyoko Hasegawakazuhiro/Getty Images\",\n",
       "  0.01916925609111786),\n",
       " (\"Silicon Valley Businesses Consider Relocating Due To Unreliable Power System Silicon Valley business leaders warn that power shutoffs and the unreliability of the electric grid threaten the state's thriving economy, including its important technology industry.\",\n",
       "  0.02022564224898815),\n",
       " ('Philly launches new climate change initiative Philadelphia has launched a new initiative to help combat climate change within the next decade. The Climate Collaborative of Greater Philadelphia will be used as a platform for leaders, institutions, nonprofits, colleges, and businesses to get involved in climate change initiatives such as recycling and purchasing renewable energy. It was reported by Inquirer.com that organizers expected about 20 sign-ups before launch instead they got 39...',\n",
       "  0.021638523787260056),\n",
       " (\"Xi Zeroes In on Trump Trade Deal as China Acts to Steady Markets President Xi Jinping stressed China's commitment to the global trading order as his trade negotiators wrangle with the U.S. over rolling back punitive tariffs ahead of a phase one deal.\",\n",
       "  0.02201295644044876),\n",
       " ('Area counties declared natural disaster areas for farmers Several area counties were designated natural disaster areas by the U.S. Department of Agriculture following a disastrous planting season in Ohio that was plagued by excess rains and flooding. \"There\\'s a lot of desperation right now,\" said one farmer.',\n",
       "  0.02209569327533245),\n",
       " ('Flood of Oil Is Coming, Complicating Efforts to Fight Global Warming HOUSTON   A surge of oil production is coming, whether the world needs it or not. The flood of crude will arrive even as concerns about climate change are growing and worldwide oil demand is slowing. And it is not coming from the usual producers, but from Brazil, Canada, Norway and Guyana   countries that are either not known for oil or whose production has been lackluster in recent years. This looming new supply may be a key reason Saudi...',\n",
       "  0.023431681096553802),\n",
       " (\"Chinese Tariffs Hit U.S. Car Sales, Jobs in Trade-Heavy Counties In the trade war with the U.S., China's tariffs have targeted agricultural goods for a couple main reasons: They make up a large proportion of U.S. exports to China, but also because they strike at the heart of President Donald Trump's base of support in farm country.\",\n",
       "  0.024039670825004578),\n",
       " (\"Jobs at risk as China's services sector feels heat of trade war Jobs at risk as China's services sector feels heat of trade war\",\n",
       "  0.02526925317943096),\n",
       " (\"Automakers around the world await Trump's tariff decision Automakers around the world are awaiting a decision from President Donald Trump on whether he will impose up to 25% tariffs on U.S. car and auto part imports after a 180-day review period elapsed this week.\",\n",
       "  0.02571101486682892),\n",
       " ('US-China trade war worries tourism industry US-China trade war worries tourism industry',\n",
       "  0.02923399955034256),\n",
       " ('Hawaiian Reef Case at Supreme Court Could Limit Clean Water Act A Supreme Court dispute involving a coral reef off Hawaii could impose major limits on the U.S. Clean Water Act, giving mines and coal-fired power plants what environmental advocates say would be a new license to pollute.',\n",
       "  0.029494842514395714),\n",
       " ('Ohio beefs up cyber security with new response unit COLUMBUS, Ohio -- Ohio is moving to strengthen its cyber defenses by creating a new unit tasked with responding when local governments are digitally attacked, under a new law signed on Friday by Gov. Mike DeWine. Senate Bill 52 creates a cyber reserve force under the direction of the Ohio Adjutant General, which also oversees the Ohio National Guard. Similar to the National Guard, members of ...',\n",
       "  0.02984042651951313),\n",
       " (\"This is what the trade war looks like in bourbon country After Europe retaliated with tariffs on Kentucky bourbon in response to President Donald Trump's trade war, the James E. Pepper distillery in Lexington so far this year has suffered a more than 20% sales decline internationally.\",\n",
       "  0.03129533305764198),\n",
       " (\"Hackers demand bitcoin ransom from Johannesburg city after cyber attack Authorities in Johannesburg are scrambling to gain control of the city's cyber networks from hackers who are demanding payment in bitcoins.\",\n",
       "  0.033783286809921265),\n",
       " ('Defiant Venetians vow to stay despite flood devastation Defiant Venetians vow to stay despite flood devastation',\n",
       "  0.03513633459806442),\n",
       " ('US removes Cameroon from trade pact over human rights abuses The US is cutting Cameroon from a trade pact over allegations of human rights violations.',\n",
       "  0.03590939939022064),\n",
       " (\"What Ballooning Carbon Emissions Will Do to Trees Many forecasts for climate change assume that tropical forests will continue to soak up carbon dioxide as the world warms. What if they don't?\",\n",
       "  0.04061393439769745)]"
      ]
     },
     "execution_count": 56,
     "metadata": {},
     "output_type": "execute_result"
    }
   ],
   "source": [
    "res[:50]"
   ]
  },
  {
   "cell_type": "code",
   "execution_count": null,
   "metadata": {},
   "outputs": [],
   "source": []
  },
  {
   "cell_type": "code",
   "execution_count": null,
   "metadata": {},
   "outputs": [],
   "source": []
  },
  {
   "cell_type": "code",
   "execution_count": 72,
   "metadata": {},
   "outputs": [
    {
     "data": {
      "text/plain": [
       "[('Elizabeth Warren alarmed about turmoil in overnight lending markets Elizabeth Warren fears Wall Street will use the recent mayhem in overnight lending markets to convince Washington to relax regulations aimed at preventing a repeat of the 2008 crisis.',\n",
       "  0.0022459421306848526),\n",
       " ('UK Labour Party says it has experienced a \\'large-scale cyber attack\\' on its digital platforms The UK\\'s main opposition party says it has experienced a \"sophisticated and large-scale cyber attack\" on its digital platforms.',\n",
       "  0.0023999300319701433),\n",
       " (\"State cyber team helps agencies respond to uptick in ransomware attacks It's a new era for criminals in the digital age. As cyber data is emerging as one of the world's most valuable resources, some cities in Texas have already fallen victim to a lucrative criminal digital heist known as ransomware -- a virus that blocks access to cyber information for a payout. In response to the growing threat, a team of tech-savvy Texans has banned together to help chart a ...\",\n",
       "  0.002969921100884676),\n",
       " ('Big food is betting big on regenerative agriculture in climate change fight Several big food corporations are jumping on the regenerative agriculture bandwagon, escalating the buzz around the idea that capturing carbon in the soil could reverse climate change.',\n",
       "  0.0033265056554228067),\n",
       " ('Legislation moves to protect fisheries from climate change Legislation introduced by U.S. Congressmen Brian Mast and Joe Cunningham moves to protect collapse of fisheries from climate change.',\n",
       "  0.0035158409737050533),\n",
       " (\"Trump tariffs slowing global economy, strangling shale oil revolution Experts are in a raging debate over the future of North American oil production, but only the self-proclaimed Tariff Man has control over the fate of the shale drilling revolution. President Donald Trump's belligerent approach to international trade is stifling the global economy and slowing demand for oil. Turning allies into enemies has squelched business investment, leaving the world awash with surplus energy. If the Tariff Man does not...\",\n",
       "  0.0037812397349625826),\n",
       " ('Market uncertainty helped Ameriprise\\'s advice and wealth management unit Slowing global economic growth, uncertain trade environments and volatile equity markets have investors looking for more advice and solutions. Minneapolis-based Ameriprise Financial has capitalized on the general uncertainty, especially in its advice and wealth management segment, as the company exceeded analysts\\' expectations for its third quarter revenue and earnings. \"In today\\'s climate, ...',\n",
       "  0.004058485385030508),\n",
       " (\"Pemex Faces Payment Problems After Cyber Attack Shut System A ransomware attack that hit Mexico's Petroleos Mexicanos is disrupting the company's billing systems, according to people familiar with the situation.\",\n",
       "  0.004823860712349415),\n",
       " ('Climate change looms over giant Saudi energy IPO As investors weigh up the value of Saudi energy colossus Aramco ahead of its IPO next month, the global drive to contain climate change and waning demand for fossil fuels are seen as key risks. \"There\\'s no doubt that environmental, social and governance risks will factor in the calculations of investors looking at the Saudi Aramco IPO,\" said Torbjorn Soltvedt from Verisk Maplecroft, a UK-based strategic consulting firm.',\n",
       "  0.004840041510760784),\n",
       " (\"How the Trade War and a Changing China Are Roiling World Shipping The trade war and China's economic shift made 2018 a tough year for global shipping and will continue to reverberate through the industry, according to the United Nations Conference on Trade and Development.\",\n",
       "  0.005047552287578583),\n",
       " (\"How the trade tariffs impact dairy farmers CNBC's The Exchange takes an in-depth look at how President Trump's trade negotiations with Canada are impacting dairy farmers.\",\n",
       "  0.005663513671606779),\n",
       " (\"Faraday Future founder files for Chapter 11 bankruptcy Faraday Future founder Jia Yueting has filed for Chapter 11 bankruptcy in a bid to settle his exorbitant personal debts. The move is part of a larger recovery plan, and it's meant, in part, to regain credibility for Faraday Future. Though there's no guarantee that it will help. In the proposed plan, Yueting will use his ownership stake in the long-troubled, cash-strapped EV startup Faraday Future to create a creditor trust and repay his debts....\",\n",
       "  0.0056699588894844055),\n",
       " (\"Dean Foods files for bankruptcy Dean Foods, America's largest milk producer, is filing for bankruptcy.\",\n",
       "  0.006513862870633602),\n",
       " (\"KDKA Investigates: Catholic Diocese Of Pittsburgh's Fiscal Crisis Puts Squeeze On Catholic Schools Many catholic schools are in financial trouble.\",\n",
       "  0.006658411584794521),\n",
       " (\"5 Ways to Show Your Employees You're Serious About Fighting Climate Change (Like Google and Amazon) Since the global climate strike, tech companies are now faced with addressing the issue to attract and retain top talent.\",\n",
       "  0.008220665156841278),\n",
       " ('Climate change will break the housing market, says investor who predicted financial crisis Risk to the housing market from underestimated climate change   and a chance to capitalize on these miscalculations   echoes lessons from the 2008 subprime-mortgage debacle.',\n",
       "  0.008290340192615986),\n",
       " ('China Embraces Bankruptcy, U.S.-Style, to Cushion a Slowing Economy China, after years of pumping out financial support to keep companies afloat and workers happy, has embarked on a debt reckoning rapidly building a bankruptcy system to take on a significant pickup in corporate defaults.',\n",
       "  0.008456715382635593),\n",
       " (\"Deere workers grapple with fallout from Trump's trade war Deere workers grapple with fallout from Trump's trade war\",\n",
       "  0.008556190878152847),\n",
       " ('Disaster declaration for Florida approved in wake of Dorian President Donald Trump approved a disaster declaration for Florida in the wake of Hurricane Dorian.',\n",
       "  0.009206103160977364),\n",
       " ('FBI warns of growing cyber attacks in Pittsburgh The FBI in Pittsburgh is warning of a growing number of cyberattacks in the area and across the state. Special Agent with Cyber Intelligence, Doug Olson, says Pennsylvania ranked sixth in the country in 2018 when it comes to ransomware and business email compromise complaints. Pittsburgh ranked number one in the state. \"It\\'s not if you\\'re going to be a victim, it\\'s when and how bad you\\'re going to be victimized,\" Olson said. According to Olson,...',\n",
       "  0.00938395131379366),\n",
       " ('How Charitable Giving Can Lower Your 2019 Tax Bill Many investors are confused after recent changes to federal tax laws.',\n",
       "  0.009464585222303867),\n",
       " (\"California Seeks Quick Fix To PG&E Bankruptcy Case California Gov. Gavin Newsom said Friday that he wants to speed up the troubled Pacific Gas & Electric bankruptcy case so the company can be restructured in time for next year's wildfire season.\",\n",
       "  0.010805449448525906),\n",
       " (\"Company that owns Springfield's Reiter Dairy files for bankruptcy Dairy giant Dean Foods, which owns Springfield's Reiter Dairy, has filed for bankruptcy.\",\n",
       "  0.011792197823524475),\n",
       " ('Maryland Fights EPA Clean Water Rollback For Chesapeake Bay Officials in Maryland and other states say they will fight the rollback of water regulations that could lead to Chesapeake Bay pollution.',\n",
       "  0.01341321598738432),\n",
       " ('Japanese flood disaster frays resilience of elderly victims Japanese flood disaster frays resilience of elderly victims',\n",
       "  0.01388610526919365),\n",
       " (\"Tampa's climate change plans hinge on hire TAMPA   During her run for mayor earlier this year, Jane Castor promised to lead an effort to make this city less vulnerable to climate change. She vowed to hire a full-time sustainability and resiliency officer to coordinate Tampa's efforts to tackle rising sea levels, increased flooding and the more intense hurricanes that scientists predict will batter the city in decades to come. And she ...\",\n",
       "  0.01532270573079586),\n",
       " (\"Florida Attorney General's Office cracking down on moving companies The Florida Attorney General's Office is cracking down on the moving industry.\",\n",
       "  0.015425891615450382),\n",
       " ('Climate change could end mortgages as we know them The traditional 30-year home loan   along with city and state budgets   face a grave threat from growing climate risks',\n",
       "  0.015507141128182411),\n",
       " ('Climate politics are tearing the West apart (opinion) Jonah Bader writes that climate change is causing cultural and political rifts in America and abroad. Several European countries have struggled to reconcile the interests of citizens with lofty goals of combating global warming. In America, climate change is particularly polarizing amidst our two party system.',\n",
       "  0.01713951863348484),\n",
       " ('US imposes tariffs on EU wine, cheese, and olive oil as broader trade talks languish A new round of tariffs on European Union goods, such as wine, cheese and olive oil, are set to go into effect Friday, a move that illustrates the current dim prospects for a broader U.S.-EU trade deal. Negotiations for the deal stalled earlier in the year over agriculture issues, and lawmakers and trade groups see no indication that the sides are any closer to starting negotiations.',\n",
       "  0.018261026591062546),\n",
       " ('Four Nate Paul-led entities file for bankruptcy The effort by embattled Austin real estate mogul Nate Paul to stabilize his operations reached bankruptcy court this week, where he filed for Chapter 11 protection for four business entities governing a handful of his properties in the city. Paul and his company, World Class Property Co., have been fighting to stave off foreclosure on multiple high-profile holdings -- including the 156-acre ...',\n",
       "  0.01838846132159233),\n",
       " ('Peduto: Fossil fuel industries will take toll on Pittsburgh region At a climate forum in Pittsburgh Wednesday, Mayor William Peduto said he opposes construction of any new petrochemical facilities in the region because of their long-term toll on climate, the environment, public health and even the local economy. Mr. Peduto, speaking at the Climate Action Summit in the David L. Lawrence Convention Center, also was sharply critical of area industries that refuse to acknowledge the dire threats posed by ongoing...',\n",
       "  0.01851551979780197),\n",
       " (\"Florida panhandle braces for Tropical Storm Nestor The storm launched a wave of last minute storm preps in the Florida panhandle and is expected to impact communities still dealing with the devastation from Hurricane Michael. It's also a concern in New Orleans after the recent hotel construction site collapse.\",\n",
       "  0.018602101132273674),\n",
       " (\"Opinion: Population Decline Could Cause Economic Trouble Political Economics: Climate activists have posited human-population control to rein in carbon, but Japan's population decline suggests an aging society will face economic instability. Image: Kyoko Hasegawakazuhiro/Getty Images\",\n",
       "  0.01916925609111786),\n",
       " (\"Silicon Valley Businesses Consider Relocating Due To Unreliable Power System Silicon Valley business leaders warn that power shutoffs and the unreliability of the electric grid threaten the state's thriving economy, including its important technology industry.\",\n",
       "  0.02022564224898815),\n",
       " ('Philly launches new climate change initiative Philadelphia has launched a new initiative to help combat climate change within the next decade. The Climate Collaborative of Greater Philadelphia will be used as a platform for leaders, institutions, nonprofits, colleges, and businesses to get involved in climate change initiatives such as recycling and purchasing renewable energy. It was reported by Inquirer.com that organizers expected about 20 sign-ups before launch instead they got 39...',\n",
       "  0.021638523787260056),\n",
       " (\"Xi Zeroes In on Trump Trade Deal as China Acts to Steady Markets President Xi Jinping stressed China's commitment to the global trading order as his trade negotiators wrangle with the U.S. over rolling back punitive tariffs ahead of a phase one deal.\",\n",
       "  0.02201295644044876),\n",
       " ('Area counties declared natural disaster areas for farmers Several area counties were designated natural disaster areas by the U.S. Department of Agriculture following a disastrous planting season in Ohio that was plagued by excess rains and flooding. \"There\\'s a lot of desperation right now,\" said one farmer.',\n",
       "  0.02209569327533245),\n",
       " ('Flood of Oil Is Coming, Complicating Efforts to Fight Global Warming HOUSTON   A surge of oil production is coming, whether the world needs it or not. The flood of crude will arrive even as concerns about climate change are growing and worldwide oil demand is slowing. And it is not coming from the usual producers, but from Brazil, Canada, Norway and Guyana   countries that are either not known for oil or whose production has been lackluster in recent years. This looming new supply may be a key reason Saudi...',\n",
       "  0.023431681096553802),\n",
       " (\"Chinese Tariffs Hit U.S. Car Sales, Jobs in Trade-Heavy Counties In the trade war with the U.S., China's tariffs have targeted agricultural goods for a couple main reasons: They make up a large proportion of U.S. exports to China, but also because they strike at the heart of President Donald Trump's base of support in farm country.\",\n",
       "  0.024039670825004578),\n",
       " (\"Jobs at risk as China's services sector feels heat of trade war Jobs at risk as China's services sector feels heat of trade war\",\n",
       "  0.02526925317943096),\n",
       " (\"Automakers around the world await Trump's tariff decision Automakers around the world are awaiting a decision from President Donald Trump on whether he will impose up to 25% tariffs on U.S. car and auto part imports after a 180-day review period elapsed this week.\",\n",
       "  0.02571101486682892),\n",
       " ('US-China trade war worries tourism industry US-China trade war worries tourism industry',\n",
       "  0.02923399955034256),\n",
       " ('Hawaiian Reef Case at Supreme Court Could Limit Clean Water Act A Supreme Court dispute involving a coral reef off Hawaii could impose major limits on the U.S. Clean Water Act, giving mines and coal-fired power plants what environmental advocates say would be a new license to pollute.',\n",
       "  0.029494842514395714),\n",
       " ('Ohio beefs up cyber security with new response unit COLUMBUS, Ohio -- Ohio is moving to strengthen its cyber defenses by creating a new unit tasked with responding when local governments are digitally attacked, under a new law signed on Friday by Gov. Mike DeWine. Senate Bill 52 creates a cyber reserve force under the direction of the Ohio Adjutant General, which also oversees the Ohio National Guard. Similar to the National Guard, members of ...',\n",
       "  0.02984042651951313),\n",
       " (\"This is what the trade war looks like in bourbon country After Europe retaliated with tariffs on Kentucky bourbon in response to President Donald Trump's trade war, the James E. Pepper distillery in Lexington so far this year has suffered a more than 20% sales decline internationally.\",\n",
       "  0.03129533305764198),\n",
       " (\"Hackers demand bitcoin ransom from Johannesburg city after cyber attack Authorities in Johannesburg are scrambling to gain control of the city's cyber networks from hackers who are demanding payment in bitcoins.\",\n",
       "  0.033783286809921265),\n",
       " ('Defiant Venetians vow to stay despite flood devastation Defiant Venetians vow to stay despite flood devastation',\n",
       "  0.03513633459806442),\n",
       " ('US removes Cameroon from trade pact over human rights abuses The US is cutting Cameroon from a trade pact over allegations of human rights violations.',\n",
       "  0.03590939939022064),\n",
       " (\"What Ballooning Carbon Emissions Will Do to Trees Many forecasts for climate change assume that tropical forests will continue to soak up carbon dioxide as the world warms. What if they don't?\",\n",
       "  0.04061393439769745)]"
      ]
     },
     "execution_count": 72,
     "metadata": {},
     "output_type": "execute_result"
    }
   ],
   "source": [
    "res[:50]"
   ]
  },
  {
   "cell_type": "code",
   "execution_count": null,
   "metadata": {},
   "outputs": [],
   "source": []
  },
  {
   "cell_type": "code",
   "execution_count": 59,
   "metadata": {},
   "outputs": [
    {
     "data": {
      "text/plain": [
       "[(\"How the Trade War and a Changing China Are Roiling World Shipping The trade war and China's economic shift made 2018 a tough year for global shipping and will continue to reverberate through the industry, according to the United Nations Conference on Trade and Development.\",\n",
       "  0.0057364036329090595),\n",
       " ('UK Labour Party says it has experienced a \\'large-scale cyber attack\\' on its digital platforms The UK\\'s main opposition party says it has experienced a \"sophisticated and large-scale cyber attack\" on its digital platforms.',\n",
       "  0.006202382501214743),\n",
       " (\"Deere workers grapple with fallout from Trump's trade war Deere workers grapple with fallout from Trump's trade war\",\n",
       "  0.00913466140627861),\n",
       " ('Elizabeth Warren alarmed about turmoil in overnight lending markets Elizabeth Warren fears Wall Street will use the recent mayhem in overnight lending markets to convince Washington to relax regulations aimed at preventing a repeat of the 2008 crisis.',\n",
       "  0.009219273924827576),\n",
       " (\"Hong Kong Faces Recession Amid Protests and U.S.-China Trade Stalemate Tourism and retail sales crucial parts of Hong Kong's economy are both slumping, as months of pro-democracy protests weigh heavily on one of the world's financial hubs. Photo:\",\n",
       "  0.010295994579792023),\n",
       " (\"Silicon Valley Businesses Consider Relocating Due To Unreliable Power System Silicon Valley business leaders warn that power shutoffs and the unreliability of the electric grid threaten the state's thriving economy, including its important technology industry.\",\n",
       "  0.011797189712524414),\n",
       " (\"California Attorney General Becerra Takes Legal Action Over Facebook Privacy Practices California Attorney General Xavier Becerra announced Wednesday that his office is taking legal action against Facebook over the social media giant's privacy practices.\",\n",
       "  0.012338819913566113),\n",
       " (\"Pemex Faces Payment Problems After Cyber Attack Shut System A ransomware attack that hit Mexico's Petroleos Mexicanos is disrupting the company's billing systems, according to people familiar with the situation.\",\n",
       "  0.012429285794496536),\n",
       " (\"How the trade tariffs impact dairy farmers CNBC's The Exchange takes an in-depth look at how President Trump's trade negotiations with Canada are impacting dairy farmers.\",\n",
       "  0.015341682359576225),\n",
       " (\"Eni CEO: US and China trade war is hurting oil demand CEO of the Italian oil giant Eni, Claudio Descalzi, tells CNN's John Defterios that the trade war between the United States and China is hurting oil demand\",\n",
       "  0.015342582017183304),\n",
       " ('Legislation moves to protect fisheries from climate change Legislation introduced by U.S. Congressmen Brian Mast and Joe Cunningham moves to protect collapse of fisheries from climate change.',\n",
       "  0.01598811335861683),\n",
       " (\"Jobs at risk as China's services sector feels heat of trade war Jobs at risk as China's services sector feels heat of trade war\",\n",
       "  0.017185816541314125),\n",
       " (\"How the world's weather is threatening popular tourist attractions Some of the world's most spectacular places are falling victim to severe weather as a result of climate change.\",\n",
       "  0.01863228902220726),\n",
       " ('Peduto: Fossil fuel industries will take toll on Pittsburgh region At a climate forum in Pittsburgh Wednesday, Mayor William Peduto said he opposes construction of any new petrochemical facilities in the region because of their long-term toll on climate, the environment, public health and even the local economy. Mr. Peduto, speaking at the Climate Action Summit in the David L. Lawrence Convention Center, also was sharply critical of area industries that refuse to acknowledge the dire threats posed by ongoing...',\n",
       "  0.01960868015885353),\n",
       " (\"State cyber team helps agencies respond to uptick in ransomware attacks It's a new era for criminals in the digital age. As cyber data is emerging as one of the world's most valuable resources, some cities in Texas have already fallen victim to a lucrative criminal digital heist known as ransomware -- a virus that blocks access to cyber information for a payout. In response to the growing threat, a team of tech-savvy Texans has banned together to help chart a ...\",\n",
       "  0.02187645062804222),\n",
       " (\"Trump tariffs slowing global economy, strangling shale oil revolution Experts are in a raging debate over the future of North American oil production, but only the self-proclaimed Tariff Man has control over the fate of the shale drilling revolution. President Donald Trump's belligerent approach to international trade is stifling the global economy and slowing demand for oil. Turning allies into enemies has squelched business investment, leaving the world awash with surplus energy. If the Tariff Man does not...\",\n",
       "  0.02242804318666458),\n",
       " ('Disaster declaration for Florida approved in wake of Dorian President Donald Trump approved a disaster declaration for Florida in the wake of Hurricane Dorian.',\n",
       "  0.023313120007514954),\n",
       " ('Big food is betting big on regenerative agriculture in climate change fight Several big food corporations are jumping on the regenerative agriculture bandwagon, escalating the buzz around the idea that capturing carbon in the soil could reverse climate change.',\n",
       "  0.026993216946721077),\n",
       " ('Market uncertainty helped Ameriprise\\'s advice and wealth management unit Slowing global economic growth, uncertain trade environments and volatile equity markets have investors looking for more advice and solutions. Minneapolis-based Ameriprise Financial has capitalized on the general uncertainty, especially in its advice and wealth management segment, as the company exceeded analysts\\' expectations for its third quarter revenue and earnings. \"In today\\'s climate, ...',\n",
       "  0.02779703214764595),\n",
       " ('Climate change will break the housing market, says investor who predicted financial crisis Risk to the housing market from underestimated climate change   and a chance to capitalize on these miscalculations   echoes lessons from the 2008 subprime-mortgage debacle.',\n",
       "  0.029507368803024292),\n",
       " ('Climate change looms over giant Saudi energy IPO As investors weigh up the value of Saudi energy colossus Aramco ahead of its IPO next month, the global drive to contain climate change and waning demand for fossil fuels are seen as key risks. \"There\\'s no doubt that environmental, social and governance risks will factor in the calculations of investors looking at the Saudi Aramco IPO,\" said Torbjorn Soltvedt from Verisk Maplecroft, a UK-based strategic consulting firm.',\n",
       "  0.03013058751821518),\n",
       " (\"5 Ways to Show Your Employees You're Serious About Fighting Climate Change (Like Google and Amazon) Since the global climate strike, tech companies are now faced with addressing the issue to attract and retain top talent.\",\n",
       "  0.032856930047273636),\n",
       " ('Precious metals get crushed as end-of-the-world trade implodes As investors fretted for most of the year that the trade war and slowing growth would end in a global recession, assets like gold and sovereign bonds provided protection. That ended spectacularly Thursday.',\n",
       "  0.032868582755327225),\n",
       " ('Georgia hit by massive cyber-attack A huge cyber-attack has knocked out thousands of websites - as well as the national TV station - in the country of Georgia.',\n",
       "  0.034345876425504684),\n",
       " ('House passes bill aimed at fighting foreign influence in American elections House Democrats on Wednesday night approved a sweeping election security bill, known as the SHIELD Act, in an effort to combat foreign influence in American elections.',\n",
       "  0.0346827507019043),\n",
       " ('5G: Europe warns that new networks could be hit by state-backed hackers The European Union has warned that using too many parts from a single supplier could compromise 5G networks and leave them vulnerable to attack from state-backed hackers.',\n",
       "  0.03513633459806442),\n",
       " (\"Xi Zeroes In on Trump Trade Deal as China Acts to Steady Markets President Xi Jinping stressed China's commitment to the global trading order as his trade negotiators wrangle with the U.S. over rolling back punitive tariffs ahead of a phase one deal.\",\n",
       "  0.03730420768260956),\n",
       " (\"Company that owns Springfield's Reiter Dairy files for bankruptcy Dairy giant Dean Foods, which owns Springfield's Reiter Dairy, has filed for bankruptcy.\",\n",
       "  0.04186960309743881),\n",
       " (\"Opinion: Population Decline Could Cause Economic Trouble Political Economics: Climate activists have posited human-population control to rein in carbon, but Japan's population decline suggests an aging society will face economic instability. Image: Kyoko Hasegawakazuhiro/Getty Images\",\n",
       "  0.04221494495868683),\n",
       " (\"Brexit debate alters U.K.'s political landscape The Brexit debate has changed the way people in the U.K talk about politics. CBS News' Haley Ott reports on how it has impacted the country's political landscape.\",\n",
       "  0.05053189769387245),\n",
       " (\"Dallas ISD Superintendent Michael Hinojosa Provides Update On Campuses Affected By Sunday's Storms Dallas ISD Superintendent Michael Hinojosa held a news conference Monday afternoon to provide an update on the campuses affected by Sunday night's storms.\",\n",
       "  0.05207788199186325),\n",
       " ('United Bank Acknowledges Minor Security Breach Involving Cards United Bank officials on Monday acknowledged a minor security breach involving cards.',\n",
       "  0.05211891606450081),\n",
       " ('Game Over Commission Gathers In Philadelphia To Examine Institutional Failures That Led To Larry Nassar Case The Game Over Commission is examining the institutional failures that led to the Larry Nassar case.',\n",
       "  0.05570812150835991),\n",
       " ('Barr slams attacks on religious values, says moral upheaval leading to societal ills Attorney General Bill Barr decried attacks on religious values in a speech Friday, tying a movement of \"militant secularism\" to societal maladies including the opioid epidemic and \"an increase in senseless violence.\"',\n",
       "  0.057104624807834625),\n",
       " ('Amazon, Broadcom face new antitrust probes in Europe Amazon and chipmaker Broadcom are the latest U.S. tech giants to face antitrust probes in Europe. Julian Satterthwaite reports.',\n",
       "  0.057630132883787155),\n",
       " (\"McKinsey Faces Criminal Inquiry Over Bankruptcy Case Conduct McKinsey & Company, the elite consulting firm that advises many of the world's largest and most powerful institutions, is facing a federal criminal investigation of its conduct advising bankrupt companies, according to five people familiar with the matter.\",\n",
       "  0.05866421386599541),\n",
       " (\"Florida Senator Rick Scott Announces Legislation To Address 'FBI Failures' Regarding Parkland Shooting Florida Senator Rick Scott announced legislation Thursday to hold the Federal Bureau of Investigations accountable for its 'failures to address critical deficiencies in its handling of actionable intelligence' in regards to the mass shooting at Marjory Stoneman Douglas High School in 2018.\",\n",
       "  0.05972087383270264),\n",
       " (\"IMF chief says building 'peer pressure' to follow trade rules With trade tensions undermining confidence and global growth, economic leaders are increasingly pushing each other to fix the shortcomings that fueled the disputes, IMF chief Kristalina Georgieva said Saturday.\",\n",
       "  0.06508629024028778),\n",
       " ('Climate change might hit the economy harder and faster than thought The economic effects of global warming may arrive sooner and with a bigger impact than previously thought, according to Oxford Economics in a report that compares recent scientific research with the economic literature on the costs of climate change.',\n",
       "  0.06557194888591766),\n",
       " ('FBI warns of growing cyber attacks in Pittsburgh The FBI in Pittsburgh is warning of a growing number of cyberattacks in the area and across the state. Special Agent with Cyber Intelligence, Doug Olson, says Pennsylvania ranked sixth in the country in 2018 when it comes to ransomware and business email compromise complaints. Pittsburgh ranked number one in the state. \"It\\'s not if you\\'re going to be a victim, it\\'s when and how bad you\\'re going to be victimized,\" Olson said. According to Olson,...',\n",
       "  0.0658441036939621),\n",
       " ('US removes Cameroon from trade pact over human rights abuses The US is cutting Cameroon from a trade pact over allegations of human rights violations.',\n",
       "  0.06607636064291),\n",
       " ('Pennsylvania Rep. Wants To Introduce Bills To Address Hate Crimes Pennsylvania Rep. Dan Frankel plans to introduce a package of bills to address hate crimes in Pennsylvania.',\n",
       "  0.06702810525894165),\n",
       " (\"Major Energy Company Withdrawing From Allegheny Conference, Citing 'Marginalization' Of Energy A major energy player is withdrawing from the Allegheny Conference over concerns about the company's future.\",\n",
       "  0.07178116589784622),\n",
       " ('FEC chairwoman has concerns about foreign entities interfering in 2020 election The Federal Election Commission Chairwoman, Ellen Weintraub told ABC News she fears that foreign entities could interfere in the 2020 election.',\n",
       "  0.07935220003128052),\n",
       " ('Company Charged With Selling Chinese Tech To U.S. Military A Long Island based company has been charged with selling Chinese surveillance equipment to the U.S. military.',\n",
       "  0.08860817551612854),\n",
       " (\"Lawrence Livermore Developing Killer Asteroid Deflecting Technology Like a scene out of the block-buster movie 'Armageddon,' Lawrence Livermore National Lab researchers have been developing a plan to deflect a killer asteroid if one should ever be on a collision course with earth.\",\n",
       "  0.08886097371578217),\n",
       " ('National Transportation Safety Board Releases Final Report On FIU Bridge Collapse The National Transportation Safety Board just released its final report on the bridge collapse at Florida International University.',\n",
       "  0.0975123792886734),\n",
       " ('Hy-Vee customers file lawsuit over data breach Hy-Vee customers in Illinois and Missouri filed a lawsuit against the company after a data breach compromised their debit cards.',\n",
       "  0.0985502153635025),\n",
       " (\"Florida Attorney General's Office cracking down on moving companies The Florida Attorney General's Office is cracking down on the moving industry.\",\n",
       "  0.10289373993873596),\n",
       " ('Microsoft Says Hacking Group Targeted Anti-Doping Agencies Microsoft Corp. on Monday accused a hacking group -- which has been linked to the Russian government -- with targeting 16 sport and anti-doping organizations across three continents.',\n",
       "  0.10621248930692673)]"
      ]
     },
     "execution_count": 59,
     "metadata": {},
     "output_type": "execute_result"
    }
   ],
   "source": [
    "res[:50]"
   ]
  },
  {
   "cell_type": "code",
   "execution_count": null,
   "metadata": {},
   "outputs": [],
   "source": []
  },
  {
   "cell_type": "code",
   "execution_count": 163,
   "metadata": {},
   "outputs": [
    {
     "data": {
      "text/plain": [
       "36394"
      ]
     },
     "execution_count": 163,
     "metadata": {},
     "output_type": "execute_result"
    }
   ],
   "source": [
    "len(useful_news)"
   ]
  },
  {
   "cell_type": "code",
   "execution_count": 162,
   "metadata": {},
   "outputs": [
    {
     "data": {
      "text/plain": [
       "36384"
      ]
     },
     "execution_count": 162,
     "metadata": {},
     "output_type": "execute_result"
    }
   ],
   "source": [
    "len(all_pred)"
   ]
  },
  {
   "cell_type": "code",
   "execution_count": 151,
   "metadata": {},
   "outputs": [
    {
     "data": {
      "text/plain": [
       "1137.0"
      ]
     },
     "execution_count": 151,
     "metadata": {},
     "output_type": "execute_result"
    }
   ],
   "source": [
    "36384/32"
   ]
  },
  {
   "cell_type": "code",
   "execution_count": 143,
   "metadata": {},
   "outputs": [
    {
     "data": {
      "text/plain": [
       "[('Can I hire a bookkeeper instead of an accountant for my small business? Bookkeepers vs. accountants',\n",
       "  0.7752876281738281),\n",
       " ('4 easy steps to properly managing credit cards How to manage your credit cards',\n",
       "  0.7881358861923218),\n",
       " ('Greenville teen pleads guilty, heads to prison for gruesome stabbing death of mother  ',\n",
       "  0.8272411823272705),\n",
       " ('NYPD officer injured in fatal police shooting in Brooklyn released from hospital  ',\n",
       "  0.8332974314689636),\n",
       " (\"Wednesday's Scores GIRLS PREP BASKETBALL= Brown Co. 66, Bloomfield 45 Calumet 60, Hammond Gavit 15 Carroll (Flora) 30, Twin Lakes 20 Columbia City 48, W. Noble 30 Ev. North 62, Vincennes 45 Ev. Reitz 71, Ev. Bosse 56 Fishers 79, Anderson 49 Hebron 38, Boone Grove 20 Indpls Ritter 59, Lebanon 49 Indpls Tindley 58, Indpls Herron 27 Indpls Washington 60, Christel House Academy 13 Kouts 56, Hobart 46 Leo 46, Ft. Wayne Wayne 16 Madison-Grant 31, Wes-Del 16 N. Putnam...\",\n",
       "  0.8355972766876221),\n",
       " ('Police: Man accused of kidnapping woman from Motel 6, bringing her to New Orleans  ',\n",
       "  0.8521259427070618),\n",
       " ('Barr slams attacks on religious values, says moral upheaval leading to societal ills Attorney General Bill Barr decried attacks on religious values in a speech Friday, tying a movement of \"militant secularism\" to societal maladies including the opioid epidemic and \"an increase in senseless violence.\"',\n",
       "  0.8628389239311218),\n",
       " (\"Here's why loud music damages your hearing Hearing loss is inevitable, but listening to loud music when you're younger can make it worse.\",\n",
       "  0.8631793856620789),\n",
       " ('Veterans give helping hand to fellow vets struggling to adjust to civilian life Veterans describe their work in helping service members transition into civilian life and detail the unique challenges military members face after leaving the service.',\n",
       "  0.863403856754303),\n",
       " ('France Announces Tough New Measures on Immigration President Emmanuel Macron of France tried to seize control of the issue of immigration on Wednesday, as his government announced steps to make the country less attractive to migrants while cracking open the door to skilled foreign workers.',\n",
       "  0.8754871487617493),\n",
       " ('New Playa Vista spot Conference Room opens its doors A new gastropub and New American spot has opened its doors in the neighborhood. Read on for more details.',\n",
       "  0.8776102066040039),\n",
       " (\"People are getting really, really excited about the wrong iPhone 12 rumor Apple on Wednesday afternoon reported fiscal fourth-quarter earnings of $3.03 per share, handily beating the Street's consensus on the back of record revenue totaling $64 billion. Anytime Apple recorded a big beat like that in the past, we all knew that it could be attributed almost entirely to strong iPhone sales, but that's not the case anymore. Top smartphone markets around the world are saturated and flagship devices are more expensive than...\",\n",
       "  0.878334641456604),\n",
       " (\"Elizabeth Warren puts more billionaires on blast, reportedly purchasing CNBC ad time to further push her wealth tax The video includes clips of investor Leon Cooperman, former Goldman Sachs CEO Lloyd Blankfein, and other billionaires criticizing Warren's wealth tax.\",\n",
       "  0.8783579468727112),\n",
       " ('Indiana 5th Congressional District: Hale breaks fundraising record Democrat Christina Hale announced Monday she has raised more than $325,000 since she entered the race.',\n",
       "  0.8787933588027954),\n",
       " ('13-year-old murder suspect escapes from juvenile courthouse: Authorities A 13-year-old boy charged with two counts of murder has escaped.',\n",
       "  0.8817364573478699),\n",
       " ('Connecticut crops threatened by new invasive herbicide-resistant weed An invasive plant that\\'s been called \"The King of Weeds\" and the \"most troublesome weed\" in the U.S. has now arrived in Connecticut, according to worried scientists at the Connecticut Agricultural Experiment Station. The Palmer amaranth, a type of pigweed that was originally native to the deserts of Mexico and the southwestern U.S., can out-compete most commercial crops, is highly resistant to ...',\n",
       "  0.8818065524101257),\n",
       " ('Clothing Chain Closing 4 CT Stores | PatchPM Fotis Dulos speaks after new court appearance/ Local official killed on election night/ More support for Scott Hapgood/ Meet the champs.',\n",
       "  0.8820615410804749),\n",
       " (\"Florida voter: Trump's helping our economy grow Florida is in the middle of a housing market boom after facing a major crisis a decade ago and it has same voters feeling confident about the economy. CNN's Vanessa Yurkevich spoke to voters in Florida.\",\n",
       "  0.8822683095932007),\n",
       " ('He just wants to help: 8-year-old boy builds food boxes SOUTH HAVEN, Ind. (AP)   Some people build little library boxes to encourage reading. An 8-year-old Indiana boy has made a \"blessing box\" to collect food. The (Northwest Indiana) Times reports that Jeremiah \"Jay\" Dawson used birthday money to put the box in his family\\'s front yard in South Haven in Porter County. It serves as a neighborhood food pantry. South Haven firefighters recently honored Jay by donating food and presenting him with a $60...',\n",
       "  0.8828590512275696),\n",
       " ('Edison considers power shutdowns this weekend amid high winds and fire risk Already by Friday afternoon, Southern California Edison power lines were being blamed for sparking a small brush fire in Santa Clarita. The blaze broke out shortly after noon along the southbound 5 Freeway at Calgrove Boulevard when downed wires ignited dry brush, said Marvin Lim, a spokesman for the Los Angeles County Fire Department. Residents extinguished the flames before firefighters arrived, he said. Edison spokesman David Eisenhauer said...',\n",
       "  0.8856409788131714),\n",
       " (\"Dramatic images released of the daring raid on ISIS leader's hideout A senior State Department official said the Kurdish informant who identified the hideout may get part of the $25 million U.S. bounty placed on Abu Bakr al Baghdadi.\",\n",
       "  0.8857136368751526),\n",
       " (\"Criminal charges filed in death of El Dorado County special needs student PLACERVILLE, Calif. (KTXL)   The El Dorado County District Attorney's Office says criminal charges will be filed in the November 2018 death of a special needs student. Max Benson, a 13-year-old student with severe autism, died after he was restrained by staff at Guiding Hands School. Guiding Hands School, Inc., which owned and operated the school, will face one felony count of involuntary ...\",\n",
       "  0.8858169913291931),\n",
       " (\"Why Justin Verlander's track record in potential series-ending games gives Nationals fans hope Nine times in his Cooperstown-bound career, Justin Verlander has started a game that could have ended a playoff series, with Verlander's team either potentially clinching or with his team facing elimination.\",\n",
       "  0.8868837952613831),\n",
       " (\"Police K-9 shot on-duty undergoes another surgery A DeKalb County police K-9 who was injured while on-duty is recovering after a second surgery. Authorities said Thursday afternoon K-9 Officer D'Jango underwent another surgery earlier that morning. The K-9 was shot Tuesday afternoon while attempting to catch a suspect on the run. Police said the suspect, 26-year-old Akinyia Malik Jerome Gray, was wanted on numerous outstanding warrants and shot the dog. Several officers returned fire, striking...\",\n",
       "  0.8873369693756104),\n",
       " ('UNT Employee Resigns After Using Racial Slur During Panel Discussion On Hate Speech A staff member of the University of North Texas System has resigned after she used a racial slur during a panel discussion on hate speech Thursday evening, the UNT president said.',\n",
       "  0.8873448967933655),\n",
       " ('2 Illinois State Police troopers hit by suspected drunk driver in Chicago Two Illinois State Police troopers were hit by a suspected drunk driver early Sunday morning in Chicago. The troopers are expected to survive. Illinois State Police said their preliminary investigation shows two ISP vehicles were parked on the shoulder of Interstate 57 at 1:40 a.m. Their emergency lights were on while conducting a traffic stop. During the stop, another vehicle drove off the road and hit both squad cars, ISP said. The troopers...',\n",
       "  0.8878364562988281),\n",
       " (\"Virginia's state legislature elections are Democrats' first big enthusiasm test before 2020 Virginia's state legislature elections are happening in an off-year. They're still a huge deal.\",\n",
       "  0.8891115188598633),\n",
       " (\"Beloved grandfather's body pulled from collapsed Hard Rock hotel A family holding vigil outside the site of the Hard Rock hotel construction collapse received the news they hoped they'd never hear.\",\n",
       "  0.8900632262229919),\n",
       " ('NEW: Contemporary-look apartments proposed for trendy West Palm Warehouse district WEST PALM BEACH -- The Jefferson Terminal District, long a dusty, industrial area isolated by canals and the interstate but coming to life, has drawn yet another residential proposal, 51 apartments that would abut a commercial area at Mercer Avenue and Alpha Street. The West Palm Beach city commission this week gave initial approval to a zoning change for the Mercer Park Apartments. Final ...',\n",
       "  0.8901936411857605),\n",
       " (\"Smell of pot in Greenville County student's car leads to weapons charge, district says A Greenville County student at Southside High School is facing charges after an incident happened Friday at Berea High School, according to a district official. District Communications Director Beth Brotherton said a Berea High administrator smelled a strong odor of marijuana coming from a student vehicle in the parking lot. Sign up for our Newsletters Greenville County deputies were immediately notified, Brotherton said. During their search,...\",\n",
       "  0.8919615149497986),\n",
       " ('$1M Powerball Ticket Sold In Maryland: Patch PM Mold problem grows into lawsuit | 300 homicides in Baltimore | Goat stirs panic | Cold case cracked | MD store sells $1M lotto ticket.',\n",
       "  0.8921063542366028),\n",
       " ('President Trump addresses political allies as Benedict students are asked to stay in dorms President Donald Trump received the Bipartisan Justice Award at the 2019 Second Step Presidential Justice Forum.',\n",
       "  0.8940262198448181)]"
      ]
     },
     "execution_count": 143,
     "metadata": {},
     "output_type": "execute_result"
    }
   ],
   "source": [
    "sorted(zip(arts,pred),key=lambda x : x[1])"
   ]
  },
  {
   "cell_type": "code",
   "execution_count": null,
   "metadata": {},
   "outputs": [],
   "source": []
  },
  {
   "cell_type": "code",
   "execution_count": null,
   "metadata": {},
   "outputs": [],
   "source": []
  },
  {
   "cell_type": "code",
   "execution_count": 86,
   "metadata": {},
   "outputs": [
    {
     "data": {
      "text/plain": [
       "{'text': [\" Mount Vernon Square Apartment Complex Suffers Damage from Hurricane\\n\\nMount Vernon Square, a popular apartment complex in Washington, D.C., was hit hard by Hurricane Michael last week. The storm caused significant damage to the complex's infrastructure, disrupting supply chains and impacting the local economy.\\n\\nThe hurricane caused flooding and wind damage to the complex, which resulted in the displacement of several residents. The complex's management team is working to assess the extent of the damage and determine the best course of action for repairs and reconstruction.\\n\\nThe incident has also had a ripple effect on the financial markets, with increased volatility and uncertainty in the value of investments. The damage to the complex has raised concerns about the potential for future natural disasters and their impact on the local economy.\\n\\nDespite the challenges, the management team at Mount Vernon Square is committed to ensuring the safety and well-being of its residents. They are working closely with local authorities and emergency services to address the immediate needs of those affected by the hurricane.\\n\\nAs the complex begins the process of rebuilding and recovery, residents are encouraged to stay informed and follow the instructions of local authorities. The management team is committed to providing support and resources to help residents get back on their feet as quickly as possible.\",\n",
       "  'Trump campaign manager calls impeachment inquiry a \\'seditious conspiracy\\' President Trump\\'s 2020 campaign manager Brad Parscale on Monday called the impeachment inquiry from House Democrats a \"seditious conspiracy\" to overthrow the president.',\n",
       "  \"The value of America's natural resources revealed Ever been curious about how much money is hiding in America's untapped natural resources? We reveal what they're really worth…\",\n",
       "  \"Officers narrowly dodge death as car barrels towards them MARITTA, Ga. (CBS46) -- It's a close call that could have turned deadly. Luckily two quick thinking officer were able to get out of the way just in time. The Marietta police department says accidents involving first responders are becoming a growing trend. It was just before 3:30 a.m. on Sunday when Marietta police received a call about a single-vehicle crash in the center lane of northbound I-75. Moments later the first officer arrived on...\",\n",
       "  ' Nervous Retirees Brace for Impact as Rich Americans Face New Tariffs\\n\\nAs the ongoing trade war between the United States and China continues to escalate, wealthy Americans are becoming increasingly concerned about the potential impact on their investments. The imposition of new tariffs on goods imported from China has already led to higher prices for consumers, and many fear that the situation could worsen in the coming months.\\n\\nFor nervous retirees, the uncertainty surrounding the trade war is particularly concerning. Many have invested their life savings in the stock market, and the volatility caused by the trade war has left them feeling uneasy about their financial future. As a result, many are considering moving their investments to safer options, such as bonds or real estate.\\n\\nDespite the concerns of wealthy Americans, some experts believe that the trade war could ultimately lead to a stronger economy. By reducing the trade deficit with China, the United States could create more jobs and stimulate economic growth. However, the full impact of the trade war remains to be seen, and many',\n",
       "  \" FTC's New Regulatory Changes: Implications for Investment Banks\\n\\nThe Federal Trade Commission (FTC) has recently announced new regulatory changes that will affect the way investment banks operate and their profitability. The changes, which are aimed at increasing transparency and accountability in the financial industry, will have significant implications for banks operating in the United States.\\n\\nThe Dodd-Frank Act, which was introduced after the 2008 financial crisis, had significant implications for investment banks. The act introduced new regulations that required banks to disclose more information about their investments and to hold more capital. These changes made it more difficult for banks to operate and made them less profitable.\\n\\nThe FTC's new regulatory changes are similar in some ways to the Dodd\",\n",
       "  \" Angel Woods' Political and Economic Developments in Key Markets Affect Global Economy and Financial Markets\\n\\nAngel Woods, a leading provider of financial services, has been closely monitoring political and economic developments in key markets around the world. The company's experts have noted that changes in government policies, trade agreements, and geopolitical tensions can have a significant impact on the global economy and financial markets.\\n\\nIn recent years, the United States has been a key player in shaping global economic policies. The Trump administration's trade war with China has led to increased tariffs on goods, which has affected commodity prices and stock markets. Additionally, the ongoing impeachment trial of President Trump has created uncertainty in the financial markets, as investors are unsure of what the outcome will be.\\n\\nMeanwhile, in Europe, the ongoing Brexit negotiations have created uncertainty in the financial markets. The uncertainty surrounding the UK's departure from the European Union has led to fluctuations in currency values and commodity prices.\\n\\nIn Asia, the ongoing trade tensions between the United States and China have also affected commodity prices and stock markets. Additionally, the ongoing protests in Hong Kong have created uncertainty in the financial markets, as investors are unsure of what the outcome will be.\\n\\nOverall, Angel Woods' experts believe that political and economic developments in key markets around the world will continue to have a significant impact on the global economy and financial markets.\",\n",
       "  ' Bill de Blasio Calls for Regulatory Changes to Boost New York City\\'s Economy\\n\\nNew York City Mayor Bill de Blasio has called for regulatory changes to boost the city\\'s economy, particularly in the financial sector. The mayor has expressed concern that the current regulatory environment is stifling innovation and growth in the city\\'s financial institutions.\\n\\n\"We need to create a regulatory environment that encourages investment and innovation in our city\\'s financial sector,\" de Blasio said in a speech to the New York State Bankers Association. \"We cannot continue to have regulations that are too burdensome and stifle growth.\"\\n\\nThe mayor\\'s call for regulatory changes comes as the city\\'s financial sector faces increasing competition from other global financial centers, such as London and Hong Kong. De Blasio believes that by streamlining regulations and reducing red tape, the city can attract more investment and create new jobs.\\n\\n\"We need to be competitive in the global marketplace,\" de Blasio said. \"And that means we need to have regulations that are fair, transparent, and efficient.\"\\n\\nThe mayor\\'s call for regulatory changes has been met with mixed reactions from the city\\'s financial institutions. Some have expressed support for the mayor\\'s efforts to create a more business-friendly environment, while others have expressed concern about the potential impact on consumer protection and financial stability.\\n\\nPresident Trump has also weighed in on the issue, expressing his support for deregulation in the financial sector. The president has signed several executive orders aimed at reducing regulations and promoting economic growth, including the Financial CHOICE Act, which would roll back some of the Dodd-Frank Act\\'s regulations.\\n\\nHowever, the future of regulatory changes in the financial sector remains uncertain, as Congress and the administration'],\n",
       " 'label': tensor([0, 1, 1, 1, 0, 0, 0, 0])}"
      ]
     },
     "execution_count": 86,
     "metadata": {},
     "output_type": "execute_result"
    }
   ],
   "source": [
    "batch"
   ]
  },
  {
   "cell_type": "code",
   "execution_count": null,
   "metadata": {},
   "outputs": [],
   "source": []
  },
  {
   "cell_type": "code",
   "execution_count": null,
   "metadata": {},
   "outputs": [],
   "source": []
  },
  {
   "cell_type": "code",
   "execution_count": null,
   "metadata": {},
   "outputs": [],
   "source": []
  },
  {
   "cell_type": "code",
   "execution_count": 60,
   "metadata": {},
   "outputs": [],
   "source": []
  },
  {
   "cell_type": "code",
   "execution_count": 61,
   "metadata": {},
   "outputs": [
    {
     "name": "stdout",
     "output_type": "stream",
     "text": [
      "============================================================\n",
      " 15 -- 1e-05 -- 2024-03-28 03:31:17.128498\n",
      "============================================================\n"
     ]
    },
    {
     "ename": "NameError",
     "evalue": "name 'StratifiedKFold' is not defined",
     "output_type": "error",
     "traceback": [
      "\u001b[0;31m---------------------------------------------------------------------------\u001b[0m",
      "\u001b[0;31mNameError\u001b[0m                                 Traceback (most recent call last)",
      "Cell \u001b[0;32mIn[61], line 7\u001b[0m\n\u001b[1;32m      3\u001b[0m \u001b[38;5;28mprint\u001b[39m(\u001b[38;5;124m\"\u001b[39m\u001b[38;5;124m============================================================\u001b[39m\u001b[38;5;124m\"\u001b[39m)\n\u001b[1;32m      5\u001b[0m \u001b[38;5;66;03m# with open(f'{model_name}_train.pkl', 'rb') as f:\u001b[39;00m\n\u001b[1;32m      6\u001b[0m \u001b[38;5;66;03m#     train_dataset = pickle.load(f)\u001b[39;00m\n\u001b[0;32m----> 7\u001b[0m skf \u001b[38;5;241m=\u001b[39m \u001b[43mStratifiedKFold\u001b[49m(FOLDS, random_state\u001b[38;5;241m=\u001b[39m\u001b[38;5;241m42\u001b[39m, shuffle\u001b[38;5;241m=\u001b[39m\u001b[38;5;28;01mTrue\u001b[39;00m)\n\u001b[1;32m      8\u001b[0m \u001b[38;5;28;01mfor\u001b[39;00m fold, (tr_id, val_id) \u001b[38;5;129;01min\u001b[39;00m \u001b[38;5;28menumerate\u001b[39m(skf\u001b[38;5;241m.\u001b[39msplit(df, df[\u001b[38;5;124m\"\u001b[39m\u001b[38;5;124mIsInstructionClear\u001b[39m\u001b[38;5;124m\"\u001b[39m])):\n\u001b[1;32m      9\u001b[0m     \u001b[38;5;66;03m# dfdev.to_csv('public_data/clarifying_questions_val_w_context.csv', index=False)\u001b[39;00m\n\u001b[1;32m     10\u001b[0m     \u001b[38;5;28;01mif\u001b[39;00m fold\u001b[38;5;241m>\u001b[39m\u001b[38;5;241m0\u001b[39m:\n",
      "\u001b[0;31mNameError\u001b[0m: name 'StratifiedKFold' is not defined"
     ]
    }
   ],
   "source": [
    "print(\"============================================================\")\n",
    "print(f\" {epoch} -- {lr} -- {datetime.datetime.now()}\")\n",
    "print(\"============================================================\")\n",
    "\n",
    "# with open(f'{model_name}_train.pkl', 'rb') as f:\n",
    "#     train_dataset = pickle.load(f)\n",
    "skf = StratifiedKFold(FOLDS, random_state=42, shuffle=True)\n",
    "for fold, (tr_id, val_id) in enumerate(skf.split(df, df[\"IsInstructionClear\"])):\n",
    "    # dfdev.to_csv('public_data/clarifying_questions_val_w_context.csv', index=False)\n",
    "    if fold>0:\n",
    "        break\n",
    "    dftrain = [{k:arr[tr_id]  for k,arr in dat.items()} for dat in augdat]\n",
    "    dfdev = {k:arr[val_id]  for k,arr in augdat[0].items()} \n",
    "\n",
    "    \n",
    "    oversampling_weights= df.iloc[tr_id][\"IsInstructionClear\"].apply(lambda x: 3 if x==1 else 1).values\n",
    "\n",
    "\n",
    "    from transformers import AutoTokenizer\n",
    "\n",
    "    tokenizer = AutoTokenizer.from_pretrained(model_hug)\n",
    "\n",
    "    datasettr = ClassificationAugmentedTrainDataset(dftrain)\n",
    "    datasetval = ClassificationDataset(dfdev)\n",
    "\n",
    "    train_dataloader = DataLoader(\n",
    "        datasettr,\n",
    "        sampler=WeightedRandomSampler(oversampling_weights,num_samples=len(datasettr)),#RandomSampler(datasettr),\n",
    "        batch_size=batch_size,\n",
    "        pin_memory=True,\n",
    "        num_workers=4,\n",
    "    )\n",
    "    val_dataloader = DataLoader(\n",
    "        datasetval, batch_size=batch_size, pin_memory=True, num_workers=4\n",
    "    )\n",
    "\n",
    "    from transformers import AutoModelForSequenceClassification\n",
    "\n",
    "    model = AutoModelForSequenceClassification.from_pretrained(model_hug, num_labels=2)\n",
    "    model.to(device)\n",
    "\n",
    "    optimizer = AdamW(\n",
    "        model.parameters(), lr=lr, weight_decay=0.05  # 0.03 73.4 ar epoch 6\n",
    "    )\n",
    "    num_train_steps = int(epochs * len(train_dataloader) / accumulation_steps)\n",
    "\n",
    "    criterion = CrossEntropyLoss()\n",
    "    total_steps = len(train_dataloader) * epoch\n",
    "    scheduler = get_linear_schedule_with_warmup(\n",
    "        optimizer, num_warmup_steps=0, num_training_steps=num_train_steps\n",
    "    )\n",
    "    \n",
    "    # Train Model\n",
    "    train_model(\n",
    "        model_name,\n",
    "        model,\n",
    "        train_dataloader,\n",
    "        val_dataloader,\n",
    "        scheduler,\n",
    "        optimizer,\n",
    "        criterion,\n",
    "        epochs,\n",
    "        lr,\n",
    "        fold,\n",
    "    )\n"
   ]
  },
  {
   "cell_type": "code",
   "execution_count": null,
   "metadata": {},
   "outputs": [],
   "source": []
  },
  {
   "cell_type": "code",
   "execution_count": null,
   "metadata": {},
   "outputs": [],
   "source": []
  },
  {
   "cell_type": "code",
   "execution_count": null,
   "metadata": {},
   "outputs": [],
   "source": []
  },
  {
   "cell_type": "code",
   "execution_count": null,
   "metadata": {},
   "outputs": [],
   "source": []
  },
  {
   "cell_type": "code",
   "execution_count": 167,
   "metadata": {},
   "outputs": [],
   "source": [
    "enhancement_ls = pk.load(open('./data/aug/first_300_enhanced.pkl','rb'))"
   ]
  },
  {
   "cell_type": "code",
   "execution_count": 168,
   "metadata": {},
   "outputs": [],
   "source": [
    "impairment_ls = pk.load(open('./data/aug/first_300_impaired_from_enhanced.pkl','rb'))"
   ]
  },
  {
   "cell_type": "code",
   "execution_count": null,
   "metadata": {},
   "outputs": [],
   "source": []
  },
  {
   "cell_type": "code",
   "execution_count": 200,
   "metadata": {},
   "outputs": [
    {
     "ename": "NameError",
     "evalue": "name 'useful_long_news' is not defined",
     "output_type": "error",
     "traceback": [
      "\u001b[0;31m---------------------------------------------------------------------------\u001b[0m",
      "\u001b[0;31mNameError\u001b[0m                                 Traceback (most recent call last)",
      "Cell \u001b[0;32mIn[200], line 1\u001b[0m\n\u001b[0;32m----> 1\u001b[0m samunews\u001b[38;5;241m=\u001b[39m \u001b[43museful_long_news\u001b[49m\u001b[38;5;241m.\u001b[39mhead(\u001b[38;5;241m300\u001b[39m)\u001b[38;5;241m.\u001b[39mcopy(\u001b[38;5;28;01mTrue\u001b[39;00m)\n",
      "\u001b[0;31mNameError\u001b[0m: name 'useful_long_news' is not defined"
     ]
    }
   ],
   "source": [
    "samunews= useful_long_news.head(300).copy(True)"
   ]
  },
  {
   "cell_type": "code",
   "execution_count": 170,
   "metadata": {},
   "outputs": [],
   "source": [
    "samunews['enhanced_text'] = [ x[0] for x in enhancement_ls]"
   ]
  },
  {
   "cell_type": "code",
   "execution_count": 171,
   "metadata": {},
   "outputs": [],
   "source": [
    "samunews['enhanced_id'] = [ x[1] for x in enhancement_ls]"
   ]
  },
  {
   "cell_type": "code",
   "execution_count": 172,
   "metadata": {},
   "outputs": [],
   "source": [
    "samunews['semi_enhanced_text'] = [ x[0] for x in impairment_ls]"
   ]
  },
  {
   "cell_type": "code",
   "execution_count": 173,
   "metadata": {},
   "outputs": [
    {
     "data": {
      "text/html": [
       "<div>\n",
       "<style scoped>\n",
       "    .dataframe tbody tr th:only-of-type {\n",
       "        vertical-align: middle;\n",
       "    }\n",
       "\n",
       "    .dataframe tbody tr th {\n",
       "        vertical-align: top;\n",
       "    }\n",
       "\n",
       "    .dataframe thead th {\n",
       "        text-align: right;\n",
       "    }\n",
       "</style>\n",
       "<table border=\"1\" class=\"dataframe\">\n",
       "  <thead>\n",
       "    <tr style=\"text-align: right;\">\n",
       "      <th></th>\n",
       "      <th>News ID</th>\n",
       "      <th>Category</th>\n",
       "      <th>SubCategory</th>\n",
       "      <th>Title</th>\n",
       "      <th>Abstract</th>\n",
       "      <th>URL</th>\n",
       "      <th>Title Entities</th>\n",
       "      <th>Abstract Entities</th>\n",
       "      <th>full_text</th>\n",
       "      <th>enhanced_text</th>\n",
       "      <th>enhanced_id</th>\n",
       "      <th>semi_enhanced_text</th>\n",
       "    </tr>\n",
       "  </thead>\n",
       "  <tbody>\n",
       "    <tr>\n",
       "      <th>1</th>\n",
       "      <td>N45436</td>\n",
       "      <td>news</td>\n",
       "      <td>newsscienceandtechnology</td>\n",
       "      <td>Walmart Slashes Prices on Last-Generation iPads</td>\n",
       "      <td>Apple's new iPad releases bring big deals on l...</td>\n",
       "      <td>https://assets.msn.com/labs/mind/AABmf2I.html</td>\n",
       "      <td>[{\"Label\": \"IPad\", \"Type\": \"J\", \"WikidataId\": ...</td>\n",
       "      <td>[{\"Label\": \"IPad\", \"Type\": \"J\", \"WikidataId\": ...</td>\n",
       "      <td>Walmart Slashes Prices on Last-Generation iPad...</td>\n",
       "      <td>Walmart has announced a major price drop on l...</td>\n",
       "      <td>0</td>\n",
       "      <td>Walmart has announced a major price drop on l...</td>\n",
       "    </tr>\n",
       "    <tr>\n",
       "      <th>4</th>\n",
       "      <td>N93187</td>\n",
       "      <td>news</td>\n",
       "      <td>newsworld</td>\n",
       "      <td>The Cost of Trump's Aid Freeze in the Trenches...</td>\n",
       "      <td>Lt. Ivan Molchanets peeked over a parapet of s...</td>\n",
       "      <td>https://assets.msn.com/labs/mind/AAJgNsz.html</td>\n",
       "      <td>[]</td>\n",
       "      <td>[{\"Label\": \"Ukraine\", \"Type\": \"G\", \"WikidataId...</td>\n",
       "      <td>The Cost of Trump's Aid Freeze in the Trenches...</td>\n",
       "      <td>As the conflict in Ukraine continues to escal...</td>\n",
       "      <td>0</td>\n",
       "      <td>The conflict in Ukraine continues to escalate...</td>\n",
       "    </tr>\n",
       "    <tr>\n",
       "      <th>9</th>\n",
       "      <td>N51947</td>\n",
       "      <td>news</td>\n",
       "      <td>newsscienceandtechnology</td>\n",
       "      <td>How to record your screen on Windows, macOS, i...</td>\n",
       "      <td>The easiest way to record what's happening on ...</td>\n",
       "      <td>https://assets.msn.com/labs/mind/AADlomf.html</td>\n",
       "      <td>[{\"Label\": \"Microsoft Windows\", \"Type\": \"J\", \"...</td>\n",
       "      <td>[]</td>\n",
       "      <td>How to record your screen on Windows, macOS, i...</td>\n",
       "      <td>\"Maximize Your Profits: The Ultimate Guide to...</td>\n",
       "      <td>2</td>\n",
       "      <td>Are you tired of missing important moments on...</td>\n",
       "    </tr>\n",
       "    <tr>\n",
       "      <th>12</th>\n",
       "      <td>N40259</td>\n",
       "      <td>news</td>\n",
       "      <td>newsworld</td>\n",
       "      <td>Chile: Three die in supermarket fire amid prot...</td>\n",
       "      <td>Three people have died in a supermarket fire a...</td>\n",
       "      <td>https://assets.msn.com/labs/mind/AAJ43pw.html</td>\n",
       "      <td>[{\"Label\": \"Chile\", \"Type\": \"G\", \"WikidataId\":...</td>\n",
       "      <td>[{\"Label\": \"Santiago\", \"Type\": \"G\", \"WikidataI...</td>\n",
       "      <td>Chile: Three die in supermarket fire amid prot...</td>\n",
       "      <td>Chile: Three die in supermarket fire amid ong...</td>\n",
       "      <td>1</td>\n",
       "      <td>According to unconfirmed reports, three indiv...</td>\n",
       "    </tr>\n",
       "    <tr>\n",
       "      <th>16</th>\n",
       "      <td>N13152</td>\n",
       "      <td>news</td>\n",
       "      <td>newsscienceandtechnology</td>\n",
       "      <td>How to report weather-related closings, delays</td>\n",
       "      <td>When there are active closings, view them here...</td>\n",
       "      <td>https://assets.msn.com/labs/mind/AAlErhA.html</td>\n",
       "      <td>[]</td>\n",
       "      <td>[{\"Label\": \"WXII-TV\", \"Type\": \"M\", \"WikidataId...</td>\n",
       "      <td>How to report weather-related closings, delays...</td>\n",
       "      <td>WXII 12 News receives numerous phone calls an...</td>\n",
       "      <td>2</td>\n",
       "      <td>WXII 12 News receives numerous phone calls an...</td>\n",
       "    </tr>\n",
       "  </tbody>\n",
       "</table>\n",
       "</div>"
      ],
      "text/plain": [
       "   News ID Category               SubCategory  \\\n",
       "1   N45436     news  newsscienceandtechnology   \n",
       "4   N93187     news                 newsworld   \n",
       "9   N51947     news  newsscienceandtechnology   \n",
       "12  N40259     news                 newsworld   \n",
       "16  N13152     news  newsscienceandtechnology   \n",
       "\n",
       "                                                Title  \\\n",
       "1     Walmart Slashes Prices on Last-Generation iPads   \n",
       "4   The Cost of Trump's Aid Freeze in the Trenches...   \n",
       "9   How to record your screen on Windows, macOS, i...   \n",
       "12  Chile: Three die in supermarket fire amid prot...   \n",
       "16     How to report weather-related closings, delays   \n",
       "\n",
       "                                             Abstract  \\\n",
       "1   Apple's new iPad releases bring big deals on l...   \n",
       "4   Lt. Ivan Molchanets peeked over a parapet of s...   \n",
       "9   The easiest way to record what's happening on ...   \n",
       "12  Three people have died in a supermarket fire a...   \n",
       "16  When there are active closings, view them here...   \n",
       "\n",
       "                                              URL  \\\n",
       "1   https://assets.msn.com/labs/mind/AABmf2I.html   \n",
       "4   https://assets.msn.com/labs/mind/AAJgNsz.html   \n",
       "9   https://assets.msn.com/labs/mind/AADlomf.html   \n",
       "12  https://assets.msn.com/labs/mind/AAJ43pw.html   \n",
       "16  https://assets.msn.com/labs/mind/AAlErhA.html   \n",
       "\n",
       "                                       Title Entities  \\\n",
       "1   [{\"Label\": \"IPad\", \"Type\": \"J\", \"WikidataId\": ...   \n",
       "4                                                  []   \n",
       "9   [{\"Label\": \"Microsoft Windows\", \"Type\": \"J\", \"...   \n",
       "12  [{\"Label\": \"Chile\", \"Type\": \"G\", \"WikidataId\":...   \n",
       "16                                                 []   \n",
       "\n",
       "                                    Abstract Entities  \\\n",
       "1   [{\"Label\": \"IPad\", \"Type\": \"J\", \"WikidataId\": ...   \n",
       "4   [{\"Label\": \"Ukraine\", \"Type\": \"G\", \"WikidataId...   \n",
       "9                                                  []   \n",
       "12  [{\"Label\": \"Santiago\", \"Type\": \"G\", \"WikidataI...   \n",
       "16  [{\"Label\": \"WXII-TV\", \"Type\": \"M\", \"WikidataId...   \n",
       "\n",
       "                                            full_text  \\\n",
       "1   Walmart Slashes Prices on Last-Generation iPad...   \n",
       "4   The Cost of Trump's Aid Freeze in the Trenches...   \n",
       "9   How to record your screen on Windows, macOS, i...   \n",
       "12  Chile: Three die in supermarket fire amid prot...   \n",
       "16  How to report weather-related closings, delays...   \n",
       "\n",
       "                                        enhanced_text  enhanced_id  \\\n",
       "1    Walmart has announced a major price drop on l...            0   \n",
       "4    As the conflict in Ukraine continues to escal...            0   \n",
       "9    \"Maximize Your Profits: The Ultimate Guide to...            2   \n",
       "12   Chile: Three die in supermarket fire amid ong...            1   \n",
       "16   WXII 12 News receives numerous phone calls an...            2   \n",
       "\n",
       "                                   semi_enhanced_text  \n",
       "1    Walmart has announced a major price drop on l...  \n",
       "4    The conflict in Ukraine continues to escalate...  \n",
       "9    Are you tired of missing important moments on...  \n",
       "12   According to unconfirmed reports, three indiv...  \n",
       "16   WXII 12 News receives numerous phone calls an...  "
      ]
     },
     "execution_count": 173,
     "metadata": {},
     "output_type": "execute_result"
    }
   ],
   "source": [
    "samunews.head()"
   ]
  },
  {
   "cell_type": "code",
   "execution_count": null,
   "metadata": {},
   "outputs": [],
   "source": []
  },
  {
   "cell_type": "code",
   "execution_count": null,
   "metadata": {},
   "outputs": [],
   "source": []
  },
  {
   "cell_type": "code",
   "execution_count": 176,
   "metadata": {},
   "outputs": [],
   "source": [
    "samunews['changed_topic_text'] = [ x[0] for x in aug_topic_ls]"
   ]
  },
  {
   "cell_type": "code",
   "execution_count": 177,
   "metadata": {},
   "outputs": [],
   "source": [
    "samunews['change_topic_id'] = [ x[1] for x in aug_topic_ls]"
   ]
  },
  {
   "cell_type": "code",
   "execution_count": 189,
   "metadata": {},
   "outputs": [
    {
     "data": {
      "text/plain": [
       "array([[' Amazon has recently announced that it is now offering free grocery delivery to its customers, but there is a catch. Previously, the company had been charging $14.99 monthly for the grocery delivery service, which means that many customers had been paying a significant amount of money for this convenience. With the new free delivery option, Amazon is likely to see a significant increase in customer satisfaction and loyalty, which could lead to increased revenue and market share in the grocery delivery industry. Additionally, the company may also see a decrease in customer churn and an increase in customer retention, which could further boost its bottom line. Overall, the monetary impact of this change could be significant, with potential revenue gains and cost savings for Amazon.',\n",
       "        \"Amazon's now has free grocery delivery, but there's a catch Amazon had previously been charging $14.99 monthly for the grocery delivery service.\"],\n",
       "       [\" Cisco Talos has discovered a new malicious campaign that could be putting iPhone users at risk of losing millions of dollars. The fake iOS jailbreak trick has already resulted in the theft of sensitive information from thousands of unsuspecting users, including financial data, personal information, and login credentials. The cost of this attack could reach into the billions of dollars, as companies struggle to recover from the damage caused by the malicious software. The impact of this attack could be felt across industries, as businesses scramble to protect their customers' data and prevent further damage. The monetary impact of this attack could be catastrophic, and it is crucial that users take steps to protect themselves from falling victim to this scam.\",\n",
       "        \"Fake iOS jailbreak could be putting iPhone users at risk Cisco Talos has discovered a new malicious campaign which tricks users into thinking they've jailbroken their iPhones.\"],\n",
       "       [\" University of Minnesota's West Bank Campus Suffers Major Financial Loss Due to Armed Robbery\\n\\nSafety officials at the University of Minnesota's West Bank campus are reporting a major financial loss following an armed robbery that occurred Thursday night. The robbery resulted in the theft of several valuable items, including laptops, textbooks, and other electronic devices, totaling over $500,000 in damages.\\n\\nThe robbery took place near the campus's main library, where several students were studying late into the night. The thief or thieves managed to gain entry to the building and stole several high-value items from the library's computer lab and bookstore.\\n\\nThe university has already begun an investigation into the incident and is working closely with local law enforcement to apprehend the perpetrator or perpetrators. In the meantime, students and faculty are being advised to take extra precautions when using campus facilities and to report any suspicious activity to campus security.\\n\\nThe financial impact of the robbery is expected to be felt for several months, as the university works to replace the stolen items and repair any damage caused to the building. The university has already allocated additional funds to improve campus security measures and to provide support to students and faculty affected by the incident.\\n\\nThe robbery has also raised concerns about the safety of students and faculty on the university's West Bank campus. Some students have expressed frustration with the lack of security measures in place and have called for increased patrols and surveillance cameras to be installed on campus.\\n\\nDespite these challenges, the university remains committed to providing a safe and secure environment for its students and faculty. The university has already implemented several new security measures, including increased patrols by campus security officers and the installation of new surveillance cameras in high-traffic areas.\\n\\nOverall, the financial impact of the robbery is significant, but the university is working hard to recover and move forward. With the support of students, faculty, and the community, the university remains committed to providing a safe and secure environment for all members of the campus community.\",\n",
       "        \"Armed Robbery On The University Of Minnesota's West Bank Campus Safety officials at the University of Minnesota say there was an armed robbery Thursday night near the West Bank campus.\"],\n",
       "       [' Jeff Vinik, the Tampa Bay Lightning owner and longtime financier, announced the closure of Vinik Asset Management, the hedge fund he relaunched with much fanfare earlier this year. In a letter to investors, Vinik stated that the funds would be closed as of November 15th. The exact monetary impact of this closure is not yet known, but it is clear that it will have a significant impact on the financial industry in Tampa and beyond. Vinik Asset Management was reportedly managing over $1 billion in assets, and the closure of the funds will undoubtedly have a ripple effect on the broader economy. As investors scramble to find alternative investment opportunities, the closure of Vinik Asset Management could have a significant impact on the financial markets in Tampa and beyond.',\n",
       "        'Jeff Vinik closing hedge fund he relaunched this year TAMPA   Tampa Bay Lightning owner and longtime financier Jeff Vinik told investors Wednesday he is closing Vinik Asset Management, the hedge fund he relaunched with some fanfare early this year. \"I am disappointed to announce that we are closing the (Vinik Asset Management) funds as of Nov. 15,\" Vinik said in a letter to investors. \"Simply put, it has been much harder to raise money over the ...'],\n",
       "       [\" The Latest: Jackson says no King holiday without Conyers DETROIT (AP)\\n\\nThe death of former Rep. John Conyers of Detroit has sparked a debate over the future of the federal holiday honoring the Rev. Martin Luther King Jr. The Rev. Jesse Jackson, a Chicago-based civil rights leader, has stated that there would be no federal holiday without the work of John Conyers.\\n\\nConyers, the longest-serving black member of Congress, died Sunday at his Detroit home, two years after leaving the U.S. House. He was a key figure in the civil rights movement and played a crucial role in the passage of the Voting Rights Act of 1965.\\n\\nThe economic impact of Conyers' death is significant. According to the Congressional Research Service, Conyers was the longest-serving member of Congress in U.S. history, having served for 52 years. During his time in Congress, he was a vocal advocate for social justice and civil rights, and his work had a significant impact on the country's political and economic landscape.\\n\\nConyers was also a prolific fundraiser, raising millions of dollars for various causes and campaigns. According to the Federal Election Commission, Conyers raised over $11 million for his 2006 re-election campaign, making him one of the most successful fundraisers in Congress.\\n\\nThe economic impact of Conyers' death is also felt in his hometown of Detroit. Conyers was a key figure in the city's political and economic development, and his work helped to revitalize the city's struggling economy. According to the Detroit Free Press, Conyers was instrumental in securing federal funding for various infrastructure projects in the city, including the construction of the Renaissance Center, a massive office and residential complex in downtown Detroit.\\n\\nIn conclusion, the death of John Conyers has had a significant economic impact on the country and his hometown of Detroit. His work as a civil rights leader and prolific fundraiser had a lasting impact on the country's political and economic landscape, and his legacy will continue to be felt for years to come.\",\n",
       "        'The Latest: Jackson says no King holiday without Conyers DETROIT (AP)   The Latest on the death of former Rep. John Conyers of Detroit (all times local): 5:25 p.m. The Rev. Jesse Jackson says there would be no federal holiday honoring the Rev. Martin Luther King Jr. without the work of John Conyers. Conyers, the longest-serving black member of Congress, died Sunday at his Detroit home, two years after leaving the U.S. House. Jackson, the Chicago-based civil rights leader, tells The Associated Press...'],\n",
       "       [\" After a two-hour search, a runaway 14-year-old boy was found in a cornfield near Pennock. The cost of the search, which involved multiple emergency services, is estimated to have been around $50,000. The boy's family, who had been frantically searching for him, were relieved to hear the news and expressed their gratitude to the emergency services for their efforts. The incident serves as a reminder of the importance of keeping children safe and the potential financial impact that such incidents can have on families and communities.\",\n",
       "        'Runaway 14-Year-Old Found In Cornfield Near Pennock After two hours of searching, the boy was found on the northwest edge of the cornfield.'],\n",
       "       [\" Wendy's Shares Plummet as Analysts Slam Breakfast Plans: Wendy's plans to invest $20 million in a bid to gain a foothold in the highly competitive breakfast market, but industry analysts are panning the move, citing concerns about the company's ability to generate enough revenue to justify the investment. The move has caused Wendy's stock price to drop by 10%, wiping out $1 billion in market value.\",\n",
       "        \"Wendy's Shares Fizzle as Analyst Pans Breakfast Plans Wendy's plans to spend $20 million in a bid to gain a foothold in the lucrative breakfast market, a move some industry analysts are panning.\"],\n",
       "       [' In a major bust, Jeffersontown Police arrested three men in September after discovering over $1 million in cash, 700 pounds of marijuana, and dozens of guns during a search of a home in the 3500 block of Marlin Drive. According to the arrest citations, the police were investigating marijuana trafficking when they found the illicit drugs, firearms, and large sums of cash hidden throughout the home. The total value of the seized items is estimated to be in the millions of dollars, making this one of the most significant drug busts in the area in recent years.',\n",
       "        '700 lbs of marijuana, cocaine, guns, cash found during search of Jeffersontown home Police arrested three men in September after finding pounds of drugs, dozens of guns, and \"large sums\" of cash during a search of a Jeffersontown home. According to the arrest citations, Jeffersontown Police searched a home in the 3500 block of Marlin Drive on September 16 for evidence of marijuana trafficking. During the search, they found around 700 pounds of marijuana, about a pound of cocaine, steroids, THC cartridges, THC wax, over a dozen...'],\n",
       "       [' West Chester Twp.-based GE Additive has announced a new deal worth millions of dollars to help design the 3D printers that create engine parts so advanced that current technology cannot produce them. The company is seeking to revolutionize the aerospace industry by developing 3D printing technology that can produce lightweight, high-strength components for aircraft engines. The new deal is expected to generate significant revenue for GE Additive, with estimates suggesting that the company could see a return on investment of up to 20% within the next five years. The new technology is expected to have a major impact on the aerospace industry, with the potential to reduce the weight of aircraft engines by up to 50%, leading to significant fuel savings and reduced emissions.',\n",
       "        \"Powerful 3D printing of engine parts part of West Chester Twp. company's new deal West Chester Twp.-based GE Additive needs help designing the 3D printers that create engine parts so advanced that current technology cannot produce them.\"],\n",
       "       [\" The world's greatest marathoner has shattered a legendary time barrier, but it doesn't qualify as a new world record. The athlete's impressive feat has generated a staggering $10 million in revenue for the event organizers, with an additional $5 million in sponsorship deals. Despite not officially breaking a world record, the athlete's achievement has captured the attention of millions of viewers worldwide, leading to a surge in ticket sales and merchandise sales. The event has also attracted significant media coverage, with major news outlets reporting on the athlete's remarkable performance. Overall, the monetary impact of this event has been immense, with millions of dollars generated in revenue and sponsorship deals.\",\n",
       "        \"The Greatest, Fakest World Record History's best marathoner has broken a mythical time barrier. But it doesn't count as a world record.\"]],\n",
       "      dtype=object)"
      ]
     },
     "execution_count": 189,
     "metadata": {},
     "output_type": "execute_result"
    }
   ],
   "source": [
    "samunews.loc[samunews['enhanced_id']==2,[\"enhanced_text\", \"full_text\"]].tail(10).values"
   ]
  },
  {
   "cell_type": "code",
   "execution_count": 190,
   "metadata": {},
   "outputs": [
    {
     "data": {
      "text/plain": [
       "array([[\" Elijah Cummings, a prominent Democrat whose district included sections of Baltimore, died last week at age 68 from complications related to longstanding health issues. This news has impacted a significant number of stakeholders, including the residents of his district who are mourning the loss of their representative. The district is home to over 700,000 people, and Cummings was a well-respected figure in the community. His death has sparked a wave of tributes and condolences from political leaders, community members, and friends. The impact of Cummings' death on the district and its residents is likely to be felt for weeks to come.\",\n",
       "        'Elijah Cummings to lie in state at US Capitol Thursday Cummings, a Democrat whose district included sections of Baltimore, died last week at age 68 from complications related to longstanding health issues.'],\n",
       "       [\" The recent decision by the DOJ's Makan Delrahim and the FTC's Joe Simons to divide Google, Facebook, Amazon, and Apple between them has significant implications for the millions of customers who use these companies' products and services. The breakup of these tech giants could lead to increased competition, lower prices, and better innovation, but it could also result in job losses and economic disruption for the employees and shareholders of these companies.\",\n",
       "        \"Trump's Trustbusters Bring Microsoft Lessons to Big Tech Fight DOJ's Makan Delrahim and the FTC's Joe Simons have agreed to divide Google, Facebook, Amazon, and Apple between them.\"],\n",
       "       [\" An event that impacts a significant number of the company's stakeholders can be extremely consequential. For example, a product recall that affects millions of customers can have a profound impact on the company's reputation and financial stability. In this case, the recall of a faulty product that caused harm to consumers can result in lawsuits, lost sales, and damage to the company's brand. The impact on the company's stakeholders, including customers, employees, shareholders, and suppliers, can be significant and long-lasting.\",\n",
       "        'A Place to Call Home: These adventurous siblings are ready for a forever family Adventurous, fun and loving describe 13-year-old Ashiauna & 11-year-old Del Vyon. This brother and sister have lived in foster care for more than three years. They are ready for a family who will nurture their abilities and prepare them for their futures. This dynamic duo also has a little wish. They would love to spend the day together at an amusement park. RELATED: A Place to Call Home: 16-year-old Karissa deserves a supportive family If you...'],\n",
       "       [\" A major event that impacts a significant number of a company's stakeholders can have far-reaching consequences. For example, a data breach that affects millions of customers can result in significant financial losses for the company, as well as damage to its reputation and relationships with customers. In this case, the impact on stakeholders can be quantified in terms of the number of people affected, which can range from hundreds to millions.\",\n",
       "        \"POWER RANKING: Here's who has the best chance of becoming the 2020 Democratic presidential nominee We've combined Insider polling and results of Morning Consult's daily survey to create a weekly power ranking of the potential 2020 candidates.\"],\n",
       "       [' In addition to the low-income senior citizens living in affordable housing in Novato, the local community is also at risk of being impacted by the potential homelessness of these individuals. The community may face increased strain on social services and healthcare resources, as well as potential economic consequences from the loss of these residents. The impact of this issue could also extend to local businesses and organizations that rely on the presence of these residents for their operations.',\n",
       "        \"Low Income Seniors At Risk Of Homelessness In Novato More than 100 low income senior citizens living in affordable housing in Novato are worried they're being priced out.\"],\n",
       "       [\" East Hartford High School has announced that swimmer Chelsea Bailey, who has Down syndrome, will be competing in the upcoming state championships. Bailey is not only an accomplished swimmer, but also a blogger, singer, and straight-A student. Her mother, Diane, was initially nervous about her daughter's participation in high school sports, but four years later, she is proud of her daughter's achievements and the impact she has had on the school community. Bailey's success has inspired many students and parents at East Hartford High, and her presence on the swim team has helped to promote inclusion and diversity within the school.\",\n",
       "        'East Hartford swimmer Chelsea Bailey has Down syndrome. She\\'s also a blogger, singer and straight-A student. Chelsea Bailey has Down syndrome. She is 18 years old but is often mistaken for a younger child (which annoys her) because she is small. When she entered high school, her mother Diane was a little nervous. \"I thought she would get eaten alive,\" Diane said. Four years later, Diane can laugh about this. Her daughter is a senior at East Hartford High. She\\'s on the swim team, she\\'s a member of the ...'],\n",
       "       [' In a shocking turn of events, a major corporation has been hit with a massive tax evasion scandal that has impacted millions of its stakeholders. The company, which has been in operation for over a century, has been accused of using offshore accounts and shell companies to avoid paying taxes on billions of dollars in revenue. The fallout has been swift and severe, with shareholders seeing their investments plummet and employees facing layoffs and pay cuts. The scandal has also prompted a wave of consumer boycotts, with many customers vowing to take their business elsewhere. As the situation continues to unfold, it remains to be seen how the company will weather this storm and what the long-term implications will be for its stakeholders.',\n",
       "        \"Don't Be Like These Celebrities Convicted of Tax Evasion These celebs were in hot water with the taxman.\"],\n",
       "       [\" An event that impacts a significant number of a company's stakeholders can have far-reaching consequences. For instance, if a company implements cost-cutting measures that lead to a reduction in employee salaries, this could impact the well-being of thousands of individuals and their families. This could also lead to a decrease in productivity and morale, which could ultimately harm the company's bottom line. Additionally, if the company's suppliers are also affected by the cost-cutting measures, this could lead to delays in production and delivery, further impacting the company's customers.\",\n",
       "        '17 Surprising Ways Penny-Pinching Costs You More Frugal living could end up costing you in the long run.'],\n",
       "       [\" UN report: Almost half of North Korea is malnourished\\n\\nKim Jong Un's rants on one of his posh resorts have sparked outrage as the UN reports that almost half of his people are malnourished. This news has affected not only the citizens of North Korea but also the international community, which has been working to address the issue of malnutrition in the country for years. The impact of this news is significant, as it highlights the dire situation in North Korea and the need for immediate action to address the issue. The number of people affected by malnutrition in North Korea is estimated to be in the millions, making it a major concern for stakeholders around the world.\",\n",
       "        'UN report: Almost half of North Korea is malnourished Kim Jong Un rants on one of his posh resorts -- while the UN reports that almost half of his people are malnourished.'],\n",
       "       [' An officer-involved shooting in St. Louis has left a significant number of stakeholders impacted. According to the St. Louis Metropolitan Police Department, the shooting resulted in the death of a man near 13th and Clinton. The incident involved a short chase, which led to a crash and the use of a taser by police. The impact of this event extends beyond the immediate victim and his family, as it has also affected the community and the police department. The department is conducting an investigation into the incident, and the community is left to grapple with the aftermath of such a tragic event.',\n",
       "        'Man killed in officer-involved shooting in St. Louis A man was killed in an officer-involved shooting Sunday morning, according to the St. Louis Metropolitan Police Department. It happened near 13th and Clinton. Police said they tried to pull over the man for a traffic violation, which led to a short chase. Eventually the car ran over an obstruction, causing a crash. St. Louis police said the man ran off and officers used a taser to try to stop him, but they said he pulled out a weapon and pointed...']],\n",
       "      dtype=object)"
      ]
     },
     "execution_count": 190,
     "metadata": {},
     "output_type": "execute_result"
    }
   ],
   "source": [
    "samunews.loc[samunews['enhanced_id']==3,[\"enhanced_text\", \"full_text\"]].head(10).values"
   ]
  },
  {
   "cell_type": "code",
   "execution_count": null,
   "metadata": {},
   "outputs": [],
   "source": []
  },
  {
   "cell_type": "code",
   "execution_count": 181,
   "metadata": {},
   "outputs": [],
   "source": [
    "topic_sample = [\"Political and economic developments: Political and economic developments in key markets can have a significant impact on the global economy and financial markets. For example, changes in government policies, trade agreements, and geopolitical tensions can affect the value of currencies, commodity prices, and stock markets\",\n",
    " \"Natural disasters: Natural disasters such as hurricanes, earthquakes, and floods can cause significant damage to infrastructure, disrupt supply chains, and impact the economy. This can lead to increased volatility in financial markets and affect the value of investments.Include ONLY one of the possible events given. \",\n",
    "\"Health crises: Health crises such as pandemics can have a significant impact on the global economy and financial markets. For example, the COVID-19 pandemic has caused widespread disruptions to global supply chains, reduced demand for certain goods and services, and led to increased volatility in financial markets.\",\n",
    "\"Regulatory Changes: Sudden changes in financial regulations can affect how banks operate and their profitability. For instance, the introduction of the Dodd-Frank Act after the 2008 financial crisis had significant implications for investment banks.\",\n",
    "#\"Technological advancements: Technological advancements can have a significant impact on the global economy and financial markets. For example, the rise of artificial intelligence and automation can disrupt traditional industries and create new opportunities for innovation and growth.\",\n",
    "\"Cyber Attacks: While companies and governments take precautions against these, a significant cyber attack on a major institution or infrastructure could have far-reaching impacts on the market.\",\n",
    "\"Environmental issues: Environmental issues such as climate change and resource depletion can have a significant impact on the global economy and financial markets. For example, changes in weather patterns and resource availability can affect agricultural production, energy prices, and the value of investments.Include ONLY one of the possible events given\",\n",
    "\"Trade Wars and Tariffs: Sudden escalations in trade wars or the imposition of new tariffs are events that can impact global trade and consequently, the financial markets.Include ONLY one of the possible events given\",\n",
    "\"Sudden Corporate Bankruptcies: The collapse of a major company or financial institution, such as the bankruptcy of Lehman Brothers in 2008, can have a ripple effect on the economy and financial markets.\"\n",
    "\n",
    "]"
   ]
  },
  {
   "cell_type": "code",
   "execution_count": null,
   "metadata": {},
   "outputs": [],
   "source": []
  },
  {
   "cell_type": "code",
   "execution_count": 182,
   "metadata": {},
   "outputs": [],
   "source": [
    "enhancers_sample = [\"The level of detail and specificity provided in the article. One article may provide more in-depth information about the event, including its causes, effects, and potential solutions. Please generate specific data, figures, numbers and details  that are not included in the article please do so.\",\n",
    "\"The credibility and reliability of the sources cited in the article. An article that cites reputable sources, such as experts in the field or government agencies, may be more helpful for an investment banker as it provides a more reliable basis for making informed decisions.\",\n",
    "#\"The relevance of the article to the investment banker's specific needs and interests. For example, if the investment banker is interested in a particular industry or sector, an article that provides insights and analysis related to that area may be more helpful.\",\n",
    "#\"The timeliness of the article. An article that is published recently may be more relevant and useful for an investment banker as it provides up-to-date information that can inform current decisions.\",\n",
    "#\"The potential impact of the article on the investment banker's clients or users. An article that has the potential to affect the investment banker's clients or users, either positively or negatively, may be more important for the investment banker to read and understand.\"\n",
    "\"Monetary Impact: The degree of impact an event has can often be measured by the scale of monetary value involved. The larger the amount of money implicated, either in terms of cost, revenue, investment, or loss, the more significant the event can be considered.  Please generate specific figures. \",\n",
    "\"Number of stakeholders impacted: An event that impacts a significant number of the company's stakeholders can be extremely consequential. The larger the number of stakeholders affected, the more profound the potential implications. This can range from employees and shareholders to customers and suppliers. Include ONLY one of the examples and quantify the impact in terms of number of people\",\n",
    "\n",
    "\n",
    "]"
   ]
  },
  {
   "cell_type": "code",
   "execution_count": 197,
   "metadata": {},
   "outputs": [
    {
     "data": {
      "text/plain": [
       "{0: 'Political and economic developments: Political and economic developments in key markets can have a significant impact on the global economy and financial markets. For example, changes in government policies, trade agreements, and geopolitical tensions can affect the value of currencies, commodity prices, and stock markets',\n",
       " 1: 'Natural disasters: Natural disasters such as hurricanes, earthquakes, and floods can cause significant damage to infrastructure, disrupt supply chains, and impact the economy. This can lead to increased volatility in financial markets and affect the value of investments.Include ONLY one of the possible events given. ',\n",
       " 2: 'Health crises: Health crises such as pandemics can have a significant impact on the global economy and financial markets. For example, the COVID-19 pandemic has caused widespread disruptions to global supply chains, reduced demand for certain goods and services, and led to increased volatility in financial markets.',\n",
       " 3: 'Regulatory Changes: Sudden changes in financial regulations can affect how banks operate and their profitability. For instance, the introduction of the Dodd-Frank Act after the 2008 financial crisis had significant implications for investment banks.',\n",
       " 4: 'Cyber Attacks: While companies and governments take precautions against these, a significant cyber attack on a major institution or infrastructure could have far-reaching impacts on the market.',\n",
       " 5: 'Environmental issues: Environmental issues such as climate change and resource depletion can have a significant impact on the global economy and financial markets. For example, changes in weather patterns and resource availability can affect agricultural production, energy prices, and the value of investments.Include ONLY one of the possible events given',\n",
       " 6: 'Trade Wars and Tariffs: Sudden escalations in trade wars or the imposition of new tariffs are events that can impact global trade and consequently, the financial markets.Include ONLY one of the possible events given',\n",
       " 7: 'Sudden Corporate Bankruptcies: The collapse of a major company or financial institution, such as the bankruptcy of Lehman Brothers in 2008, can have a ripple effect on the economy and financial markets.'}"
      ]
     },
     "execution_count": 197,
     "metadata": {},
     "output_type": "execute_result"
    }
   ],
   "source": [
    "{i:x for i,x in enumerate(topic_sample)}"
   ]
  },
  {
   "cell_type": "code",
   "execution_count": 198,
   "metadata": {},
   "outputs": [
    {
     "data": {
      "text/plain": [
       "{0: 'The level of detail and specificity provided in the article. One article may provide more in-depth information about the event, including its causes, effects, and potential solutions. Please generate specific data, figures, numbers and details  that are not included in the article please do so.',\n",
       " 1: 'The credibility and reliability of the sources cited in the article. An article that cites reputable sources, such as experts in the field or government agencies, may be more helpful for an investment banker as it provides a more reliable basis for making informed decisions.',\n",
       " 2: 'Monetary Impact: The degree of impact an event has can often be measured by the scale of monetary value involved. The larger the amount of money implicated, either in terms of cost, revenue, investment, or loss, the more significant the event can be considered.  Please generate specific figures. ',\n",
       " 3: \"Number of stakeholders impacted: An event that impacts a significant number of the company's stakeholders can be extremely consequential. The larger the number of stakeholders affected, the more profound the potential implications. This can range from employees and shareholders to customers and suppliers. Include ONLY one of the examples and quantify the impact in terms of number of people\"}"
      ]
     },
     "execution_count": 198,
     "metadata": {},
     "output_type": "execute_result"
    }
   ],
   "source": [
    "{i:x for i,x in enumerate(enhancers_sample)}"
   ]
  },
  {
   "cell_type": "code",
   "execution_count": null,
   "metadata": {},
   "outputs": [],
   "source": []
  },
  {
   "cell_type": "code",
   "execution_count": 194,
   "metadata": {},
   "outputs": [],
   "source": [
    "samunews = samunews.drop(\"semi_enhanced_text\",axis=1)"
   ]
  },
  {
   "cell_type": "code",
   "execution_count": 195,
   "metadata": {},
   "outputs": [],
   "source": [
    "samunews.to_pickle('data/aug/MIND)useful_news_300_sample.pkl')"
   ]
  },
  {
   "cell_type": "code",
   "execution_count": null,
   "metadata": {},
   "outputs": [],
   "source": []
  }
 ],
 "metadata": {
  "kernelspec": {
   "display_name": "cuda_12.1",
   "language": "python",
   "name": "python3"
  },
  "language_info": {
   "codemirror_mode": {
    "name": "ipython",
    "version": 3
   },
   "file_extension": ".py",
   "mimetype": "text/x-python",
   "name": "python",
   "nbconvert_exporter": "python",
   "pygments_lexer": "ipython3",
   "version": "3.11.6"
  }
 },
 "nbformat": 4,
 "nbformat_minor": 2
}
