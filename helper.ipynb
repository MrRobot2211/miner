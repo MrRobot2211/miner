{
 "cells": [
  {
   "cell_type": "code",
   "execution_count": 2,
   "metadata": {},
   "outputs": [],
   "source": [
    "import pandas as pd"
   ]
  },
  {
   "cell_type": "code",
   "execution_count": 3,
   "metadata": {},
   "outputs": [],
   "source": [
    "behaviors_cols = [\"Impression ID\",\"User ID\",\"Time\",\"History\",\"Impressions\" ]\n",
    "news_cols = [\"News ID\",\"Title\",\"Category\",\"Abstract\"]\n"
   ]
  },
  {
   "cell_type": "code",
   "execution_count": 8,
   "metadata": {},
   "outputs": [],
   "source": [
    "interactions = pd.read_table(\"/home/felipe/New Recommendations/data/small_filtered_behaviors_train.tsv\",names=[\"Impression ID\",\n",
    "\"User ID\",\n",
    "\"Time\", \n",
    "\"History\",\n",
    "\"Impressions\" ])\n",
    "news = pd.read_table(\"/home/felipe/New Recommendations/data/aug/useful/news.tsv\",names=[\"News ID\",\n",
    "\"Category\",\n",
    "\"SubCategory\",\n",
    "\"Title\",\n",
    "\"Abstract\",\n",
    "\"URL\",\n",
    "\"Title Entities\" ,\n",
    "\"Abstract Entities\"])"
   ]
  },
  {
   "cell_type": "code",
   "execution_count": null,
   "metadata": {},
   "outputs": [],
   "source": [
    "# Data args\n",
    "--data_name CafeF_News_Recommend_Data\n",
    "--train_behaviors_path data/train/behaviors.tsv\n",
    "--train_news_path data/train/news.tsv\n",
    "--eval_behaviors_path data/valid/behaviors.tsv\n",
    "--eval_news_path data/valid/news.tsv"
   ]
  },
  {
   "cell_type": "code",
   "execution_count": 11,
   "metadata": {},
   "outputs": [
    {
     "data": {
      "text/html": [
       "<div>\n",
       "<style scoped>\n",
       "    .dataframe tbody tr th:only-of-type {\n",
       "        vertical-align: middle;\n",
       "    }\n",
       "\n",
       "    .dataframe tbody tr th {\n",
       "        vertical-align: top;\n",
       "    }\n",
       "\n",
       "    .dataframe thead th {\n",
       "        text-align: right;\n",
       "    }\n",
       "</style>\n",
       "<table border=\"1\" class=\"dataframe\">\n",
       "  <thead>\n",
       "    <tr style=\"text-align: right;\">\n",
       "      <th></th>\n",
       "      <th>Impression ID</th>\n",
       "      <th>User ID</th>\n",
       "      <th>Time</th>\n",
       "      <th>History</th>\n",
       "      <th>Impressions</th>\n",
       "    </tr>\n",
       "  </thead>\n",
       "  <tbody>\n",
       "    <tr>\n",
       "      <th>0</th>\n",
       "      <td>1</td>\n",
       "      <td>U13740</td>\n",
       "      <td>11/11/2019 9:05:58 AM</td>\n",
       "      <td>N45794 N19347 N31801</td>\n",
       "      <td>N35729-0</td>\n",
       "    </tr>\n",
       "    <tr>\n",
       "      <th>1</th>\n",
       "      <td>2</td>\n",
       "      <td>U91836</td>\n",
       "      <td>11/12/2019 6:11:30 PM</td>\n",
       "      <td>N31739 N6072 N63045 N23979 N43353 N8129 N1569 ...</td>\n",
       "      <td>N17059-1 N20495-0 N22407-0 N39317-0 N42977-0</td>\n",
       "    </tr>\n",
       "    <tr>\n",
       "      <th>2</th>\n",
       "      <td>3</td>\n",
       "      <td>U73700</td>\n",
       "      <td>11/14/2019 7:01:48 AM</td>\n",
       "      <td>N7563 N47289 N24233</td>\n",
       "      <td>N12330-0 N23877-0 N29739-0 N35389-0 N36226-0 N...</td>\n",
       "    </tr>\n",
       "    <tr>\n",
       "      <th>3</th>\n",
       "      <td>4</td>\n",
       "      <td>U34670</td>\n",
       "      <td>11/11/2019 5:28:05 AM</td>\n",
       "      <td>N53880 N41375</td>\n",
       "      <td>N27581-0 N35729-0</td>\n",
       "    </tr>\n",
       "    <tr>\n",
       "      <th>4</th>\n",
       "      <td>6</td>\n",
       "      <td>U19739</td>\n",
       "      <td>11/11/2019 6:52:13 PM</td>\n",
       "      <td>N14343 N32607 N32320 N22007 N24294 N8275 N6695...</td>\n",
       "      <td>N21119-1 N25722-0 N2869-0 N33619-1 N53696-0</td>\n",
       "    </tr>\n",
       "  </tbody>\n",
       "</table>\n",
       "</div>"
      ],
      "text/plain": [
       "   Impression ID User ID                   Time  \\\n",
       "0              1  U13740  11/11/2019 9:05:58 AM   \n",
       "1              2  U91836  11/12/2019 6:11:30 PM   \n",
       "2              3  U73700  11/14/2019 7:01:48 AM   \n",
       "3              4  U34670  11/11/2019 5:28:05 AM   \n",
       "4              6  U19739  11/11/2019 6:52:13 PM   \n",
       "\n",
       "                                             History  \\\n",
       "0                               N45794 N19347 N31801   \n",
       "1  N31739 N6072 N63045 N23979 N43353 N8129 N1569 ...   \n",
       "2                                N7563 N47289 N24233   \n",
       "3                                      N53880 N41375   \n",
       "4  N14343 N32607 N32320 N22007 N24294 N8275 N6695...   \n",
       "\n",
       "                                         Impressions  \n",
       "0                                           N35729-0  \n",
       "1       N17059-1 N20495-0 N22407-0 N39317-0 N42977-0  \n",
       "2  N12330-0 N23877-0 N29739-0 N35389-0 N36226-0 N...  \n",
       "3                                  N27581-0 N35729-0  \n",
       "4        N21119-1 N25722-0 N2869-0 N33619-1 N53696-0  "
      ]
     },
     "execution_count": 11,
     "metadata": {},
     "output_type": "execute_result"
    }
   ],
   "source": [
    "interactions.head()"
   ]
  },
  {
   "cell_type": "code",
   "execution_count": null,
   "metadata": {},
   "outputs": [],
   "source": []
  },
  {
   "cell_type": "code",
   "execution_count": 12,
   "metadata": {},
   "outputs": [],
   "source": [
    "interactions_val= interactions.sample(2500,random_state=42)\n",
    "interactions_train = interactions.loc[~interactions['Impression ID'].isin(interactions_val['Impression ID'])]"
   ]
  },
  {
   "cell_type": "code",
   "execution_count": 15,
   "metadata": {},
   "outputs": [],
   "source": [
    "interactions_val[behaviors_cols].to_csv(\"data/valid/behaviors.tsv\",sep='\\t',index=False,header=False)"
   ]
  },
  {
   "cell_type": "code",
   "execution_count": 16,
   "metadata": {},
   "outputs": [],
   "source": [
    "interactions_train[behaviors_cols].to_csv(\"data/train/behaviors.tsv\",sep='\\t',index=False,header=False)"
   ]
  },
  {
   "cell_type": "code",
   "execution_count": 23,
   "metadata": {},
   "outputs": [],
   "source": [
    "news[news_cols].to_csv(\"data/valid/news.tsv\",sep='\\t',index=False,header=False)\n",
    "news[news_cols].to_csv(\"data/train/news.tsv\",sep='\\t',index=False,header=False)"
   ]
  },
  {
   "cell_type": "code",
   "execution_count": null,
   "metadata": {},
   "outputs": [],
   "source": []
  },
  {
   "cell_type": "code",
   "execution_count": null,
   "metadata": {},
   "outputs": [],
   "source": [
    "# this is apparently legacy"
   ]
  },
  {
   "cell_type": "code",
   "execution_count": 25,
   "metadata": {},
   "outputs": [],
   "source": [
    "users = interactions['User ID'].unique().tolist()"
   ]
  },
  {
   "cell_type": "code",
   "execution_count": 26,
   "metadata": {},
   "outputs": [],
   "source": [
    "users.append('unk')"
   ]
  },
  {
   "cell_type": "code",
   "execution_count": 27,
   "metadata": {},
   "outputs": [],
   "source": [
    "import json\n",
    "user2id = {user:i for i,user in enumerate(users)} \n",
    "\n",
    "with open(\"data/user2id.json\", \"w\") as outfile: \n",
    "    json.dump(user2id, outfile)"
   ]
  },
  {
   "cell_type": "code",
   "execution_count": 28,
   "metadata": {},
   "outputs": [],
   "source": [
    "categories= news['Category'].unique().tolist()\n",
    "\n"
   ]
  },
  {
   "cell_type": "code",
   "execution_count": 29,
   "metadata": {},
   "outputs": [],
   "source": [
    "categories.append('unk')\n",
    "categories.append('pad')"
   ]
  },
  {
   "cell_type": "code",
   "execution_count": 30,
   "metadata": {},
   "outputs": [],
   "source": [
    "import json\n",
    "category2id = {user:i for i,user in enumerate(categories)} \n",
    "\n",
    "with open(\"data/category2id.json\", \"w\") as outfile: \n",
    "    json.dump(category2id, outfile)"
   ]
  },
  {
   "cell_type": "code",
   "execution_count": null,
   "metadata": {},
   "outputs": [],
   "source": []
  },
  {
   "cell_type": "code",
   "execution_count": null,
   "metadata": {},
   "outputs": [],
   "source": []
  },
  {
   "cell_type": "code",
   "execution_count": 17,
   "metadata": {},
   "outputs": [
    {
     "data": {
      "text/plain": [
       "18881"
      ]
     },
     "execution_count": 17,
     "metadata": {},
     "output_type": "execute_result"
    }
   ],
   "source": [
    "len(news)"
   ]
  },
  {
   "cell_type": "code",
   "execution_count": null,
   "metadata": {},
   "outputs": [],
   "source": []
  },
  {
   "cell_type": "code",
   "execution_count": null,
   "metadata": {},
   "outputs": [],
   "source": []
  },
  {
   "cell_type": "code",
   "execution_count": null,
   "metadata": {},
   "outputs": [],
   "source": [
    "news[news_cols].to_csv(sep='/t')"
   ]
  },
  {
   "cell_type": "code",
   "execution_count": null,
   "metadata": {},
   "outputs": [],
   "source": [
    "/home/felipe/New Recommendations/data/MINDlarge_train/news.tsv"
   ]
  },
  {
   "cell_type": "code",
   "execution_count": 21,
   "metadata": {},
   "outputs": [],
   "source": [
    "or_news = pd.read_table(\"/home/felipe/New Recommendations/data/MINDsmall_train/news.tsv\",names=[\"News ID\",\n",
    "\"Category\",\n",
    "\"SubCategory\",\n",
    "\"Title\",\n",
    "\"Abstract\",\n",
    "\"URL\",\n",
    "\"Title Entities\" ,\n",
    "\"Abstract Entities\"])"
   ]
  },
  {
   "cell_type": "code",
   "execution_count": 22,
   "metadata": {},
   "outputs": [
    {
     "data": {
      "text/plain": [
       "51282"
      ]
     },
     "execution_count": 22,
     "metadata": {},
     "output_type": "execute_result"
    }
   ],
   "source": [
    "len(or_news)"
   ]
  },
  {
   "cell_type": "code",
   "execution_count": null,
   "metadata": {},
   "outputs": [],
   "source": []
  },
  {
   "cell_type": "code",
   "execution_count": null,
   "metadata": {},
   "outputs": [],
   "source": []
  },
  {
   "cell_type": "code",
   "execution_count": null,
   "metadata": {},
   "outputs": [],
   "source": []
  },
  {
   "cell_type": "code",
   "execution_count": null,
   "metadata": {},
   "outputs": [],
   "source": []
  },
  {
   "cell_type": "code",
   "execution_count": null,
   "metadata": {},
   "outputs": [],
   "source": [
    "The behaviors.tsv file contains the impression logs and users' news click histories. It has 5 columns divided by the tab symbol:\n",
    "\n",
    "Impression ID: The ID of an impression.\n",
    "User ID: The ID of a user.\n",
    "Time: The impression time with format \"MM/DD/YYYY HH:MM:SS AM/PM\".\n",
    "History: The news click history (ID list of clicked news) of this user before this impression. The clicked news articles are ordered by time.\n",
    "Impressions: List of news displayed in this impression and user's click behaviors on them (1 for click and 0 for non-click). The orders of news in an impressions have been shuffled.\n",
    "The news.tsv file contains the detailed information of news articles involved in the behaviors.tsv file. It has 4 columns, which are divided by the tab symbol:\n",
    "\n",
    "News ID: The ID of a news\n",
    "Title: The title of a news\n",
    "Category: The category of a news\n",
    "Sapo: The abstract/summary of a news"
   ]
  },
  {
   "cell_type": "code",
   "execution_count": null,
   "metadata": {},
   "outputs": [],
   "source": []
  },
  {
   "cell_type": "code",
   "execution_count": null,
   "metadata": {},
   "outputs": [],
   "source": [
    "microsoft/unilm-base-cased"
   ]
  },
  {
   "cell_type": "code",
   "execution_count": null,
   "metadata": {},
   "outputs": [],
   "source": []
  },
  {
   "cell_type": "code",
   "execution_count": null,
   "metadata": {},
   "outputs": [],
   "source": []
  }
 ],
 "metadata": {
  "kernelspec": {
   "display_name": "recminer",
   "language": "python",
   "name": "python3"
  },
  "language_info": {
   "codemirror_mode": {
    "name": "ipython",
    "version": 3
   },
   "file_extension": ".py",
   "mimetype": "text/x-python",
   "name": "python",
   "nbconvert_exporter": "python",
   "pygments_lexer": "ipython3",
   "version": "3.9.0"
  }
 },
 "nbformat": 4,
 "nbformat_minor": 2
}
