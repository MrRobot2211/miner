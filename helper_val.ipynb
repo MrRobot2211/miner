{
 "cells": [
  {
   "cell_type": "code",
   "execution_count": 4,
   "metadata": {},
   "outputs": [],
   "source": [
    "import pickle as pk\n",
    "import pandas as pd"
   ]
  },
  {
   "cell_type": "code",
   "execution_count": null,
   "metadata": {},
   "outputs": [],
   "source": []
  },
  {
   "cell_type": "code",
   "execution_count": 5,
   "metadata": {},
   "outputs": [],
   "source": [
    "mq_clk_history = pd.read_pickle(\"../data/mq_1sample_clicked_history.pkl\").drop_duplicates('full_text').head(50)"
   ]
  },
  {
   "cell_type": "code",
   "execution_count": 10,
   "metadata": {},
   "outputs": [
    {
     "data": {
      "text/plain": [
       "array(['Aspen reportedly opts for New York as venue for $4bn IPO',\n",
       "       'Tui considers moving stock exchange listing from FTSE 100 to Frankfurt',\n",
       "       'Canadian Fintech Nuvei Partners With Microsoft To Provide Seamless Payment Experiences',\n",
       "       \"LSE's Ongoing Struggle for Stability\",\n",
       "       'RBI unlikely to cut rates before June: Deutsche Bank',\n",
       "       'FCA-Authorised Digital Asset Derivatives Venue GFO-X Raises $30m Series B Funding, Led by M&G Investments',\n",
       "       'Google’s Gemini looks impressive but still trails', nan,\n",
       "       'OTP Bank implements iGCB’s Digital Core and Lending platform',\n",
       "       \"Federal Jury Rules Against Google's Android App Store In Epic Games Lawsuit - Alphabet (NASDAQ:GOOG), Alphabet (NASDAQ:GOOGL)\"],\n",
       "      dtype=object)"
      ]
     },
     "execution_count": 10,
     "metadata": {},
     "output_type": "execute_result"
    }
   ],
   "source": [
    "mq_clk_history['customDimensions_Title'].tail(10).values"
   ]
  },
  {
   "cell_type": "code",
   "execution_count": null,
   "metadata": {},
   "outputs": [],
   "source": []
  },
  {
   "cell_type": "code",
   "execution_count": 548,
   "metadata": {},
   "outputs": [],
   "source": [
    "behaviors_cols = [\"Impression ID\",\"User ID\",\"Time\",\"History\",\"Impressions\" ]\n",
    "news_cols = [\"News ID\",\"Title\",\"Category\",\"Abstract\"]\n"
   ]
  },
  {
   "cell_type": "code",
   "execution_count": 549,
   "metadata": {},
   "outputs": [],
   "source": [
    "interactions = pd.read_table(\"/home/felipe/New Recommendations/data/small_filtered_behaviors_train.tsv\",names=[\"Impression ID\",\n",
    "\"User ID\",\n",
    "\"Time\", \n",
    "\"History\",\n",
    "\"Impressions\" ])\n",
    "news = pd.read_table(\"/home/felipe/New Recommendations/data/MINDsmall_dev/news.tsv\",names=[\"News ID\",\n",
    "\"Category\",\n",
    "\"SubCategory\",\n",
    "\"Title\",\n",
    "\"Abstract\",\n",
    "\"URL\",\n",
    "\"Title Entities\" ,\n",
    "\"Abstract Entities\"])"
   ]
  },
  {
   "cell_type": "code",
   "execution_count": 550,
   "metadata": {},
   "outputs": [
    {
     "data": {
      "text/html": [
       "<div>\n",
       "<style scoped>\n",
       "    .dataframe tbody tr th:only-of-type {\n",
       "        vertical-align: middle;\n",
       "    }\n",
       "\n",
       "    .dataframe tbody tr th {\n",
       "        vertical-align: top;\n",
       "    }\n",
       "\n",
       "    .dataframe thead th {\n",
       "        text-align: right;\n",
       "    }\n",
       "</style>\n",
       "<table border=\"1\" class=\"dataframe\">\n",
       "  <thead>\n",
       "    <tr style=\"text-align: right;\">\n",
       "      <th></th>\n",
       "      <th>News ID</th>\n",
       "      <th>Category</th>\n",
       "      <th>SubCategory</th>\n",
       "      <th>Title</th>\n",
       "      <th>Abstract</th>\n",
       "      <th>URL</th>\n",
       "      <th>Title Entities</th>\n",
       "      <th>Abstract Entities</th>\n",
       "    </tr>\n",
       "  </thead>\n",
       "  <tbody>\n",
       "    <tr>\n",
       "      <th>0</th>\n",
       "      <td>N55528</td>\n",
       "      <td>lifestyle</td>\n",
       "      <td>lifestyleroyals</td>\n",
       "      <td>The Brands Queen Elizabeth, Prince Charles, an...</td>\n",
       "      <td>Shop the notebooks, jackets, and more that the...</td>\n",
       "      <td>https://assets.msn.com/labs/mind/AAGH0ET.html</td>\n",
       "      <td>[{\"Label\": \"Prince Philip, Duke of Edinburgh\",...</td>\n",
       "      <td>[]</td>\n",
       "    </tr>\n",
       "    <tr>\n",
       "      <th>1</th>\n",
       "      <td>N18955</td>\n",
       "      <td>health</td>\n",
       "      <td>medical</td>\n",
       "      <td>Dispose of unwanted prescription drugs during ...</td>\n",
       "      <td>NaN</td>\n",
       "      <td>https://assets.msn.com/labs/mind/AAISxPN.html</td>\n",
       "      <td>[{\"Label\": \"Drug Enforcement Administration\", ...</td>\n",
       "      <td>[]</td>\n",
       "    </tr>\n",
       "    <tr>\n",
       "      <th>2</th>\n",
       "      <td>N61837</td>\n",
       "      <td>news</td>\n",
       "      <td>newsworld</td>\n",
       "      <td>The Cost of Trump's Aid Freeze in the Trenches...</td>\n",
       "      <td>Lt. Ivan Molchanets peeked over a parapet of s...</td>\n",
       "      <td>https://assets.msn.com/labs/mind/AAJgNsz.html</td>\n",
       "      <td>[]</td>\n",
       "      <td>[{\"Label\": \"Ukraine\", \"Type\": \"G\", \"WikidataId...</td>\n",
       "    </tr>\n",
       "    <tr>\n",
       "      <th>3</th>\n",
       "      <td>N53526</td>\n",
       "      <td>health</td>\n",
       "      <td>voices</td>\n",
       "      <td>I Was An NBA Wife. Here's How It Affected My M...</td>\n",
       "      <td>I felt like I was a fraud, and being an NBA wi...</td>\n",
       "      <td>https://assets.msn.com/labs/mind/AACk2N6.html</td>\n",
       "      <td>[]</td>\n",
       "      <td>[{\"Label\": \"National Basketball Association\", ...</td>\n",
       "    </tr>\n",
       "    <tr>\n",
       "      <th>4</th>\n",
       "      <td>N38324</td>\n",
       "      <td>health</td>\n",
       "      <td>medical</td>\n",
       "      <td>How to Get Rid of Skin Tags, According to a De...</td>\n",
       "      <td>They seem harmless, but there's a very good re...</td>\n",
       "      <td>https://assets.msn.com/labs/mind/AAAKEkt.html</td>\n",
       "      <td>[{\"Label\": \"Skin tag\", \"Type\": \"C\", \"WikidataI...</td>\n",
       "      <td>[{\"Label\": \"Skin tag\", \"Type\": \"C\", \"WikidataI...</td>\n",
       "    </tr>\n",
       "  </tbody>\n",
       "</table>\n",
       "</div>"
      ],
      "text/plain": [
       "  News ID   Category      SubCategory  \\\n",
       "0  N55528  lifestyle  lifestyleroyals   \n",
       "1  N18955     health          medical   \n",
       "2  N61837       news        newsworld   \n",
       "3  N53526     health           voices   \n",
       "4  N38324     health          medical   \n",
       "\n",
       "                                               Title  \\\n",
       "0  The Brands Queen Elizabeth, Prince Charles, an...   \n",
       "1  Dispose of unwanted prescription drugs during ...   \n",
       "2  The Cost of Trump's Aid Freeze in the Trenches...   \n",
       "3  I Was An NBA Wife. Here's How It Affected My M...   \n",
       "4  How to Get Rid of Skin Tags, According to a De...   \n",
       "\n",
       "                                            Abstract  \\\n",
       "0  Shop the notebooks, jackets, and more that the...   \n",
       "1                                                NaN   \n",
       "2  Lt. Ivan Molchanets peeked over a parapet of s...   \n",
       "3  I felt like I was a fraud, and being an NBA wi...   \n",
       "4  They seem harmless, but there's a very good re...   \n",
       "\n",
       "                                             URL  \\\n",
       "0  https://assets.msn.com/labs/mind/AAGH0ET.html   \n",
       "1  https://assets.msn.com/labs/mind/AAISxPN.html   \n",
       "2  https://assets.msn.com/labs/mind/AAJgNsz.html   \n",
       "3  https://assets.msn.com/labs/mind/AACk2N6.html   \n",
       "4  https://assets.msn.com/labs/mind/AAAKEkt.html   \n",
       "\n",
       "                                      Title Entities  \\\n",
       "0  [{\"Label\": \"Prince Philip, Duke of Edinburgh\",...   \n",
       "1  [{\"Label\": \"Drug Enforcement Administration\", ...   \n",
       "2                                                 []   \n",
       "3                                                 []   \n",
       "4  [{\"Label\": \"Skin tag\", \"Type\": \"C\", \"WikidataI...   \n",
       "\n",
       "                                   Abstract Entities  \n",
       "0                                                 []  \n",
       "1                                                 []  \n",
       "2  [{\"Label\": \"Ukraine\", \"Type\": \"G\", \"WikidataId...  \n",
       "3  [{\"Label\": \"National Basketball Association\", ...  \n",
       "4  [{\"Label\": \"Skin tag\", \"Type\": \"C\", \"WikidataI...  "
      ]
     },
     "execution_count": 550,
     "metadata": {},
     "output_type": "execute_result"
    }
   ],
   "source": [
    "news.head()"
   ]
  },
  {
   "cell_type": "code",
   "execution_count": 551,
   "metadata": {},
   "outputs": [],
   "source": [
    "candidate_text = \"\"\" London Stock Exchange Group Faces Trading Glitch, Swiftly Resolves the Issue \\n\\n\n",
    "\n",
    "London, UK - The London Stock Exchange Group (LSEG) experienced a catastrophic trading glitch yesterday, causing significant disruption and concern within the financial industry. The glitch, which occurred during peak trading hours, led to widespread confusion and temporary suspension of trading activities. However, the LSEG's prompt response and effective resolution mitigated the impact on investors and restored stability to the market.\n",
    "\n",
    "The trading glitch, initially triggered by a technical malfunction within the LSEG's trading systems, resulted in erratic price movements and erroneous trade executions. This unexpected turn of events raised alarm bells and prompted the exchange to take immediate action to safeguard the integrity of the market.\n",
    "\n",
    "The LSEG's technical teams, comprising experienced professionals, swiftly identified the root cause of the glitch and initiated a systematic investigation to rectify the issue. Their expertise and coordinated efforts enabled them to resolve the problem within a relatively short period, restoring normal trading operations and minimizing potential losses for investors.\n",
    "\n",
    "During the temporary suspension of trading, the LSEG maintained open lines of communication with market participants, ensuring transparency and timely updates. The exchange's proactive approach in managing the situation helped to reassure investors and maintain confidence in the stability of the market.\n",
    "\n",
    "Regulators and industry experts have commended the LSEG for its rapid response and effective resolution of the trading glitch. The exchange's robust contingency plans and backup systems played a vital role in minimizing the disruption and restoring normalcy.\n",
    "\n",
    "While the incident did cause temporary uncertainty, the LSEG's ability to swiftly address the issue underscores the resilience of the global financial system. It serves as a reminder of the continuous efforts made by exchanges and regulators to monitor and maintain the integrity of trading platforms.\"\"\"\n",
    "candidate2_text = \"\"\" Cyber-attrack provokesd Catastrophic Systems Failure  at LSEG, Prompting Urgent Recovery Efforts \\n\\n\n",
    "\n",
    "London, UK - The London Stock Exchange Group (LSEG) experienced a catastrophic systems failure yesterday, causing widespread disruption and chaos within the financial industry. The incident, which stemmed from an unforeseen technical malfunction, has emphasized the critical need for robust infrastructure and disaster recovery plans in today's fast-paced trading environment.\n",
    "\n",
    "The systems failure struck during peak trading hours, leading to a temporary suspension of all trading activities on the LSEG platform. The unexpected outage sent shockwaves through the global financial community, resulting in significant losses for investors and traders.\n",
    "\n",
    "The LSEG's highly skilled technical teams immediately initiated efforts to identify the root cause of the failure and restore normal operations swiftly. Working around the clock, they employed comprehensive diagnostics and troubleshooting measures to rectify the issue as quickly as possible.\n",
    "\n",
    "While initial investigations indicate that the systems failure was caused by an internal glitch rather than external interference or malicious activity, further analysis is underway to determine its exact nature. The LSEG is committed to conducting a thorough review of its infrastructure and implementing necessary improvements to prevent similar incidents from occurring in the future.\n",
    "\n",
    "During this challenging time, effective communication has been paramount for maintaining transparency and managing market expectations. The LSEG promptly provided updates to market participants, regulators, and stakeholders about progress toward resolving the issue while outlining contingency plans put into action.\n",
    "\n",
    "Regulators have expressed concern over potential vulnerabilities exposed by such a significant systems failure within one of the world's most prominent stock exchanges. They are calling for enhanced risk management practices across all financial institutions to minimize disruptions that could impact investor confidence and stability in global markets.\n",
    "\n",
    "Recognizing its responsibility to safeguard investor interests, the LSEG is working closely with regulatory bodies to assess any potential impact on market integrity or investor protection during this period of disruption. Investor compensation measures are being carefully considered where appropriate.\n",
    "\n",
    "As normal trading operations gradually resume following extensive recovery efforts by LSEG's dedicated technical teams, market participants are urged to remain vigilant about potential volatility resulting from delayed transactions or backlog clearance.\n",
    "\n",
    "The incident serves as a stark reminder of how heavily reliant modern financial markets are on technology-driven infrastructure. It underscores both regulatory obligations and industry-wide responsibilities towards ensuring robust operational resilience against unforeseen technological failures or disruptions.\n",
    "\n",
    "The London Stock Exchange Group is determined not only to rectify immediate concerns but also proactively strengthen its systems' resilience moving forward\n",
    "\n",
    "\"\"\"\n",
    "candidate3_text = \"\"\" Cyber-attrack provokesd Catastrophic Systems Failure  at LSEG, Almost a Billion in losses \\n\\n\n",
    "\n",
    "London, UK - The London Stock Exchange Group (LSEG) experienced a catastrophic systems failure yesterday, causing widespread disruption and chaos within the financial industry. The incident, which stemmed from an unforeseen technical malfunction, has emphasized the critical need for robust infrastructure and disaster recovery plans in today's fast-paced trading environment.\n",
    "\n",
    "The systems failure struck during peak trading hours, leading to a temporary suspension of all trading activities on the LSEG platform. The unexpected outage sent shockwaves through the global financial community, resulting in significant losses for investors and traders.\n",
    "\n",
    "The LSEG's highly skilled technical teams immediately initiated efforts to identify the root cause of the failure and restore normal operations swiftly. Working around the clock, they employed comprehensive diagnostics and troubleshooting measures to rectify the issue as quickly as possible.\n",
    "\n",
    "While initial investigations indicate that the systems failure was caused by an internal glitch rather than external interference or malicious activity, further analysis is underway to determine its exact nature. The LSEG is committed to conducting a thorough review of its infrastructure and implementing necessary improvements to prevent similar incidents from occurring in the future.\n",
    "\n",
    "During this challenging time, effective communication has been paramount for maintaining transparency and managing market expectations. The LSEG promptly provided updates to market participants, regulators, and stakeholders about progress toward resolving the issue while outlining contingency plans put into action.\n",
    "\n",
    "Regulators have expressed concern over potential vulnerabilities exposed by such a significant systems failure within one of the world's most prominent stock exchanges. They are calling for enhanced risk management practices across all financial institutions to minimize disruptions that could impact investor confidence and stability in global markets.\n",
    "\n",
    "Recognizing its responsibility to safeguard investor interests, the LSEG is working closely with regulatory bodies to assess any potential impact on market integrity or investor protection during this period of disruption. Investor compensation measures are being carefully considered where appropriate.\n",
    "\n",
    "As normal trading operations gradually resume following extensive recovery efforts by LSEG's dedicated technical teams, market participants are urged to remain vigilant about potential volatility resulting from delayed transactions or backlog clearance.\n",
    "\n",
    "The incident serves as a stark reminder of how heavily reliant modern financial markets are on technology-driven infrastructure. It underscores both regulatory obligations and industry-wide responsibilities towards ensuring robust operational resilience against unforeseen technological failures or disruptions.\n",
    "\n",
    "The London Stock Exchange Group is determined not only to rectify immediate concerns but also proactively strengthen its systems' resilience moving forward\n",
    "\n",
    "\"\"\"\n",
    "candidate4_text = \"\"\" London Stock Exchange Group Faces Catastrophic Systems Failure, Almost 10 Billion in losses \\n\\n\n",
    "\n",
    "London, UK - The London Stock Exchange Group (LSEG) experienced a catastrophic systems failure yesterday, causing widespread disruption and chaos within the financial industry. The incident, which stemmed from an unforeseen technical malfunction, has emphasized the critical need for robust infrastructure and disaster recovery plans in today's fast-paced trading environment.\n",
    "\n",
    "The systems failure struck during peak trading hours, leading to a temporary suspension of all trading activities on the LSEG platform. The unexpected outage sent shockwaves through the global financial community, resulting in significant losses for investors and traders.\n",
    "\n",
    "The LSEG's highly skilled technical teams immediately initiated efforts to identify the root cause of the failure and restore normal operations swiftly. Working around the clock, they employed comprehensive diagnostics and troubleshooting measures to rectify the issue as quickly as possible.\n",
    "\n",
    "While initial investigations indicate that the systems failure was caused by an internal glitch rather than external interference or malicious activity, further analysis is underway to determine its exact nature. The LSEG is committed to conducting a thorough review of its infrastructure and implementing necessary improvements to prevent similar incidents from occurring in the future.\n",
    "\n",
    "During this challenging time, effective communication has been paramount for maintaining transparency and managing market expectations. The LSEG promptly provided updates to market participants, regulators, and stakeholders about progress toward resolving the issue while outlining contingency plans put into action.\n",
    "\n",
    "Regulators have expressed concern over potential vulnerabilities exposed by such a significant systems failure within one of the world's most prominent stock exchanges. They are calling for enhanced risk management practices across all financial institutions to minimize disruptions that could impact investor confidence and stability in global markets.\n",
    "\n",
    "Recognizing its responsibility to safeguard investor interests, the LSEG is working closely with regulatory bodies to assess any potential impact on market integrity or investor protection during this period of disruption. Investor compensation measures are being carefully considered where appropriate.\n",
    "\n",
    "As normal trading operations gradually resume following extensive recovery efforts by LSEG's dedicated technical teams, market participants are urged to remain vigilant about potential volatility resulting from delayed transactions or backlog clearance.\n",
    "\n",
    "The incident serves as a stark reminder of how heavily reliant modern financial markets are on technology-driven infrastructure. It underscores both regulatory obligations and industry-wide responsibilities towards ensuring robust operational resilience against unforeseen technological failures or disruptions.\n",
    "\n",
    "The London Stock Exchange Group is determined not only to rectify immediate concerns but also proactively strengthen its systems' resilience moving forward\n",
    "\n",
    "\"\"\"\n",
    "extra_candidates = [\"London Stock Exchange Group PLC\\nLSEG,\\n-0.43%\\nshares inched up 0.28% to £92.10 Monday, on what proved to be an all-around rough trading session for the stock market, with the FTSE 100 Index\\nUKX,\\n-0.09%\\nfalling 0.39% to 7,594.91.\\n\\nLondon Stock Exchange Group PLC closed £2.28 short of its 52-week high (£94.38), which the company reached on December 14.\\nTrading volume (330,075) remained 1.1 million below its 50-day average volume of 1.4 M.\\n\\nEditor's Note: This story was auto-generated by Automated Insights, an automation technology provider, using data from Dow Jones and FactSet. See our market data terms of use.\",\n",
    "       '‘Inflation … is not quite where we would like to see it.’\\n\\nLesetja Kganyago speaking in an interview on Bloomberg TV on the sidelines of the World Economic Forum in Davos. Image: Hollie Adams/Bloomberg\\n\\nSouth African Central Bank Governor Lesetja Kganyago ruled out cutting interest rates while inflation remains persistent.\\n\\n“Our real rates are not particularly high and inflation has come down – it’s within target – but it is not quite where we would like to see it,” Kganyago said Tuesday in an interview on Bloomberg TV on the sidelines of the World Economic Forum in Davos.\\n\\n“And if we are to make any policy adjustments, we would have to see that inflation has declined to our anchor, which is 4.5%.”\\n\\nThe South African Reserve Bank has held its benchmark interest rate unchanged at a 14-year-high of 8.25% since May 2023 and is expected to do so again when it meets next week.\\n\\nWhile inflation moderated toward the end of last year, the Reserve Bank has repeatedly said it is not convinced that price pressures are slowing to the midpoint of its 3% to 6% target band in a sustainable manner.\\n\\nInflation eased to 5.5% in November from 5.9% the prior month, primarily due to a sharp decline in fuel prices, although pressure in other categories such as food remain elevated. December inflation data will be released on January 24, one day before Kganyago announces the rate decision of the monetary policy committee.\\n\\nRead: SA’s inflation slows in November\\n\\nHigher for longer\\n\\nWhile pandemic-inflicted supply constraints responsible for propelling price pressures have eased, “inflation is still stubbornly high,” he said. “For it to be eventually conquered, we are going to have to keep rates higher for longer.”\\n\\nThe Reserve Bank will also watch South Africa’s public finances, which face spending pressures ahead of an election later this year in which the ruling African National Congress could lose its national majority for the first time since the end of White-minority rule in 1994.\\n\\nThe governor has repeatedly cautioned that the state of the country’s finances can dim the economic outlook and elevate borrowing costs. The central bank has also called out the burden imposed on business by repeated power cuts and snarled infrastructure due to the poor performance of the country’s electricity utility Eskom Holdings SOC Ltd. and port and freight-rail operator Transnet.\\n\\nFinance Minister Enoch Godongwana is expected to warn of the country’s deteriorating debt trajectory when he presents the annual budget later next month. Kganyago declined to comment directly on the budget, but said he took the Treasury at its word that it would keep the country on a sustainable fiscal path.\\n\\nRead: Godongwana warns of difficult budget next month\\n\\n“I have got no reason to second guess them,” he said. “I have got every reason that if they have made a commitment, they will meet that commitment. But fiscal policy is not going to be easy this year.”\\n\\n© 2024 Bloomberg',\n",
    "       \"LSEG’s Schwimmer: Regulators should be ‘careful’ about imposing rules on AI\\n\\nIndustry leaders were pessimistic about a proactive approach from regulators as finance embraces generative AI\\n\\nTuesday, 16 January 2024 at 15:07\\n\\nLondon Stock Exchange Group chief executive David Schwimmer has urged regulators to be cautious about imposing stringent rules on the use of artificial intelligence, claiming the financial services sector is only at the early stages of identifying the full set of opportunities posed by the new technology.\\n\\n“You have to be careful about putting those regulatory restrictions in place before we've really figured out what the opportunity is, what the potential is and what the development path looks like,”\\xa0Schwimmer said during a panel at the World Economic Forum in Davos on 16 January.\",\n",
    "       ]\n"
   ]
  },
  {
   "cell_type": "code",
   "execution_count": 552,
   "metadata": {},
   "outputs": [],
   "source": [
    "all_candidates = [candidate_text,candidate2_text,candidate3_text,candidate4_text]\n",
    "all_candidates.extend(extra_candidates)"
   ]
  },
  {
   "cell_type": "code",
   "execution_count": 553,
   "metadata": {},
   "outputs": [
    {
     "data": {
      "text/plain": [
       "[\" London Stock Exchange Group Faces Trading Glitch, Swiftly Resolves the Issue \\n\\n\\n\\nLondon, UK - The London Stock Exchange Group (LSEG) experienced a catastrophic trading glitch yesterday, causing significant disruption and concern within the financial industry. The glitch, which occurred during peak trading hours, led to widespread confusion and temporary suspension of trading activities. However, the LSEG's prompt response and effective resolution mitigated the impact on investors and restored stability to the market.\\n\\nThe trading glitch, initially triggered by a technical malfunction within the LSEG's trading systems, resulted in erratic price movements and erroneous trade executions. This unexpected turn of events raised alarm bells and prompted the exchange to take immediate action to safeguard the integrity of the market.\\n\\nThe LSEG's technical teams, comprising experienced professionals, swiftly identified the root cause of the glitch and initiated a systematic investigation to rectify the issue. Their expertise and coordinated efforts enabled them to resolve the problem within a relatively short period, restoring normal trading operations and minimizing potential losses for investors.\\n\\nDuring the temporary suspension of trading, the LSEG maintained open lines of communication with market participants, ensuring transparency and timely updates. The exchange's proactive approach in managing the situation helped to reassure investors and maintain confidence in the stability of the market.\\n\\nRegulators and industry experts have commended the LSEG for its rapid response and effective resolution of the trading glitch. The exchange's robust contingency plans and backup systems played a vital role in minimizing the disruption and restoring normalcy.\\n\\nWhile the incident did cause temporary uncertainty, the LSEG's ability to swiftly address the issue underscores the resilience of the global financial system. It serves as a reminder of the continuous efforts made by exchanges and regulators to monitor and maintain the integrity of trading platforms.\",\n",
       " \" Cyber-attrack provokesd Catastrophic Systems Failure  at LSEG, Prompting Urgent Recovery Efforts \\n\\n\\n\\nLondon, UK - The London Stock Exchange Group (LSEG) experienced a catastrophic systems failure yesterday, causing widespread disruption and chaos within the financial industry. The incident, which stemmed from an unforeseen technical malfunction, has emphasized the critical need for robust infrastructure and disaster recovery plans in today's fast-paced trading environment.\\n\\nThe systems failure struck during peak trading hours, leading to a temporary suspension of all trading activities on the LSEG platform. The unexpected outage sent shockwaves through the global financial community, resulting in significant losses for investors and traders.\\n\\nThe LSEG's highly skilled technical teams immediately initiated efforts to identify the root cause of the failure and restore normal operations swiftly. Working around the clock, they employed comprehensive diagnostics and troubleshooting measures to rectify the issue as quickly as possible.\\n\\nWhile initial investigations indicate that the systems failure was caused by an internal glitch rather than external interference or malicious activity, further analysis is underway to determine its exact nature. The LSEG is committed to conducting a thorough review of its infrastructure and implementing necessary improvements to prevent similar incidents from occurring in the future.\\n\\nDuring this challenging time, effective communication has been paramount for maintaining transparency and managing market expectations. The LSEG promptly provided updates to market participants, regulators, and stakeholders about progress toward resolving the issue while outlining contingency plans put into action.\\n\\nRegulators have expressed concern over potential vulnerabilities exposed by such a significant systems failure within one of the world's most prominent stock exchanges. They are calling for enhanced risk management practices across all financial institutions to minimize disruptions that could impact investor confidence and stability in global markets.\\n\\nRecognizing its responsibility to safeguard investor interests, the LSEG is working closely with regulatory bodies to assess any potential impact on market integrity or investor protection during this period of disruption. Investor compensation measures are being carefully considered where appropriate.\\n\\nAs normal trading operations gradually resume following extensive recovery efforts by LSEG's dedicated technical teams, market participants are urged to remain vigilant about potential volatility resulting from delayed transactions or backlog clearance.\\n\\nThe incident serves as a stark reminder of how heavily reliant modern financial markets are on technology-driven infrastructure. It underscores both regulatory obligations and industry-wide responsibilities towards ensuring robust operational resilience against unforeseen technological failures or disruptions.\\n\\nThe London Stock Exchange Group is determined not only to rectify immediate concerns but also proactively strengthen its systems' resilience moving forward\\n\\n\",\n",
       " \" Cyber-attrack provokesd Catastrophic Systems Failure  at LSEG, Almost a Billion in losses \\n\\n\\n\\nLondon, UK - The London Stock Exchange Group (LSEG) experienced a catastrophic systems failure yesterday, causing widespread disruption and chaos within the financial industry. The incident, which stemmed from an unforeseen technical malfunction, has emphasized the critical need for robust infrastructure and disaster recovery plans in today's fast-paced trading environment.\\n\\nThe systems failure struck during peak trading hours, leading to a temporary suspension of all trading activities on the LSEG platform. The unexpected outage sent shockwaves through the global financial community, resulting in significant losses for investors and traders.\\n\\nThe LSEG's highly skilled technical teams immediately initiated efforts to identify the root cause of the failure and restore normal operations swiftly. Working around the clock, they employed comprehensive diagnostics and troubleshooting measures to rectify the issue as quickly as possible.\\n\\nWhile initial investigations indicate that the systems failure was caused by an internal glitch rather than external interference or malicious activity, further analysis is underway to determine its exact nature. The LSEG is committed to conducting a thorough review of its infrastructure and implementing necessary improvements to prevent similar incidents from occurring in the future.\\n\\nDuring this challenging time, effective communication has been paramount for maintaining transparency and managing market expectations. The LSEG promptly provided updates to market participants, regulators, and stakeholders about progress toward resolving the issue while outlining contingency plans put into action.\\n\\nRegulators have expressed concern over potential vulnerabilities exposed by such a significant systems failure within one of the world's most prominent stock exchanges. They are calling for enhanced risk management practices across all financial institutions to minimize disruptions that could impact investor confidence and stability in global markets.\\n\\nRecognizing its responsibility to safeguard investor interests, the LSEG is working closely with regulatory bodies to assess any potential impact on market integrity or investor protection during this period of disruption. Investor compensation measures are being carefully considered where appropriate.\\n\\nAs normal trading operations gradually resume following extensive recovery efforts by LSEG's dedicated technical teams, market participants are urged to remain vigilant about potential volatility resulting from delayed transactions or backlog clearance.\\n\\nThe incident serves as a stark reminder of how heavily reliant modern financial markets are on technology-driven infrastructure. It underscores both regulatory obligations and industry-wide responsibilities towards ensuring robust operational resilience against unforeseen technological failures or disruptions.\\n\\nThe London Stock Exchange Group is determined not only to rectify immediate concerns but also proactively strengthen its systems' resilience moving forward\\n\\n\",\n",
       " \" London Stock Exchange Group Faces Catastrophic Systems Failure, Almost 10 Billion in losses \\n\\n\\n\\nLondon, UK - The London Stock Exchange Group (LSEG) experienced a catastrophic systems failure yesterday, causing widespread disruption and chaos within the financial industry. The incident, which stemmed from an unforeseen technical malfunction, has emphasized the critical need for robust infrastructure and disaster recovery plans in today's fast-paced trading environment.\\n\\nThe systems failure struck during peak trading hours, leading to a temporary suspension of all trading activities on the LSEG platform. The unexpected outage sent shockwaves through the global financial community, resulting in significant losses for investors and traders.\\n\\nThe LSEG's highly skilled technical teams immediately initiated efforts to identify the root cause of the failure and restore normal operations swiftly. Working around the clock, they employed comprehensive diagnostics and troubleshooting measures to rectify the issue as quickly as possible.\\n\\nWhile initial investigations indicate that the systems failure was caused by an internal glitch rather than external interference or malicious activity, further analysis is underway to determine its exact nature. The LSEG is committed to conducting a thorough review of its infrastructure and implementing necessary improvements to prevent similar incidents from occurring in the future.\\n\\nDuring this challenging time, effective communication has been paramount for maintaining transparency and managing market expectations. The LSEG promptly provided updates to market participants, regulators, and stakeholders about progress toward resolving the issue while outlining contingency plans put into action.\\n\\nRegulators have expressed concern over potential vulnerabilities exposed by such a significant systems failure within one of the world's most prominent stock exchanges. They are calling for enhanced risk management practices across all financial institutions to minimize disruptions that could impact investor confidence and stability in global markets.\\n\\nRecognizing its responsibility to safeguard investor interests, the LSEG is working closely with regulatory bodies to assess any potential impact on market integrity or investor protection during this period of disruption. Investor compensation measures are being carefully considered where appropriate.\\n\\nAs normal trading operations gradually resume following extensive recovery efforts by LSEG's dedicated technical teams, market participants are urged to remain vigilant about potential volatility resulting from delayed transactions or backlog clearance.\\n\\nThe incident serves as a stark reminder of how heavily reliant modern financial markets are on technology-driven infrastructure. It underscores both regulatory obligations and industry-wide responsibilities towards ensuring robust operational resilience against unforeseen technological failures or disruptions.\\n\\nThe London Stock Exchange Group is determined not only to rectify immediate concerns but also proactively strengthen its systems' resilience moving forward\\n\\n\",\n",
       " \"London Stock Exchange Group PLC\\nLSEG,\\n-0.43%\\nshares inched up 0.28% to £92.10 Monday, on what proved to be an all-around rough trading session for the stock market, with the FTSE 100 Index\\nUKX,\\n-0.09%\\nfalling 0.39% to 7,594.91.\\n\\nLondon Stock Exchange Group PLC closed £2.28 short of its 52-week high (£94.38), which the company reached on December 14.\\nTrading volume (330,075) remained 1.1 million below its 50-day average volume of 1.4 M.\\n\\nEditor's Note: This story was auto-generated by Automated Insights, an automation technology provider, using data from Dow Jones and FactSet. See our market data terms of use.\",\n",
       " '‘Inflation … is not quite where we would like to see it.’\\n\\nLesetja Kganyago speaking in an interview on Bloomberg TV on the sidelines of the World Economic Forum in Davos. Image: Hollie Adams/Bloomberg\\n\\nSouth African Central Bank Governor Lesetja Kganyago ruled out cutting interest rates while inflation remains persistent.\\n\\n“Our real rates are not particularly high and inflation has come down – it’s within target – but it is not quite where we would like to see it,” Kganyago said Tuesday in an interview on Bloomberg TV on the sidelines of the World Economic Forum in Davos.\\n\\n“And if we are to make any policy adjustments, we would have to see that inflation has declined to our anchor, which is 4.5%.”\\n\\nThe South African Reserve Bank has held its benchmark interest rate unchanged at a 14-year-high of 8.25% since May 2023 and is expected to do so again when it meets next week.\\n\\nWhile inflation moderated toward the end of last year, the Reserve Bank has repeatedly said it is not convinced that price pressures are slowing to the midpoint of its 3% to 6% target band in a sustainable manner.\\n\\nInflation eased to 5.5% in November from 5.9% the prior month, primarily due to a sharp decline in fuel prices, although pressure in other categories such as food remain elevated. December inflation data will be released on January 24, one day before Kganyago announces the rate decision of the monetary policy committee.\\n\\nRead: SA’s inflation slows in November\\n\\nHigher for longer\\n\\nWhile pandemic-inflicted supply constraints responsible for propelling price pressures have eased, “inflation is still stubbornly high,” he said. “For it to be eventually conquered, we are going to have to keep rates higher for longer.”\\n\\nThe Reserve Bank will also watch South Africa’s public finances, which face spending pressures ahead of an election later this year in which the ruling African National Congress could lose its national majority for the first time since the end of White-minority rule in 1994.\\n\\nThe governor has repeatedly cautioned that the state of the country’s finances can dim the economic outlook and elevate borrowing costs. The central bank has also called out the burden imposed on business by repeated power cuts and snarled infrastructure due to the poor performance of the country’s electricity utility Eskom Holdings SOC Ltd. and port and freight-rail operator Transnet.\\n\\nFinance Minister Enoch Godongwana is expected to warn of the country’s deteriorating debt trajectory when he presents the annual budget later next month. Kganyago declined to comment directly on the budget, but said he took the Treasury at its word that it would keep the country on a sustainable fiscal path.\\n\\nRead: Godongwana warns of difficult budget next month\\n\\n“I have got no reason to second guess them,” he said. “I have got every reason that if they have made a commitment, they will meet that commitment. But fiscal policy is not going to be easy this year.”\\n\\n© 2024 Bloomberg',\n",
       " \"LSEG’s Schwimmer: Regulators should be ‘careful’ about imposing rules on AI\\n\\nIndustry leaders were pessimistic about a proactive approach from regulators as finance embraces generative AI\\n\\nTuesday, 16 January 2024 at 15:07\\n\\nLondon Stock Exchange Group chief executive David Schwimmer has urged regulators to be cautious about imposing stringent rules on the use of artificial intelligence, claiming the financial services sector is only at the early stages of identifying the full set of opportunities posed by the new technology.\\n\\n“You have to be careful about putting those regulatory restrictions in place before we've really figured out what the opportunity is, what the potential is and what the development path looks like,”\\xa0Schwimmer said during a panel at the World Economic Forum in Davos on 16 January.\"]"
      ]
     },
     "execution_count": 553,
     "metadata": {},
     "output_type": "execute_result"
    }
   ],
   "source": [
    "all_candidates"
   ]
  },
  {
   "cell_type": "code",
   "execution_count": 554,
   "metadata": {},
   "outputs": [],
   "source": [
    "cand_dict = {'Title':[],\"Abstract\":[] }\n",
    "for art in all_candidates:\n",
    "    title, abs = art.split('\\n\\n',maxsplit=1)\n",
    "    cand_dict['Title'].append(title)\n",
    "    cand_dict['Abstract'].append(abs) "
   ]
  },
  {
   "cell_type": "code",
   "execution_count": 555,
   "metadata": {},
   "outputs": [
    {
     "data": {
      "text/plain": [
       "['LSEG’s Schwimmer: Regulators should be ‘careful’ about imposing rules on AI',\n",
       " \"Industry leaders were pessimistic about a proactive approach from regulators as finance embraces generative AI\\n\\nTuesday, 16 January 2024 at 15:07\\n\\nLondon Stock Exchange Group chief executive David Schwimmer has urged regulators to be cautious about imposing stringent rules on the use of artificial intelligence, claiming the financial services sector is only at the early stages of identifying the full set of opportunities posed by the new technology.\\n\\n“You have to be careful about putting those regulatory restrictions in place before we've really figured out what the opportunity is, what the potential is and what the development path looks like,”\\xa0Schwimmer said during a panel at the World Economic Forum in Davos on 16 January.\"]"
      ]
     },
     "execution_count": 555,
     "metadata": {},
     "output_type": "execute_result"
    }
   ],
   "source": [
    "art.split('\\n\\n',maxsplit=1)"
   ]
  },
  {
   "cell_type": "code",
   "execution_count": 556,
   "metadata": {},
   "outputs": [
    {
     "data": {
      "text/html": [
       "<div>\n",
       "<style scoped>\n",
       "    .dataframe tbody tr th:only-of-type {\n",
       "        vertical-align: middle;\n",
       "    }\n",
       "\n",
       "    .dataframe tbody tr th {\n",
       "        vertical-align: top;\n",
       "    }\n",
       "\n",
       "    .dataframe thead th {\n",
       "        text-align: right;\n",
       "    }\n",
       "</style>\n",
       "<table border=\"1\" class=\"dataframe\">\n",
       "  <thead>\n",
       "    <tr style=\"text-align: right;\">\n",
       "      <th></th>\n",
       "      <th>customDimensions_Title</th>\n",
       "      <th>full_text</th>\n",
       "    </tr>\n",
       "  </thead>\n",
       "  <tbody>\n",
       "    <tr>\n",
       "      <th>154</th>\n",
       "      <td>Is Alphabet losing out to Microsoft &amp; Amazon? ...</td>\n",
       "      <td>Led by Alphabet, the\\n\\nNasdaq\\n\\nand the S&amp;P ...</td>\n",
       "    </tr>\n",
       "    <tr>\n",
       "      <th>313</th>\n",
       "      <td>NaN</td>\n",
       "      <td>By Tristan Veyet and Paolo Laudani\\n\\nOct 30 (...</td>\n",
       "    </tr>\n",
       "    <tr>\n",
       "      <th>314</th>\n",
       "      <td>NaN</td>\n",
       "      <td>RNS Number : 6883R\\nEMIS Group PLC\\n30 October...</td>\n",
       "    </tr>\n",
       "    <tr>\n",
       "      <th>518</th>\n",
       "      <td>ADIA Acquires a 40% Stake in Landmark Dividend</td>\n",
       "      <td>[November 01, 2023]\\n\\nDigitalBridge Group, In...</td>\n",
       "    </tr>\n",
       "    <tr>\n",
       "      <th>615</th>\n",
       "      <td>Amazon's $1 billion M365 cloud deal with Micro...</td>\n",
       "      <td>Amazon's multiyear commitment to use Microsoft...</td>\n",
       "    </tr>\n",
       "  </tbody>\n",
       "</table>\n",
       "</div>"
      ],
      "text/plain": [
       "                                customDimensions_Title  \\\n",
       "154  Is Alphabet losing out to Microsoft & Amazon? ...   \n",
       "313                                                NaN   \n",
       "314                                                NaN   \n",
       "518     ADIA Acquires a 40% Stake in Landmark Dividend   \n",
       "615  Amazon's $1 billion M365 cloud deal with Micro...   \n",
       "\n",
       "                                             full_text  \n",
       "154  Led by Alphabet, the\\n\\nNasdaq\\n\\nand the S&P ...  \n",
       "313  By Tristan Veyet and Paolo Laudani\\n\\nOct 30 (...  \n",
       "314  RNS Number : 6883R\\nEMIS Group PLC\\n30 October...  \n",
       "518  [November 01, 2023]\\n\\nDigitalBridge Group, In...  \n",
       "615  Amazon's multiyear commitment to use Microsoft...  "
      ]
     },
     "execution_count": 556,
     "metadata": {},
     "output_type": "execute_result"
    }
   ],
   "source": [
    "mq_clk_history.head()"
   ]
  },
  {
   "cell_type": "code",
   "execution_count": null,
   "metadata": {},
   "outputs": [],
   "source": []
  },
  {
   "cell_type": "code",
   "execution_count": 557,
   "metadata": {},
   "outputs": [],
   "source": [
    "cand_dict[\"Title\"].extend(mq_clk_history[\"customDimensions_Title\"].values)\n",
    "cand_dict[\"Abstract\"].extend(mq_clk_history[\"full_text\"].values)\n"
   ]
  },
  {
   "cell_type": "code",
   "execution_count": 558,
   "metadata": {},
   "outputs": [],
   "source": [
    "candidate_news = pd.DataFrame(cand_dict)"
   ]
  },
  {
   "cell_type": "code",
   "execution_count": 559,
   "metadata": {},
   "outputs": [],
   "source": [
    "labels, levels = pd.factorize(candidate_news['Title'].fillna(\" \").astype(str) +\"\\n\\n\"+ candidate_news['Abstract'].fillna(\" \").astype(str))"
   ]
  },
  {
   "cell_type": "code",
   "execution_count": 560,
   "metadata": {},
   "outputs": [],
   "source": [
    "candidate_news['News ID'] =  labels"
   ]
  },
  {
   "cell_type": "code",
   "execution_count": 561,
   "metadata": {},
   "outputs": [],
   "source": [
    "levels2labels = { level:label for level, label in zip(levels,labels) }"
   ]
  },
  {
   "cell_type": "code",
   "execution_count": 562,
   "metadata": {},
   "outputs": [
    {
     "data": {
      "text/plain": [
       "array(['lifestyle', 'health', 'news', 'sports', 'weather',\n",
       "       'entertainment', 'foodanddrink', 'autos', 'travel', 'video', 'tv',\n",
       "       'finance', 'movies', 'music', 'kids', 'middleeast', 'games'],\n",
       "      dtype=object)"
      ]
     },
     "execution_count": 562,
     "metadata": {},
     "output_type": "execute_result"
    }
   ],
   "source": [
    "news['Category'].unique()"
   ]
  },
  {
   "cell_type": "code",
   "execution_count": 563,
   "metadata": {},
   "outputs": [],
   "source": [
    "candidate_news['Category'] = 'finance'"
   ]
  },
  {
   "cell_type": "code",
   "execution_count": null,
   "metadata": {},
   "outputs": [],
   "source": []
  },
  {
   "cell_type": "code",
   "execution_count": 564,
   "metadata": {},
   "outputs": [
    {
     "data": {
      "text/html": [
       "<div>\n",
       "<style scoped>\n",
       "    .dataframe tbody tr th:only-of-type {\n",
       "        vertical-align: middle;\n",
       "    }\n",
       "\n",
       "    .dataframe tbody tr th {\n",
       "        vertical-align: top;\n",
       "    }\n",
       "\n",
       "    .dataframe thead th {\n",
       "        text-align: right;\n",
       "    }\n",
       "</style>\n",
       "<table border=\"1\" class=\"dataframe\">\n",
       "  <thead>\n",
       "    <tr style=\"text-align: right;\">\n",
       "      <th></th>\n",
       "      <th>Impression ID</th>\n",
       "      <th>User ID</th>\n",
       "      <th>Time</th>\n",
       "      <th>History</th>\n",
       "      <th>Impressions</th>\n",
       "    </tr>\n",
       "  </thead>\n",
       "  <tbody>\n",
       "    <tr>\n",
       "      <th>0</th>\n",
       "      <td>1</td>\n",
       "      <td>U13740</td>\n",
       "      <td>11/11/2019 9:05:58 AM</td>\n",
       "      <td>N45794 N19347 N31801</td>\n",
       "      <td>N35729-0</td>\n",
       "    </tr>\n",
       "    <tr>\n",
       "      <th>1</th>\n",
       "      <td>2</td>\n",
       "      <td>U91836</td>\n",
       "      <td>11/12/2019 6:11:30 PM</td>\n",
       "      <td>N31739 N6072 N63045 N23979 N43353 N8129 N1569 ...</td>\n",
       "      <td>N17059-1 N20495-0 N22407-0 N39317-0 N42977-0</td>\n",
       "    </tr>\n",
       "    <tr>\n",
       "      <th>2</th>\n",
       "      <td>3</td>\n",
       "      <td>U73700</td>\n",
       "      <td>11/14/2019 7:01:48 AM</td>\n",
       "      <td>N7563 N47289 N24233</td>\n",
       "      <td>N12330-0 N23877-0 N29739-0 N35389-0 N36226-0 N...</td>\n",
       "    </tr>\n",
       "    <tr>\n",
       "      <th>3</th>\n",
       "      <td>4</td>\n",
       "      <td>U34670</td>\n",
       "      <td>11/11/2019 5:28:05 AM</td>\n",
       "      <td>N53880 N41375</td>\n",
       "      <td>N27581-0 N35729-0</td>\n",
       "    </tr>\n",
       "    <tr>\n",
       "      <th>4</th>\n",
       "      <td>6</td>\n",
       "      <td>U19739</td>\n",
       "      <td>11/11/2019 6:52:13 PM</td>\n",
       "      <td>N14343 N32607 N32320 N22007 N24294 N8275 N6695...</td>\n",
       "      <td>N21119-1 N25722-0 N2869-0 N33619-1 N53696-0</td>\n",
       "    </tr>\n",
       "  </tbody>\n",
       "</table>\n",
       "</div>"
      ],
      "text/plain": [
       "   Impression ID User ID                   Time  \\\n",
       "0              1  U13740  11/11/2019 9:05:58 AM   \n",
       "1              2  U91836  11/12/2019 6:11:30 PM   \n",
       "2              3  U73700  11/14/2019 7:01:48 AM   \n",
       "3              4  U34670  11/11/2019 5:28:05 AM   \n",
       "4              6  U19739  11/11/2019 6:52:13 PM   \n",
       "\n",
       "                                             History  \\\n",
       "0                               N45794 N19347 N31801   \n",
       "1  N31739 N6072 N63045 N23979 N43353 N8129 N1569 ...   \n",
       "2                                N7563 N47289 N24233   \n",
       "3                                      N53880 N41375   \n",
       "4  N14343 N32607 N32320 N22007 N24294 N8275 N6695...   \n",
       "\n",
       "                                         Impressions  \n",
       "0                                           N35729-0  \n",
       "1       N17059-1 N20495-0 N22407-0 N39317-0 N42977-0  \n",
       "2  N12330-0 N23877-0 N29739-0 N35389-0 N36226-0 N...  \n",
       "3                                  N27581-0 N35729-0  \n",
       "4        N21119-1 N25722-0 N2869-0 N33619-1 N53696-0  "
      ]
     },
     "execution_count": 564,
     "metadata": {},
     "output_type": "execute_result"
    }
   ],
   "source": [
    "interactions.head()"
   ]
  },
  {
   "cell_type": "code",
   "execution_count": null,
   "metadata": {},
   "outputs": [],
   "source": []
  },
  {
   "cell_type": "code",
   "execution_count": 565,
   "metadata": {},
   "outputs": [],
   "source": [
    "mq_his_ids = (mq_clk_history[\"customDimensions_Title\"].fillna(\" \").astype(str)+ \"\\n\\n\"  + mq_clk_history[\"full_text\"].fillna(\" \").astype(str) ).map(levels2labels)"
   ]
  },
  {
   "cell_type": "code",
   "execution_count": 566,
   "metadata": {},
   "outputs": [],
   "source": [
    "mq_his_ids = mq_his_ids.to_list()"
   ]
  },
  {
   "cell_type": "code",
   "execution_count": 567,
   "metadata": {},
   "outputs": [
    {
     "data": {
      "text/plain": [
       "[7, 8, 9, 10, 11, 12, 13, 14, 15, 16]"
      ]
     },
     "execution_count": 567,
     "metadata": {},
     "output_type": "execute_result"
    }
   ],
   "source": [
    "mq_his_ids[:10]"
   ]
  },
  {
   "cell_type": "code",
   "execution_count": null,
   "metadata": {},
   "outputs": [],
   "source": []
  },
  {
   "cell_type": "code",
   "execution_count": 568,
   "metadata": {},
   "outputs": [],
   "source": [
    "fake_interactions = {}"
   ]
  },
  {
   "cell_type": "code",
   "execution_count": 569,
   "metadata": {},
   "outputs": [],
   "source": [
    "fake_interactions['User ID'] = 1111"
   ]
  },
  {
   "cell_type": "code",
   "execution_count": 570,
   "metadata": {},
   "outputs": [],
   "source": [
    "fake_interactions['Time'] = interactions['Time'].values[0]"
   ]
  },
  {
   "cell_type": "code",
   "execution_count": 571,
   "metadata": {},
   "outputs": [
    {
     "data": {
      "text/plain": [
       "['Impression ID', 'User ID', 'Time', 'History', 'Impressions']"
      ]
     },
     "execution_count": 571,
     "metadata": {},
     "output_type": "execute_result"
    }
   ],
   "source": [
    "behaviors_cols"
   ]
  },
  {
   "cell_type": "code",
   "execution_count": 572,
   "metadata": {},
   "outputs": [],
   "source": [
    "fake_interactions['History'] = \" \".join([str(x) for x in mq_his_ids])"
   ]
  },
  {
   "cell_type": "code",
   "execution_count": 573,
   "metadata": {},
   "outputs": [],
   "source": [
    "#fake_interactions[\"Impressions\"] = [ f\"{levels2labels[cand]}-1\" for cand in all_candidates] \n",
    "\n",
    "\n",
    "fake_interactions[\"Impressions\"] = [ f\"{levels2labels[cand]}-1 {levels2labels[cand]}-0\" for cand in all_candidates] \n"
   ]
  },
  {
   "cell_type": "code",
   "execution_count": 574,
   "metadata": {},
   "outputs": [],
   "source": [
    "fake_interactions[\"Impressions_text\"] = [cand for cand in all_candidates]"
   ]
  },
  {
   "cell_type": "code",
   "execution_count": 575,
   "metadata": {},
   "outputs": [
    {
     "data": {
      "text/plain": [
       "['7 8 9 10 11 12 13 14 15 16 17 18 19 20 21 22 23 24 25 26 27 28 29 30 31 32 33 34 35 36 37 38 39 40 41 42 43 44 45 46 47 48 49 50 51 52 53 54 55 56',\n",
       " '7 8 9 10 11 12 13 14 15 16 17 18 19 20 21 22 23 24 25 26 27 28 29 30 31 32 33 34 35 36 37 38 39 40 41 42 43 44 45 46 47 48 49 50 51 52 53 54 55 56',\n",
       " '7 8 9 10 11 12 13 14 15 16 17 18 19 20 21 22 23 24 25 26 27 28 29 30 31 32 33 34 35 36 37 38 39 40 41 42 43 44 45 46 47 48 49 50 51 52 53 54 55 56',\n",
       " '7 8 9 10 11 12 13 14 15 16 17 18 19 20 21 22 23 24 25 26 27 28 29 30 31 32 33 34 35 36 37 38 39 40 41 42 43 44 45 46 47 48 49 50 51 52 53 54 55 56',\n",
       " '7 8 9 10 11 12 13 14 15 16 17 18 19 20 21 22 23 24 25 26 27 28 29 30 31 32 33 34 35 36 37 38 39 40 41 42 43 44 45 46 47 48 49 50 51 52 53 54 55 56',\n",
       " '7 8 9 10 11 12 13 14 15 16 17 18 19 20 21 22 23 24 25 26 27 28 29 30 31 32 33 34 35 36 37 38 39 40 41 42 43 44 45 46 47 48 49 50 51 52 53 54 55 56',\n",
       " '7 8 9 10 11 12 13 14 15 16 17 18 19 20 21 22 23 24 25 26 27 28 29 30 31 32 33 34 35 36 37 38 39 40 41 42 43 44 45 46 47 48 49 50 51 52 53 54 55 56']"
      ]
     },
     "execution_count": 575,
     "metadata": {},
     "output_type": "execute_result"
    }
   ],
   "source": [
    "[fake_interactions['History']]* len(fake_interactions[\"Impressions\"]) "
   ]
  },
  {
   "cell_type": "code",
   "execution_count": 576,
   "metadata": {},
   "outputs": [],
   "source": [
    "num_candidates = len(fake_interactions[\"Impressions\"])"
   ]
  },
  {
   "cell_type": "code",
   "execution_count": 577,
   "metadata": {},
   "outputs": [],
   "source": [
    "fake_interactions['History'] = [fake_interactions['History']]*  num_candidates"
   ]
  },
  {
   "cell_type": "code",
   "execution_count": 578,
   "metadata": {},
   "outputs": [],
   "source": [
    "fake_interactions[\"Time\"] = fake_interactions[\"Time\"]\n",
    "fake_interactions[\"User ID\"] = fake_interactions[\"User ID\"]\n"
   ]
  },
  {
   "cell_type": "code",
   "execution_count": null,
   "metadata": {},
   "outputs": [],
   "source": []
  },
  {
   "cell_type": "code",
   "execution_count": 579,
   "metadata": {},
   "outputs": [
    {
     "data": {
      "text/plain": [
       "['Impression ID', 'User ID', 'Time', 'History', 'Impressions']"
      ]
     },
     "execution_count": 579,
     "metadata": {},
     "output_type": "execute_result"
    }
   ],
   "source": [
    "behaviors_cols"
   ]
  },
  {
   "cell_type": "code",
   "execution_count": 580,
   "metadata": {},
   "outputs": [],
   "source": [
    "df_fake_interactions = pd.DataFrame(fake_interactions)"
   ]
  },
  {
   "cell_type": "code",
   "execution_count": 581,
   "metadata": {},
   "outputs": [
    {
     "data": {
      "text/html": [
       "<div>\n",
       "<style scoped>\n",
       "    .dataframe tbody tr th:only-of-type {\n",
       "        vertical-align: middle;\n",
       "    }\n",
       "\n",
       "    .dataframe tbody tr th {\n",
       "        vertical-align: top;\n",
       "    }\n",
       "\n",
       "    .dataframe thead th {\n",
       "        text-align: right;\n",
       "    }\n",
       "</style>\n",
       "<table border=\"1\" class=\"dataframe\">\n",
       "  <thead>\n",
       "    <tr style=\"text-align: right;\">\n",
       "      <th></th>\n",
       "      <th>User ID</th>\n",
       "      <th>Time</th>\n",
       "      <th>History</th>\n",
       "      <th>Impressions</th>\n",
       "      <th>Impressions_text</th>\n",
       "    </tr>\n",
       "  </thead>\n",
       "  <tbody>\n",
       "    <tr>\n",
       "      <th>0</th>\n",
       "      <td>1111</td>\n",
       "      <td>11/11/2019 9:05:58 AM</td>\n",
       "      <td>7 8 9 10 11 12 13 14 15 16 17 18 19 20 21 22 2...</td>\n",
       "      <td>0-1 0-0</td>\n",
       "      <td>London Stock Exchange Group Faces Trading Gli...</td>\n",
       "    </tr>\n",
       "    <tr>\n",
       "      <th>1</th>\n",
       "      <td>1111</td>\n",
       "      <td>11/11/2019 9:05:58 AM</td>\n",
       "      <td>7 8 9 10 11 12 13 14 15 16 17 18 19 20 21 22 2...</td>\n",
       "      <td>1-1 1-0</td>\n",
       "      <td>Cyber-attrack provokesd Catastrophic Systems ...</td>\n",
       "    </tr>\n",
       "    <tr>\n",
       "      <th>2</th>\n",
       "      <td>1111</td>\n",
       "      <td>11/11/2019 9:05:58 AM</td>\n",
       "      <td>7 8 9 10 11 12 13 14 15 16 17 18 19 20 21 22 2...</td>\n",
       "      <td>2-1 2-0</td>\n",
       "      <td>Cyber-attrack provokesd Catastrophic Systems ...</td>\n",
       "    </tr>\n",
       "    <tr>\n",
       "      <th>3</th>\n",
       "      <td>1111</td>\n",
       "      <td>11/11/2019 9:05:58 AM</td>\n",
       "      <td>7 8 9 10 11 12 13 14 15 16 17 18 19 20 21 22 2...</td>\n",
       "      <td>3-1 3-0</td>\n",
       "      <td>London Stock Exchange Group Faces Catastrophi...</td>\n",
       "    </tr>\n",
       "    <tr>\n",
       "      <th>4</th>\n",
       "      <td>1111</td>\n",
       "      <td>11/11/2019 9:05:58 AM</td>\n",
       "      <td>7 8 9 10 11 12 13 14 15 16 17 18 19 20 21 22 2...</td>\n",
       "      <td>4-1 4-0</td>\n",
       "      <td>London Stock Exchange Group PLC\\nLSEG,\\n-0.43%...</td>\n",
       "    </tr>\n",
       "    <tr>\n",
       "      <th>5</th>\n",
       "      <td>1111</td>\n",
       "      <td>11/11/2019 9:05:58 AM</td>\n",
       "      <td>7 8 9 10 11 12 13 14 15 16 17 18 19 20 21 22 2...</td>\n",
       "      <td>5-1 5-0</td>\n",
       "      <td>‘Inflation … is not quite where we would like ...</td>\n",
       "    </tr>\n",
       "    <tr>\n",
       "      <th>6</th>\n",
       "      <td>1111</td>\n",
       "      <td>11/11/2019 9:05:58 AM</td>\n",
       "      <td>7 8 9 10 11 12 13 14 15 16 17 18 19 20 21 22 2...</td>\n",
       "      <td>6-1 6-0</td>\n",
       "      <td>LSEG’s Schwimmer: Regulators should be ‘carefu...</td>\n",
       "    </tr>\n",
       "  </tbody>\n",
       "</table>\n",
       "</div>"
      ],
      "text/plain": [
       "   User ID                   Time  \\\n",
       "0     1111  11/11/2019 9:05:58 AM   \n",
       "1     1111  11/11/2019 9:05:58 AM   \n",
       "2     1111  11/11/2019 9:05:58 AM   \n",
       "3     1111  11/11/2019 9:05:58 AM   \n",
       "4     1111  11/11/2019 9:05:58 AM   \n",
       "5     1111  11/11/2019 9:05:58 AM   \n",
       "6     1111  11/11/2019 9:05:58 AM   \n",
       "\n",
       "                                             History Impressions  \\\n",
       "0  7 8 9 10 11 12 13 14 15 16 17 18 19 20 21 22 2...     0-1 0-0   \n",
       "1  7 8 9 10 11 12 13 14 15 16 17 18 19 20 21 22 2...     1-1 1-0   \n",
       "2  7 8 9 10 11 12 13 14 15 16 17 18 19 20 21 22 2...     2-1 2-0   \n",
       "3  7 8 9 10 11 12 13 14 15 16 17 18 19 20 21 22 2...     3-1 3-0   \n",
       "4  7 8 9 10 11 12 13 14 15 16 17 18 19 20 21 22 2...     4-1 4-0   \n",
       "5  7 8 9 10 11 12 13 14 15 16 17 18 19 20 21 22 2...     5-1 5-0   \n",
       "6  7 8 9 10 11 12 13 14 15 16 17 18 19 20 21 22 2...     6-1 6-0   \n",
       "\n",
       "                                    Impressions_text  \n",
       "0   London Stock Exchange Group Faces Trading Gli...  \n",
       "1   Cyber-attrack provokesd Catastrophic Systems ...  \n",
       "2   Cyber-attrack provokesd Catastrophic Systems ...  \n",
       "3   London Stock Exchange Group Faces Catastrophi...  \n",
       "4  London Stock Exchange Group PLC\\nLSEG,\\n-0.43%...  \n",
       "5  ‘Inflation … is not quite where we would like ...  \n",
       "6  LSEG’s Schwimmer: Regulators should be ‘carefu...  "
      ]
     },
     "execution_count": 581,
     "metadata": {},
     "output_type": "execute_result"
    }
   ],
   "source": [
    "df_fake_interactions"
   ]
  },
  {
   "cell_type": "code",
   "execution_count": null,
   "metadata": {},
   "outputs": [],
   "source": []
  },
  {
   "cell_type": "code",
   "execution_count": null,
   "metadata": {},
   "outputs": [],
   "source": []
  },
  {
   "cell_type": "code",
   "execution_count": null,
   "metadata": {},
   "outputs": [],
   "source": []
  },
  {
   "cell_type": "code",
   "execution_count": 582,
   "metadata": {},
   "outputs": [],
   "source": [
    "df_fake_interactions.index.name = \"Impression ID\""
   ]
  },
  {
   "cell_type": "code",
   "execution_count": 583,
   "metadata": {},
   "outputs": [
    {
     "data": {
      "text/html": [
       "<div>\n",
       "<style scoped>\n",
       "    .dataframe tbody tr th:only-of-type {\n",
       "        vertical-align: middle;\n",
       "    }\n",
       "\n",
       "    .dataframe tbody tr th {\n",
       "        vertical-align: top;\n",
       "    }\n",
       "\n",
       "    .dataframe thead th {\n",
       "        text-align: right;\n",
       "    }\n",
       "</style>\n",
       "<table border=\"1\" class=\"dataframe\">\n",
       "  <thead>\n",
       "    <tr style=\"text-align: right;\">\n",
       "      <th></th>\n",
       "      <th>Impression ID</th>\n",
       "      <th>User ID</th>\n",
       "      <th>Time</th>\n",
       "      <th>History</th>\n",
       "      <th>Impressions</th>\n",
       "      <th>Impressions_text</th>\n",
       "    </tr>\n",
       "  </thead>\n",
       "  <tbody>\n",
       "    <tr>\n",
       "      <th>0</th>\n",
       "      <td>0</td>\n",
       "      <td>1111</td>\n",
       "      <td>11/11/2019 9:05:58 AM</td>\n",
       "      <td>7 8 9 10 11 12 13 14 15 16 17 18 19 20 21 22 2...</td>\n",
       "      <td>0-1 0-0</td>\n",
       "      <td>London Stock Exchange Group Faces Trading Gli...</td>\n",
       "    </tr>\n",
       "    <tr>\n",
       "      <th>1</th>\n",
       "      <td>1</td>\n",
       "      <td>1111</td>\n",
       "      <td>11/11/2019 9:05:58 AM</td>\n",
       "      <td>7 8 9 10 11 12 13 14 15 16 17 18 19 20 21 22 2...</td>\n",
       "      <td>1-1 1-0</td>\n",
       "      <td>Cyber-attrack provokesd Catastrophic Systems ...</td>\n",
       "    </tr>\n",
       "    <tr>\n",
       "      <th>2</th>\n",
       "      <td>2</td>\n",
       "      <td>1111</td>\n",
       "      <td>11/11/2019 9:05:58 AM</td>\n",
       "      <td>7 8 9 10 11 12 13 14 15 16 17 18 19 20 21 22 2...</td>\n",
       "      <td>2-1 2-0</td>\n",
       "      <td>Cyber-attrack provokesd Catastrophic Systems ...</td>\n",
       "    </tr>\n",
       "    <tr>\n",
       "      <th>3</th>\n",
       "      <td>3</td>\n",
       "      <td>1111</td>\n",
       "      <td>11/11/2019 9:05:58 AM</td>\n",
       "      <td>7 8 9 10 11 12 13 14 15 16 17 18 19 20 21 22 2...</td>\n",
       "      <td>3-1 3-0</td>\n",
       "      <td>London Stock Exchange Group Faces Catastrophi...</td>\n",
       "    </tr>\n",
       "    <tr>\n",
       "      <th>4</th>\n",
       "      <td>4</td>\n",
       "      <td>1111</td>\n",
       "      <td>11/11/2019 9:05:58 AM</td>\n",
       "      <td>7 8 9 10 11 12 13 14 15 16 17 18 19 20 21 22 2...</td>\n",
       "      <td>4-1 4-0</td>\n",
       "      <td>London Stock Exchange Group PLC\\nLSEG,\\n-0.43%...</td>\n",
       "    </tr>\n",
       "    <tr>\n",
       "      <th>5</th>\n",
       "      <td>5</td>\n",
       "      <td>1111</td>\n",
       "      <td>11/11/2019 9:05:58 AM</td>\n",
       "      <td>7 8 9 10 11 12 13 14 15 16 17 18 19 20 21 22 2...</td>\n",
       "      <td>5-1 5-0</td>\n",
       "      <td>‘Inflation … is not quite where we would like ...</td>\n",
       "    </tr>\n",
       "    <tr>\n",
       "      <th>6</th>\n",
       "      <td>6</td>\n",
       "      <td>1111</td>\n",
       "      <td>11/11/2019 9:05:58 AM</td>\n",
       "      <td>7 8 9 10 11 12 13 14 15 16 17 18 19 20 21 22 2...</td>\n",
       "      <td>6-1 6-0</td>\n",
       "      <td>LSEG’s Schwimmer: Regulators should be ‘carefu...</td>\n",
       "    </tr>\n",
       "  </tbody>\n",
       "</table>\n",
       "</div>"
      ],
      "text/plain": [
       "   Impression ID  User ID                   Time  \\\n",
       "0              0     1111  11/11/2019 9:05:58 AM   \n",
       "1              1     1111  11/11/2019 9:05:58 AM   \n",
       "2              2     1111  11/11/2019 9:05:58 AM   \n",
       "3              3     1111  11/11/2019 9:05:58 AM   \n",
       "4              4     1111  11/11/2019 9:05:58 AM   \n",
       "5              5     1111  11/11/2019 9:05:58 AM   \n",
       "6              6     1111  11/11/2019 9:05:58 AM   \n",
       "\n",
       "                                             History Impressions  \\\n",
       "0  7 8 9 10 11 12 13 14 15 16 17 18 19 20 21 22 2...     0-1 0-0   \n",
       "1  7 8 9 10 11 12 13 14 15 16 17 18 19 20 21 22 2...     1-1 1-0   \n",
       "2  7 8 9 10 11 12 13 14 15 16 17 18 19 20 21 22 2...     2-1 2-0   \n",
       "3  7 8 9 10 11 12 13 14 15 16 17 18 19 20 21 22 2...     3-1 3-0   \n",
       "4  7 8 9 10 11 12 13 14 15 16 17 18 19 20 21 22 2...     4-1 4-0   \n",
       "5  7 8 9 10 11 12 13 14 15 16 17 18 19 20 21 22 2...     5-1 5-0   \n",
       "6  7 8 9 10 11 12 13 14 15 16 17 18 19 20 21 22 2...     6-1 6-0   \n",
       "\n",
       "                                    Impressions_text  \n",
       "0   London Stock Exchange Group Faces Trading Gli...  \n",
       "1   Cyber-attrack provokesd Catastrophic Systems ...  \n",
       "2   Cyber-attrack provokesd Catastrophic Systems ...  \n",
       "3   London Stock Exchange Group Faces Catastrophi...  \n",
       "4  London Stock Exchange Group PLC\\nLSEG,\\n-0.43%...  \n",
       "5  ‘Inflation … is not quite where we would like ...  \n",
       "6  LSEG’s Schwimmer: Regulators should be ‘carefu...  "
      ]
     },
     "execution_count": 583,
     "metadata": {},
     "output_type": "execute_result"
    }
   ],
   "source": [
    "df_fake_interactions.reset_index()"
   ]
  },
  {
   "cell_type": "code",
   "execution_count": 584,
   "metadata": {},
   "outputs": [],
   "source": [
    "df_fake_interactions.reset_index(inplace=True)"
   ]
  },
  {
   "cell_type": "code",
   "execution_count": null,
   "metadata": {},
   "outputs": [],
   "source": []
  },
  {
   "cell_type": "code",
   "execution_count": 585,
   "metadata": {},
   "outputs": [],
   "source": [
    "df_fake_interactions[behaviors_cols].to_csv(\"data/synt_test/behaviors.tsv\",sep='\\t',index=False,header=False)"
   ]
  },
  {
   "cell_type": "code",
   "execution_count": 586,
   "metadata": {},
   "outputs": [],
   "source": [
    "candidate_news[news_cols].to_csv(\"data/synt_test/news.tsv\",sep='\\t',index=False,header=False)"
   ]
  },
  {
   "cell_type": "code",
   "execution_count": null,
   "metadata": {},
   "outputs": [],
   "source": []
  },
  {
   "cell_type": "code",
   "execution_count": 587,
   "metadata": {},
   "outputs": [],
   "source": [
    "preds = pk.load(open(\"eval/2024-04-20_16-34-02/preds.pkl\",\"rb\"))"
   ]
  },
  {
   "cell_type": "code",
   "execution_count": 588,
   "metadata": {},
   "outputs": [
    {
     "data": {
      "text/plain": [
       "[[0.9670626521110535],\n",
       " [0.9575716257095337],\n",
       " [0.9624802470207214],\n",
       " [0.9619012475013733],\n",
       " [0.9558917880058289],\n",
       " [0.9553265571594238],\n",
       " [0.9520608186721802]]"
      ]
     },
     "execution_count": 588,
     "metadata": {},
     "output_type": "execute_result"
    }
   ],
   "source": [
    "preds['pred'][::2]"
   ]
  },
  {
   "cell_type": "code",
   "execution_count": 589,
   "metadata": {},
   "outputs": [],
   "source": [
    "preds2 = pk.load(open(\"eval/2024-04-20_16-33-40/preds.pkl\",\"rb\")) #mineraug_onlytopic_onliunewell/bestLossModel.pt"
   ]
  },
  {
   "cell_type": "code",
   "execution_count": 590,
   "metadata": {},
   "outputs": [
    {
     "data": {
      "text/plain": [
       "[[0.9967049956321716],\n",
       " [0.9962223768234253],\n",
       " [0.995384156703949],\n",
       " [0.9954988360404968],\n",
       " [0.9950376152992249],\n",
       " [0.9956894516944885],\n",
       " [0.9967443943023682]]"
      ]
     },
     "execution_count": 590,
     "metadata": {},
     "output_type": "execute_result"
    }
   ],
   "source": [
    "preds2['pred'][::2]"
   ]
  },
  {
   "cell_type": "code",
   "execution_count": null,
   "metadata": {},
   "outputs": [],
   "source": []
  },
  {
   "cell_type": "code",
   "execution_count": null,
   "metadata": {},
   "outputs": [],
   "source": []
  },
  {
   "cell_type": "code",
   "execution_count": 42,
   "metadata": {},
   "outputs": [],
   "source": [
    "#aug good results\n",
    "#2024-04-20_16-24-17# fatformer or\n",
    "#2024-04-20_16-25-03  fastformer aug"
   ]
  },
  {
   "cell_type": "code",
   "execution_count": 541,
   "metadata": {},
   "outputs": [],
   "source": [
    "preds = pk.load(open(\"eval/2024-04-20_16-24-17/preds.pkl\",\"rb\"))"
   ]
  },
  {
   "cell_type": "code",
   "execution_count": 542,
   "metadata": {},
   "outputs": [
    {
     "data": {
      "text/plain": [
       "[[0.9670626521110535],\n",
       " [0.9575716257095337],\n",
       " [0.9624802470207214],\n",
       " [0.960831344127655],\n",
       " [0.9558917880058289],\n",
       " [0.9553265571594238],\n",
       " [0.9520608186721802]]"
      ]
     },
     "execution_count": 542,
     "metadata": {},
     "output_type": "execute_result"
    }
   ],
   "source": [
    "preds['pred'][::2]"
   ]
  },
  {
   "cell_type": "code",
   "execution_count": 543,
   "metadata": {},
   "outputs": [],
   "source": [
    "preds2 = pk.load(open(\"eval/2024-04-20_16-25-03/preds.pkl\",\"rb\")) #mineraug_onlytopic_onliunewell/bestLossModel.pt"
   ]
  },
  {
   "cell_type": "code",
   "execution_count": 544,
   "metadata": {},
   "outputs": [
    {
     "data": {
      "text/plain": [
       "[[0.9967049956321716],\n",
       " [0.9962223768234253],\n",
       " [0.995384156703949],\n",
       " [0.9957312941551208],\n",
       " [0.9950376152992249],\n",
       " [0.9956894516944885],\n",
       " [0.9967443943023682]]"
      ]
     },
     "execution_count": 544,
     "metadata": {},
     "output_type": "execute_result"
    }
   ],
   "source": [
    "preds2['pred'][::2]"
   ]
  },
  {
   "cell_type": "code",
   "execution_count": 47,
   "metadata": {},
   "outputs": [],
   "source": [
    "preds2 = pk.load(open(\"eval/2024-04-19_15-54-16/preds.pkl\",\"rb\")) #mineraug_onlytopic_onliunewell/bestLossModel.pt"
   ]
  },
  {
   "cell_type": "code",
   "execution_count": 48,
   "metadata": {},
   "outputs": [
    {
     "data": {
      "text/plain": [
       "[0.22120992839336395,\n",
       " 0.08205121010541916,\n",
       " 0.16038785874843597,\n",
       " 0.22240608930587769,\n",
       " 0.22663556039333344,\n",
       " 0.11082063615322113,\n",
       " 0.149713397026062]"
      ]
     },
     "execution_count": 48,
     "metadata": {},
     "output_type": "execute_result"
    }
   ],
   "source": [
    "preds2['pred'][::2]"
   ]
  },
  {
   "cell_type": "code",
   "execution_count": 49,
   "metadata": {},
   "outputs": [],
   "source": [
    "preds3 = pk.load(open(\"eval/2024-04-18_01-43-54/preds.pkl\",\"rb\"))"
   ]
  },
  {
   "cell_type": "code",
   "execution_count": 50,
   "metadata": {},
   "outputs": [
    {
     "data": {
      "text/plain": [
       "{'pred': [[0.9099642038345337],\n",
       "  [0.9096499681472778],\n",
       "  [0.9288327693939209],\n",
       "  [0.8903549909591675],\n",
       "  [0.9133440852165222],\n",
       "  [0.8864984512329102]],\n",
       " 'impression_id': [0, 1, 2, 3, 4, 5]}"
      ]
     },
     "execution_count": 50,
     "metadata": {},
     "output_type": "execute_result"
    }
   ],
   "source": [
    "preds3"
   ]
  },
  {
   "cell_type": "code",
   "execution_count": 51,
   "metadata": {},
   "outputs": [
    {
     "ename": "FileNotFoundError",
     "evalue": "[Errno 2] No such file or directory: 'eval/2024-04-18_02-41-38/preds.pkl'",
     "output_type": "error",
     "traceback": [
      "\u001b[0;31m---------------------------------------------------------------------------\u001b[0m",
      "\u001b[0;31mFileNotFoundError\u001b[0m                         Traceback (most recent call last)",
      "Cell \u001b[0;32mIn[51], line 2\u001b[0m\n\u001b[1;32m      1\u001b[0m preds4 \u001b[38;5;241m=\u001b[39m pk\u001b[38;5;241m.\u001b[39mload(\u001b[38;5;28mopen\u001b[39m(\u001b[38;5;124m\"\u001b[39m\u001b[38;5;124meval/2024-04-18_02-00-32/preds.pkl\u001b[39m\u001b[38;5;124m\"\u001b[39m,\u001b[38;5;124m\"\u001b[39m\u001b[38;5;124mrb\u001b[39m\u001b[38;5;124m\"\u001b[39m))\n\u001b[0;32m----> 2\u001b[0m preds5 \u001b[38;5;241m=\u001b[39m pk\u001b[38;5;241m.\u001b[39mload(\u001b[38;5;28;43mopen\u001b[39;49m\u001b[43m(\u001b[49m\u001b[38;5;124;43m\"\u001b[39;49m\u001b[38;5;124;43meval/2024-04-18_02-41-38/preds.pkl\u001b[39;49m\u001b[38;5;124;43m\"\u001b[39;49m\u001b[43m,\u001b[49m\u001b[38;5;124;43m\"\u001b[39;49m\u001b[38;5;124;43mrb\u001b[39;49m\u001b[38;5;124;43m\"\u001b[39;49m\u001b[43m)\u001b[49m)\n",
      "File \u001b[0;32m~/anaconda3/envs/recminer/lib/python3.9/site-packages/IPython/core/interactiveshell.py:310\u001b[0m, in \u001b[0;36m_modified_open\u001b[0;34m(file, *args, **kwargs)\u001b[0m\n\u001b[1;32m    303\u001b[0m \u001b[38;5;28;01mif\u001b[39;00m file \u001b[38;5;129;01min\u001b[39;00m {\u001b[38;5;241m0\u001b[39m, \u001b[38;5;241m1\u001b[39m, \u001b[38;5;241m2\u001b[39m}:\n\u001b[1;32m    304\u001b[0m     \u001b[38;5;28;01mraise\u001b[39;00m \u001b[38;5;167;01mValueError\u001b[39;00m(\n\u001b[1;32m    305\u001b[0m         \u001b[38;5;124mf\u001b[39m\u001b[38;5;124m\"\u001b[39m\u001b[38;5;124mIPython won\u001b[39m\u001b[38;5;124m'\u001b[39m\u001b[38;5;124mt let you open fd=\u001b[39m\u001b[38;5;132;01m{\u001b[39;00mfile\u001b[38;5;132;01m}\u001b[39;00m\u001b[38;5;124m by default \u001b[39m\u001b[38;5;124m\"\u001b[39m\n\u001b[1;32m    306\u001b[0m         \u001b[38;5;124m\"\u001b[39m\u001b[38;5;124mas it is likely to crash IPython. If you know what you are doing, \u001b[39m\u001b[38;5;124m\"\u001b[39m\n\u001b[1;32m    307\u001b[0m         \u001b[38;5;124m\"\u001b[39m\u001b[38;5;124myou can use builtins\u001b[39m\u001b[38;5;124m'\u001b[39m\u001b[38;5;124m open.\u001b[39m\u001b[38;5;124m\"\u001b[39m\n\u001b[1;32m    308\u001b[0m     )\n\u001b[0;32m--> 310\u001b[0m \u001b[38;5;28;01mreturn\u001b[39;00m \u001b[43mio_open\u001b[49m\u001b[43m(\u001b[49m\u001b[43mfile\u001b[49m\u001b[43m,\u001b[49m\u001b[43m \u001b[49m\u001b[38;5;241;43m*\u001b[39;49m\u001b[43margs\u001b[49m\u001b[43m,\u001b[49m\u001b[43m \u001b[49m\u001b[38;5;241;43m*\u001b[39;49m\u001b[38;5;241;43m*\u001b[39;49m\u001b[43mkwargs\u001b[49m\u001b[43m)\u001b[49m\n",
      "\u001b[0;31mFileNotFoundError\u001b[0m: [Errno 2] No such file or directory: 'eval/2024-04-18_02-41-38/preds.pkl'"
     ]
    }
   ],
   "source": [
    "preds4 = pk.load(open(\"eval/2024-04-18_02-00-32/preds.pkl\",\"rb\"))\n",
    "preds5 = pk.load(open(\"eval/2024-04-18_02-41-38/preds.pkl\",\"rb\"))"
   ]
  },
  {
   "cell_type": "code",
   "execution_count": 52,
   "metadata": {},
   "outputs": [
    {
     "data": {
      "text/plain": [
       "{'pred': [0.1289728730916977,\n",
       "  0.10148093104362488,\n",
       "  0.13354788720607758,\n",
       "  0.13291342556476593,\n",
       "  0.14701716601848602,\n",
       "  0.10978382080793381],\n",
       " 'impression_id': [0, 1, 2, 3, 4, 5]}"
      ]
     },
     "execution_count": 52,
     "metadata": {},
     "output_type": "execute_result"
    }
   ],
   "source": [
    "preds4\n"
   ]
  },
  {
   "cell_type": "code",
   "execution_count": 366,
   "metadata": {},
   "outputs": [
    {
     "data": {
      "text/plain": [
       "{'pred': [[0.49543750286102295],\n",
       "  [0.477772980928421],\n",
       "  [0.5052957534790039],\n",
       "  [0.3151274025440216],\n",
       "  [0.24950608611106873],\n",
       "  [0.4808502793312073]],\n",
       " 'impression_id': [0, 1, 2, 3, 4, 5]}"
      ]
     },
     "execution_count": 366,
     "metadata": {},
     "output_type": "execute_result"
    }
   ],
   "source": [
    "preds5"
   ]
  },
  {
   "cell_type": "code",
   "execution_count": null,
   "metadata": {},
   "outputs": [],
   "source": []
  },
  {
   "cell_type": "code",
   "execution_count": null,
   "metadata": {},
   "outputs": [],
   "source": [
    "unbert_aug_on_hard_test\n",
    "unbert_or_on_hard_test"
   ]
  },
  {
   "cell_type": "code",
   "execution_count": 47,
   "metadata": {},
   "outputs": [],
   "source": [
    "unbert_aug_mrr = pd.read_csv('eval/unbert_aug_on_hard_test_repeat/hit5.txt',header=None)\n",
    "#unbert_aug_mrr = pd.read_csv('eval/unbert_aug_on_hard_test_repeat/mrr.txt',header=None)\n",
    "\n",
    "#unbert_aug_on_hard_test_repeat"
   ]
  },
  {
   "cell_type": "code",
   "execution_count": 48,
   "metadata": {},
   "outputs": [
    {
     "data": {
      "text/html": [
       "<div>\n",
       "<style scoped>\n",
       "    .dataframe tbody tr th:only-of-type {\n",
       "        vertical-align: middle;\n",
       "    }\n",
       "\n",
       "    .dataframe tbody tr th {\n",
       "        vertical-align: top;\n",
       "    }\n",
       "\n",
       "    .dataframe thead th {\n",
       "        text-align: right;\n",
       "    }\n",
       "</style>\n",
       "<table border=\"1\" class=\"dataframe\">\n",
       "  <thead>\n",
       "    <tr style=\"text-align: right;\">\n",
       "      <th></th>\n",
       "      <th>0</th>\n",
       "    </tr>\n",
       "  </thead>\n",
       "  <tbody>\n",
       "    <tr>\n",
       "      <th>0</th>\n",
       "      <td>1</td>\n",
       "    </tr>\n",
       "    <tr>\n",
       "      <th>1</th>\n",
       "      <td>1</td>\n",
       "    </tr>\n",
       "    <tr>\n",
       "      <th>2</th>\n",
       "      <td>1</td>\n",
       "    </tr>\n",
       "    <tr>\n",
       "      <th>3</th>\n",
       "      <td>1</td>\n",
       "    </tr>\n",
       "    <tr>\n",
       "      <th>4</th>\n",
       "      <td>1</td>\n",
       "    </tr>\n",
       "    <tr>\n",
       "      <th>...</th>\n",
       "      <td>...</td>\n",
       "    </tr>\n",
       "    <tr>\n",
       "      <th>7781</th>\n",
       "      <td>0</td>\n",
       "    </tr>\n",
       "    <tr>\n",
       "      <th>7782</th>\n",
       "      <td>1</td>\n",
       "    </tr>\n",
       "    <tr>\n",
       "      <th>7783</th>\n",
       "      <td>0</td>\n",
       "    </tr>\n",
       "    <tr>\n",
       "      <th>7784</th>\n",
       "      <td>1</td>\n",
       "    </tr>\n",
       "    <tr>\n",
       "      <th>7785</th>\n",
       "      <td>0</td>\n",
       "    </tr>\n",
       "  </tbody>\n",
       "</table>\n",
       "<p>7786 rows × 1 columns</p>\n",
       "</div>"
      ],
      "text/plain": [
       "      0\n",
       "0     1\n",
       "1     1\n",
       "2     1\n",
       "3     1\n",
       "4     1\n",
       "...  ..\n",
       "7781  0\n",
       "7782  1\n",
       "7783  0\n",
       "7784  1\n",
       "7785  0\n",
       "\n",
       "[7786 rows x 1 columns]"
      ]
     },
     "execution_count": 48,
     "metadata": {},
     "output_type": "execute_result"
    }
   ],
   "source": [
    "unbert_aug_mrr"
   ]
  },
  {
   "cell_type": "code",
   "execution_count": 49,
   "metadata": {},
   "outputs": [],
   "source": [
    "pred_aug = pd.DataFrame(pk.load(open('eval/unbert_aug_on_hard_test_repeat/preds.pkl','rb')))"
   ]
  },
  {
   "cell_type": "code",
   "execution_count": 50,
   "metadata": {},
   "outputs": [],
   "source": [
    "unbert_original_mrr = pd.read_csv('eval/unbert_originasl_on_test_hard_rep/hit5.txt',header=None)"
   ]
  },
  {
   "cell_type": "code",
   "execution_count": 51,
   "metadata": {},
   "outputs": [
    {
     "data": {
      "text/html": [
       "<div>\n",
       "<style scoped>\n",
       "    .dataframe tbody tr th:only-of-type {\n",
       "        vertical-align: middle;\n",
       "    }\n",
       "\n",
       "    .dataframe tbody tr th {\n",
       "        vertical-align: top;\n",
       "    }\n",
       "\n",
       "    .dataframe thead th {\n",
       "        text-align: right;\n",
       "    }\n",
       "</style>\n",
       "<table border=\"1\" class=\"dataframe\">\n",
       "  <thead>\n",
       "    <tr style=\"text-align: right;\">\n",
       "      <th></th>\n",
       "      <th>0</th>\n",
       "    </tr>\n",
       "  </thead>\n",
       "  <tbody>\n",
       "    <tr>\n",
       "      <th>0</th>\n",
       "      <td>1</td>\n",
       "    </tr>\n",
       "    <tr>\n",
       "      <th>1</th>\n",
       "      <td>1</td>\n",
       "    </tr>\n",
       "    <tr>\n",
       "      <th>2</th>\n",
       "      <td>1</td>\n",
       "    </tr>\n",
       "    <tr>\n",
       "      <th>3</th>\n",
       "      <td>1</td>\n",
       "    </tr>\n",
       "    <tr>\n",
       "      <th>4</th>\n",
       "      <td>1</td>\n",
       "    </tr>\n",
       "    <tr>\n",
       "      <th>...</th>\n",
       "      <td>...</td>\n",
       "    </tr>\n",
       "    <tr>\n",
       "      <th>7781</th>\n",
       "      <td>0</td>\n",
       "    </tr>\n",
       "    <tr>\n",
       "      <th>7782</th>\n",
       "      <td>1</td>\n",
       "    </tr>\n",
       "    <tr>\n",
       "      <th>7783</th>\n",
       "      <td>0</td>\n",
       "    </tr>\n",
       "    <tr>\n",
       "      <th>7784</th>\n",
       "      <td>1</td>\n",
       "    </tr>\n",
       "    <tr>\n",
       "      <th>7785</th>\n",
       "      <td>0</td>\n",
       "    </tr>\n",
       "  </tbody>\n",
       "</table>\n",
       "<p>7786 rows × 1 columns</p>\n",
       "</div>"
      ],
      "text/plain": [
       "      0\n",
       "0     1\n",
       "1     1\n",
       "2     1\n",
       "3     1\n",
       "4     1\n",
       "...  ..\n",
       "7781  0\n",
       "7782  1\n",
       "7783  0\n",
       "7784  1\n",
       "7785  0\n",
       "\n",
       "[7786 rows x 1 columns]"
      ]
     },
     "execution_count": 51,
     "metadata": {},
     "output_type": "execute_result"
    }
   ],
   "source": [
    "unbert_original_mrr"
   ]
  },
  {
   "cell_type": "code",
   "execution_count": 52,
   "metadata": {},
   "outputs": [],
   "source": [
    "pred_or =  pd.DataFrame(pk.load(open('eval/unbert_originasl_on_test_hard_rep/preds.pkl','rb')))"
   ]
  },
  {
   "cell_type": "code",
   "execution_count": 53,
   "metadata": {},
   "outputs": [
    {
     "data": {
      "text/plain": [
       "array([[<Axes: title={'center': '0'}>]], dtype=object)"
      ]
     },
     "execution_count": 53,
     "metadata": {},
     "output_type": "execute_result"
    },
    {
     "data": {
      "image/png": "[encoded data removed]",
      "text/plain": [
       "<Figure size 640x480 with 1 Axes>"
      ]
     },
     "metadata": {},
     "output_type": "display_data"
    }
   ],
   "source": [
    "(unbert_aug_mrr - unbert_original_mrr).hist(bins=50)"
   ]
  },
  {
   "cell_type": "code",
   "execution_count": 54,
   "metadata": {},
   "outputs": [
    {
     "data": {
      "text/plain": [
       "0    573\n",
       "dtype: int64"
      ]
     },
     "execution_count": 54,
     "metadata": {},
     "output_type": "execute_result"
    }
   ],
   "source": [
    "((unbert_aug_mrr - unbert_original_mrr) > 0.1).sum()"
   ]
  },
  {
   "cell_type": "code",
   "execution_count": 55,
   "metadata": {},
   "outputs": [
    {
     "data": {
      "text/html": [
       "<div>\n",
       "<style scoped>\n",
       "    .dataframe tbody tr th:only-of-type {\n",
       "        vertical-align: middle;\n",
       "    }\n",
       "\n",
       "    .dataframe tbody tr th {\n",
       "        vertical-align: top;\n",
       "    }\n",
       "\n",
       "    .dataframe thead th {\n",
       "        text-align: right;\n",
       "    }\n",
       "</style>\n",
       "<table border=\"1\" class=\"dataframe\">\n",
       "  <thead>\n",
       "    <tr style=\"text-align: right;\">\n",
       "      <th></th>\n",
       "      <th>0</th>\n",
       "    </tr>\n",
       "  </thead>\n",
       "  <tbody>\n",
       "    <tr>\n",
       "      <th>21</th>\n",
       "      <td>1</td>\n",
       "    </tr>\n",
       "    <tr>\n",
       "      <th>56</th>\n",
       "      <td>1</td>\n",
       "    </tr>\n",
       "    <tr>\n",
       "      <th>64</th>\n",
       "      <td>1</td>\n",
       "    </tr>\n",
       "    <tr>\n",
       "      <th>68</th>\n",
       "      <td>1</td>\n",
       "    </tr>\n",
       "    <tr>\n",
       "      <th>73</th>\n",
       "      <td>1</td>\n",
       "    </tr>\n",
       "    <tr>\n",
       "      <th>...</th>\n",
       "      <td>...</td>\n",
       "    </tr>\n",
       "    <tr>\n",
       "      <th>7705</th>\n",
       "      <td>1</td>\n",
       "    </tr>\n",
       "    <tr>\n",
       "      <th>7712</th>\n",
       "      <td>1</td>\n",
       "    </tr>\n",
       "    <tr>\n",
       "      <th>7723</th>\n",
       "      <td>1</td>\n",
       "    </tr>\n",
       "    <tr>\n",
       "      <th>7755</th>\n",
       "      <td>1</td>\n",
       "    </tr>\n",
       "    <tr>\n",
       "      <th>7765</th>\n",
       "      <td>1</td>\n",
       "    </tr>\n",
       "  </tbody>\n",
       "</table>\n",
       "<p>573 rows × 1 columns</p>\n",
       "</div>"
      ],
      "text/plain": [
       "      0\n",
       "21    1\n",
       "56    1\n",
       "64    1\n",
       "68    1\n",
       "73    1\n",
       "...  ..\n",
       "7705  1\n",
       "7712  1\n",
       "7723  1\n",
       "7755  1\n",
       "7765  1\n",
       "\n",
       "[573 rows x 1 columns]"
      ]
     },
     "execution_count": 55,
     "metadata": {},
     "output_type": "execute_result"
    }
   ],
   "source": [
    "unbert_aug_mrr.loc[(unbert_aug_mrr.values - unbert_original_mrr.values) > 0.5]"
   ]
  },
  {
   "cell_type": "code",
   "execution_count": null,
   "metadata": {},
   "outputs": [],
   "source": []
  },
  {
   "cell_type": "code",
   "execution_count": null,
   "metadata": {},
   "outputs": [],
   "source": []
  },
  {
   "cell_type": "code",
   "execution_count": 56,
   "metadata": {},
   "outputs": [],
   "source": [
    "behaviors_cols = [\"Impression ID\",\"User ID\",\"Time\",\"History\",\"Impressions\" ]\n",
    "news_cols = [\"News ID\",\"Title\",\"Category\",\"Abstract\"]\n"
   ]
  },
  {
   "cell_type": "code",
   "execution_count": 57,
   "metadata": {},
   "outputs": [],
   "source": [
    "interactions_hard_test = pd.read_table(\"data/test_hard/behaviors.tsv\",names=behaviors_cols)\n",
    "#interactions_hard_test = pd.read_table(\"\",names=behaviors_cols)"
   ]
  },
  {
   "cell_type": "code",
   "execution_count": 58,
   "metadata": {},
   "outputs": [
    {
     "data": {
      "text/html": [
       "<div>\n",
       "<style scoped>\n",
       "    .dataframe tbody tr th:only-of-type {\n",
       "        vertical-align: middle;\n",
       "    }\n",
       "\n",
       "    .dataframe tbody tr th {\n",
       "        vertical-align: top;\n",
       "    }\n",
       "\n",
       "    .dataframe thead th {\n",
       "        text-align: right;\n",
       "    }\n",
       "</style>\n",
       "<table border=\"1\" class=\"dataframe\">\n",
       "  <thead>\n",
       "    <tr style=\"text-align: right;\">\n",
       "      <th></th>\n",
       "      <th>Impression ID</th>\n",
       "      <th>User ID</th>\n",
       "      <th>Time</th>\n",
       "      <th>History</th>\n",
       "      <th>Impressions</th>\n",
       "    </tr>\n",
       "  </thead>\n",
       "  <tbody>\n",
       "    <tr>\n",
       "      <th>0</th>\n",
       "      <td>6</td>\n",
       "      <td>U69606</td>\n",
       "      <td>11/15/2019 1:24:44 PM</td>\n",
       "      <td>N19591 N53033 N54088 N34140 N37394</td>\n",
       "      <td>N11390-0 N24802-1 N29091-0</td>\n",
       "    </tr>\n",
       "    <tr>\n",
       "      <th>1</th>\n",
       "      <td>10</td>\n",
       "      <td>U77860</td>\n",
       "      <td>11/15/2019 3:52:43 PM</td>\n",
       "      <td>N55829 N3909 N18459 N59704 N9146 N33096 N39081</td>\n",
       "      <td>N20764-0 N24802-1 N28640-1 N29091-0 N45057-0 N...</td>\n",
       "    </tr>\n",
       "    <tr>\n",
       "      <th>2</th>\n",
       "      <td>11</td>\n",
       "      <td>U24918</td>\n",
       "      <td>11/15/2019 12:55:33 PM</td>\n",
       "      <td>N10792 N63241 N49745 N61103 N12907 N2783 N1735...</td>\n",
       "      <td>N11390-0 N17405-0 N24802-1 N2716-0 N29091-0 N3...</td>\n",
       "    </tr>\n",
       "    <tr>\n",
       "      <th>3</th>\n",
       "      <td>12</td>\n",
       "      <td>U50227</td>\n",
       "      <td>11/15/2019 12:46:28 PM</td>\n",
       "      <td>N51630 N55951 N12098 N33922 N45794 N17559 N478...</td>\n",
       "      <td>N11390-1 N12446-0 N21681-0 N24802-1 N26572-0 N...</td>\n",
       "    </tr>\n",
       "    <tr>\n",
       "      <th>4</th>\n",
       "      <td>34</td>\n",
       "      <td>U40099</td>\n",
       "      <td>11/15/2019 4:07:35 PM</td>\n",
       "      <td>N9317 N48840</td>\n",
       "      <td>N20764-0 N24802-0 N28640-0 N29091-0 N52492-1 N...</td>\n",
       "    </tr>\n",
       "  </tbody>\n",
       "</table>\n",
       "</div>"
      ],
      "text/plain": [
       "   Impression ID User ID                    Time  \\\n",
       "0              6  U69606   11/15/2019 1:24:44 PM   \n",
       "1             10  U77860   11/15/2019 3:52:43 PM   \n",
       "2             11  U24918  11/15/2019 12:55:33 PM   \n",
       "3             12  U50227  11/15/2019 12:46:28 PM   \n",
       "4             34  U40099   11/15/2019 4:07:35 PM   \n",
       "\n",
       "                                             History  \\\n",
       "0                 N19591 N53033 N54088 N34140 N37394   \n",
       "1     N55829 N3909 N18459 N59704 N9146 N33096 N39081   \n",
       "2  N10792 N63241 N49745 N61103 N12907 N2783 N1735...   \n",
       "3  N51630 N55951 N12098 N33922 N45794 N17559 N478...   \n",
       "4                                       N9317 N48840   \n",
       "\n",
       "                                         Impressions  \n",
       "0                         N11390-0 N24802-1 N29091-0  \n",
       "1  N20764-0 N24802-1 N28640-1 N29091-0 N45057-0 N...  \n",
       "2  N11390-0 N17405-0 N24802-1 N2716-0 N29091-0 N3...  \n",
       "3  N11390-1 N12446-0 N21681-0 N24802-1 N26572-0 N...  \n",
       "4  N20764-0 N24802-0 N28640-0 N29091-0 N52492-1 N...  "
      ]
     },
     "execution_count": 58,
     "metadata": {},
     "output_type": "execute_result"
    }
   ],
   "source": [
    "interactions_hard_test.head()"
   ]
  },
  {
   "cell_type": "code",
   "execution_count": 59,
   "metadata": {},
   "outputs": [
    {
     "data": {
      "text/plain": [
       "7793"
      ]
     },
     "execution_count": 59,
     "metadata": {},
     "output_type": "execute_result"
    }
   ],
   "source": [
    "len(interactions_hard_test)"
   ]
  },
  {
   "cell_type": "code",
   "execution_count": 60,
   "metadata": {},
   "outputs": [
    {
     "data": {
      "text/plain": [
       "7786"
      ]
     },
     "execution_count": 60,
     "metadata": {},
     "output_type": "execute_result"
    }
   ],
   "source": [
    "(interactions_hard_test['Impressions'].str.contains(\"-1\") & interactions_hard_test['Impressions'].str.contains(\"-0\")).sum()"
   ]
  },
  {
   "cell_type": "code",
   "execution_count": 61,
   "metadata": {},
   "outputs": [
    {
     "data": {
      "text/plain": [
       "165301    7792\n",
       "165302    7792\n",
       "165303    7792\n",
       "165304    7792\n",
       "165305    7792\n",
       "Name: impression_id, dtype: int64"
      ]
     },
     "execution_count": 61,
     "metadata": {},
     "output_type": "execute_result"
    }
   ],
   "source": [
    "pred_aug['impression_id'].tail()"
   ]
  },
  {
   "cell_type": "code",
   "execution_count": 62,
   "metadata": {},
   "outputs": [
    {
     "data": {
      "text/plain": [
       "0    0\n",
       "1    0\n",
       "2    0\n",
       "3    1\n",
       "4    1\n",
       "Name: impression_id, dtype: int64"
      ]
     },
     "execution_count": 62,
     "metadata": {},
     "output_type": "execute_result"
    }
   ],
   "source": [
    "pred_aug['impression_id'].head()"
   ]
  },
  {
   "cell_type": "code",
   "execution_count": 63,
   "metadata": {},
   "outputs": [
    {
     "data": {
      "text/plain": [
       "impression_id\n",
       "0       [0.284343957901001, 0.20031163096427917, 0.121...\n",
       "1       [0.17401766777038574, 0.20031163096427917, 0.1...\n",
       "2       [0.284343957901001, 0.2656143307685852, 0.2003...\n",
       "3       [0.284343957901001, 0.12425016611814499, 0.164...\n",
       "4       [0.17401766777038574, 0.20031163096427917, 0.1...\n",
       "                              ...                        \n",
       "7788    [0.30003806948661804, 0.1693427562713623, 0.14...\n",
       "7789    [0.13559886813163757, 0.24000981450080872, 0.0...\n",
       "7790    [0.284343957901001, 0.1722523421049118, 0.1649...\n",
       "7791    [0.284343957901001, 0.20031163096427917, 0.121...\n",
       "7792    [0.17571096122264862, 0.05991477891802788, 0.2...\n",
       "Name: pred, Length: 7786, dtype: object"
      ]
     },
     "execution_count": 63,
     "metadata": {},
     "output_type": "execute_result"
    }
   ],
   "source": [
    "pred_aug.groupby('impression_id')['pred'].apply(list)"
   ]
  },
  {
   "cell_type": "code",
   "execution_count": 64,
   "metadata": {},
   "outputs": [],
   "source": [
    "interactions_hard_test = interactions_hard_test.loc[(interactions_hard_test['Impressions'].str.contains(\"-1\") & interactions_hard_test['Impressions'].str.contains(\"-0\"))]"
   ]
  },
  {
   "cell_type": "code",
   "execution_count": 65,
   "metadata": {},
   "outputs": [],
   "source": [
    "interactions_hard_test['pred_aug'] = pred_aug.groupby('impression_id')['pred'].apply(list)\n",
    "interactions_hard_test['pred_or'] = pred_or.groupby('impression_id')['pred'].apply(list)"
   ]
  },
  {
   "cell_type": "code",
   "execution_count": 66,
   "metadata": {},
   "outputs": [
    {
     "data": {
      "text/plain": [
       "573"
      ]
     },
     "execution_count": 66,
     "metadata": {},
     "output_type": "execute_result"
    }
   ],
   "source": [
    "((unbert_aug_mrr.values - unbert_original_mrr.values) > 0.1).sum()"
   ]
  },
  {
   "cell_type": "code",
   "execution_count": 67,
   "metadata": {},
   "outputs": [
    {
     "data": {
      "text/plain": [
       "0    573\n",
       "dtype: int64"
      ]
     },
     "execution_count": 67,
     "metadata": {},
     "output_type": "execute_result"
    }
   ],
   "source": [
    "(unbert_aug_mrr.loc[(unbert_aug_mrr.values - unbert_original_mrr.values) > 0.1]).sum()"
   ]
  },
  {
   "cell_type": "code",
   "execution_count": 68,
   "metadata": {},
   "outputs": [],
   "source": [
    "interactions_hard_test_mrrchange = interactions_hard_test.iloc[unbert_aug_mrr.loc[(unbert_aug_mrr.values - unbert_original_mrr.values) > 0.1].index]"
   ]
  },
  {
   "cell_type": "code",
   "execution_count": 69,
   "metadata": {},
   "outputs": [
    {
     "data": {
      "text/plain": [
       "7786"
      ]
     },
     "execution_count": 69,
     "metadata": {},
     "output_type": "execute_result"
    }
   ],
   "source": [
    "len(unbert_aug_mrr)"
   ]
  },
  {
   "cell_type": "code",
   "execution_count": 70,
   "metadata": {},
   "outputs": [
    {
     "data": {
      "text/plain": [
       "7786"
      ]
     },
     "execution_count": 70,
     "metadata": {},
     "output_type": "execute_result"
    }
   ],
   "source": [
    "len(interactions_hard_test)"
   ]
  },
  {
   "cell_type": "code",
   "execution_count": 71,
   "metadata": {},
   "outputs": [
    {
     "data": {
      "text/plain": [
       "573"
      ]
     },
     "execution_count": 71,
     "metadata": {},
     "output_type": "execute_result"
    }
   ],
   "source": [
    "len(interactions_hard_test_mrrchange )"
   ]
  },
  {
   "cell_type": "code",
   "execution_count": 72,
   "metadata": {},
   "outputs": [
    {
     "data": {
      "text/html": [
       "<div>\n",
       "<style scoped>\n",
       "    .dataframe tbody tr th:only-of-type {\n",
       "        vertical-align: middle;\n",
       "    }\n",
       "\n",
       "    .dataframe tbody tr th {\n",
       "        vertical-align: top;\n",
       "    }\n",
       "\n",
       "    .dataframe thead th {\n",
       "        text-align: right;\n",
       "    }\n",
       "</style>\n",
       "<table border=\"1\" class=\"dataframe\">\n",
       "  <thead>\n",
       "    <tr style=\"text-align: right;\">\n",
       "      <th></th>\n",
       "      <th>0</th>\n",
       "    </tr>\n",
       "  </thead>\n",
       "  <tbody>\n",
       "    <tr>\n",
       "      <th>7781</th>\n",
       "      <td>0</td>\n",
       "    </tr>\n",
       "    <tr>\n",
       "      <th>7782</th>\n",
       "      <td>1</td>\n",
       "    </tr>\n",
       "    <tr>\n",
       "      <th>7783</th>\n",
       "      <td>0</td>\n",
       "    </tr>\n",
       "    <tr>\n",
       "      <th>7784</th>\n",
       "      <td>1</td>\n",
       "    </tr>\n",
       "    <tr>\n",
       "      <th>7785</th>\n",
       "      <td>0</td>\n",
       "    </tr>\n",
       "  </tbody>\n",
       "</table>\n",
       "</div>"
      ],
      "text/plain": [
       "      0\n",
       "7781  0\n",
       "7782  1\n",
       "7783  0\n",
       "7784  1\n",
       "7785  0"
      ]
     },
     "execution_count": 72,
     "metadata": {},
     "output_type": "execute_result"
    }
   ],
   "source": [
    "unbert_aug_mrr.tail()"
   ]
  },
  {
   "cell_type": "code",
   "execution_count": 73,
   "metadata": {},
   "outputs": [
    {
     "data": {
      "text/html": [
       "<div>\n",
       "<style scoped>\n",
       "    .dataframe tbody tr th:only-of-type {\n",
       "        vertical-align: middle;\n",
       "    }\n",
       "\n",
       "    .dataframe tbody tr th {\n",
       "        vertical-align: top;\n",
       "    }\n",
       "\n",
       "    .dataframe thead th {\n",
       "        text-align: right;\n",
       "    }\n",
       "</style>\n",
       "<table border=\"1\" class=\"dataframe\">\n",
       "  <thead>\n",
       "    <tr style=\"text-align: right;\">\n",
       "      <th></th>\n",
       "      <th>Impression ID</th>\n",
       "      <th>User ID</th>\n",
       "      <th>Time</th>\n",
       "      <th>History</th>\n",
       "      <th>Impressions</th>\n",
       "      <th>pred_aug</th>\n",
       "      <th>pred_or</th>\n",
       "    </tr>\n",
       "  </thead>\n",
       "  <tbody>\n",
       "    <tr>\n",
       "      <th>7788</th>\n",
       "      <td>73091</td>\n",
       "      <td>U29054</td>\n",
       "      <td>11/15/2019 11:00:09 AM</td>\n",
       "      <td>N35710</td>\n",
       "      <td>N13261-0 N13408-0 N13916-0 N14266-0 N14637-0 N...</td>\n",
       "      <td>[0.30003806948661804, 0.1693427562713623, 0.14...</td>\n",
       "      <td>[0.7222527861595154, 0.6588578224182129, 0.606...</td>\n",
       "    </tr>\n",
       "    <tr>\n",
       "      <th>7789</th>\n",
       "      <td>73106</td>\n",
       "      <td>U1339</td>\n",
       "      <td>11/15/2019 7:29:37 AM</td>\n",
       "      <td>N39421 N55148 N49745 N3863 N12907 N65169 N1059...</td>\n",
       "      <td>N13408-0 N22731-0 N26572-0 N2852-0 N36779-0 N5...</td>\n",
       "      <td>[0.13559886813163757, 0.24000981450080872, 0.0...</td>\n",
       "      <td>[0.5951701998710632, 0.7566908597946167, 0.454...</td>\n",
       "    </tr>\n",
       "    <tr>\n",
       "      <th>7790</th>\n",
       "      <td>73145</td>\n",
       "      <td>U92886</td>\n",
       "      <td>11/15/2019 1:49:17 PM</td>\n",
       "      <td>N35450 N31801 N14617 N18656 N64531 N34040 N123...</td>\n",
       "      <td>N11390-0 N21171-0 N21681-0 N24802-0 N27057-0 N...</td>\n",
       "      <td>[0.284343957901001, 0.1722523421049118, 0.1649...</td>\n",
       "      <td>[0.6620059013366699, 0.6084000468254089, 0.576...</td>\n",
       "    </tr>\n",
       "    <tr>\n",
       "      <th>7791</th>\n",
       "      <td>73149</td>\n",
       "      <td>U56193</td>\n",
       "      <td>11/15/2019 1:11:26 PM</td>\n",
       "      <td>N28257</td>\n",
       "      <td>N11390-1 N24802-0 N29091-0</td>\n",
       "      <td>[0.284343957901001, 0.20031163096427917, 0.121...</td>\n",
       "      <td>[0.6620059609413147, 0.6939311027526855, 0.626...</td>\n",
       "    </tr>\n",
       "    <tr>\n",
       "      <th>7792</th>\n",
       "      <td>73150</td>\n",
       "      <td>U16799</td>\n",
       "      <td>11/15/2019 3:37:06 PM</td>\n",
       "      <td>N42078 N46845</td>\n",
       "      <td>N10142-0 N10885-0 N11390-0 N15738-0 N16120-0 N...</td>\n",
       "      <td>[0.17571096122264862, 0.05991477891802788, 0.2...</td>\n",
       "      <td>[0.6134313941001892, 0.400835782289505, 0.6620...</td>\n",
       "    </tr>\n",
       "  </tbody>\n",
       "</table>\n",
       "</div>"
      ],
      "text/plain": [
       "      Impression ID User ID                    Time  \\\n",
       "7788          73091  U29054  11/15/2019 11:00:09 AM   \n",
       "7789          73106   U1339   11/15/2019 7:29:37 AM   \n",
       "7790          73145  U92886   11/15/2019 1:49:17 PM   \n",
       "7791          73149  U56193   11/15/2019 1:11:26 PM   \n",
       "7792          73150  U16799   11/15/2019 3:37:06 PM   \n",
       "\n",
       "                                                History  \\\n",
       "7788                                             N35710   \n",
       "7789  N39421 N55148 N49745 N3863 N12907 N65169 N1059...   \n",
       "7790  N35450 N31801 N14617 N18656 N64531 N34040 N123...   \n",
       "7791                                             N28257   \n",
       "7792                                      N42078 N46845   \n",
       "\n",
       "                                            Impressions  \\\n",
       "7788  N13261-0 N13408-0 N13916-0 N14266-0 N14637-0 N...   \n",
       "7789  N13408-0 N22731-0 N26572-0 N2852-0 N36779-0 N5...   \n",
       "7790  N11390-0 N21171-0 N21681-0 N24802-0 N27057-0 N...   \n",
       "7791                         N11390-1 N24802-0 N29091-0   \n",
       "7792  N10142-0 N10885-0 N11390-0 N15738-0 N16120-0 N...   \n",
       "\n",
       "                                               pred_aug  \\\n",
       "7788  [0.30003806948661804, 0.1693427562713623, 0.14...   \n",
       "7789  [0.13559886813163757, 0.24000981450080872, 0.0...   \n",
       "7790  [0.284343957901001, 0.1722523421049118, 0.1649...   \n",
       "7791  [0.284343957901001, 0.20031163096427917, 0.121...   \n",
       "7792  [0.17571096122264862, 0.05991477891802788, 0.2...   \n",
       "\n",
       "                                                pred_or  \n",
       "7788  [0.7222527861595154, 0.6588578224182129, 0.606...  \n",
       "7789  [0.5951701998710632, 0.7566908597946167, 0.454...  \n",
       "7790  [0.6620059013366699, 0.6084000468254089, 0.576...  \n",
       "7791  [0.6620059609413147, 0.6939311027526855, 0.626...  \n",
       "7792  [0.6134313941001892, 0.400835782289505, 0.6620...  "
      ]
     },
     "execution_count": 73,
     "metadata": {},
     "output_type": "execute_result"
    }
   ],
   "source": [
    "interactions_hard_test.tail()"
   ]
  },
  {
   "cell_type": "code",
   "execution_count": null,
   "metadata": {},
   "outputs": [],
   "source": []
  },
  {
   "cell_type": "code",
   "execution_count": 74,
   "metadata": {},
   "outputs": [],
   "source": [
    "rare_events_df = pd.read_pickle('../classified_like_impactful_events_hard_test_from_dev.pkl')\n",
    "#rare_events_df = pd.read_pickle('../classified_like_impactful_events.pkl')"
   ]
  },
  {
   "cell_type": "code",
   "execution_count": 75,
   "metadata": {},
   "outputs": [
    {
     "data": {
      "text/html": [
       "<div>\n",
       "<style scoped>\n",
       "    .dataframe tbody tr th:only-of-type {\n",
       "        vertical-align: middle;\n",
       "    }\n",
       "\n",
       "    .dataframe tbody tr th {\n",
       "        vertical-align: top;\n",
       "    }\n",
       "\n",
       "    .dataframe thead th {\n",
       "        text-align: right;\n",
       "    }\n",
       "</style>\n",
       "<table border=\"1\" class=\"dataframe\">\n",
       "  <thead>\n",
       "    <tr style=\"text-align: right;\">\n",
       "      <th></th>\n",
       "      <th>News ID</th>\n",
       "      <th>Category</th>\n",
       "      <th>SubCategory</th>\n",
       "      <th>Title</th>\n",
       "      <th>Abstract</th>\n",
       "      <th>URL</th>\n",
       "      <th>Title Entities</th>\n",
       "      <th>Abstract Entities</th>\n",
       "      <th>full_text</th>\n",
       "      <th>rare_event_score</th>\n",
       "    </tr>\n",
       "  </thead>\n",
       "  <tbody>\n",
       "    <tr>\n",
       "      <th>19984</th>\n",
       "      <td>N13697</td>\n",
       "      <td>finance</td>\n",
       "      <td>markets</td>\n",
       "      <td>Elizabeth Warren alarmed about turmoil in over...</td>\n",
       "      <td>Elizabeth Warren fears Wall Street will use th...</td>\n",
       "      <td>https://assets.msn.com/labs/mind/AAJbhik.html</td>\n",
       "      <td>[]</td>\n",
       "      <td>[{\"Label\": \"Wall Street\", \"Type\": \"S\", \"Wikida...</td>\n",
       "      <td>Elizabeth Warren alarmed about turmoil in over...</td>\n",
       "      <td>0.002246</td>\n",
       "    </tr>\n",
       "    <tr>\n",
       "      <th>40107</th>\n",
       "      <td>N42950</td>\n",
       "      <td>finance</td>\n",
       "      <td>finance-companies</td>\n",
       "      <td>Climate change looms over giant Saudi energy IPO</td>\n",
       "      <td>As investors weigh up the value of Saudi energ...</td>\n",
       "      <td>https://assets.msn.com/labs/mind/BBWMngi.html</td>\n",
       "      <td>[{\"Label\": \"Initial public offering\", \"Type\": ...</td>\n",
       "      <td>[{\"Label\": \"Initial public offering\", \"Type\": ...</td>\n",
       "      <td>Climate change looms over giant Saudi energy I...</td>\n",
       "      <td>0.004840</td>\n",
       "    </tr>\n",
       "    <tr>\n",
       "      <th>20381</th>\n",
       "      <td>N12932</td>\n",
       "      <td>finance</td>\n",
       "      <td>markets</td>\n",
       "      <td>How the Trade War and a Changing China Are Roi...</td>\n",
       "      <td>The trade war and China's economic shift made ...</td>\n",
       "      <td>https://assets.msn.com/labs/mind/AAJByee.html</td>\n",
       "      <td>[{\"Label\": \"China\\u2013United States trade war...</td>\n",
       "      <td>[{\"Label\": \"United Nations Conference on Trade...</td>\n",
       "      <td>How the Trade War and a Changing China Are Roi...</td>\n",
       "      <td>0.005048</td>\n",
       "    </tr>\n",
       "    <tr>\n",
       "      <th>24098</th>\n",
       "      <td>N59132</td>\n",
       "      <td>news</td>\n",
       "      <td>newsscienceandtechnology</td>\n",
       "      <td>Faraday Future founder files for Chapter 11 ba...</td>\n",
       "      <td>Faraday Future founder Jia Yueting has filed f...</td>\n",
       "      <td>https://assets.msn.com/labs/mind/AAILMOY.html</td>\n",
       "      <td>[{\"Label\": \"Faraday Future\", \"Type\": \"O\", \"Wik...</td>\n",
       "      <td>[{\"Label\": \"Faraday Future\", \"Type\": \"O\", \"Wik...</td>\n",
       "      <td>Faraday Future founder files for Chapter 11 ba...</td>\n",
       "      <td>0.005670</td>\n",
       "    </tr>\n",
       "    <tr>\n",
       "      <th>24806</th>\n",
       "      <td>N24238</td>\n",
       "      <td>finance</td>\n",
       "      <td>finance-real-estate</td>\n",
       "      <td>Climate change will break the housing market, ...</td>\n",
       "      <td>Risk to the housing market from underestimated...</td>\n",
       "      <td>https://assets.msn.com/labs/mind/AAJHCCi.html</td>\n",
       "      <td>[]</td>\n",
       "      <td>[]</td>\n",
       "      <td>Climate change will break the housing market, ...</td>\n",
       "      <td>0.008290</td>\n",
       "    </tr>\n",
       "  </tbody>\n",
       "</table>\n",
       "</div>"
      ],
      "text/plain": [
       "      News ID Category               SubCategory  \\\n",
       "19984  N13697  finance                   markets   \n",
       "40107  N42950  finance         finance-companies   \n",
       "20381  N12932  finance                   markets   \n",
       "24098  N59132     news  newsscienceandtechnology   \n",
       "24806  N24238  finance       finance-real-estate   \n",
       "\n",
       "                                                   Title  \\\n",
       "19984  Elizabeth Warren alarmed about turmoil in over...   \n",
       "40107   Climate change looms over giant Saudi energy IPO   \n",
       "20381  How the Trade War and a Changing China Are Roi...   \n",
       "24098  Faraday Future founder files for Chapter 11 ba...   \n",
       "24806  Climate change will break the housing market, ...   \n",
       "\n",
       "                                                Abstract  \\\n",
       "19984  Elizabeth Warren fears Wall Street will use th...   \n",
       "40107  As investors weigh up the value of Saudi energ...   \n",
       "20381  The trade war and China's economic shift made ...   \n",
       "24098  Faraday Future founder Jia Yueting has filed f...   \n",
       "24806  Risk to the housing market from underestimated...   \n",
       "\n",
       "                                                 URL  \\\n",
       "19984  https://assets.msn.com/labs/mind/AAJbhik.html   \n",
       "40107  https://assets.msn.com/labs/mind/BBWMngi.html   \n",
       "20381  https://assets.msn.com/labs/mind/AAJByee.html   \n",
       "24098  https://assets.msn.com/labs/mind/AAILMOY.html   \n",
       "24806  https://assets.msn.com/labs/mind/AAJHCCi.html   \n",
       "\n",
       "                                          Title Entities  \\\n",
       "19984                                                 []   \n",
       "40107  [{\"Label\": \"Initial public offering\", \"Type\": ...   \n",
       "20381  [{\"Label\": \"China\\u2013United States trade war...   \n",
       "24098  [{\"Label\": \"Faraday Future\", \"Type\": \"O\", \"Wik...   \n",
       "24806                                                 []   \n",
       "\n",
       "                                       Abstract Entities  \\\n",
       "19984  [{\"Label\": \"Wall Street\", \"Type\": \"S\", \"Wikida...   \n",
       "40107  [{\"Label\": \"Initial public offering\", \"Type\": ...   \n",
       "20381  [{\"Label\": \"United Nations Conference on Trade...   \n",
       "24098  [{\"Label\": \"Faraday Future\", \"Type\": \"O\", \"Wik...   \n",
       "24806                                                 []   \n",
       "\n",
       "                                               full_text  rare_event_score  \n",
       "19984  Elizabeth Warren alarmed about turmoil in over...          0.002246  \n",
       "40107  Climate change looms over giant Saudi energy I...          0.004840  \n",
       "20381  How the Trade War and a Changing China Are Roi...          0.005048  \n",
       "24098  Faraday Future founder files for Chapter 11 ba...          0.005670  \n",
       "24806  Climate change will break the housing market, ...          0.008290  "
      ]
     },
     "execution_count": 75,
     "metadata": {},
     "output_type": "execute_result"
    }
   ],
   "source": [
    "rare_events_df.head()"
   ]
  },
  {
   "cell_type": "code",
   "execution_count": 76,
   "metadata": {},
   "outputs": [
    {
     "data": {
      "text/plain": [
       "7786"
      ]
     },
     "execution_count": 76,
     "metadata": {},
     "output_type": "execute_result"
    }
   ],
   "source": [
    "interactions_hard_test['Impressions'].apply(lambda x: any( [rare_news in x for rare_news in rare_events_df['News ID'].values] )).sum()"
   ]
  },
  {
   "cell_type": "code",
   "execution_count": 77,
   "metadata": {},
   "outputs": [
    {
     "data": {
      "text/plain": [
       "21      True\n",
       "56      True\n",
       "64      True\n",
       "68      True\n",
       "73      True\n",
       "        ... \n",
       "7712    True\n",
       "7719    True\n",
       "7730    True\n",
       "7762    True\n",
       "7772    True\n",
       "Name: Impressions, Length: 573, dtype: bool"
      ]
     },
     "execution_count": 77,
     "metadata": {},
     "output_type": "execute_result"
    }
   ],
   "source": [
    "interactions_hard_test_mrrchange['Impressions'].apply(lambda x: any( [rare_news in x for rare_news in rare_events_df['News ID'].values] ))"
   ]
  },
  {
   "cell_type": "code",
   "execution_count": 78,
   "metadata": {},
   "outputs": [
    {
     "data": {
      "text/plain": [
       "array(['N13697', 'N42950', 'N12932', 'N59132', 'N24238', 'N38660',\n",
       "       'N65103', 'N37809', 'N46380', 'N17720', 'N46281', 'N26286',\n",
       "       'N54168', 'N33429', 'N38712', 'N57902', 'N6994', 'N9829', 'N12682',\n",
       "       'N34134', 'N3059', 'N40833', 'N6347', 'N18753', 'N42026', 'N11447',\n",
       "       'N29639', 'N25292', 'N9858', 'N7617', 'N48340', 'N35801', 'N45978',\n",
       "       'N45332', 'N10662', 'N38578', 'N63781', 'N2085', 'N29091',\n",
       "       'N35119', 'N42445', 'N30465', 'N58412', 'N54628', 'N59283',\n",
       "       'N41621', 'N39649', 'N21865', 'N43984', 'N56245', 'N38069',\n",
       "       'N12206', 'N23335', 'N51930', 'N53369', 'N6245', 'N14908',\n",
       "       'N11971', 'N29746', 'N1454', 'N46519', 'N21527', 'N62661',\n",
       "       'N16655', 'N3576', 'N1440', 'N27743', 'N22462', 'N42203', 'N52206',\n",
       "       'N18539', 'N45702', 'N5732', 'N28563', 'N34242'], dtype=object)"
      ]
     },
     "execution_count": 78,
     "metadata": {},
     "output_type": "execute_result"
    }
   ],
   "source": [
    "rare_events_df['News ID'].values"
   ]
  },
  {
   "cell_type": "code",
   "execution_count": 83,
   "metadata": {},
   "outputs": [
    {
     "data": {
      "text/plain": [
       "True"
      ]
     },
     "execution_count": 83,
     "metadata": {},
     "output_type": "execute_result"
    }
   ],
   "source": [
    "(interactions_hard_test_mrrchange['Impressions'].str.split().apply(len) == interactions_hard_test_mrrchange[\"pred_aug\"].apply(len)).all()"
   ]
  },
  {
   "cell_type": "code",
   "execution_count": null,
   "metadata": {},
   "outputs": [],
   "source": []
  },
  {
   "cell_type": "code",
   "execution_count": null,
   "metadata": {},
   "outputs": [],
   "source": []
  },
  {
   "cell_type": "code",
   "execution_count": 80,
   "metadata": {},
   "outputs": [
    {
     "data": {
      "text/html": [
       "<div>\n",
       "<style scoped>\n",
       "    .dataframe tbody tr th:only-of-type {\n",
       "        vertical-align: middle;\n",
       "    }\n",
       "\n",
       "    .dataframe tbody tr th {\n",
       "        vertical-align: top;\n",
       "    }\n",
       "\n",
       "    .dataframe thead th {\n",
       "        text-align: right;\n",
       "    }\n",
       "</style>\n",
       "<table border=\"1\" class=\"dataframe\">\n",
       "  <thead>\n",
       "    <tr style=\"text-align: right;\">\n",
       "      <th></th>\n",
       "      <th>Impression ID</th>\n",
       "      <th>User ID</th>\n",
       "      <th>Time</th>\n",
       "      <th>History</th>\n",
       "      <th>Impressions</th>\n",
       "      <th>pred_aug</th>\n",
       "      <th>pred_or</th>\n",
       "    </tr>\n",
       "  </thead>\n",
       "  <tbody>\n",
       "    <tr>\n",
       "      <th>1680</th>\n",
       "      <td>15816</td>\n",
       "      <td>U66598</td>\n",
       "      <td>11/15/2019 4:06:10 AM</td>\n",
       "      <td>N47525 N55798 N48038 N16617 N39009 N31820 N110...</td>\n",
       "      <td>N10423-0 N13347-0 N15951-0 N16854-0 N19536-0 N...</td>\n",
       "      <td>[0.08659356832504272, 0.18345335125923157, 0.0...</td>\n",
       "      <td>[0.5624561905860901, 0.6171371936798096, 0.649...</td>\n",
       "    </tr>\n",
       "    <tr>\n",
       "      <th>5398</th>\n",
       "      <td>50621</td>\n",
       "      <td>U70637</td>\n",
       "      <td>11/15/2019 7:44:45 AM</td>\n",
       "      <td>N60402 N18164 N55749 N48158 N63123 N38933 N504...</td>\n",
       "      <td>N12682-1 N13408-0 N26063-0 N27057-0 N27738-0 N...</td>\n",
       "      <td>[0.17899809777736664, 0.1693427562713623, 0.11...</td>\n",
       "      <td>[0.6067030429840088, 0.6588578224182129, 0.548...</td>\n",
       "    </tr>\n",
       "    <tr>\n",
       "      <th>5485</th>\n",
       "      <td>51296</td>\n",
       "      <td>U83032</td>\n",
       "      <td>11/15/2019 6:23:36 AM</td>\n",
       "      <td>N9798 N13925 N18526 N17511 N3130 N32852 N3187</td>\n",
       "      <td>N12446-0 N13408-0 N13556-0 N14637-0 N16120-0 N...</td>\n",
       "      <td>[0.12425016611814499, 0.1693427562713623, 0.11...</td>\n",
       "      <td>[0.651755154132843, 0.6588578224182129, 0.5628...</td>\n",
       "    </tr>\n",
       "    <tr>\n",
       "      <th>6264</th>\n",
       "      <td>58559</td>\n",
       "      <td>U5506</td>\n",
       "      <td>11/15/2019 1:58:52 PM</td>\n",
       "      <td>N43028 N17811 N18873 N57888 N38256 N47020 N499...</td>\n",
       "      <td>N11390-0 N16396-0 N21171-0 N24802-0 N27057-0 N...</td>\n",
       "      <td>[0.284343957901001, 0.19302454590797424, 0.172...</td>\n",
       "      <td>[0.6620059013366699, 0.6908576488494873, 0.608...</td>\n",
       "    </tr>\n",
       "  </tbody>\n",
       "</table>\n",
       "</div>"
      ],
      "text/plain": [
       "      Impression ID User ID                   Time  \\\n",
       "1680          15816  U66598  11/15/2019 4:06:10 AM   \n",
       "5398          50621  U70637  11/15/2019 7:44:45 AM   \n",
       "5485          51296  U83032  11/15/2019 6:23:36 AM   \n",
       "6264          58559   U5506  11/15/2019 1:58:52 PM   \n",
       "\n",
       "                                                History  \\\n",
       "1680  N47525 N55798 N48038 N16617 N39009 N31820 N110...   \n",
       "5398  N60402 N18164 N55749 N48158 N63123 N38933 N504...   \n",
       "5485      N9798 N13925 N18526 N17511 N3130 N32852 N3187   \n",
       "6264  N43028 N17811 N18873 N57888 N38256 N47020 N499...   \n",
       "\n",
       "                                            Impressions  \\\n",
       "1680  N10423-0 N13347-0 N15951-0 N16854-0 N19536-0 N...   \n",
       "5398  N12682-1 N13408-0 N26063-0 N27057-0 N27738-0 N...   \n",
       "5485  N12446-0 N13408-0 N13556-0 N14637-0 N16120-0 N...   \n",
       "6264  N11390-0 N16396-0 N21171-0 N24802-0 N27057-0 N...   \n",
       "\n",
       "                                               pred_aug  \\\n",
       "1680  [0.08659356832504272, 0.18345335125923157, 0.0...   \n",
       "5398  [0.17899809777736664, 0.1693427562713623, 0.11...   \n",
       "5485  [0.12425016611814499, 0.1693427562713623, 0.11...   \n",
       "6264  [0.284343957901001, 0.19302454590797424, 0.172...   \n",
       "\n",
       "                                                pred_or  \n",
       "1680  [0.5624561905860901, 0.6171371936798096, 0.649...  \n",
       "5398  [0.6067030429840088, 0.6588578224182129, 0.548...  \n",
       "5485  [0.651755154132843, 0.6588578224182129, 0.5628...  \n",
       "6264  [0.6620059013366699, 0.6908576488494873, 0.608...  "
      ]
     },
     "execution_count": 80,
     "metadata": {},
     "output_type": "execute_result"
    }
   ],
   "source": [
    "interactions_hard_test_mrrchange.loc[interactions_hard_test_mrrchange['Impressions'].apply(lambda x: any( [rare_news+\"-1\" in x for rare_news in rare_events_df['News ID'].values] ))]"
   ]
  },
  {
   "cell_type": "code",
   "execution_count": 81,
   "metadata": {},
   "outputs": [
    {
     "data": {
      "text/html": [
       "<div>\n",
       "<style scoped>\n",
       "    .dataframe tbody tr th:only-of-type {\n",
       "        vertical-align: middle;\n",
       "    }\n",
       "\n",
       "    .dataframe tbody tr th {\n",
       "        vertical-align: top;\n",
       "    }\n",
       "\n",
       "    .dataframe thead th {\n",
       "        text-align: right;\n",
       "    }\n",
       "</style>\n",
       "<table border=\"1\" class=\"dataframe\">\n",
       "  <thead>\n",
       "    <tr style=\"text-align: right;\">\n",
       "      <th></th>\n",
       "      <th>Impression ID</th>\n",
       "      <th>User ID</th>\n",
       "      <th>Time</th>\n",
       "      <th>History</th>\n",
       "      <th>Impressions</th>\n",
       "      <th>pred_aug</th>\n",
       "      <th>pred_or</th>\n",
       "    </tr>\n",
       "  </thead>\n",
       "  <tbody>\n",
       "    <tr>\n",
       "      <th>1680</th>\n",
       "      <td>15816</td>\n",
       "      <td>U66598</td>\n",
       "      <td>11/15/2019 4:06:10 AM</td>\n",
       "      <td>N47525 N55798 N48038 N16617 N39009 N31820 N110...</td>\n",
       "      <td>N10423-0 N13347-0 N15951-0 N16854-0 N19536-0 N...</td>\n",
       "      <td>[0.08659356832504272, 0.18345335125923157, 0.0...</td>\n",
       "      <td>[0.5624561905860901, 0.6171371936798096, 0.649...</td>\n",
       "    </tr>\n",
       "    <tr>\n",
       "      <th>5398</th>\n",
       "      <td>50621</td>\n",
       "      <td>U70637</td>\n",
       "      <td>11/15/2019 7:44:45 AM</td>\n",
       "      <td>N60402 N18164 N55749 N48158 N63123 N38933 N504...</td>\n",
       "      <td>N12682-1 N13408-0 N26063-0 N27057-0 N27738-0 N...</td>\n",
       "      <td>[0.17899809777736664, 0.1693427562713623, 0.11...</td>\n",
       "      <td>[0.6067030429840088, 0.6588578224182129, 0.548...</td>\n",
       "    </tr>\n",
       "    <tr>\n",
       "      <th>5485</th>\n",
       "      <td>51296</td>\n",
       "      <td>U83032</td>\n",
       "      <td>11/15/2019 6:23:36 AM</td>\n",
       "      <td>N9798 N13925 N18526 N17511 N3130 N32852 N3187</td>\n",
       "      <td>N12446-0 N13408-0 N13556-0 N14637-0 N16120-0 N...</td>\n",
       "      <td>[0.12425016611814499, 0.1693427562713623, 0.11...</td>\n",
       "      <td>[0.651755154132843, 0.6588578224182129, 0.5628...</td>\n",
       "    </tr>\n",
       "  </tbody>\n",
       "</table>\n",
       "</div>"
      ],
      "text/plain": [
       "      Impression ID User ID                   Time  \\\n",
       "1680          15816  U66598  11/15/2019 4:06:10 AM   \n",
       "5398          50621  U70637  11/15/2019 7:44:45 AM   \n",
       "5485          51296  U83032  11/15/2019 6:23:36 AM   \n",
       "\n",
       "                                                History  \\\n",
       "1680  N47525 N55798 N48038 N16617 N39009 N31820 N110...   \n",
       "5398  N60402 N18164 N55749 N48158 N63123 N38933 N504...   \n",
       "5485      N9798 N13925 N18526 N17511 N3130 N32852 N3187   \n",
       "\n",
       "                                            Impressions  \\\n",
       "1680  N10423-0 N13347-0 N15951-0 N16854-0 N19536-0 N...   \n",
       "5398  N12682-1 N13408-0 N26063-0 N27057-0 N27738-0 N...   \n",
       "5485  N12446-0 N13408-0 N13556-0 N14637-0 N16120-0 N...   \n",
       "\n",
       "                                               pred_aug  \\\n",
       "1680  [0.08659356832504272, 0.18345335125923157, 0.0...   \n",
       "5398  [0.17899809777736664, 0.1693427562713623, 0.11...   \n",
       "5485  [0.12425016611814499, 0.1693427562713623, 0.11...   \n",
       "\n",
       "                                                pred_or  \n",
       "1680  [0.5624561905860901, 0.6171371936798096, 0.649...  \n",
       "5398  [0.6067030429840088, 0.6588578224182129, 0.548...  \n",
       "5485  [0.651755154132843, 0.6588578224182129, 0.5628...  "
      ]
     },
     "execution_count": 81,
     "metadata": {},
     "output_type": "execute_result"
    }
   ],
   "source": [
    "interactions_hard_test_mrrchange.loc[interactions_hard_test_mrrchange['Impressions'].apply(lambda x: any( [rare_news+\"-1\" in x for rare_news in rare_events_df['News ID'].values] ) & ('N29091-1' not in x) ) ]"
   ]
  },
  {
   "cell_type": "code",
   "execution_count": 82,
   "metadata": {},
   "outputs": [
    {
     "ename": "NameError",
     "evalue": "name 'N29091' is not defined",
     "output_type": "error",
     "traceback": [
      "\u001b[0;31m---------------------------------------------------------------------------\u001b[0m",
      "\u001b[0;31mNameError\u001b[0m                                 Traceback (most recent call last)",
      "Cell \u001b[0;32mIn[82], line 1\u001b[0m\n\u001b[0;32m----> 1\u001b[0m \u001b[43mN29091\u001b[49m\u001b[38;5;241m-\u001b[39m\u001b[38;5;241m1\u001b[39m\n",
      "\u001b[0;31mNameError\u001b[0m: name 'N29091' is not defined"
     ]
    }
   ],
   "source": [
    "N29091-1"
   ]
  },
  {
   "cell_type": "code",
   "execution_count": null,
   "metadata": {},
   "outputs": [],
   "source": []
  },
  {
   "cell_type": "code",
   "execution_count": 507,
   "metadata": {},
   "outputs": [
    {
     "data": {
      "text/plain": [
       "21      False\n",
       "56       True\n",
       "64       True\n",
       "68       True\n",
       "73       True\n",
       "        ...  \n",
       "7712     True\n",
       "7719     True\n",
       "7730     True\n",
       "7762     True\n",
       "7772     True\n",
       "Name: Impressions, Length: 573, dtype: bool"
      ]
     },
     "execution_count": 507,
     "metadata": {},
     "output_type": "execute_result"
    }
   ],
   "source": [
    "interactions_hard_test_mrrchange['Impressions'].apply(lambda x: any( [rare_news+\"-0\" in x for rare_news in rare_events_df['News ID'].values] ))"
   ]
  },
  {
   "cell_type": "code",
   "execution_count": 508,
   "metadata": {},
   "outputs": [
    {
     "ename": "KeyError",
     "evalue": "4389",
     "output_type": "error",
     "traceback": [
      "\u001b[0;31m---------------------------------------------------------------------------\u001b[0m",
      "\u001b[0;31mKeyError\u001b[0m                                  Traceback (most recent call last)",
      "File \u001b[0;32m~/anaconda3/envs/recminer/lib/python3.9/site-packages/pandas/core/indexes/base.py:3805\u001b[0m, in \u001b[0;36mIndex.get_loc\u001b[0;34m(self, key)\u001b[0m\n\u001b[1;32m   3804\u001b[0m \u001b[38;5;28;01mtry\u001b[39;00m:\n\u001b[0;32m-> 3805\u001b[0m     \u001b[38;5;28;01mreturn\u001b[39;00m \u001b[38;5;28;43mself\u001b[39;49m\u001b[38;5;241;43m.\u001b[39;49m\u001b[43m_engine\u001b[49m\u001b[38;5;241;43m.\u001b[39;49m\u001b[43mget_loc\u001b[49m\u001b[43m(\u001b[49m\u001b[43mcasted_key\u001b[49m\u001b[43m)\u001b[49m\n\u001b[1;32m   3806\u001b[0m \u001b[38;5;28;01mexcept\u001b[39;00m \u001b[38;5;167;01mKeyError\u001b[39;00m \u001b[38;5;28;01mas\u001b[39;00m err:\n",
      "File \u001b[0;32mindex.pyx:167\u001b[0m, in \u001b[0;36mpandas._libs.index.IndexEngine.get_loc\u001b[0;34m()\u001b[0m\n",
      "File \u001b[0;32mindex.pyx:196\u001b[0m, in \u001b[0;36mpandas._libs.index.IndexEngine.get_loc\u001b[0;34m()\u001b[0m\n",
      "File \u001b[0;32mpandas/_libs/hashtable_class_helper.pxi:2606\u001b[0m, in \u001b[0;36mpandas._libs.hashtable.Int64HashTable.get_item\u001b[0;34m()\u001b[0m\n",
      "File \u001b[0;32mpandas/_libs/hashtable_class_helper.pxi:2630\u001b[0m, in \u001b[0;36mpandas._libs.hashtable.Int64HashTable.get_item\u001b[0;34m()\u001b[0m\n",
      "\u001b[0;31mKeyError\u001b[0m: 4389",
      "\nThe above exception was the direct cause of the following exception:\n",
      "\u001b[0;31mKeyError\u001b[0m                                  Traceback (most recent call last)",
      "Cell \u001b[0;32mIn[508], line 1\u001b[0m\n\u001b[0;32m----> 1\u001b[0m chosen_int \u001b[38;5;241m=\u001b[39m \u001b[43minteractions_hard_test_mrrchange\u001b[49m\u001b[38;5;241;43m.\u001b[39;49m\u001b[43mloc\u001b[49m\u001b[43m[\u001b[49m\u001b[38;5;241;43m4389\u001b[39;49m\u001b[43m]\u001b[49m\n",
      "File \u001b[0;32m~/anaconda3/envs/recminer/lib/python3.9/site-packages/pandas/core/indexing.py:1191\u001b[0m, in \u001b[0;36m_LocationIndexer.__getitem__\u001b[0;34m(self, key)\u001b[0m\n\u001b[1;32m   1189\u001b[0m maybe_callable \u001b[38;5;241m=\u001b[39m com\u001b[38;5;241m.\u001b[39mapply_if_callable(key, \u001b[38;5;28mself\u001b[39m\u001b[38;5;241m.\u001b[39mobj)\n\u001b[1;32m   1190\u001b[0m maybe_callable \u001b[38;5;241m=\u001b[39m \u001b[38;5;28mself\u001b[39m\u001b[38;5;241m.\u001b[39m_check_deprecated_callable_usage(key, maybe_callable)\n\u001b[0;32m-> 1191\u001b[0m \u001b[38;5;28;01mreturn\u001b[39;00m \u001b[38;5;28;43mself\u001b[39;49m\u001b[38;5;241;43m.\u001b[39;49m\u001b[43m_getitem_axis\u001b[49m\u001b[43m(\u001b[49m\u001b[43mmaybe_callable\u001b[49m\u001b[43m,\u001b[49m\u001b[43m \u001b[49m\u001b[43maxis\u001b[49m\u001b[38;5;241;43m=\u001b[39;49m\u001b[43maxis\u001b[49m\u001b[43m)\u001b[49m\n",
      "File \u001b[0;32m~/anaconda3/envs/recminer/lib/python3.9/site-packages/pandas/core/indexing.py:1431\u001b[0m, in \u001b[0;36m_LocIndexer._getitem_axis\u001b[0;34m(self, key, axis)\u001b[0m\n\u001b[1;32m   1429\u001b[0m \u001b[38;5;66;03m# fall thru to straight lookup\u001b[39;00m\n\u001b[1;32m   1430\u001b[0m \u001b[38;5;28mself\u001b[39m\u001b[38;5;241m.\u001b[39m_validate_key(key, axis)\n\u001b[0;32m-> 1431\u001b[0m \u001b[38;5;28;01mreturn\u001b[39;00m \u001b[38;5;28;43mself\u001b[39;49m\u001b[38;5;241;43m.\u001b[39;49m\u001b[43m_get_label\u001b[49m\u001b[43m(\u001b[49m\u001b[43mkey\u001b[49m\u001b[43m,\u001b[49m\u001b[43m \u001b[49m\u001b[43maxis\u001b[49m\u001b[38;5;241;43m=\u001b[39;49m\u001b[43maxis\u001b[49m\u001b[43m)\u001b[49m\n",
      "File \u001b[0;32m~/anaconda3/envs/recminer/lib/python3.9/site-packages/pandas/core/indexing.py:1381\u001b[0m, in \u001b[0;36m_LocIndexer._get_label\u001b[0;34m(self, label, axis)\u001b[0m\n\u001b[1;32m   1379\u001b[0m \u001b[38;5;28;01mdef\u001b[39;00m \u001b[38;5;21m_get_label\u001b[39m(\u001b[38;5;28mself\u001b[39m, label, axis: AxisInt):\n\u001b[1;32m   1380\u001b[0m     \u001b[38;5;66;03m# GH#5567 this will fail if the label is not present in the axis.\u001b[39;00m\n\u001b[0;32m-> 1381\u001b[0m     \u001b[38;5;28;01mreturn\u001b[39;00m \u001b[38;5;28;43mself\u001b[39;49m\u001b[38;5;241;43m.\u001b[39;49m\u001b[43mobj\u001b[49m\u001b[38;5;241;43m.\u001b[39;49m\u001b[43mxs\u001b[49m\u001b[43m(\u001b[49m\u001b[43mlabel\u001b[49m\u001b[43m,\u001b[49m\u001b[43m \u001b[49m\u001b[43maxis\u001b[49m\u001b[38;5;241;43m=\u001b[39;49m\u001b[43maxis\u001b[49m\u001b[43m)\u001b[49m\n",
      "File \u001b[0;32m~/anaconda3/envs/recminer/lib/python3.9/site-packages/pandas/core/generic.py:4298\u001b[0m, in \u001b[0;36mNDFrame.xs\u001b[0;34m(self, key, axis, level, drop_level)\u001b[0m\n\u001b[1;32m   4296\u001b[0m             new_index \u001b[38;5;241m=\u001b[39m index[loc]\n\u001b[1;32m   4297\u001b[0m \u001b[38;5;28;01melse\u001b[39;00m:\n\u001b[0;32m-> 4298\u001b[0m     loc \u001b[38;5;241m=\u001b[39m \u001b[43mindex\u001b[49m\u001b[38;5;241;43m.\u001b[39;49m\u001b[43mget_loc\u001b[49m\u001b[43m(\u001b[49m\u001b[43mkey\u001b[49m\u001b[43m)\u001b[49m\n\u001b[1;32m   4300\u001b[0m     \u001b[38;5;28;01mif\u001b[39;00m \u001b[38;5;28misinstance\u001b[39m(loc, np\u001b[38;5;241m.\u001b[39mndarray):\n\u001b[1;32m   4301\u001b[0m         \u001b[38;5;28;01mif\u001b[39;00m loc\u001b[38;5;241m.\u001b[39mdtype \u001b[38;5;241m==\u001b[39m np\u001b[38;5;241m.\u001b[39mbool_:\n",
      "File \u001b[0;32m~/anaconda3/envs/recminer/lib/python3.9/site-packages/pandas/core/indexes/base.py:3812\u001b[0m, in \u001b[0;36mIndex.get_loc\u001b[0;34m(self, key)\u001b[0m\n\u001b[1;32m   3807\u001b[0m     \u001b[38;5;28;01mif\u001b[39;00m \u001b[38;5;28misinstance\u001b[39m(casted_key, \u001b[38;5;28mslice\u001b[39m) \u001b[38;5;129;01mor\u001b[39;00m (\n\u001b[1;32m   3808\u001b[0m         \u001b[38;5;28misinstance\u001b[39m(casted_key, abc\u001b[38;5;241m.\u001b[39mIterable)\n\u001b[1;32m   3809\u001b[0m         \u001b[38;5;129;01mand\u001b[39;00m \u001b[38;5;28many\u001b[39m(\u001b[38;5;28misinstance\u001b[39m(x, \u001b[38;5;28mslice\u001b[39m) \u001b[38;5;28;01mfor\u001b[39;00m x \u001b[38;5;129;01min\u001b[39;00m casted_key)\n\u001b[1;32m   3810\u001b[0m     ):\n\u001b[1;32m   3811\u001b[0m         \u001b[38;5;28;01mraise\u001b[39;00m InvalidIndexError(key)\n\u001b[0;32m-> 3812\u001b[0m     \u001b[38;5;28;01mraise\u001b[39;00m \u001b[38;5;167;01mKeyError\u001b[39;00m(key) \u001b[38;5;28;01mfrom\u001b[39;00m \u001b[38;5;21;01merr\u001b[39;00m\n\u001b[1;32m   3813\u001b[0m \u001b[38;5;28;01mexcept\u001b[39;00m \u001b[38;5;167;01mTypeError\u001b[39;00m:\n\u001b[1;32m   3814\u001b[0m     \u001b[38;5;66;03m# If we have a listlike key, _check_indexing_error will raise\u001b[39;00m\n\u001b[1;32m   3815\u001b[0m     \u001b[38;5;66;03m#  InvalidIndexError. Otherwise we fall through and re-raise\u001b[39;00m\n\u001b[1;32m   3816\u001b[0m     \u001b[38;5;66;03m#  the TypeError.\u001b[39;00m\n\u001b[1;32m   3817\u001b[0m     \u001b[38;5;28mself\u001b[39m\u001b[38;5;241m.\u001b[39m_check_indexing_error(key)\n",
      "\u001b[0;31mKeyError\u001b[0m: 4389"
     ]
    }
   ],
   "source": [
    "chosen_int = interactions_hard_test_mrrchange.loc[4389]"
   ]
  },
  {
   "cell_type": "code",
   "execution_count": 509,
   "metadata": {},
   "outputs": [
    {
     "data": {
      "text/plain": [
       "Impression ID                                                50621\n",
       "User ID                                                     U70637\n",
       "Time                                         11/15/2019 7:44:45 AM\n",
       "History          N60402 N18164 N55749 N48158 N63123 N38933 N504...\n",
       "Impressions      N12682-1 N13408-0 N26063-0 N27057-0 N27738-0 N...\n",
       "pred_aug         [0.17899809777736664, 0.1693427562713623, 0.11...\n",
       "pred_or          [0.6067030429840088, 0.6588578224182129, 0.548...\n",
       "Name: 5398, dtype: object"
      ]
     },
     "execution_count": 509,
     "metadata": {},
     "output_type": "execute_result"
    }
   ],
   "source": [
    "chosen_int"
   ]
  },
  {
   "cell_type": "code",
   "execution_count": 210,
   "metadata": {},
   "outputs": [
    {
     "data": {
      "text/plain": [
       "[('N11681-0', 0.37168172001838684),\n",
       " ('N47020-0', 0.33332568407058716),\n",
       " ('N7993-0', 0.2999560534954071),\n",
       " ('N27738-0', 0.25004735589027405),\n",
       " ('N1477-0', 0.2449999451637268),\n",
       " ('N6471-0', 0.22464829683303833),\n",
       " ('N49038-0', 0.22367946803569794),\n",
       " ('N26305-0', 0.22175580263137817),\n",
       " ('N36779-0', 0.21434205770492554),\n",
       " ('N1597-0', 0.21265587210655212),\n",
       " ('N52850-0', 0.20444510877132416),\n",
       " ('N45289-0', 0.19699835777282715),\n",
       " ('N28589-0', 0.19695551693439484),\n",
       " ('N57462-0', 0.1830132156610489),\n",
       " ('N47572-0', 0.18172119557857513),\n",
       " ('N12682-1', 0.17899809777736664),\n",
       " ('N15518-0', 0.17864741384983063),\n",
       " ('N34633-0', 0.1740388572216034),\n",
       " ('N13408-0', 0.1693427562713623),\n",
       " ('N56458-0', 0.16656149923801422),\n",
       " ('N4476-0', 0.16473524272441864),\n",
       " ('N436-0', 0.16433085501194),\n",
       " ('N11092-0', 0.16011680662631989),\n",
       " ('N46452-0', 0.14962752163410187),\n",
       " ('N41497-0', 0.14399710297584534),\n",
       " ('N33176-0', 0.14337202906608582),\n",
       " ('N18449-0', 0.14147530496120453),\n",
       " ('N2852-0', 0.1407688707113266),\n",
       " ('N53283-0', 0.1402224749326706),\n",
       " ('N50775-0', 0.1393079161643982),\n",
       " ('N17513-0', 0.13707761466503143),\n",
       " ('N32288-0', 0.13470952212810516),\n",
       " ('N32073-0', 0.13414053618907928),\n",
       " ('N64954-0', 0.13376234471797943),\n",
       " ('N60939-0', 0.13207855820655823),\n",
       " ('N62393-0', 0.1284486949443817),\n",
       " ('N28961-0', 0.1279105842113495),\n",
       " ('N41126-0', 0.12465758621692657),\n",
       " ('N53201-0', 0.12388328462839127),\n",
       " ('N26063-0', 0.11868644505739212),\n",
       " ('N14507-0', 0.11736232042312622),\n",
       " ('N9580-0', 0.11531642824411392),\n",
       " ('N18971-0', 0.1126420795917511),\n",
       " ('N14637-0', 0.10683039575815201),\n",
       " ('N52323-0', 0.10236264020204544),\n",
       " ('N37055-0', 0.09653299301862717),\n",
       " ('N26572-0', 0.09034563601016998),\n",
       " ('N24275-0', 0.08862020820379257),\n",
       " ('N52104-0', 0.0863661840558052),\n",
       " ('N57007-0', 0.08438815921545029),\n",
       " ('N50719-0', 0.08429981023073196),\n",
       " ('N28716-0', 0.08347739279270172),\n",
       " ('N42698-0', 0.08223960548639297),\n",
       " ('N60747-0', 0.0698220506310463),\n",
       " ('N6994-0', 0.06109355017542839)]"
      ]
     },
     "execution_count": 210,
     "metadata": {},
     "output_type": "execute_result"
    }
   ],
   "source": [
    "sorted(zip(chosen_int[\"Impressions\"].split(),chosen_int['pred_aug']),key=lambda x:x[1],reverse=True)"
   ]
  },
  {
   "cell_type": "code",
   "execution_count": 211,
   "metadata": {},
   "outputs": [
    {
     "data": {
      "text/plain": [
       "[('N47020-0', 0.8242606520652771),\n",
       " ('N11681-0', 0.7941903471946716),\n",
       " ('N7993-0', 0.7671888470649719),\n",
       " ('N49038-0', 0.7536293864250183),\n",
       " ('N1477-0', 0.7432376742362976),\n",
       " ('N52850-0', 0.7268804907798767),\n",
       " ('N26305-0', 0.724610447883606),\n",
       " ('N47572-0', 0.6891971230506897),\n",
       " ('N27738-0', 0.6845247149467468),\n",
       " ('N436-0', 0.6739627718925476),\n",
       " ('N6471-0', 0.6725689172744751),\n",
       " ('N15518-0', 0.6696509718894958),\n",
       " ('N28589-0', 0.6683505177497864),\n",
       " ('N36779-0', 0.6652841567993164),\n",
       " ('N56458-0', 0.6623077392578125),\n",
       " ('N17513-0', 0.6607984304428101),\n",
       " ('N1597-0', 0.6605821847915649),\n",
       " ('N13408-0', 0.6588578224182129),\n",
       " ('N45289-0', 0.6583585143089294),\n",
       " ('N11092-0', 0.6439637541770935),\n",
       " ('N26572-0', 0.6438857913017273),\n",
       " ('N53283-0', 0.6432585120201111),\n",
       " ('N46452-0', 0.6296252608299255),\n",
       " ('N2852-0', 0.6116254329681396),\n",
       " ('N12682-1', 0.6067030429840088),\n",
       " ('N50775-0', 0.5992249846458435),\n",
       " ('N57462-0', 0.5971130132675171),\n",
       " ('N62393-0', 0.5828732252120972),\n",
       " ('N4476-0', 0.5822414755821228),\n",
       " ('N6994-0', 0.579377293586731),\n",
       " ('N28961-0', 0.5745041370391846),\n",
       " ('N18449-0', 0.5656546950340271),\n",
       " ('N9580-0', 0.5650059580802917),\n",
       " ('N33176-0', 0.5637103319168091),\n",
       " ('N18971-0', 0.5632904171943665),\n",
       " ('N34633-0', 0.5619239211082458),\n",
       " ('N53201-0', 0.5585566163063049),\n",
       " ('N26063-0', 0.5484316945075989),\n",
       " ('N32073-0', 0.5406054258346558),\n",
       " ('N64954-0', 0.5359616875648499),\n",
       " ('N14507-0', 0.5347548723220825),\n",
       " ('N60939-0', 0.5182258486747742),\n",
       " ('N32288-0', 0.517603874206543),\n",
       " ('N41497-0', 0.5169467926025391),\n",
       " ('N42698-0', 0.5144970417022705),\n",
       " ('N28716-0', 0.5102424621582031),\n",
       " ('N57007-0', 0.49335014820098877),\n",
       " ('N52323-0', 0.4926002621650696),\n",
       " ('N52104-0', 0.48738300800323486),\n",
       " ('N41126-0', 0.4664824903011322),\n",
       " ('N50719-0', 0.45626115798950195),\n",
       " ('N37055-0', 0.4255902171134949),\n",
       " ('N14637-0', 0.4070439040660858),\n",
       " ('N24275-0', 0.3950057029724121),\n",
       " ('N60747-0', 0.34224826097488403)]"
      ]
     },
     "execution_count": 211,
     "metadata": {},
     "output_type": "execute_result"
    }
   ],
   "source": [
    "sorted(zip(chosen_int[\"Impressions\"].split(),chosen_int['pred_or']),key=lambda x:x[1],reverse=True)"
   ]
  },
  {
   "cell_type": "code",
   "execution_count": null,
   "metadata": {},
   "outputs": [],
   "source": []
  },
  {
   "cell_type": "code",
   "execution_count": 238,
   "metadata": {},
   "outputs": [],
   "source": [
    "chosen_int = interactions_hard_test_mrrchange.loc[7240]"
   ]
  },
  {
   "cell_type": "code",
   "execution_count": 239,
   "metadata": {},
   "outputs": [
    {
     "data": {
      "text/plain": [
       "Impression ID                                                67846\n",
       "User ID                                                     U18693\n",
       "Time                                        11/15/2019 12:19:28 PM\n",
       "History          N8298 N1570 N14845 N14845 N12173 N59516 N42750...\n",
       "Impressions      N11092-0 N21312-0 N22575-0 N23444-0 N2700-0 N2...\n",
       "pred_aug         [0.29335829615592957, 0.1930699199438095, 0.06...\n",
       "pred_or          [0.8477369546890259, 0.665494441986084, 0.3093...\n",
       "Name: 7240, dtype: object"
      ]
     },
     "execution_count": 239,
     "metadata": {},
     "output_type": "execute_result"
    }
   ],
   "source": [
    "chosen_int"
   ]
  },
  {
   "cell_type": "code",
   "execution_count": 240,
   "metadata": {},
   "outputs": [
    {
     "data": {
      "text/plain": [
       "'N11092-0 N21312-0 N22575-0 N23444-0 N2700-0 N27057-0 N27552-0 N30465-1 N33176-0 N37055-0 N37233-0 N41541-0 N47572-0 N48490-0 N5051-0 N50670-0 N5507-0 N56434-0 N57085-0 N60939-0 N61699-0 N6388-0 N64264-0 N64724-0'"
      ]
     },
     "execution_count": 240,
     "metadata": {},
     "output_type": "execute_result"
    }
   ],
   "source": [
    "chosen_int['Impressions']"
   ]
  },
  {
   "cell_type": "code",
   "execution_count": 244,
   "metadata": {},
   "outputs": [
    {
     "data": {
      "text/plain": [
       "array([['FDA Poised to Drop the Hammer on Dollar Tree',\n",
       "        \"The FDA has sent a warning letter to Dollar Tree detailing the agency's suggested corrective actions to make sure the company stops importing adulterated drug products.\"]],\n",
       "      dtype=object)"
      ]
     },
     "execution_count": 244,
     "metadata": {},
     "output_type": "execute_result"
    }
   ],
   "source": [
    "rare_events_df.loc[rare_events_df['News ID'] == \"N30465\",['Title','Abstract']].values"
   ]
  },
  {
   "cell_type": "code",
   "execution_count": null,
   "metadata": {},
   "outputs": [],
   "source": []
  },
  {
   "cell_type": "code",
   "execution_count": 267,
   "metadata": {},
   "outputs": [],
   "source": [
    "chosen_int = interactions_hard_test_mrrchange.loc[5733]"
   ]
  },
  {
   "cell_type": "code",
   "execution_count": 268,
   "metadata": {},
   "outputs": [
    {
     "data": {
      "text/plain": [
       "'N12446-0 N13408-0 N13556-0 N13854-0 N14056-0 N14266-0 N14507-0 N1597-0 N16120-0 N18971-0 N23629-0 N26063-0 N26305-0 N27738-0 N28716-0 N3168-0 N3174-0 N32288-0 N33397-0 N34641-0 N36779-0 N36786-0 N37233-0 N43277-0 N4476-0 N45289-0 N45319-0 N46452-0 N49712-0 N49872-0 N5051-0 N52104-0 N53283-0 N53754-0 N55712-0 N57007-0 N58612-0 N60747-0 N60939-0 N63415-0 N6388-0 N6471-0 N64954-0 N6994-1 N7993-0'"
      ]
     },
     "execution_count": 268,
     "metadata": {},
     "output_type": "execute_result"
    }
   ],
   "source": [
    "chosen_int['Impressions']"
   ]
  },
  {
   "cell_type": "code",
   "execution_count": 270,
   "metadata": {},
   "outputs": [
    {
     "data": {
      "text/plain": [
       "array([[\"Automakers around the world await Trump's tariff decision\",\n",
       "        'Automakers around the world are awaiting a decision from President Donald Trump on whether he will impose up to 25% tariffs on U.S. car and auto part imports after a 180-day review period elapsed this week.']],\n",
       "      dtype=object)"
      ]
     },
     "execution_count": 270,
     "metadata": {},
     "output_type": "execute_result"
    }
   ],
   "source": [
    "rare_events_df.loc[rare_events_df['News ID'] == \"N6994\",['Title','Abstract']].values"
   ]
  },
  {
   "cell_type": "code",
   "execution_count": null,
   "metadata": {},
   "outputs": [],
   "source": []
  },
  {
   "cell_type": "code",
   "execution_count": 271,
   "metadata": {},
   "outputs": [
    {
     "data": {
      "text/plain": [
       "[('N63415-0', 0.34813496470451355),\n",
       " ('N16120-0', 0.3220510184764862),\n",
       " ('N14266-0', 0.3060491979122162),\n",
       " ('N7993-0', 0.2999560534954071),\n",
       " ('N34641-0', 0.2868587374687195),\n",
       " ('N5051-0', 0.2816830575466156),\n",
       " ('N23629-0', 0.26313406229019165),\n",
       " ('N27738-0', 0.25004735589027405),\n",
       " ('N6471-0', 0.22464829683303833),\n",
       " ('N26305-0', 0.22175580263137817),\n",
       " ('N49712-0', 0.21567758917808533),\n",
       " ('N36779-0', 0.21434205770492554),\n",
       " ('N1597-0', 0.21265587210655212),\n",
       " ('N45289-0', 0.19699835777282715),\n",
       " ('N33397-0', 0.19568651914596558),\n",
       " ('N13408-0', 0.1693427562713623),\n",
       " ('N4476-0', 0.16473524272441864),\n",
       " ('N46452-0', 0.14962752163410187),\n",
       " ('N53754-0', 0.148420512676239),\n",
       " ('N53283-0', 0.1402224749326706),\n",
       " ('N14056-0', 0.13814570009708405),\n",
       " ('N32288-0', 0.13470952212810516),\n",
       " ('N58612-0', 0.13408777117729187),\n",
       " ('N64954-0', 0.13376234471797943),\n",
       " ('N3174-0', 0.1327439397573471),\n",
       " ('N60939-0', 0.13207855820655823),\n",
       " ('N45319-0', 0.12853720784187317),\n",
       " ('N12446-0', 0.12425016611814499),\n",
       " ('N26063-0', 0.11868644505739212),\n",
       " ('N14507-0', 0.11736232042312622),\n",
       " ('N49872-0', 0.11578842252492905),\n",
       " ('N13556-0', 0.11518781632184982),\n",
       " ('N18971-0', 0.1126420795917511),\n",
       " ('N36786-0', 0.10800226777791977),\n",
       " ('N3168-0', 0.10519365221261978),\n",
       " ('N37233-0', 0.09768649935722351),\n",
       " ('N52104-0', 0.0863661840558052),\n",
       " ('N57007-0', 0.08438815921545029),\n",
       " ('N28716-0', 0.08347739279270172),\n",
       " ('N13854-0', 0.07744495570659637),\n",
       " ('N43277-0', 0.06993161141872406),\n",
       " ('N60747-0', 0.0698220506310463),\n",
       " ('N6994-1', 0.06109355017542839),\n",
       " ('N6388-0', 0.0497518815100193),\n",
       " ('N55712-0', 0.0175202414393425)]"
      ]
     },
     "execution_count": 271,
     "metadata": {},
     "output_type": "execute_result"
    }
   ],
   "source": [
    "sorted(zip(chosen_int[\"Impressions\"].split(),chosen_int['pred_aug']),key=lambda x:x[1],reverse=True)"
   ]
  },
  {
   "cell_type": "code",
   "execution_count": 272,
   "metadata": {},
   "outputs": [
    {
     "data": {
      "text/plain": [
       "[('N63415-0', 0.824914813041687),\n",
       " ('N16120-0', 0.7938815951347351),\n",
       " ('N5051-0', 0.7855786085128784),\n",
       " ('N7993-0', 0.7671888470649719),\n",
       " ('N14266-0', 0.7612680196762085),\n",
       " ('N49712-0', 0.7310102581977844),\n",
       " ('N26305-0', 0.724610447883606),\n",
       " ('N27738-0', 0.6845247149467468),\n",
       " ('N6471-0', 0.6725689172744751),\n",
       " ('N53754-0', 0.6672472953796387),\n",
       " ('N36779-0', 0.6652841567993164),\n",
       " ('N14056-0', 0.6619070768356323),\n",
       " ('N1597-0', 0.6605821847915649),\n",
       " ('N13408-0', 0.6588578224182129),\n",
       " ('N45289-0', 0.6583585143089294),\n",
       " ('N58612-0', 0.6563382744789124),\n",
       " ('N49872-0', 0.656156599521637),\n",
       " ('N12446-0', 0.651755154132843),\n",
       " ('N34641-0', 0.6498042345046997),\n",
       " ('N53283-0', 0.6432585120201111),\n",
       " ('N23629-0', 0.6363604068756104),\n",
       " ('N46452-0', 0.6296252608299255),\n",
       " ('N13854-0', 0.6043474078178406),\n",
       " ('N45319-0', 0.5928237438201904),\n",
       " ('N33397-0', 0.5856683850288391),\n",
       " ('N4476-0', 0.5822414755821228),\n",
       " ('N6994-1', 0.579377293586731),\n",
       " ('N18971-0', 0.5632904171943665),\n",
       " ('N13556-0', 0.5628113150596619),\n",
       " ('N26063-0', 0.5484316945075989),\n",
       " ('N64954-0', 0.5359616875648499),\n",
       " ('N14507-0', 0.5347548723220825),\n",
       " ('N37233-0', 0.5230104327201843),\n",
       " ('N3174-0', 0.5196162462234497),\n",
       " ('N60939-0', 0.5182258486747742),\n",
       " ('N32288-0', 0.517603874206543),\n",
       " ('N28716-0', 0.5102424621582031),\n",
       " ('N57007-0', 0.49335014820098877),\n",
       " ('N52104-0', 0.48738300800323486),\n",
       " ('N36786-0', 0.48203325271606445),\n",
       " ('N6388-0', 0.4751298725605011),\n",
       " ('N3168-0', 0.35795196890830994),\n",
       " ('N60747-0', 0.34224826097488403),\n",
       " ('N43277-0', 0.33630114793777466),\n",
       " ('N55712-0', 0.14117363095283508)]"
      ]
     },
     "execution_count": 272,
     "metadata": {},
     "output_type": "execute_result"
    }
   ],
   "source": [
    "sorted(zip(chosen_int[\"Impressions\"].split(),chosen_int['pred_or']),key=lambda x:x[1],reverse=True)"
   ]
  },
  {
   "cell_type": "code",
   "execution_count": null,
   "metadata": {},
   "outputs": [],
   "source": []
  },
  {
   "cell_type": "code",
   "execution_count": null,
   "metadata": {},
   "outputs": [],
   "source": []
  },
  {
   "cell_type": "code",
   "execution_count": 273,
   "metadata": {},
   "outputs": [],
   "source": [
    "chosen_int = interactions_hard_test_mrrchange.loc[7146]"
   ]
  },
  {
   "cell_type": "code",
   "execution_count": 274,
   "metadata": {},
   "outputs": [
    {
     "data": {
      "text/plain": [
       "'N12446-0 N14721-0 N16120-0 N23629-0 N2659-0 N27057-0 N36779-1 N37233-0 N42950-1 N47195-0 N50719-0 N52907-0 N53754-0'"
      ]
     },
     "execution_count": 274,
     "metadata": {},
     "output_type": "execute_result"
    }
   ],
   "source": [
    "chosen_int['Impressions']"
   ]
  },
  {
   "cell_type": "code",
   "execution_count": 280,
   "metadata": {},
   "outputs": [
    {
     "data": {
      "text/plain": [
       "array([['Climate change looms over giant Saudi energy IPO',\n",
       "        'As investors weigh up the value of Saudi energy colossus Aramco ahead of its IPO next month, the global drive to contain climate change and waning demand for fossil fuels are seen as key risks. \"There\\'s no doubt that environmental, social and governance risks will factor in the calculations of investors looking at the Saudi Aramco IPO,\" said Torbjorn Soltvedt from Verisk Maplecroft, a UK-based strategic consulting firm.']],\n",
       "      dtype=object)"
      ]
     },
     "execution_count": 280,
     "metadata": {},
     "output_type": "execute_result"
    }
   ],
   "source": [
    "rare_events_df.loc[rare_events_df['News ID'] == \"N42950\",['Title','Abstract']].values"
   ]
  },
  {
   "cell_type": "code",
   "execution_count": null,
   "metadata": {},
   "outputs": [],
   "source": []
  },
  {
   "cell_type": "code",
   "execution_count": 276,
   "metadata": {},
   "outputs": [
    {
     "data": {
      "text/plain": [
       "[('N16120-0', 0.3220510184764862),\n",
       " ('N23629-0', 0.26313406229019165),\n",
       " ('N36779-1', 0.21434205770492554),\n",
       " ('N52907-0', 0.19784897565841675),\n",
       " ('N14721-0', 0.18407298624515533),\n",
       " ('N53754-0', 0.148420512676239),\n",
       " ('N2659-0', 0.1403486728668213),\n",
       " ('N27057-0', 0.1272057294845581),\n",
       " ('N12446-0', 0.12425016611814499),\n",
       " ('N37233-0', 0.09768649935722351),\n",
       " ('N50719-0', 0.08429981023073196),\n",
       " ('N47195-0', 0.08288898319005966),\n",
       " ('N42950-1', 0.07800927013158798)]"
      ]
     },
     "execution_count": 276,
     "metadata": {},
     "output_type": "execute_result"
    }
   ],
   "source": [
    "sorted(zip(chosen_int[\"Impressions\"].split(),chosen_int['pred_aug']),key=lambda x:x[1],reverse=True)"
   ]
  },
  {
   "cell_type": "code",
   "execution_count": 277,
   "metadata": {},
   "outputs": [
    {
     "data": {
      "text/plain": [
       "[('N16120-0', 0.7938815951347351),\n",
       " ('N14721-0', 0.6853628158569336),\n",
       " ('N52907-0', 0.6727432608604431),\n",
       " ('N53754-0', 0.6672472953796387),\n",
       " ('N36779-1', 0.6652841567993164),\n",
       " ('N12446-0', 0.651755154132843),\n",
       " ('N23629-0', 0.6363604068756104),\n",
       " ('N2659-0', 0.6171721816062927),\n",
       " ('N27057-0', 0.590977132320404),\n",
       " ('N37233-0', 0.5230104327201843),\n",
       " ('N42950-1', 0.4568440914154053),\n",
       " ('N50719-0', 0.45626115798950195),\n",
       " ('N47195-0', 0.2901085913181305)]"
      ]
     },
     "execution_count": 277,
     "metadata": {},
     "output_type": "execute_result"
    }
   ],
   "source": [
    "sorted(zip(chosen_int[\"Impressions\"].split(),chosen_int['pred_or']),key=lambda x:x[1],reverse=True)"
   ]
  },
  {
   "cell_type": "code",
   "execution_count": 283,
   "metadata": {},
   "outputs": [
    {
     "data": {
      "text/html": [
       "<div>\n",
       "<style scoped>\n",
       "    .dataframe tbody tr th:only-of-type {\n",
       "        vertical-align: middle;\n",
       "    }\n",
       "\n",
       "    .dataframe tbody tr th {\n",
       "        vertical-align: top;\n",
       "    }\n",
       "\n",
       "    .dataframe thead th {\n",
       "        text-align: right;\n",
       "    }\n",
       "</style>\n",
       "<table border=\"1\" class=\"dataframe\">\n",
       "  <thead>\n",
       "    <tr style=\"text-align: right;\">\n",
       "      <th></th>\n",
       "      <th>News ID</th>\n",
       "      <th>Category</th>\n",
       "      <th>SubCategory</th>\n",
       "      <th>Title</th>\n",
       "      <th>Abstract</th>\n",
       "      <th>URL</th>\n",
       "      <th>Title Entities</th>\n",
       "      <th>Abstract Entities</th>\n",
       "    </tr>\n",
       "  </thead>\n",
       "  <tbody>\n",
       "    <tr>\n",
       "      <th>14307</th>\n",
       "      <td>N36779</td>\n",
       "      <td>news</td>\n",
       "      <td>newsus</td>\n",
       "      <td>South Carolina teen gets life in prison for de...</td>\n",
       "      <td>Jesse Osborne, the teenager responsible for a ...</td>\n",
       "      <td>https://assets.msn.com/labs/mind/BBWMe6C.html</td>\n",
       "      <td>[{\"Label\": \"South Carolina\", \"Type\": \"G\", \"Wik...</td>\n",
       "      <td>[{\"Label\": \"Townville Elementary School shooti...</td>\n",
       "    </tr>\n",
       "  </tbody>\n",
       "</table>\n",
       "</div>"
      ],
      "text/plain": [
       "      News ID Category SubCategory  \\\n",
       "14307  N36779     news      newsus   \n",
       "\n",
       "                                                   Title  \\\n",
       "14307  South Carolina teen gets life in prison for de...   \n",
       "\n",
       "                                                Abstract  \\\n",
       "14307  Jesse Osborne, the teenager responsible for a ...   \n",
       "\n",
       "                                                 URL  \\\n",
       "14307  https://assets.msn.com/labs/mind/BBWMe6C.html   \n",
       "\n",
       "                                          Title Entities  \\\n",
       "14307  [{\"Label\": \"South Carolina\", \"Type\": \"G\", \"Wik...   \n",
       "\n",
       "                                       Abstract Entities  \n",
       "14307  [{\"Label\": \"Townville Elementary School shooti...  "
      ]
     },
     "execution_count": 283,
     "metadata": {},
     "output_type": "execute_result"
    }
   ],
   "source": [
    "news.loc[news['News ID']=='N36779']"
   ]
  },
  {
   "cell_type": "code",
   "execution_count": 281,
   "metadata": {},
   "outputs": [
    {
     "data": {
      "text/plain": [
       "Index(['News ID', 'Category', 'SubCategory', 'Title', 'Abstract', 'URL',\n",
       "       'Title Entities', 'Abstract Entities'],\n",
       "      dtype='object')"
      ]
     },
     "execution_count": 281,
     "metadata": {},
     "output_type": "execute_result"
    }
   ],
   "source": [
    "news.columns"
   ]
  },
  {
   "cell_type": "code",
   "execution_count": null,
   "metadata": {},
   "outputs": [],
   "source": []
  },
  {
   "cell_type": "code",
   "execution_count": null,
   "metadata": {},
   "outputs": [],
   "source": []
  },
  {
   "cell_type": "code",
   "execution_count": 518,
   "metadata": {},
   "outputs": [],
   "source": [
    "chosen_int = interactions_hard_test_mrrchange.loc[5398]"
   ]
  },
  {
   "cell_type": "code",
   "execution_count": 519,
   "metadata": {},
   "outputs": [
    {
     "data": {
      "text/plain": [
       "'N12682-1 N13408-0 N26063-0 N27057-0 N27738-0 N28716-0 N29393-0 N3174-0 N36786-0 N37458-0 N47572-0 N53283-0 N53754-0 N58612-0 N6994-0'"
      ]
     },
     "execution_count": 519,
     "metadata": {},
     "output_type": "execute_result"
    }
   ],
   "source": [
    "chosen_int['Impressions']"
   ]
  },
  {
   "cell_type": "code",
   "execution_count": 520,
   "metadata": {},
   "outputs": [
    {
     "data": {
      "text/plain": [
       "array([['This is what the trade war looks like in bourbon country',\n",
       "        \"After Europe retaliated with tariffs on Kentucky bourbon in response to President Donald Trump's trade war, the James E. Pepper distillery in Lexington so far this year has suffered a more than 20% sales decline internationally.\"]],\n",
       "      dtype=object)"
      ]
     },
     "execution_count": 520,
     "metadata": {},
     "output_type": "execute_result"
    }
   ],
   "source": [
    "rare_events_df.loc[rare_events_df['News ID'] == \"N12682\",['Title','Abstract']].values"
   ]
  },
  {
   "cell_type": "code",
   "execution_count": null,
   "metadata": {},
   "outputs": [],
   "source": []
  },
  {
   "cell_type": "code",
   "execution_count": 521,
   "metadata": {},
   "outputs": [
    {
     "data": {
      "text/plain": [
       "[('N27738-0', 0.25004735589027405),\n",
       " ('N29393-0', 0.18914149701595306),\n",
       " ('N47572-0', 0.18172119557857513),\n",
       " ('N12682-1', 0.17899809777736664),\n",
       " ('N13408-0', 0.1693427562713623),\n",
       " ('N53754-0', 0.148420512676239),\n",
       " ('N37458-0', 0.14777866005897522),\n",
       " ('N53283-0', 0.1402224749326706),\n",
       " ('N58612-0', 0.13408777117729187),\n",
       " ('N3174-0', 0.1327439397573471),\n",
       " ('N27057-0', 0.1272057294845581),\n",
       " ('N26063-0', 0.11868644505739212),\n",
       " ('N36786-0', 0.10800226777791977),\n",
       " ('N28716-0', 0.08347739279270172),\n",
       " ('N6994-0', 0.06109355017542839)]"
      ]
     },
     "execution_count": 521,
     "metadata": {},
     "output_type": "execute_result"
    }
   ],
   "source": [
    "sorted(zip(chosen_int[\"Impressions\"].split(),chosen_int['pred_aug']),key=lambda x:x[1],reverse=True)"
   ]
  },
  {
   "cell_type": "code",
   "execution_count": 522,
   "metadata": {},
   "outputs": [
    {
     "data": {
      "text/plain": [
       "[('N47572-0', 0.6891971230506897),\n",
       " ('N27738-0', 0.6845247149467468),\n",
       " ('N53754-0', 0.6672472953796387),\n",
       " ('N13408-0', 0.6588578224182129),\n",
       " ('N58612-0', 0.6563382744789124),\n",
       " ('N29393-0', 0.644573450088501),\n",
       " ('N53283-0', 0.6432585120201111),\n",
       " ('N37458-0', 0.6264739632606506),\n",
       " ('N12682-1', 0.6067030429840088),\n",
       " ('N27057-0', 0.590977132320404),\n",
       " ('N6994-0', 0.579377293586731),\n",
       " ('N26063-0', 0.5484316945075989),\n",
       " ('N3174-0', 0.5196162462234497),\n",
       " ('N28716-0', 0.5102424621582031),\n",
       " ('N36786-0', 0.48203325271606445)]"
      ]
     },
     "execution_count": 522,
     "metadata": {},
     "output_type": "execute_result"
    }
   ],
   "source": [
    "sorted(zip(chosen_int[\"Impressions\"].split(),chosen_int['pred_or']),key=lambda x:x[1],reverse=True)"
   ]
  },
  {
   "cell_type": "code",
   "execution_count": 523,
   "metadata": {},
   "outputs": [
    {
     "name": "stdout",
     "output_type": "stream",
     "text": [
      "                                                   Title  \\\n",
      "39777  A Trump Tax Break To Help The Poor Went To a R...   \n",
      "\n",
      "                                                Abstract  \n",
      "39777  The Trump tax law gave governors the authority...  \n",
      "                                                   Title  \\\n",
      "35527  House to hear from US official who said he ove...   \n",
      "\n",
      "                                                Abstract  \n",
      "35527  In a closed-door deposition, House investigato...  \n",
      "                                                   Title  \\\n",
      "40032  Trump's Washington hotel has fallen behind com...   \n",
      "\n",
      "                                                Abstract  \n",
      "40032  A real estate firm hired by Trump's company di...  \n",
      "                                                   Title  \\\n",
      "37738  Raise Billions From Billionaires? Tax Experts ...   \n",
      "\n",
      "                                                Abstract  \n",
      "37738  One of the signature initiatives of Elizabeth ...  \n",
      "                                                   Title  \\\n",
      "35622  Oregon may face ICE push-back on new limits fo...   \n",
      "\n",
      "                                                Abstract  \n",
      "35622  Under a new rule enacted Thursday by Oregon Su...  \n",
      "                                                   Title  \\\n",
      "35881  Supporting your adult children can ruin your r...   \n",
      "\n",
      "                                                Abstract  \n",
      "35881  Prepare your children early in life to be fina...  \n",
      "                                                   Title  \\\n",
      "38091  The world's most profitable company is about t...   \n",
      "\n",
      "                                                Abstract  \n",
      "38091  The oil company that made Saudi Arabia rich is...  \n",
      "                                                   Title  \\\n",
      "38319  Besieged on all sides, Gordon Sondland clings ...   \n",
      "\n",
      "                                                Abstract  \n",
      "38319  Despite a growing list of contradictions in hi...  \n",
      "                                                   Title  \\\n",
      "37378  This is what the trade war looks like in bourb...   \n",
      "\n",
      "                                                Abstract  \n",
      "37378  After Europe retaliated with tariffs on Kentuc...  \n",
      "                                                   Title  \\\n",
      "40486  Dow tops 28,000 for first time, capping 4-week...   \n",
      "\n",
      "                                                Abstract  \n",
      "40486  The Dow Jones Industrial Average ended at anot...  \n",
      "                                                   Title  \\\n",
      "37605  Automakers around the world await Trump's tari...   \n",
      "\n",
      "                                                Abstract  \n",
      "37605  Automakers around the world are awaiting a dec...  \n",
      "                                                   Title  \\\n",
      "39173  An ambassador fired: What to watch on Day 2 of...   \n",
      "\n",
      "                                                Abstract  \n",
      "39173  An ambassador, her firing and a pair of fixers...  \n",
      "                                                   Title  \\\n",
      "40100  Drug trafficking through Venezuela has skyrock...   \n",
      "\n",
      "                                                Abstract  \n",
      "40100  Drug trafficking through Venezuela has increas...  \n",
      "                                               Title  \\\n",
      "35821  Nurses face an epidemic of workplace violence   \n",
      "\n",
      "                                                Abstract  \n",
      "35821  I got punched in the face, said one emergency ...  \n",
      "                                         Title  \\\n",
      "31387  9 renovation tips to boost resale value   \n",
      "\n",
      "                                                Abstract  \n",
      "31387  Making the right renovation decisions can help...  \n"
     ]
    }
   ],
   "source": [
    "for news_id,_ in sorted(zip(chosen_int[\"Impressions\"].split(),chosen_int['pred_or']),key=lambda x:x[1],reverse=True):\n",
    "    print(news.loc[news['News ID']==news_id.split(\"-\")[0],['Title','Abstract']])"
   ]
  },
  {
   "cell_type": "code",
   "execution_count": 524,
   "metadata": {},
   "outputs": [
    {
     "name": "stdout",
     "output_type": "stream",
     "text": [
      "                                                   Title  \\\n",
      "26553  Wine, cheese and 22 more things that are about...   \n",
      "\n",
      "                                                Abstract  \n",
      "26553  With U.S. tariffs on European imports set to s...  \n",
      "                                                   Title  \\\n",
      "17818  Scotch whisky distributors face US tariffs aft...   \n",
      "\n",
      "                                                Abstract  \n",
      "17818  Whisky makes up 12.4% of all exports to the US...  \n",
      "                                                  Title  \\\n",
      "2883  Why farmers might be disappointed with China deal   \n",
      "\n",
      "                                               Abstract  \n",
      "2883  Although President Trump has touted the pact a...  \n",
      "                                                   Title  \\\n",
      "11261  Navy veteran's family plans to sue VA over sus...   \n",
      "\n",
      "                                                Abstract  \n",
      "11261  The family of an 87-year-old U.S. Navy veteran...  \n",
      "                                                   Title  \\\n",
      "23971  Dallas Judge Rules In Volatile Custody Case In...   \n",
      "\n",
      "                                                Abstract  \n",
      "23971  The judge restored the parents' joint custody ...  \n",
      "                                                   Title  \\\n",
      "28267  Marine combat veteran who served in Iraq depor...   \n",
      "\n",
      "                                                Abstract  \n",
      "28267  They basically snuck him out in the middle of ...  \n",
      "                                                   Title  \\\n",
      "20776  Ex-refugee shares the dangers of being smuggle...   \n",
      "\n",
      "                                                Abstract  \n",
      "20776  Ahmad Al-Rashid knows what it was like for the...  \n",
      "                                                   Title  \\\n",
      "26693  Amelia Bambridge: Body of missing backpacker f...   \n",
      "\n",
      "                                                Abstract  \n",
      "26693  The body of a 21-year-old British backpacker w...  \n",
      "                                                   Title  \\\n",
      "40061  A white restaurant owner admitted to enslaving...   \n",
      "\n",
      "                                                Abstract  \n",
      "40061  The restaurant owner burned the victim with to...  \n"
     ]
    }
   ],
   "source": [
    "for news_id in chosen_int[\"History\"].split():\n",
    "    print(news.loc[news['News ID']==news_id.split(\"-\")[0],['Title','Abstract']])"
   ]
  },
  {
   "cell_type": "code",
   "execution_count": null,
   "metadata": {},
   "outputs": [],
   "source": []
  },
  {
   "cell_type": "code",
   "execution_count": 525,
   "metadata": {},
   "outputs": [
    {
     "data": {
      "text/html": [
       "<div>\n",
       "<style scoped>\n",
       "    .dataframe tbody tr th:only-of-type {\n",
       "        vertical-align: middle;\n",
       "    }\n",
       "\n",
       "    .dataframe tbody tr th {\n",
       "        vertical-align: top;\n",
       "    }\n",
       "\n",
       "    .dataframe thead th {\n",
       "        text-align: right;\n",
       "    }\n",
       "</style>\n",
       "<table border=\"1\" class=\"dataframe\">\n",
       "  <thead>\n",
       "    <tr style=\"text-align: right;\">\n",
       "      <th></th>\n",
       "      <th>News ID</th>\n",
       "      <th>Category</th>\n",
       "      <th>SubCategory</th>\n",
       "      <th>Title</th>\n",
       "      <th>Abstract</th>\n",
       "      <th>URL</th>\n",
       "      <th>Title Entities</th>\n",
       "      <th>Abstract Entities</th>\n",
       "    </tr>\n",
       "  </thead>\n",
       "  <tbody>\n",
       "    <tr>\n",
       "      <th>0</th>\n",
       "      <td>N55528</td>\n",
       "      <td>lifestyle</td>\n",
       "      <td>lifestyleroyals</td>\n",
       "      <td>The Brands Queen Elizabeth, Prince Charles, an...</td>\n",
       "      <td>Shop the notebooks, jackets, and more that the...</td>\n",
       "      <td>https://assets.msn.com/labs/mind/AAGH0ET.html</td>\n",
       "      <td>[{\"Label\": \"Prince Philip, Duke of Edinburgh\",...</td>\n",
       "      <td>[]</td>\n",
       "    </tr>\n",
       "    <tr>\n",
       "      <th>1</th>\n",
       "      <td>N18955</td>\n",
       "      <td>health</td>\n",
       "      <td>medical</td>\n",
       "      <td>Dispose of unwanted prescription drugs during ...</td>\n",
       "      <td>NaN</td>\n",
       "      <td>https://assets.msn.com/labs/mind/AAISxPN.html</td>\n",
       "      <td>[{\"Label\": \"Drug Enforcement Administration\", ...</td>\n",
       "      <td>[]</td>\n",
       "    </tr>\n",
       "    <tr>\n",
       "      <th>2</th>\n",
       "      <td>N61837</td>\n",
       "      <td>news</td>\n",
       "      <td>newsworld</td>\n",
       "      <td>The Cost of Trump's Aid Freeze in the Trenches...</td>\n",
       "      <td>Lt. Ivan Molchanets peeked over a parapet of s...</td>\n",
       "      <td>https://assets.msn.com/labs/mind/AAJgNsz.html</td>\n",
       "      <td>[]</td>\n",
       "      <td>[{\"Label\": \"Ukraine\", \"Type\": \"G\", \"WikidataId...</td>\n",
       "    </tr>\n",
       "    <tr>\n",
       "      <th>3</th>\n",
       "      <td>N53526</td>\n",
       "      <td>health</td>\n",
       "      <td>voices</td>\n",
       "      <td>I Was An NBA Wife. Here's How It Affected My M...</td>\n",
       "      <td>I felt like I was a fraud, and being an NBA wi...</td>\n",
       "      <td>https://assets.msn.com/labs/mind/AACk2N6.html</td>\n",
       "      <td>[]</td>\n",
       "      <td>[{\"Label\": \"National Basketball Association\", ...</td>\n",
       "    </tr>\n",
       "    <tr>\n",
       "      <th>4</th>\n",
       "      <td>N38324</td>\n",
       "      <td>health</td>\n",
       "      <td>medical</td>\n",
       "      <td>How to Get Rid of Skin Tags, According to a De...</td>\n",
       "      <td>They seem harmless, but there's a very good re...</td>\n",
       "      <td>https://assets.msn.com/labs/mind/AAAKEkt.html</td>\n",
       "      <td>[{\"Label\": \"Skin tag\", \"Type\": \"C\", \"WikidataI...</td>\n",
       "      <td>[{\"Label\": \"Skin tag\", \"Type\": \"C\", \"WikidataI...</td>\n",
       "    </tr>\n",
       "  </tbody>\n",
       "</table>\n",
       "</div>"
      ],
      "text/plain": [
       "  News ID   Category      SubCategory  \\\n",
       "0  N55528  lifestyle  lifestyleroyals   \n",
       "1  N18955     health          medical   \n",
       "2  N61837       news        newsworld   \n",
       "3  N53526     health           voices   \n",
       "4  N38324     health          medical   \n",
       "\n",
       "                                               Title  \\\n",
       "0  The Brands Queen Elizabeth, Prince Charles, an...   \n",
       "1  Dispose of unwanted prescription drugs during ...   \n",
       "2  The Cost of Trump's Aid Freeze in the Trenches...   \n",
       "3  I Was An NBA Wife. Here's How It Affected My M...   \n",
       "4  How to Get Rid of Skin Tags, According to a De...   \n",
       "\n",
       "                                            Abstract  \\\n",
       "0  Shop the notebooks, jackets, and more that the...   \n",
       "1                                                NaN   \n",
       "2  Lt. Ivan Molchanets peeked over a parapet of s...   \n",
       "3  I felt like I was a fraud, and being an NBA wi...   \n",
       "4  They seem harmless, but there's a very good re...   \n",
       "\n",
       "                                             URL  \\\n",
       "0  https://assets.msn.com/labs/mind/AAGH0ET.html   \n",
       "1  https://assets.msn.com/labs/mind/AAISxPN.html   \n",
       "2  https://assets.msn.com/labs/mind/AAJgNsz.html   \n",
       "3  https://assets.msn.com/labs/mind/AACk2N6.html   \n",
       "4  https://assets.msn.com/labs/mind/AAAKEkt.html   \n",
       "\n",
       "                                      Title Entities  \\\n",
       "0  [{\"Label\": \"Prince Philip, Duke of Edinburgh\",...   \n",
       "1  [{\"Label\": \"Drug Enforcement Administration\", ...   \n",
       "2                                                 []   \n",
       "3                                                 []   \n",
       "4  [{\"Label\": \"Skin tag\", \"Type\": \"C\", \"WikidataI...   \n",
       "\n",
       "                                   Abstract Entities  \n",
       "0                                                 []  \n",
       "1                                                 []  \n",
       "2  [{\"Label\": \"Ukraine\", \"Type\": \"G\", \"WikidataId...  \n",
       "3  [{\"Label\": \"National Basketball Association\", ...  \n",
       "4  [{\"Label\": \"Skin tag\", \"Type\": \"C\", \"WikidataI...  "
      ]
     },
     "execution_count": 525,
     "metadata": {},
     "output_type": "execute_result"
    }
   ],
   "source": [
    "news.head()"
   ]
  },
  {
   "cell_type": "code",
   "execution_count": null,
   "metadata": {},
   "outputs": [],
   "source": []
  },
  {
   "cell_type": "code",
   "execution_count": null,
   "metadata": {},
   "outputs": [],
   "source": []
  },
  {
   "cell_type": "code",
   "execution_count": 526,
   "metadata": {},
   "outputs": [],
   "source": [
    "chosen_int = interactions_hard_test_mrrchange.loc[5485]"
   ]
  },
  {
   "cell_type": "code",
   "execution_count": 527,
   "metadata": {},
   "outputs": [
    {
     "data": {
      "text/plain": [
       "'N12446-0 N13408-0 N13556-0 N14637-0 N16120-0 N17672-0 N18895-0 N22690-0 N3168-0 N33397-0 N36786-0 N37233-0 N42233-0 N43646-1 N49712-0 N53283-0 N53754-0 N57007-0 N60939-0 N65103-1'"
      ]
     },
     "execution_count": 527,
     "metadata": {},
     "output_type": "execute_result"
    }
   ],
   "source": [
    "chosen_int['Impressions']"
   ]
  },
  {
   "cell_type": "code",
   "execution_count": 534,
   "metadata": {},
   "outputs": [
    {
     "data": {
      "text/plain": [
       "array([[\"Deere workers grapple with fallout from Trump's trade war\",\n",
       "        \"Deere workers grapple with fallout from Trump's trade war\"]],\n",
       "      dtype=object)"
      ]
     },
     "execution_count": 534,
     "metadata": {},
     "output_type": "execute_result"
    }
   ],
   "source": [
    "rare_events_df.loc[rare_events_df['News ID'] == \"N65103\",['Title','Abstract']].values"
   ]
  },
  {
   "cell_type": "code",
   "execution_count": null,
   "metadata": {},
   "outputs": [],
   "source": []
  },
  {
   "cell_type": "code",
   "execution_count": 529,
   "metadata": {},
   "outputs": [
    {
     "data": {
      "text/plain": [
       "[('N16120-0', 0.3220510184764862),\n",
       " ('N18895-0', 0.21624664962291718),\n",
       " ('N49712-0', 0.21567758917808533),\n",
       " ('N33397-0', 0.19568651914596558),\n",
       " ('N65103-1', 0.17559780180454254),\n",
       " ('N13408-0', 0.1693427562713623),\n",
       " ('N42233-0', 0.1517842561006546),\n",
       " ('N53754-0', 0.148420512676239),\n",
       " ('N43646-1', 0.14257153868675232),\n",
       " ('N53283-0', 0.1402224749326706),\n",
       " ('N60939-0', 0.13207855820655823),\n",
       " ('N12446-0', 0.12425016611814499),\n",
       " ('N13556-0', 0.11518781632184982),\n",
       " ('N22690-0', 0.10958965122699738),\n",
       " ('N36786-0', 0.10800226777791977),\n",
       " ('N14637-0', 0.10683039575815201),\n",
       " ('N3168-0', 0.10519365221261978),\n",
       " ('N37233-0', 0.09768649935722351),\n",
       " ('N17672-0', 0.09591763466596603),\n",
       " ('N57007-0', 0.08438815921545029)]"
      ]
     },
     "execution_count": 529,
     "metadata": {},
     "output_type": "execute_result"
    }
   ],
   "source": [
    "sorted(zip(chosen_int[\"Impressions\"].split(),chosen_int['pred_aug']),key=lambda x:x[1],reverse=True)"
   ]
  },
  {
   "cell_type": "code",
   "execution_count": 530,
   "metadata": {},
   "outputs": [
    {
     "data": {
      "text/plain": [
       "[('N16120-0', 0.7938815951347351),\n",
       " ('N49712-0', 0.7310102581977844),\n",
       " ('N18895-0', 0.7233477830886841),\n",
       " ('N53754-0', 0.6672472953796387),\n",
       " ('N13408-0', 0.6588578224182129),\n",
       " ('N42233-0', 0.6521636843681335),\n",
       " ('N12446-0', 0.651755154132843),\n",
       " ('N65103-1', 0.6446247100830078),\n",
       " ('N53283-0', 0.6432585120201111),\n",
       " ('N43646-1', 0.5950032472610474),\n",
       " ('N33397-0', 0.5856683850288391),\n",
       " ('N13556-0', 0.5628113150596619),\n",
       " ('N37233-0', 0.5230104327201843),\n",
       " ('N60939-0', 0.5182258486747742),\n",
       " ('N17672-0', 0.5016310811042786),\n",
       " ('N57007-0', 0.49335014820098877),\n",
       " ('N36786-0', 0.48203325271606445),\n",
       " ('N22690-0', 0.47602030634880066),\n",
       " ('N14637-0', 0.4070439040660858),\n",
       " ('N3168-0', 0.35795196890830994)]"
      ]
     },
     "execution_count": 530,
     "metadata": {},
     "output_type": "execute_result"
    }
   ],
   "source": [
    "sorted(zip(chosen_int[\"Impressions\"].split(),chosen_int['pred_or']),key=lambda x:x[1],reverse=True)"
   ]
  },
  {
   "cell_type": "code",
   "execution_count": 536,
   "metadata": {},
   "outputs": [
    {
     "name": "stdout",
     "output_type": "stream",
     "text": [
      "[[\"Stephanie Parze's Car Is at Home. So Is Her Phone. But She's Missing.\"\n",
      "  \"Her car was in the driveway. Her phone was on the couch. Her dog was running around. Everything about Stephanie Parze's home in New Jersey, her father says, seemed undisturbed   except that she was not there. The last time her mother saw Ms. Parze, they had kissed goodbye after a night out with friends and family, according to a report.\"]]\n",
      "[[\"White House releases summary of Trump's first call with Ukraine's Zelensky\"\n",
      "  \"The White House has released a document summarizing President Donald Trump's first phone call with newly elected Ukrainian President Volodymyr Zelensky in April of this year.\"]]\n",
      "[['Wisconsin bus driver saves children wandering in snow, as deadly Arctic air mass grips US'\n",
      "  'As bitter cold took hold across the Midwest earlier this week, a sharp-eyed bus driver in Wisconsin was credited with helping rescue two children who were very underdressed for the weather conditions.']]\n",
      "[['5 arrested in connection with deadly shooting at Airbnb Halloween party'\n",
      "  'Police have arrested five suspects in the Halloween shooting at a California Airbnb that left five partygoers dead. The arrests came during a coordinated police operation in four Northern California cities, reported San Francisco ABC station KGO. Five partygoers were killed on Halloween night at a house in the affluent town of Orinda, just east of Berkeley, that had been rented through Airbnb.']]\n",
      "[[\"Deere workers grapple with fallout from Trump's trade war\"\n",
      "  \"Deere workers grapple with fallout from Trump's trade war\"]]\n",
      "[[\"Raise Billions From Billionaires? Tax Experts Say It's Not That Simple\"\n",
      "  \"One of the signature initiatives of Elizabeth Warren's presidential campaign is a wealth tax that, she says, would pay for many of the programs she proposes.\"]]\n",
      "[['After four years of controversy, embattled Palatine-based school district grants transgender students unrestricted locker room access'\n",
      "  'A northwest suburban high school district in the national spotlight on transgender rights is granting students unrestricted access to locker rooms based on gender identity, a culmination of four years of heated debate. Palatine-based Township High School District 211\\'s board of education on Thursday voted 5 to 2 in favor of the new policy, which states in part that students \"shall be treated ...']]\n",
      "[[\"Trump's Washington hotel has fallen behind competitors, with rooms running nearly half empty, marketing materials show\"\n",
      "  \"A real estate firm hired by Trump's company distributed the materials to potential buyers.\"]]\n",
      "[['FBI releases records from its decades-old probe of torture allegations against Chicago police Cmdr. Jon Burge'\n",
      "  'The FBI opened a civil rights investigation in the early 1990s into allegations of torture by then-Chicago police Cmdr. Jon Burge and detectives under his command, but no charges were ever brought at the time. Those were among key details about the decades-old Burge saga buried in hundreds of pages of previously confidential documents made public on Thursday by the FBI on its website. It ...']]\n",
      "[[\"The world's most profitable company is about to go public\"\n",
      "  \"The oil company that made Saudi Arabia rich is going public. Some say the timing couldn't be worse.\"]]\n",
      "[['Russia lands forces at former U.S. air base in northern Syria'\n",
      "  'Russia lands forces at former U.S. air base in northern Syria']]\n",
      "[[\"Homeless woman living in SUV with dogs moves into apartment with community's help\"\n",
      "  'Two friends in suburn Philadelphia reached out to residents via the Nextdoor app to get food and housing for a former pharmacist with health issues living in an SUV.']]\n",
      "[['Treasury yields tick higher amid uncertainty over US-China trade deal'\n",
      "  'U.S. government debt prices were lower Friday morning, as traders monitored U.S.-China trade developments.']]\n",
      "[['Ultimate property flippers: real estate deals that made fortunes'\n",
      "  'From savvy celebrities to real estate mogul mansions, take a look at these ultimate property flippers who made millions selling houses']]\n",
      "[['9 renovation tips to boost resale value'\n",
      "  'Making the right renovation decisions can help you sell your house quicker, and for more money.']]\n",
      "[['After Saugus High School shooting, prayer unites a grieving community'\n",
      "  'A day that began with the shock of a school shooting in Santa Clarita ended in prayer for many families who gathered for vigils in the area. Standing before hundreds of people at Grace Baptist Church in Santa Clarita on Thursday night, Pastor David Hegg acknowledged that students and parents may be grappling with how to make sense of the shooting at Saugus High School, which left two students ...']]\n",
      "[['How Google Interferes With Its Search Algorithms and Changes Your Results'\n",
      "  'Pressed by businesses, interest groups and governments, the internet giant uses blacklists, algorithm tweaks and an army of contractors to shape what you see.']]\n",
      "[['Amari gets heroic birthday surprise' \"Meet this week's inspiring kid.\"]]\n",
      "[[\"'National tragedy': Surveillance, staffing under review after deaths at VA hospital\"\n",
      "  'After 10 patients died in a suspected serial killing case at a West Virginia VA hospital, the agency is reviewing surveillance and staffing protocols.']]\n",
      "[['Highway blockade reveals splits in Hong Kong protest movement'\n",
      "  'Highway blockade reveals splits in Hong Kong protest movement']]\n"
     ]
    }
   ],
   "source": [
    "for news_id,_ in sorted(zip(chosen_int[\"Impressions\"].split(),chosen_int['pred_aug']),key=lambda x:x[1],reverse=True):\n",
    "    print(news.loc[news['News ID']==news_id.split(\"-\")[0],['Title','Abstract']].values)"
   ]
  },
  {
   "cell_type": "code",
   "execution_count": 539,
   "metadata": {},
   "outputs": [
    {
     "name": "stdout",
     "output_type": "stream",
     "text": [
      "[[\"Stephanie Parze's Car Is at Home. So Is Her Phone. But She's Missing.\"\n",
      "  \"Her car was in the driveway. Her phone was on the couch. Her dog was running around. Everything about Stephanie Parze's home in New Jersey, her father says, seemed undisturbed   except that she was not there. The last time her mother saw Ms. Parze, they had kissed goodbye after a night out with friends and family, according to a report.\"]] False\n",
      "[['Wisconsin bus driver saves children wandering in snow, as deadly Arctic air mass grips US'\n",
      "  'As bitter cold took hold across the Midwest earlier this week, a sharp-eyed bus driver in Wisconsin was credited with helping rescue two children who were very underdressed for the weather conditions.']] False\n",
      "[[\"White House releases summary of Trump's first call with Ukraine's Zelensky\"\n",
      "  \"The White House has released a document summarizing President Donald Trump's first phone call with newly elected Ukrainian President Volodymyr Zelensky in April of this year.\"]] False\n",
      "[[\"Trump's Washington hotel has fallen behind competitors, with rooms running nearly half empty, marketing materials show\"\n",
      "  \"A real estate firm hired by Trump's company distributed the materials to potential buyers.\"]] False\n",
      "[[\"Raise Billions From Billionaires? Tax Experts Say It's Not That Simple\"\n",
      "  \"One of the signature initiatives of Elizabeth Warren's presidential campaign is a wealth tax that, she says, would pay for many of the programs she proposes.\"]] False\n",
      "[['After four years of controversy, embattled Palatine-based school district grants transgender students unrestricted locker room access'\n",
      "  'A northwest suburban high school district in the national spotlight on transgender rights is granting students unrestricted access to locker rooms based on gender identity, a culmination of four years of heated debate. Palatine-based Township High School District 211\\'s board of education on Thursday voted 5 to 2 in favor of the new policy, which states in part that students \"shall be treated ...']] False\n",
      "[[\"Homeless woman living in SUV with dogs moves into apartment with community's help\"\n",
      "  'Two friends in suburn Philadelphia reached out to residents via the Nextdoor app to get food and housing for a former pharmacist with health issues living in an SUV.']] False\n",
      "[[\"Deere workers grapple with fallout from Trump's trade war\"\n",
      "  \"Deere workers grapple with fallout from Trump's trade war\"]] False\n",
      "[[\"The world's most profitable company is about to go public\"\n",
      "  \"The oil company that made Saudi Arabia rich is going public. Some say the timing couldn't be worse.\"]] False\n",
      "[['FBI releases records from its decades-old probe of torture allegations against Chicago police Cmdr. Jon Burge'\n",
      "  'The FBI opened a civil rights investigation in the early 1990s into allegations of torture by then-Chicago police Cmdr. Jon Burge and detectives under his command, but no charges were ever brought at the time. Those were among key details about the decades-old Burge saga buried in hundreds of pages of previously confidential documents made public on Thursday by the FBI on its website. It ...']] False\n",
      "[['5 arrested in connection with deadly shooting at Airbnb Halloween party'\n",
      "  'Police have arrested five suspects in the Halloween shooting at a California Airbnb that left five partygoers dead. The arrests came during a coordinated police operation in four Northern California cities, reported San Francisco ABC station KGO. Five partygoers were killed on Halloween night at a house in the affluent town of Orinda, just east of Berkeley, that had been rented through Airbnb.']] False\n",
      "[['Treasury yields tick higher amid uncertainty over US-China trade deal'\n",
      "  'U.S. government debt prices were lower Friday morning, as traders monitored U.S.-China trade developments.']] False\n",
      "[['Amari gets heroic birthday surprise' \"Meet this week's inspiring kid.\"]] False\n",
      "[['Russia lands forces at former U.S. air base in northern Syria'\n",
      "  'Russia lands forces at former U.S. air base in northern Syria']] False\n",
      "[[\"'National tragedy': Surveillance, staffing under review after deaths at VA hospital\"\n",
      "  'After 10 patients died in a suspected serial killing case at a West Virginia VA hospital, the agency is reviewing surveillance and staffing protocols.']] False\n",
      "[['Highway blockade reveals splits in Hong Kong protest movement'\n",
      "  'Highway blockade reveals splits in Hong Kong protest movement']] False\n",
      "[['9 renovation tips to boost resale value'\n",
      "  'Making the right renovation decisions can help you sell your house quicker, and for more money.']] False\n",
      "[['Ultimate property flippers: real estate deals that made fortunes'\n",
      "  'From savvy celebrities to real estate mogul mansions, take a look at these ultimate property flippers who made millions selling houses']] False\n",
      "[['After Saugus High School shooting, prayer unites a grieving community'\n",
      "  'A day that began with the shock of a school shooting in Santa Clarita ended in prayer for many families who gathered for vigils in the area. Standing before hundreds of people at Grace Baptist Church in Santa Clarita on Thursday night, Pastor David Hegg acknowledged that students and parents may be grappling with how to make sense of the shooting at Saugus High School, which left two students ...']] False\n",
      "[['How Google Interferes With Its Search Algorithms and Changes Your Results'\n",
      "  'Pressed by businesses, interest groups and governments, the internet giant uses blacklists, algorithm tweaks and an army of contractors to shape what you see.']] False\n"
     ]
    }
   ],
   "source": [
    "for news_id,_ in sorted(zip(chosen_int[\"Impressions\"].split(),chosen_int['pred_or']),key=lambda x:x[1],reverse=True):\n",
    "    print(news.loc[news['News ID']==news_id.split(\"-\")[0],['Title','Abstract']].values, news_id in rare_events_df['News ID'])"
   ]
  },
  {
   "cell_type": "code",
   "execution_count": 537,
   "metadata": {},
   "outputs": [
    {
     "name": "stdout",
     "output_type": "stream",
     "text": [
      "[['Missing West Point cadet found dead, officials say'\n",
      "  'A U.S. Military Academy cadet who vanished last week has been found dead, officials said Wednesday.']]\n",
      "[['Northern Michigan father of 7 wins $80M Powerball jackpot'\n",
      "  'Phillip Chippewa, 54, of Suttons Bay matched the winning Powerball numbers drawn Sept. 21.']]\n",
      "[['41 American troops identified so far from remains returned by North Korea'\n",
      "  'Dozens of American soldiers have been identified so far from the 55 boxes of remains and artifacts sent back home from North Korea last year after a historic meeting between Hermit Kingdom leader Kim Jong Un and President Trump, Defense Department officials announced Friday.']]\n",
      "[['In Pictures: ISIS leader Abu Bakr al-Baghdadi killed in US raid' nan]]\n",
      "[['Ex-CIA spy flees from Italy to U.S. fearing for her safety: paper'\n",
      "  'A former U.S. spy, pardoned by Italy in connection with the CIA kidnapping of a terrorism suspect in Milan, has fled from Italy to the United States fearing for her safety, Italian newspaper Il Corriere della Sera on Sunday quoted her as saying.']]\n",
      "[['Nearly $400M worth of cocaine and marijuana intercepted by US Coast Guard'\n",
      "  'The U.S. Coast Guard announced that it seized nearly $367 million of cocaine and about 11,000 pounds of marijuana worth an estimated $10.1 million at a Florida port.']]\n",
      "[['CPD Supt. Eddie Johnson To Present Police Budget Amid Retirement Rumors'\n",
      "  \"Monday's hearing is part of Lightfoot's ongoing budget hearings to dig Chicago out of debt.\"]]\n"
     ]
    }
   ],
   "source": [
    "for news_id in chosen_int[\"History\"].split():\n",
    "    print(news.loc[news['News ID']==news_id.split(\"-\")[0],['Title','Abstract']].values)"
   ]
  },
  {
   "cell_type": "code",
   "execution_count": null,
   "metadata": {},
   "outputs": [],
   "source": []
  },
  {
   "cell_type": "code",
   "execution_count": null,
   "metadata": {},
   "outputs": [],
   "source": [
    "H\n",
    "\n",
    "[['Ex-CIA spy flees from Italy to U.S. fearing for her safety: paper'\n",
    "  'A former U.S. spy, pardoned by Italy in connection with the CIA kidnapping of a terrorism suspect in Milan, has fled from Italy to the United States fearing for her safety, Italian newspaper Il Corriere della Sera on Sunday quoted her as saying.']]\n",
    "[['Nearly $400M worth of cocaine and marijuana intercepted by US Coast Guard'\n",
    "  'The U.S. Coast Guard announced that it seized nearly $367 million of cocaine and about 11,000 pounds of marijuana worth an estimated $10.1 million at a Florida port.']]\n",
    "[['CPD Supt. Eddie Johnson To Present Police Budget Amid Retirement Rumors'\n",
    "  \"Monday's hearing is part of Lightfoot's ongoing budget hearings to dig Chicago out of debt.\"]]\n",
    "\n",
    "\n",
    "\n",
    "Deere workers grapple with fallout from Trump's trade war\"\n",
    "  \"Deere workers grapple with fallout from Trump's trade war\"]]\n",
    "\n",
    "[\"Raise Billions From Billionaires? Tax Experts Say It's Not That Simple\"\n",
    "  \"One of the signature initiatives of Elizabeth Warren's presidential campaign is a wealth tax that, she says, would pay for many of the programs she proposes.\"]]\n",
    "[['After four years of controversy, embattled Palatine-based school district grants transgender students unrestricted locker room access'\n",
    "  'A northwest suburban high school district in the national spotlight on transgender rights is granting students unrestricted access to locker rooms based on gender identity, a culmination of four years of heated debate. Palatine-based Township High School District 211\\'s board of education on Thursday voted 5 to 2 in favor of the new policy, which states in part that students \"shall be treated ...']]\n",
    "[[\"Homeless woman living in SUV with dogs moves into apartment with community's help\"\n",
    "  'Two friends in suburn Philadelphia reached out to residents via the Nextdoor app to get food and housing for a former pharmacist with health issues living in an SUV.']]\n",
    "\n",
    "\n",
    "\n",
    "\n",
    "\n",
    "[[\"Raise Billions From Billionaires? Tax Experts Say It's Not That Simple\"\n",
    "  \"One of the signature initiatives of Elizabeth Warren's presidential campaign is a wealth tax that, she says, would pay for many of the programs she proposes.\"]]\n",
    "[['After four years of controversy, embattled Palatine-based school district grants transgender students unrestricted locker room access'\n",
    "  'A northwest suburban high school district in the national spotlight on transgender rights is granting students unrestricted access to locker rooms based on gender identity, a culmination of four years of heated debate. Palatine-based Township High School District 211\\'s board of education on Thursday voted 5 to 2 in favor of the new policy, which states in part that students \"shall be treated ...']]\n",
    "[[\"Homeless woman living in SUV with dogs moves into apartment with community's help\"\n",
    "  'Two friends in suburn Philadelphia reached out to residents via the Nextdoor app to get food and housing for a former pharmacist with health issues living in an SUV.']]\n",
    "[[\"Deere workers grapple with fallout from Trump's trade war\"\n",
    "  \"Deere workers grapple with fallout from Trump's trade war\"]]\n",
    "\n"
   ]
  },
  {
   "cell_type": "code",
   "execution_count": null,
   "metadata": {},
   "outputs": [],
   "source": []
  },
  {
   "cell_type": "code",
   "execution_count": null,
   "metadata": {},
   "outputs": [],
   "source": []
  },
  {
   "cell_type": "code",
   "execution_count": null,
   "metadata": {},
   "outputs": [],
   "source": []
  },
  {
   "cell_type": "code",
   "execution_count": null,
   "metadata": {},
   "outputs": [],
   "source": []
  },
  {
   "cell_type": "code",
   "execution_count": null,
   "metadata": {},
   "outputs": [
    {
     "data": {
      "text/html": [
       "<div>\n",
       "<style scoped>\n",
       "    .dataframe tbody tr th:only-of-type {\n",
       "        vertical-align: middle;\n",
       "    }\n",
       "\n",
       "    .dataframe tbody tr th {\n",
       "        vertical-align: top;\n",
       "    }\n",
       "\n",
       "    .dataframe thead th {\n",
       "        text-align: right;\n",
       "    }\n",
       "</style>\n",
       "<table border=\"1\" class=\"dataframe\">\n",
       "  <thead>\n",
       "    <tr style=\"text-align: right;\">\n",
       "      <th></th>\n",
       "      <th>News ID</th>\n",
       "      <th>Category</th>\n",
       "      <th>SubCategory</th>\n",
       "      <th>Title</th>\n",
       "      <th>Abstract</th>\n",
       "      <th>URL</th>\n",
       "      <th>Title Entities</th>\n",
       "      <th>Abstract Entities</th>\n",
       "    </tr>\n",
       "  </thead>\n",
       "  <tbody>\n",
       "    <tr>\n",
       "      <th>0</th>\n",
       "      <td>N55528</td>\n",
       "      <td>lifestyle</td>\n",
       "      <td>lifestyleroyals</td>\n",
       "      <td>The Brands Queen Elizabeth, Prince Charles, an...</td>\n",
       "      <td>Shop the notebooks, jackets, and more that the...</td>\n",
       "      <td>https://assets.msn.com/labs/mind/AAGH0ET.html</td>\n",
       "      <td>[{\"Label\": \"Prince Philip, Duke of Edinburgh\",...</td>\n",
       "      <td>[]</td>\n",
       "    </tr>\n",
       "    <tr>\n",
       "      <th>1</th>\n",
       "      <td>N18955</td>\n",
       "      <td>health</td>\n",
       "      <td>medical</td>\n",
       "      <td>Dispose of unwanted prescription drugs during ...</td>\n",
       "      <td>NaN</td>\n",
       "      <td>https://assets.msn.com/labs/mind/AAISxPN.html</td>\n",
       "      <td>[{\"Label\": \"Drug Enforcement Administration\", ...</td>\n",
       "      <td>[]</td>\n",
       "    </tr>\n",
       "    <tr>\n",
       "      <th>2</th>\n",
       "      <td>N61837</td>\n",
       "      <td>news</td>\n",
       "      <td>newsworld</td>\n",
       "      <td>The Cost of Trump's Aid Freeze in the Trenches...</td>\n",
       "      <td>Lt. Ivan Molchanets peeked over a parapet of s...</td>\n",
       "      <td>https://assets.msn.com/labs/mind/AAJgNsz.html</td>\n",
       "      <td>[]</td>\n",
       "      <td>[{\"Label\": \"Ukraine\", \"Type\": \"G\", \"WikidataId...</td>\n",
       "    </tr>\n",
       "    <tr>\n",
       "      <th>3</th>\n",
       "      <td>N53526</td>\n",
       "      <td>health</td>\n",
       "      <td>voices</td>\n",
       "      <td>I Was An NBA Wife. Here's How It Affected My M...</td>\n",
       "      <td>I felt like I was a fraud, and being an NBA wi...</td>\n",
       "      <td>https://assets.msn.com/labs/mind/AACk2N6.html</td>\n",
       "      <td>[]</td>\n",
       "      <td>[{\"Label\": \"National Basketball Association\", ...</td>\n",
       "    </tr>\n",
       "    <tr>\n",
       "      <th>4</th>\n",
       "      <td>N38324</td>\n",
       "      <td>health</td>\n",
       "      <td>medical</td>\n",
       "      <td>How to Get Rid of Skin Tags, According to a De...</td>\n",
       "      <td>They seem harmless, but there's a very good re...</td>\n",
       "      <td>https://assets.msn.com/labs/mind/AAAKEkt.html</td>\n",
       "      <td>[{\"Label\": \"Skin tag\", \"Type\": \"C\", \"WikidataI...</td>\n",
       "      <td>[{\"Label\": \"Skin tag\", \"Type\": \"C\", \"WikidataI...</td>\n",
       "    </tr>\n",
       "  </tbody>\n",
       "</table>\n",
       "</div>"
      ],
      "text/plain": [
       "  News ID   Category      SubCategory  \\\n",
       "0  N55528  lifestyle  lifestyleroyals   \n",
       "1  N18955     health          medical   \n",
       "2  N61837       news        newsworld   \n",
       "3  N53526     health           voices   \n",
       "4  N38324     health          medical   \n",
       "\n",
       "                                               Title  \\\n",
       "0  The Brands Queen Elizabeth, Prince Charles, an...   \n",
       "1  Dispose of unwanted prescription drugs during ...   \n",
       "2  The Cost of Trump's Aid Freeze in the Trenches...   \n",
       "3  I Was An NBA Wife. Here's How It Affected My M...   \n",
       "4  How to Get Rid of Skin Tags, According to a De...   \n",
       "\n",
       "                                            Abstract  \\\n",
       "0  Shop the notebooks, jackets, and more that the...   \n",
       "1                                                NaN   \n",
       "2  Lt. Ivan Molchanets peeked over a parapet of s...   \n",
       "3  I felt like I was a fraud, and being an NBA wi...   \n",
       "4  They seem harmless, but there's a very good re...   \n",
       "\n",
       "                                             URL  \\\n",
       "0  https://assets.msn.com/labs/mind/AAGH0ET.html   \n",
       "1  https://assets.msn.com/labs/mind/AAISxPN.html   \n",
       "2  https://assets.msn.com/labs/mind/AAJgNsz.html   \n",
       "3  https://assets.msn.com/labs/mind/AACk2N6.html   \n",
       "4  https://assets.msn.com/labs/mind/AAAKEkt.html   \n",
       "\n",
       "                                      Title Entities  \\\n",
       "0  [{\"Label\": \"Prince Philip, Duke of Edinburgh\",...   \n",
       "1  [{\"Label\": \"Drug Enforcement Administration\", ...   \n",
       "2                                                 []   \n",
       "3                                                 []   \n",
       "4  [{\"Label\": \"Skin tag\", \"Type\": \"C\", \"WikidataI...   \n",
       "\n",
       "                                   Abstract Entities  \n",
       "0                                                 []  \n",
       "1                                                 []  \n",
       "2  [{\"Label\": \"Ukraine\", \"Type\": \"G\", \"WikidataId...  \n",
       "3  [{\"Label\": \"National Basketball Association\", ...  \n",
       "4  [{\"Label\": \"Skin tag\", \"Type\": \"C\", \"WikidataI...  "
      ]
     },
     "metadata": {},
     "output_type": "display_data"
    }
   ],
   "source": [
    "news.head()"
   ]
  },
  {
   "cell_type": "code",
   "execution_count": null,
   "metadata": {},
   "outputs": [],
   "source": []
  },
  {
   "cell_type": "code",
   "execution_count": null,
   "metadata": {},
   "outputs": [],
   "source": []
  },
  {
   "cell_type": "code",
   "execution_count": null,
   "metadata": {},
   "outputs": [],
   "source": []
  },
  {
   "cell_type": "code",
   "execution_count": null,
   "metadata": {},
   "outputs": [],
   "source": []
  },
  {
   "cell_type": "code",
   "execution_count": 432,
   "metadata": {},
   "outputs": [
    {
     "data": {
      "text/plain": [
       "Index(['News ID', 'Category', 'SubCategory', 'Title', 'Abstract', 'URL',\n",
       "       'Title Entities', 'Abstract Entities'],\n",
       "      dtype='object')"
      ]
     },
     "execution_count": 432,
     "metadata": {},
     "output_type": "execute_result"
    }
   ],
   "source": [
    "news.columns"
   ]
  },
  {
   "cell_type": "code",
   "execution_count": null,
   "metadata": {},
   "outputs": [],
   "source": []
  },
  {
   "cell_type": "code",
   "execution_count": null,
   "metadata": {},
   "outputs": [],
   "source": []
  },
  {
   "cell_type": "code",
   "execution_count": null,
   "metadata": {},
   "outputs": [],
   "source": []
  },
  {
   "cell_type": "code",
   "execution_count": 426,
   "metadata": {},
   "outputs": [
    {
     "data": {
      "text/html": [
       "<div>\n",
       "<style scoped>\n",
       "    .dataframe tbody tr th:only-of-type {\n",
       "        vertical-align: middle;\n",
       "    }\n",
       "\n",
       "    .dataframe tbody tr th {\n",
       "        vertical-align: top;\n",
       "    }\n",
       "\n",
       "    .dataframe thead th {\n",
       "        text-align: right;\n",
       "    }\n",
       "</style>\n",
       "<table border=\"1\" class=\"dataframe\">\n",
       "  <thead>\n",
       "    <tr style=\"text-align: right;\">\n",
       "      <th></th>\n",
       "      <th>News ID</th>\n",
       "      <th>Category</th>\n",
       "      <th>SubCategory</th>\n",
       "      <th>Title</th>\n",
       "      <th>Abstract</th>\n",
       "      <th>URL</th>\n",
       "      <th>Title Entities</th>\n",
       "      <th>Abstract Entities</th>\n",
       "    </tr>\n",
       "  </thead>\n",
       "  <tbody>\n",
       "    <tr>\n",
       "      <th>39878</th>\n",
       "      <td>N33297</td>\n",
       "      <td>Johnson opens door to subpoenaing whistleblowe...</td>\n",
       "      <td>news</td>\n",
       "      <td>Senate Homeland Security and Governmental Affa...</td>\n",
       "      <td>NaN</td>\n",
       "      <td>NaN</td>\n",
       "      <td>NaN</td>\n",
       "      <td>NaN</td>\n",
       "    </tr>\n",
       "  </tbody>\n",
       "</table>\n",
       "</div>"
      ],
      "text/plain": [
       "      News ID                                           Category SubCategory  \\\n",
       "39878  N33297  Johnson opens door to subpoenaing whistleblowe...        news   \n",
       "\n",
       "                                                   Title  Abstract  URL  \\\n",
       "39878  Senate Homeland Security and Governmental Affa...       NaN  NaN   \n",
       "\n",
       "       Title Entities  Abstract Entities  \n",
       "39878             NaN                NaN  "
      ]
     },
     "execution_count": 426,
     "metadata": {},
     "output_type": "execute_result"
    }
   ],
   "source": [
    "news.loc[news['News ID']=='N33297']"
   ]
  },
  {
   "cell_type": "code",
   "execution_count": 427,
   "metadata": {},
   "outputs": [
    {
     "data": {
      "text/plain": [
       "array([\"Senate Homeland Security and Governmental Affairs Committee Chairman Ron Johnson (R-Wis.) opened the door on Thursday to subpoenaing a cadre of top Republican targets as part of his panel's oversight work. Pressed if he would issue subpoenas for House Intelligence Committee Chairman Adam Schiff (D-Calif.), former Vice President Biden or his son Hunter Biden or the whistleblower at the center of the impeachment inquiry, Johnson stressed that he...\"],\n",
       "      dtype=object)"
      ]
     },
     "execution_count": 427,
     "metadata": {},
     "output_type": "execute_result"
    }
   ],
   "source": [
    "news.loc[news['News ID']=='N33297','Title'].values"
   ]
  },
  {
   "cell_type": "code",
   "execution_count": 428,
   "metadata": {},
   "outputs": [
    {
     "data": {
      "text/plain": [
       "Index(['News ID', 'Category', 'SubCategory', 'Title', 'Abstract', 'URL',\n",
       "       'Title Entities', 'Abstract Entities'],\n",
       "      dtype='object')"
      ]
     },
     "execution_count": 428,
     "metadata": {},
     "output_type": "execute_result"
    }
   ],
   "source": [
    "news.columns"
   ]
  },
  {
   "cell_type": "code",
   "execution_count": null,
   "metadata": {},
   "outputs": [],
   "source": []
  },
  {
   "cell_type": "code",
   "execution_count": null,
   "metadata": {},
   "outputs": [],
   "source": [
    "3865"
   ]
  },
  {
   "cell_type": "code",
   "execution_count": null,
   "metadata": {},
   "outputs": [],
   "source": []
  },
  {
   "cell_type": "code",
   "execution_count": 292,
   "metadata": {},
   "outputs": [],
   "source": [
    "chosen_int = interactions_hard_test_mrrchange.loc[3865]"
   ]
  },
  {
   "cell_type": "code",
   "execution_count": 293,
   "metadata": {},
   "outputs": [
    {
     "data": {
      "text/plain": [
       "'N11681-0 N12146-0 N12703-0 N13408-0 N13556-0 N1597-0 N17672-0 N19685-0 N21571-0 N22975-0 N25664-0 N26063-0 N26918-0 N27057-0 N27738-0 N2852-0 N28716-0 N3168-0 N33486-0 N34633-0 N36779-0 N36786-0 N42950-0 N46862-0 N46917-0 N47576-0 N53283-0 N53630-0 N57007-0 N57085-0 N59876-0 N6051-0 N60747-0 N64744-0 N6477-0 N65103-1'"
      ]
     },
     "execution_count": 293,
     "metadata": {},
     "output_type": "execute_result"
    }
   ],
   "source": [
    "chosen_int['Impressions']"
   ]
  },
  {
   "cell_type": "code",
   "execution_count": 294,
   "metadata": {},
   "outputs": [
    {
     "data": {
      "text/plain": [
       "array([['Climate change looms over giant Saudi energy IPO',\n",
       "        'As investors weigh up the value of Saudi energy colossus Aramco ahead of its IPO next month, the global drive to contain climate change and waning demand for fossil fuels are seen as key risks. \"There\\'s no doubt that environmental, social and governance risks will factor in the calculations of investors looking at the Saudi Aramco IPO,\" said Torbjorn Soltvedt from Verisk Maplecroft, a UK-based strategic consulting firm.']],\n",
       "      dtype=object)"
      ]
     },
     "execution_count": 294,
     "metadata": {},
     "output_type": "execute_result"
    }
   ],
   "source": [
    "rare_events_df.loc[rare_events_df['News ID'] == \"N42950\",['Title','Abstract']].values"
   ]
  },
  {
   "cell_type": "code",
   "execution_count": null,
   "metadata": {},
   "outputs": [],
   "source": []
  },
  {
   "cell_type": "code",
   "execution_count": 295,
   "metadata": {},
   "outputs": [
    {
     "data": {
      "text/plain": [
       "[('N11681-0', 0.37168172001838684),\n",
       " ('N46917-0', 0.31525057554244995),\n",
       " ('N27738-0', 0.25004735589027405),\n",
       " ('N25664-0', 0.23727889358997345),\n",
       " ('N6477-0', 0.2211844027042389),\n",
       " ('N22975-0', 0.21877972781658173),\n",
       " ('N36779-0', 0.21434205770492554),\n",
       " ('N1597-0', 0.21265587210655212),\n",
       " ('N53630-0', 0.20128077268600464),\n",
       " ('N59876-0', 0.1875045746564865),\n",
       " ('N47576-0', 0.17672845721244812),\n",
       " ('N65103-1', 0.17559780180454254),\n",
       " ('N64744-0', 0.17405684292316437),\n",
       " ('N34633-0', 0.1740388572216034),\n",
       " ('N19685-0', 0.17385995388031006),\n",
       " ('N13408-0', 0.1693427562713623),\n",
       " ('N12146-0', 0.1646149605512619),\n",
       " ('N12703-0', 0.15629002451896667),\n",
       " ('N2852-0', 0.1407688707113266),\n",
       " ('N53283-0', 0.1402224749326706),\n",
       " ('N27057-0', 0.1272057294845581),\n",
       " ('N6051-0', 0.1250666081905365),\n",
       " ('N26063-0', 0.11868644505739212),\n",
       " ('N13556-0', 0.11518781632184982),\n",
       " ('N57085-0', 0.1128404438495636),\n",
       " ('N36786-0', 0.10800226777791977),\n",
       " ('N3168-0', 0.10519365221261978),\n",
       " ('N17672-0', 0.09591763466596603),\n",
       " ('N57007-0', 0.08438815921545029),\n",
       " ('N28716-0', 0.08347739279270172),\n",
       " ('N42950-0', 0.07800927013158798),\n",
       " ('N46862-0', 0.07363935559988022),\n",
       " ('N60747-0', 0.0698220506310463),\n",
       " ('N21571-0', 0.06900466978549957),\n",
       " ('N33486-0', 0.0605466403067112),\n",
       " ('N26918-0', 0.024931523948907852)]"
      ]
     },
     "execution_count": 295,
     "metadata": {},
     "output_type": "execute_result"
    }
   ],
   "source": [
    "sorted(zip(chosen_int[\"Impressions\"].split(),chosen_int['pred_aug']),key=lambda x:x[1],reverse=True)"
   ]
  },
  {
   "cell_type": "code",
   "execution_count": 296,
   "metadata": {},
   "outputs": [
    {
     "data": {
      "text/plain": [
       "[('N46917-0', 0.8090400099754333),\n",
       " ('N11681-0', 0.7941903471946716),\n",
       " ('N6477-0', 0.7483832836151123),\n",
       " ('N22975-0', 0.7272791862487793),\n",
       " ('N19685-0', 0.7087116837501526),\n",
       " ('N27738-0', 0.6845247149467468),\n",
       " ('N47576-0', 0.6743916869163513),\n",
       " ('N36779-0', 0.6652841567993164),\n",
       " ('N64744-0', 0.6636412143707275),\n",
       " ('N1597-0', 0.6605821847915649),\n",
       " ('N13408-0', 0.6588578224182129),\n",
       " ('N59876-0', 0.6568911075592041),\n",
       " ('N65103-1', 0.6446247100830078),\n",
       " ('N53283-0', 0.6432585120201111),\n",
       " ('N25664-0', 0.6342641711235046),\n",
       " ('N2852-0', 0.6116254329681396),\n",
       " ('N12146-0', 0.5937843322753906),\n",
       " ('N53630-0', 0.5932064056396484),\n",
       " ('N27057-0', 0.590977132320404),\n",
       " ('N12703-0', 0.5882846117019653),\n",
       " ('N13556-0', 0.5628113150596619),\n",
       " ('N34633-0', 0.5619239211082458),\n",
       " ('N26063-0', 0.5484316945075989),\n",
       " ('N57085-0', 0.5335114002227783),\n",
       " ('N28716-0', 0.5102424621582031),\n",
       " ('N17672-0', 0.5016310811042786),\n",
       " ('N57007-0', 0.49335014820098877),\n",
       " ('N36786-0', 0.48203325271606445),\n",
       " ('N6051-0', 0.48016294836997986),\n",
       " ('N46862-0', 0.4719788134098053),\n",
       " ('N42950-0', 0.4568440914154053),\n",
       " ('N21571-0', 0.4030377268791199),\n",
       " ('N3168-0', 0.35795196890830994),\n",
       " ('N60747-0', 0.34224826097488403),\n",
       " ('N26918-0', 0.3315029740333557),\n",
       " ('N33486-0', 0.303703635931015)]"
      ]
     },
     "execution_count": 296,
     "metadata": {},
     "output_type": "execute_result"
    }
   ],
   "source": [
    "sorted(zip(chosen_int[\"Impressions\"].split(),chosen_int['pred_or']),key=lambda x:x[1],reverse=True)"
   ]
  },
  {
   "cell_type": "code",
   "execution_count": 318,
   "metadata": {},
   "outputs": [
    {
     "data": {
      "text/plain": [
       "array([\"Deere workers grapple with fallout from Trump's trade war\"],\n",
       "      dtype=object)"
      ]
     },
     "execution_count": 318,
     "metadata": {},
     "output_type": "execute_result"
    }
   ],
   "source": [
    "news.loc[news['News ID']=='N65103','Title'].values"
   ]
  },
  {
   "cell_type": "code",
   "execution_count": 299,
   "metadata": {},
   "outputs": [
    {
     "data": {
      "text/plain": [
       "Index(['News ID', 'Category', 'SubCategory', 'Title', 'Abstract', 'URL',\n",
       "       'Title Entities', 'Abstract Entities'],\n",
       "      dtype='object')"
      ]
     },
     "execution_count": 299,
     "metadata": {},
     "output_type": "execute_result"
    }
   ],
   "source": [
    "news.columns"
   ]
  },
  {
   "cell_type": "code",
   "execution_count": null,
   "metadata": {},
   "outputs": [],
   "source": []
  },
  {
   "cell_type": "code",
   "execution_count": null,
   "metadata": {},
   "outputs": [],
   "source": []
  },
  {
   "cell_type": "code",
   "execution_count": null,
   "metadata": {},
   "outputs": [],
   "source": []
  },
  {
   "cell_type": "code",
   "execution_count": null,
   "metadata": {},
   "outputs": [],
   "source": []
  },
  {
   "cell_type": "code",
   "execution_count": 262,
   "metadata": {},
   "outputs": [],
   "source": [
    "chosen_int = interactions_hard_test_mrrchange.loc[4093]"
   ]
  },
  {
   "cell_type": "code",
   "execution_count": 263,
   "metadata": {},
   "outputs": [
    {
     "data": {
      "text/plain": [
       "'N11390-1 N21681-0 N24802-0 N29091-1 N3168-1 N37055-0 N55084-0'"
      ]
     },
     "execution_count": 263,
     "metadata": {},
     "output_type": "execute_result"
    }
   ],
   "source": [
    "chosen_int['Impressions']"
   ]
  },
  {
   "cell_type": "code",
   "execution_count": 265,
   "metadata": {},
   "outputs": [
    {
     "data": {
      "text/plain": [
       "array([], shape=(0, 2), dtype=object)"
      ]
     },
     "execution_count": 265,
     "metadata": {},
     "output_type": "execute_result"
    }
   ],
   "source": [
    "rare_events_df.loc[rare_events_df['News ID'] == \"N3168\",['Title','Abstract']].values"
   ]
  },
  {
   "cell_type": "code",
   "execution_count": null,
   "metadata": {},
   "outputs": [],
   "source": []
  },
  {
   "cell_type": "code",
   "execution_count": null,
   "metadata": {},
   "outputs": [],
   "source": []
  },
  {
   "cell_type": "code",
   "execution_count": 201,
   "metadata": {},
   "outputs": [
    {
     "data": {
      "text/html": [
       "<div>\n",
       "<style scoped>\n",
       "    .dataframe tbody tr th:only-of-type {\n",
       "        vertical-align: middle;\n",
       "    }\n",
       "\n",
       "    .dataframe tbody tr th {\n",
       "        vertical-align: top;\n",
       "    }\n",
       "\n",
       "    .dataframe thead th {\n",
       "        text-align: right;\n",
       "    }\n",
       "</style>\n",
       "<table border=\"1\" class=\"dataframe\">\n",
       "  <thead>\n",
       "    <tr style=\"text-align: right;\">\n",
       "      <th></th>\n",
       "      <th>News ID</th>\n",
       "      <th>Category</th>\n",
       "      <th>SubCategory</th>\n",
       "      <th>Title</th>\n",
       "      <th>Abstract</th>\n",
       "      <th>URL</th>\n",
       "      <th>Title Entities</th>\n",
       "      <th>Abstract Entities</th>\n",
       "      <th>full_text</th>\n",
       "      <th>rare_event_score</th>\n",
       "    </tr>\n",
       "  </thead>\n",
       "  <tbody>\n",
       "    <tr>\n",
       "      <th>37378</th>\n",
       "      <td>N12682</td>\n",
       "      <td>finance</td>\n",
       "      <td>markets</td>\n",
       "      <td>This is what the trade war looks like in bourb...</td>\n",
       "      <td>After Europe retaliated with tariffs on Kentuc...</td>\n",
       "      <td>https://assets.msn.com/labs/mind/BBWLqIV.html</td>\n",
       "      <td>[]</td>\n",
       "      <td>[{\"Label\": \"Lexington, Kentucky\", \"Type\": \"G\",...</td>\n",
       "      <td>This is what the trade war looks like in bourb...</td>\n",
       "      <td>0.031295</td>\n",
       "    </tr>\n",
       "  </tbody>\n",
       "</table>\n",
       "</div>"
      ],
      "text/plain": [
       "      News ID Category SubCategory  \\\n",
       "37378  N12682  finance     markets   \n",
       "\n",
       "                                                   Title  \\\n",
       "37378  This is what the trade war looks like in bourb...   \n",
       "\n",
       "                                                Abstract  \\\n",
       "37378  After Europe retaliated with tariffs on Kentuc...   \n",
       "\n",
       "                                                 URL Title Entities  \\\n",
       "37378  https://assets.msn.com/labs/mind/BBWLqIV.html             []   \n",
       "\n",
       "                                       Abstract Entities  \\\n",
       "37378  [{\"Label\": \"Lexington, Kentucky\", \"Type\": \"G\",...   \n",
       "\n",
       "                                               full_text  rare_event_score  \n",
       "37378  This is what the trade war looks like in bourb...          0.031295  "
      ]
     },
     "execution_count": 201,
     "metadata": {},
     "output_type": "execute_result"
    }
   ],
   "source": [
    "rare_events_df.loc[rare_events_df['News ID'] == \"N12682\"]"
   ]
  },
  {
   "cell_type": "code",
   "execution_count": 147,
   "metadata": {},
   "outputs": [
    {
     "data": {
      "text/plain": [
       "dict_keys(['pred', 'impression_id'])"
      ]
     },
     "execution_count": 147,
     "metadata": {},
     "output_type": "execute_result"
    }
   ],
   "source": [
    "pred_aug.keys()"
   ]
  },
  {
   "cell_type": "code",
   "execution_count": 172,
   "metadata": {},
   "outputs": [
    {
     "data": {
      "text/html": [
       "<div>\n",
       "<style scoped>\n",
       "    .dataframe tbody tr th:only-of-type {\n",
       "        vertical-align: middle;\n",
       "    }\n",
       "\n",
       "    .dataframe tbody tr th {\n",
       "        vertical-align: top;\n",
       "    }\n",
       "\n",
       "    .dataframe thead th {\n",
       "        text-align: right;\n",
       "    }\n",
       "</style>\n",
       "<table border=\"1\" class=\"dataframe\">\n",
       "  <thead>\n",
       "    <tr style=\"text-align: right;\">\n",
       "      <th></th>\n",
       "      <th>pred</th>\n",
       "      <th>impression_id</th>\n",
       "    </tr>\n",
       "  </thead>\n",
       "  <tbody>\n",
       "  </tbody>\n",
       "</table>\n",
       "</div>"
      ],
      "text/plain": [
       "Empty DataFrame\n",
       "Columns: [pred, impression_id]\n",
       "Index: []"
      ]
     },
     "execution_count": 172,
     "metadata": {},
     "output_type": "execute_result"
    }
   ],
   "source": [
    "pred_aug.loc[pred_aug['impression_id']==41191]"
   ]
  },
  {
   "cell_type": "code",
   "execution_count": 150,
   "metadata": {},
   "outputs": [
    {
     "data": {
      "text/plain": [
       "[0,\n",
       " 0,\n",
       " 0,\n",
       " 1,\n",
       " 1,\n",
       " 1,\n",
       " 1,\n",
       " 1,\n",
       " 1,\n",
       " 1,\n",
       " 1,\n",
       " 2,\n",
       " 2,\n",
       " 2,\n",
       " 2,\n",
       " 2,\n",
       " 2,\n",
       " 2,\n",
       " 2,\n",
       " 2,\n",
       " 2,\n",
       " 2,\n",
       " 2,\n",
       " 2,\n",
       " 2,\n",
       " 2,\n",
       " 2,\n",
       " 3,\n",
       " 3,\n",
       " 3,\n",
       " 3,\n",
       " 3,\n",
       " 3,\n",
       " 3,\n",
       " 3,\n",
       " 3,\n",
       " 3,\n",
       " 4,\n",
       " 4,\n",
       " 4,\n",
       " 4,\n",
       " 4,\n",
       " 4,\n",
       " 5,\n",
       " 5,\n",
       " 5,\n",
       " 5,\n",
       " 6,\n",
       " 6,\n",
       " 6,\n",
       " 6,\n",
       " 6,\n",
       " 7,\n",
       " 7,\n",
       " 7,\n",
       " 8,\n",
       " 8,\n",
       " 8,\n",
       " 8,\n",
       " 8,\n",
       " 8,\n",
       " 9,\n",
       " 9,\n",
       " 9,\n",
       " 9,\n",
       " 9,\n",
       " 9,\n",
       " 9,\n",
       " 10,\n",
       " 10,\n",
       " 10,\n",
       " 10,\n",
       " 10,\n",
       " 10,\n",
       " 10,\n",
       " 10,\n",
       " 10,\n",
       " 10,\n",
       " 10,\n",
       " 11,\n",
       " 11,\n",
       " 11,\n",
       " 11,\n",
       " 11,\n",
       " 11,\n",
       " 11,\n",
       " 11,\n",
       " 11,\n",
       " 11,\n",
       " 11,\n",
       " 11,\n",
       " 11,\n",
       " 11,\n",
       " 11,\n",
       " 11,\n",
       " 11,\n",
       " 11,\n",
       " 11,\n",
       " 11,\n",
       " 11,\n",
       " 11,\n",
       " 11,\n",
       " 11,\n",
       " 11,\n",
       " 11,\n",
       " 12,\n",
       " 12,\n",
       " 12,\n",
       " 12,\n",
       " 13,\n",
       " 13,\n",
       " 13,\n",
       " 13,\n",
       " 14,\n",
       " 14,\n",
       " 15,\n",
       " 15,\n",
       " 15,\n",
       " 15,\n",
       " 15,\n",
       " 15,\n",
       " 15,\n",
       " 15,\n",
       " 15,\n",
       " 15,\n",
       " 15,\n",
       " 15,\n",
       " 15,\n",
       " 15,\n",
       " 15,\n",
       " 15,\n",
       " 15,\n",
       " 15,\n",
       " 15,\n",
       " 15,\n",
       " 15,\n",
       " 15,\n",
       " 15,\n",
       " 15,\n",
       " 16,\n",
       " 16,\n",
       " 16,\n",
       " 16,\n",
       " 16,\n",
       " 16,\n",
       " 17,\n",
       " 17,\n",
       " 17,\n",
       " 17,\n",
       " 17,\n",
       " 17,\n",
       " 17,\n",
       " 17,\n",
       " 17,\n",
       " 17,\n",
       " 17,\n",
       " 17,\n",
       " 17,\n",
       " 17,\n",
       " 17,\n",
       " 17,\n",
       " 17,\n",
       " 17,\n",
       " 17,\n",
       " 17,\n",
       " 17,\n",
       " 17,\n",
       " 17,\n",
       " 17,\n",
       " 17,\n",
       " 17,\n",
       " 17,\n",
       " 17,\n",
       " 17,\n",
       " 17,\n",
       " 17,\n",
       " 17,\n",
       " 17,\n",
       " 17,\n",
       " 17,\n",
       " 17,\n",
       " 17,\n",
       " 17,\n",
       " 17,\n",
       " 17,\n",
       " 17,\n",
       " 17,\n",
       " 17,\n",
       " 17,\n",
       " 17,\n",
       " 17,\n",
       " 17,\n",
       " 17,\n",
       " 17,\n",
       " 17,\n",
       " 17,\n",
       " 17,\n",
       " 17,\n",
       " 17,\n",
       " 17,\n",
       " 17,\n",
       " 17,\n",
       " 18,\n",
       " 18,\n",
       " 18,\n",
       " 19,\n",
       " 19,\n",
       " 19,\n",
       " 19,\n",
       " 19,\n",
       " 19,\n",
       " 19,\n",
       " 19,\n",
       " 19,\n",
       " 19,\n",
       " 19,\n",
       " 19,\n",
       " 19,\n",
       " 19,\n",
       " 19,\n",
       " 19,\n",
       " 19,\n",
       " 19,\n",
       " 19,\n",
       " 19,\n",
       " 19,\n",
       " 19,\n",
       " 19,\n",
       " 19,\n",
       " 19,\n",
       " 19,\n",
       " 19,\n",
       " 19,\n",
       " 19,\n",
       " 20,\n",
       " 20,\n",
       " 20,\n",
       " 20,\n",
       " 20,\n",
       " 20,\n",
       " 20,\n",
       " 20,\n",
       " 20,\n",
       " 20,\n",
       " 20,\n",
       " 20,\n",
       " 20,\n",
       " 20,\n",
       " 20,\n",
       " 20,\n",
       " 20,\n",
       " 20,\n",
       " 20,\n",
       " 20,\n",
       " 20,\n",
       " 20,\n",
       " 20,\n",
       " 20,\n",
       " 20,\n",
       " 20,\n",
       " 20,\n",
       " 20,\n",
       " 20,\n",
       " 20,\n",
       " 21,\n",
       " 21,\n",
       " 21,\n",
       " 21,\n",
       " 21,\n",
       " 21,\n",
       " 21,\n",
       " 21,\n",
       " 21,\n",
       " 21,\n",
       " 21,\n",
       " 21,\n",
       " 21,\n",
       " 21,\n",
       " 21,\n",
       " 21,\n",
       " 22,\n",
       " 22,\n",
       " 22,\n",
       " 22,\n",
       " 22,\n",
       " 22,\n",
       " 22,\n",
       " 22,\n",
       " 23,\n",
       " 23,\n",
       " 23,\n",
       " 23,\n",
       " 23,\n",
       " 23,\n",
       " 24,\n",
       " 24,\n",
       " 24,\n",
       " 24,\n",
       " 24,\n",
       " 24,\n",
       " 24,\n",
       " 24,\n",
       " 24,\n",
       " 24,\n",
       " 24,\n",
       " 24,\n",
       " 24,\n",
       " 24,\n",
       " 24,\n",
       " 24,\n",
       " 24,\n",
       " 24,\n",
       " 24,\n",
       " 24,\n",
       " 24,\n",
       " 24,\n",
       " 24,\n",
       " 24,\n",
       " 24,\n",
       " 24,\n",
       " 24,\n",
       " 24,\n",
       " 24,\n",
       " 24,\n",
       " 24,\n",
       " 24,\n",
       " 24,\n",
       " 24,\n",
       " 24,\n",
       " 24,\n",
       " 24,\n",
       " 25,\n",
       " 25,\n",
       " 25,\n",
       " 26,\n",
       " 26,\n",
       " 26,\n",
       " 27,\n",
       " 27,\n",
       " 27,\n",
       " 27,\n",
       " 27,\n",
       " 27,\n",
       " 27,\n",
       " 27,\n",
       " 27,\n",
       " 27,\n",
       " 27,\n",
       " 27,\n",
       " 27,\n",
       " 27,\n",
       " 27,\n",
       " 27,\n",
       " 27,\n",
       " 27,\n",
       " 27,\n",
       " 27,\n",
       " 27,\n",
       " 28,\n",
       " 28,\n",
       " 28,\n",
       " 28,\n",
       " 28,\n",
       " 28,\n",
       " 28,\n",
       " 28,\n",
       " 28,\n",
       " 28,\n",
       " 28,\n",
       " 28,\n",
       " 28,\n",
       " 28,\n",
       " 28,\n",
       " 28,\n",
       " 29,\n",
       " 29,\n",
       " 29,\n",
       " 29,\n",
       " 29,\n",
       " 29,\n",
       " 29,\n",
       " 29,\n",
       " 29,\n",
       " 29,\n",
       " 29,\n",
       " 29,\n",
       " 29,\n",
       " 29,\n",
       " 29,\n",
       " 29,\n",
       " 29,\n",
       " 29,\n",
       " 29,\n",
       " 30,\n",
       " 30,\n",
       " 30,\n",
       " 31,\n",
       " 31,\n",
       " 31,\n",
       " 31,\n",
       " 31,\n",
       " 32,\n",
       " 32,\n",
       " 32,\n",
       " 33,\n",
       " 33,\n",
       " 33,\n",
       " 34,\n",
       " 34,\n",
       " 34,\n",
       " 34,\n",
       " 34,\n",
       " 35,\n",
       " 35,\n",
       " 35,\n",
       " 35,\n",
       " 35,\n",
       " 35,\n",
       " 35,\n",
       " 35,\n",
       " 35,\n",
       " 35,\n",
       " 35,\n",
       " 35,\n",
       " 35,\n",
       " 35,\n",
       " 35,\n",
       " 35,\n",
       " 35,\n",
       " 35,\n",
       " 35,\n",
       " 35,\n",
       " 35,\n",
       " 35,\n",
       " 35,\n",
       " 35,\n",
       " 35,\n",
       " 35,\n",
       " 35,\n",
       " 35,\n",
       " 35,\n",
       " 35,\n",
       " 35,\n",
       " 35,\n",
       " 35,\n",
       " 35,\n",
       " 35,\n",
       " 35,\n",
       " 36,\n",
       " 36,\n",
       " 36,\n",
       " 36,\n",
       " 36,\n",
       " 36,\n",
       " 36,\n",
       " 36,\n",
       " 36,\n",
       " 36,\n",
       " 36,\n",
       " 36,\n",
       " 36,\n",
       " 36,\n",
       " 36,\n",
       " 36,\n",
       " 36,\n",
       " 36,\n",
       " 36,\n",
       " 36,\n",
       " 36,\n",
       " 36,\n",
       " 36,\n",
       " 36,\n",
       " 36,\n",
       " 36,\n",
       " 36,\n",
       " 36,\n",
       " 36,\n",
       " 36,\n",
       " 36,\n",
       " 37,\n",
       " 37,\n",
       " 37,\n",
       " 37,\n",
       " 37,\n",
       " 37,\n",
       " 37,\n",
       " 38,\n",
       " 38,\n",
       " 38,\n",
       " 38,\n",
       " 38,\n",
       " 38,\n",
       " 38,\n",
       " 38,\n",
       " 38,\n",
       " 38,\n",
       " 38,\n",
       " 38,\n",
       " 38,\n",
       " 38,\n",
       " 38,\n",
       " 38,\n",
       " 38,\n",
       " 38,\n",
       " 38,\n",
       " 38,\n",
       " 38,\n",
       " 38,\n",
       " 38,\n",
       " 38,\n",
       " 38,\n",
       " 38,\n",
       " 38,\n",
       " 38,\n",
       " 38,\n",
       " 38,\n",
       " 38,\n",
       " 38,\n",
       " 38,\n",
       " 38,\n",
       " 38,\n",
       " 38,\n",
       " 38,\n",
       " 38,\n",
       " 38,\n",
       " 38,\n",
       " 38,\n",
       " 38,\n",
       " 38,\n",
       " 39,\n",
       " 39,\n",
       " 40,\n",
       " 40,\n",
       " 40,\n",
       " 40,\n",
       " 41,\n",
       " 41,\n",
       " 41,\n",
       " 41,\n",
       " 41,\n",
       " 41,\n",
       " 41,\n",
       " 41,\n",
       " 41,\n",
       " 41,\n",
       " 41,\n",
       " 41,\n",
       " 41,\n",
       " 41,\n",
       " 41,\n",
       " 41,\n",
       " 41,\n",
       " 41,\n",
       " 42,\n",
       " 42,\n",
       " 42,\n",
       " 42,\n",
       " 42,\n",
       " 42,\n",
       " 42,\n",
       " 42,\n",
       " 42,\n",
       " 43,\n",
       " 43,\n",
       " 43,\n",
       " 43,\n",
       " 43,\n",
       " 43,\n",
       " 43,\n",
       " 43,\n",
       " 43,\n",
       " 43,\n",
       " 43,\n",
       " 43,\n",
       " 43,\n",
       " 43,\n",
       " 43,\n",
       " 43,\n",
       " 43,\n",
       " 43,\n",
       " 43,\n",
       " 43,\n",
       " 43,\n",
       " 43,\n",
       " 43,\n",
       " 43,\n",
       " 43,\n",
       " 43,\n",
       " 43,\n",
       " 43,\n",
       " 43,\n",
       " 43,\n",
       " 43,\n",
       " 43,\n",
       " 43,\n",
       " 43,\n",
       " 43,\n",
       " 43,\n",
       " 43,\n",
       " 43,\n",
       " 43,\n",
       " 43,\n",
       " 43,\n",
       " 43,\n",
       " 43,\n",
       " 43,\n",
       " 43,\n",
       " 43,\n",
       " 43,\n",
       " 43,\n",
       " 43,\n",
       " 43,\n",
       " 43,\n",
       " 43,\n",
       " 43,\n",
       " 43,\n",
       " 43,\n",
       " 43,\n",
       " 43,\n",
       " 43,\n",
       " 43,\n",
       " 43,\n",
       " 43,\n",
       " 44,\n",
       " 44,\n",
       " 44,\n",
       " 44,\n",
       " 44,\n",
       " 44,\n",
       " 44,\n",
       " 44,\n",
       " 44,\n",
       " 45,\n",
       " 45,\n",
       " 45,\n",
       " 45,\n",
       " 45,\n",
       " 45,\n",
       " 45,\n",
       " 45,\n",
       " 46,\n",
       " 46,\n",
       " 46,\n",
       " 46,\n",
       " 46,\n",
       " 46,\n",
       " 46,\n",
       " 46,\n",
       " 46,\n",
       " 46,\n",
       " 46,\n",
       " 46,\n",
       " 46,\n",
       " 46,\n",
       " 46,\n",
       " 46,\n",
       " 46,\n",
       " 46,\n",
       " 46,\n",
       " 46,\n",
       " 46,\n",
       " 46,\n",
       " 46,\n",
       " 46,\n",
       " 46,\n",
       " 46,\n",
       " 46,\n",
       " 46,\n",
       " 46,\n",
       " 46,\n",
       " 46,\n",
       " 46,\n",
       " 46,\n",
       " 46,\n",
       " 46,\n",
       " 46,\n",
       " 46,\n",
       " 46,\n",
       " 46,\n",
       " 46,\n",
       " 46,\n",
       " 47,\n",
       " 47,\n",
       " 47,\n",
       " 47,\n",
       " 47,\n",
       " 47,\n",
       " 47,\n",
       " 47,\n",
       " 47,\n",
       " 47,\n",
       " 47,\n",
       " 47,\n",
       " 47,\n",
       " 47,\n",
       " 48,\n",
       " 48,\n",
       " 48,\n",
       " 48,\n",
       " 48,\n",
       " 48,\n",
       " 48,\n",
       " 48,\n",
       " 49,\n",
       " 49,\n",
       " 49,\n",
       " 49,\n",
       " 49,\n",
       " 49,\n",
       " 49,\n",
       " 49,\n",
       " 49,\n",
       " 49,\n",
       " 49,\n",
       " 49,\n",
       " 49,\n",
       " 49,\n",
       " 49,\n",
       " 49,\n",
       " 49,\n",
       " 49,\n",
       " 49,\n",
       " 49,\n",
       " 49,\n",
       " 49,\n",
       " 49,\n",
       " 49,\n",
       " 49,\n",
       " 49,\n",
       " 49,\n",
       " 49,\n",
       " 49,\n",
       " 49,\n",
       " 49,\n",
       " 49,\n",
       " 49,\n",
       " 49,\n",
       " 49,\n",
       " 49,\n",
       " 49,\n",
       " 49,\n",
       " 49,\n",
       " 49,\n",
       " 49,\n",
       " 49,\n",
       " 49,\n",
       " 49,\n",
       " 49,\n",
       " 49,\n",
       " 49,\n",
       " 49,\n",
       " 50,\n",
       " 50,\n",
       " 50,\n",
       " 50,\n",
       " 50,\n",
       " 50,\n",
       " 50,\n",
       " 50,\n",
       " 50,\n",
       " 51,\n",
       " 51,\n",
       " 51,\n",
       " 51,\n",
       " 51,\n",
       " 51,\n",
       " 51,\n",
       " 51,\n",
       " 51,\n",
       " 51,\n",
       " 51,\n",
       " 51,\n",
       " 51,\n",
       " 51,\n",
       " 51,\n",
       " 51,\n",
       " 51,\n",
       " 51,\n",
       " 51,\n",
       " 51,\n",
       " 51,\n",
       " 51,\n",
       " 51,\n",
       " 51,\n",
       " 52,\n",
       " 52,\n",
       " 52,\n",
       " 53,\n",
       " 53,\n",
       " 53,\n",
       " 54,\n",
       " 54,\n",
       " 54,\n",
       " 54,\n",
       " 54,\n",
       " 54,\n",
       " 54,\n",
       " 54,\n",
       " 54,\n",
       " 54,\n",
       " 54,\n",
       " 54,\n",
       " 54,\n",
       " 54,\n",
       " 54,\n",
       " 54,\n",
       " 54,\n",
       " 54,\n",
       " 54,\n",
       " 54,\n",
       " 54,\n",
       " 54,\n",
       " 54,\n",
       " 54,\n",
       " 54,\n",
       " 54,\n",
       " 54,\n",
       " 54,\n",
       " 54,\n",
       " 54,\n",
       " 54,\n",
       " 54,\n",
       " 54,\n",
       " 54,\n",
       " 54,\n",
       " 54,\n",
       " 54,\n",
       " 54,\n",
       " 54,\n",
       " 54,\n",
       " 54,\n",
       " 54,\n",
       " 54,\n",
       " 54,\n",
       " 54,\n",
       " 54,\n",
       " 54,\n",
       " 54,\n",
       " 54,\n",
       " 54,\n",
       " 54,\n",
       " 54,\n",
       " 54,\n",
       " 54,\n",
       " 54,\n",
       " 54,\n",
       " 54,\n",
       " 54,\n",
       " 54,\n",
       " 54,\n",
       " 54,\n",
       " 54,\n",
       " 54,\n",
       " 54,\n",
       " 54,\n",
       " 54,\n",
       " 54,\n",
       " 54,\n",
       " 55,\n",
       " 55,\n",
       " 56,\n",
       " 56,\n",
       " 56,\n",
       " 56,\n",
       " 56,\n",
       " 56,\n",
       " 56,\n",
       " 56,\n",
       " 56,\n",
       " 56,\n",
       " 57,\n",
       " 57,\n",
       " 57,\n",
       " 57,\n",
       " 57,\n",
       " 57,\n",
       " 57,\n",
       " 57,\n",
       " 57,\n",
       " 57,\n",
       " 57,\n",
       " 57,\n",
       " 57,\n",
       " 57,\n",
       " 57,\n",
       " 57,\n",
       " 58,\n",
       " 58,\n",
       " 58,\n",
       " 58,\n",
       " 58,\n",
       " 58,\n",
       " 58,\n",
       " 58,\n",
       " 58,\n",
       " 58,\n",
       " 59,\n",
       " 59,\n",
       " 59,\n",
       " 59,\n",
       " 59,\n",
       " 59,\n",
       " 59,\n",
       " 59,\n",
       " 59,\n",
       " 59,\n",
       " 59,\n",
       " 59,\n",
       " 59,\n",
       " 59,\n",
       " 60,\n",
       " 60,\n",
       " 60,\n",
       " 60,\n",
       " 60,\n",
       " 60,\n",
       " 60,\n",
       " 60,\n",
       " 60,\n",
       " 60,\n",
       " 60,\n",
       " 60,\n",
       " 60,\n",
       " 60,\n",
       " 61,\n",
       " 61,\n",
       " 61,\n",
       " 61,\n",
       " 61,\n",
       " 61,\n",
       " 61,\n",
       " 61,\n",
       " 61,\n",
       " 61,\n",
       " 61,\n",
       " 61,\n",
       " 61,\n",
       " 61,\n",
       " 61,\n",
       " 61,\n",
       " 61,\n",
       " 61,\n",
       " 61,\n",
       " 61,\n",
       " 61,\n",
       " 62,\n",
       " 62,\n",
       " 62,\n",
       " 62,\n",
       " 62,\n",
       " 62,\n",
       " 62,\n",
       " 62,\n",
       " 62,\n",
       " 62,\n",
       " 62,\n",
       " 62,\n",
       " 62,\n",
       " 62,\n",
       " 62,\n",
       " 62,\n",
       " 62,\n",
       " 62,\n",
       " 62,\n",
       " 62,\n",
       " 62,\n",
       " 62,\n",
       " 62,\n",
       " 62,\n",
       " 62,\n",
       " 62,\n",
       " 62,\n",
       " 62,\n",
       " 62,\n",
       " 62,\n",
       " 62,\n",
       " 62,\n",
       " 62,\n",
       " 62,\n",
       " 62,\n",
       " 62,\n",
       " 62,\n",
       " 62,\n",
       " 62,\n",
       " 62,\n",
       " 62,\n",
       " 62,\n",
       " 62,\n",
       " 62,\n",
       " 62,\n",
       " 62,\n",
       " 62,\n",
       " 62,\n",
       " 62,\n",
       " 62,\n",
       " 62,\n",
       " 62,\n",
       " 62,\n",
       " 62,\n",
       " 62,\n",
       " ...]"
      ]
     },
     "execution_count": 150,
     "metadata": {},
     "output_type": "execute_result"
    }
   ],
   "source": [
    "pred_aug['impression_id']"
   ]
  },
  {
   "cell_type": "code",
   "execution_count": null,
   "metadata": {},
   "outputs": [],
   "source": []
  },
  {
   "cell_type": "code",
   "execution_count": null,
   "metadata": {},
   "outputs": [],
   "source": []
  },
  {
   "cell_type": "code",
   "execution_count": null,
   "metadata": {},
   "outputs": [],
   "source": []
  },
  {
   "cell_type": "code",
   "execution_count": null,
   "metadata": {},
   "outputs": [],
   "source": []
  },
  {
   "cell_type": "code",
   "execution_count": 140,
   "metadata": {},
   "outputs": [
    {
     "data": {
      "text/plain": [
       "'N11390-0 N24802-0 N29091-1 N40875-0'"
      ]
     },
     "execution_count": 140,
     "metadata": {},
     "output_type": "execute_result"
    }
   ],
   "source": [
    "interactions_hard_test_mrrchange.loc[1956,'Impressions']"
   ]
  },
  {
   "cell_type": "code",
   "execution_count": null,
   "metadata": {},
   "outputs": [],
   "source": []
  },
  {
   "cell_type": "code",
   "execution_count": null,
   "metadata": {},
   "outputs": [],
   "source": [
    "interactions_hard_test_mrrchange.loc[1956,'Impressions']"
   ]
  },
  {
   "cell_type": "code",
   "execution_count": 89,
   "metadata": {},
   "outputs": [
    {
     "data": {
      "text/html": [
       "<div>\n",
       "<style scoped>\n",
       "    .dataframe tbody tr th:only-of-type {\n",
       "        vertical-align: middle;\n",
       "    }\n",
       "\n",
       "    .dataframe tbody tr th {\n",
       "        vertical-align: top;\n",
       "    }\n",
       "\n",
       "    .dataframe thead th {\n",
       "        text-align: right;\n",
       "    }\n",
       "</style>\n",
       "<table border=\"1\" class=\"dataframe\">\n",
       "  <thead>\n",
       "    <tr style=\"text-align: right;\">\n",
       "      <th></th>\n",
       "      <th>News ID</th>\n",
       "      <th>Category</th>\n",
       "      <th>SubCategory</th>\n",
       "      <th>Title</th>\n",
       "      <th>Abstract</th>\n",
       "      <th>URL</th>\n",
       "      <th>Title Entities</th>\n",
       "      <th>Abstract Entities</th>\n",
       "      <th>full_text</th>\n",
       "      <th>rare_event_score</th>\n",
       "    </tr>\n",
       "  </thead>\n",
       "  <tbody>\n",
       "    <tr>\n",
       "      <th>38864</th>\n",
       "      <td>N29091</td>\n",
       "      <td>news</td>\n",
       "      <td>newspolitics</td>\n",
       "      <td>Federal Prosecutors Probe Giuliani's Links to ...</td>\n",
       "      <td>Federal prosecutors in New York are investigat...</td>\n",
       "      <td>https://assets.msn.com/labs/mind/BBWP2MO.html</td>\n",
       "      <td>[]</td>\n",
       "      <td>[{\"Label\": \"Rudy Giuliani\", \"Type\": \"P\", \"Wiki...</td>\n",
       "      <td>Federal Prosecutors Probe Giuliani's Links to ...</td>\n",
       "      <td>0.107018</td>\n",
       "    </tr>\n",
       "  </tbody>\n",
       "</table>\n",
       "</div>"
      ],
      "text/plain": [
       "      News ID Category   SubCategory  \\\n",
       "38864  N29091     news  newspolitics   \n",
       "\n",
       "                                                   Title  \\\n",
       "38864  Federal Prosecutors Probe Giuliani's Links to ...   \n",
       "\n",
       "                                                Abstract  \\\n",
       "38864  Federal prosecutors in New York are investigat...   \n",
       "\n",
       "                                                 URL Title Entities  \\\n",
       "38864  https://assets.msn.com/labs/mind/BBWP2MO.html             []   \n",
       "\n",
       "                                       Abstract Entities  \\\n",
       "38864  [{\"Label\": \"Rudy Giuliani\", \"Type\": \"P\", \"Wiki...   \n",
       "\n",
       "                                               full_text  rare_event_score  \n",
       "38864  Federal Prosecutors Probe Giuliani's Links to ...          0.107018  "
      ]
     },
     "execution_count": 89,
     "metadata": {},
     "output_type": "execute_result"
    }
   ],
   "source": [
    "rare_events_df.loc[rare_events_df['News ID'] == \"N29091\"]"
   ]
  },
  {
   "cell_type": "code",
   "execution_count": 441,
   "metadata": {},
   "outputs": [
    {
     "data": {
      "text/plain": [
       "'N11390-1 N27057-0 N28716-0 N30465-1 N3451-0 N41910-0 N45289-0 N47119-0 N4733-0 N55036-0 N5507-0 N58188-0 N7247-0'"
      ]
     },
     "execution_count": 441,
     "metadata": {},
     "output_type": "execute_result"
    }
   ],
   "source": [
    "interactions_hard_test_mrrchange.loc[718,'Impressions']"
   ]
  },
  {
   "cell_type": "code",
   "execution_count": 439,
   "metadata": {},
   "outputs": [
    {
     "ename": "KeyError",
     "evalue": "6625",
     "output_type": "error",
     "traceback": [
      "\u001b[0;31m---------------------------------------------------------------------------\u001b[0m",
      "\u001b[0;31mKeyError\u001b[0m                                  Traceback (most recent call last)",
      "File \u001b[0;32m~/anaconda3/envs/recminer/lib/python3.9/site-packages/pandas/core/indexes/base.py:3805\u001b[0m, in \u001b[0;36mIndex.get_loc\u001b[0;34m(self, key)\u001b[0m\n\u001b[1;32m   3804\u001b[0m \u001b[38;5;28;01mtry\u001b[39;00m:\n\u001b[0;32m-> 3805\u001b[0m     \u001b[38;5;28;01mreturn\u001b[39;00m \u001b[38;5;28;43mself\u001b[39;49m\u001b[38;5;241;43m.\u001b[39;49m\u001b[43m_engine\u001b[49m\u001b[38;5;241;43m.\u001b[39;49m\u001b[43mget_loc\u001b[49m\u001b[43m(\u001b[49m\u001b[43mcasted_key\u001b[49m\u001b[43m)\u001b[49m\n\u001b[1;32m   3806\u001b[0m \u001b[38;5;28;01mexcept\u001b[39;00m \u001b[38;5;167;01mKeyError\u001b[39;00m \u001b[38;5;28;01mas\u001b[39;00m err:\n",
      "File \u001b[0;32mindex.pyx:167\u001b[0m, in \u001b[0;36mpandas._libs.index.IndexEngine.get_loc\u001b[0;34m()\u001b[0m\n",
      "File \u001b[0;32mindex.pyx:196\u001b[0m, in \u001b[0;36mpandas._libs.index.IndexEngine.get_loc\u001b[0;34m()\u001b[0m\n",
      "File \u001b[0;32mpandas/_libs/hashtable_class_helper.pxi:2606\u001b[0m, in \u001b[0;36mpandas._libs.hashtable.Int64HashTable.get_item\u001b[0;34m()\u001b[0m\n",
      "File \u001b[0;32mpandas/_libs/hashtable_class_helper.pxi:2630\u001b[0m, in \u001b[0;36mpandas._libs.hashtable.Int64HashTable.get_item\u001b[0;34m()\u001b[0m\n",
      "\u001b[0;31mKeyError\u001b[0m: 6625",
      "\nThe above exception was the direct cause of the following exception:\n",
      "\u001b[0;31mKeyError\u001b[0m                                  Traceback (most recent call last)",
      "Cell \u001b[0;32mIn[439], line 1\u001b[0m\n\u001b[0;32m----> 1\u001b[0m \u001b[43minteractions_hard_test_mrrchange\u001b[49m\u001b[38;5;241;43m.\u001b[39;49m\u001b[43mloc\u001b[49m\u001b[43m[\u001b[49m\u001b[38;5;241;43m6625\u001b[39;49m\u001b[43m,\u001b[49m\u001b[38;5;124;43m'\u001b[39;49m\u001b[38;5;124;43mImpressions\u001b[39;49m\u001b[38;5;124;43m'\u001b[39;49m\u001b[43m]\u001b[49m\n",
      "File \u001b[0;32m~/anaconda3/envs/recminer/lib/python3.9/site-packages/pandas/core/indexing.py:1183\u001b[0m, in \u001b[0;36m_LocationIndexer.__getitem__\u001b[0;34m(self, key)\u001b[0m\n\u001b[1;32m   1181\u001b[0m     key \u001b[38;5;241m=\u001b[39m \u001b[38;5;28mtuple\u001b[39m(com\u001b[38;5;241m.\u001b[39mapply_if_callable(x, \u001b[38;5;28mself\u001b[39m\u001b[38;5;241m.\u001b[39mobj) \u001b[38;5;28;01mfor\u001b[39;00m x \u001b[38;5;129;01min\u001b[39;00m key)\n\u001b[1;32m   1182\u001b[0m     \u001b[38;5;28;01mif\u001b[39;00m \u001b[38;5;28mself\u001b[39m\u001b[38;5;241m.\u001b[39m_is_scalar_access(key):\n\u001b[0;32m-> 1183\u001b[0m         \u001b[38;5;28;01mreturn\u001b[39;00m \u001b[38;5;28;43mself\u001b[39;49m\u001b[38;5;241;43m.\u001b[39;49m\u001b[43mobj\u001b[49m\u001b[38;5;241;43m.\u001b[39;49m\u001b[43m_get_value\u001b[49m\u001b[43m(\u001b[49m\u001b[38;5;241;43m*\u001b[39;49m\u001b[43mkey\u001b[49m\u001b[43m,\u001b[49m\u001b[43m \u001b[49m\u001b[43mtakeable\u001b[49m\u001b[38;5;241;43m=\u001b[39;49m\u001b[38;5;28;43mself\u001b[39;49m\u001b[38;5;241;43m.\u001b[39;49m\u001b[43m_takeable\u001b[49m\u001b[43m)\u001b[49m\n\u001b[1;32m   1184\u001b[0m     \u001b[38;5;28;01mreturn\u001b[39;00m \u001b[38;5;28mself\u001b[39m\u001b[38;5;241m.\u001b[39m_getitem_tuple(key)\n\u001b[1;32m   1185\u001b[0m \u001b[38;5;28;01melse\u001b[39;00m:\n\u001b[1;32m   1186\u001b[0m     \u001b[38;5;66;03m# we by definition only have the 0th axis\u001b[39;00m\n",
      "File \u001b[0;32m~/anaconda3/envs/recminer/lib/python3.9/site-packages/pandas/core/frame.py:4209\u001b[0m, in \u001b[0;36mDataFrame._get_value\u001b[0;34m(self, index, col, takeable)\u001b[0m\n\u001b[1;32m   4203\u001b[0m engine \u001b[38;5;241m=\u001b[39m \u001b[38;5;28mself\u001b[39m\u001b[38;5;241m.\u001b[39mindex\u001b[38;5;241m.\u001b[39m_engine\n\u001b[1;32m   4205\u001b[0m \u001b[38;5;28;01mif\u001b[39;00m \u001b[38;5;129;01mnot\u001b[39;00m \u001b[38;5;28misinstance\u001b[39m(\u001b[38;5;28mself\u001b[39m\u001b[38;5;241m.\u001b[39mindex, MultiIndex):\n\u001b[1;32m   4206\u001b[0m     \u001b[38;5;66;03m# CategoricalIndex: Trying to use the engine fastpath may give incorrect\u001b[39;00m\n\u001b[1;32m   4207\u001b[0m     \u001b[38;5;66;03m#  results if our categories are integers that dont match our codes\u001b[39;00m\n\u001b[1;32m   4208\u001b[0m     \u001b[38;5;66;03m# IntervalIndex: IntervalTree has no get_loc\u001b[39;00m\n\u001b[0;32m-> 4209\u001b[0m     row \u001b[38;5;241m=\u001b[39m \u001b[38;5;28;43mself\u001b[39;49m\u001b[38;5;241;43m.\u001b[39;49m\u001b[43mindex\u001b[49m\u001b[38;5;241;43m.\u001b[39;49m\u001b[43mget_loc\u001b[49m\u001b[43m(\u001b[49m\u001b[43mindex\u001b[49m\u001b[43m)\u001b[49m\n\u001b[1;32m   4210\u001b[0m     \u001b[38;5;28;01mreturn\u001b[39;00m series\u001b[38;5;241m.\u001b[39m_values[row]\n\u001b[1;32m   4212\u001b[0m \u001b[38;5;66;03m# For MultiIndex going through engine effectively restricts us to\u001b[39;00m\n\u001b[1;32m   4213\u001b[0m \u001b[38;5;66;03m#  same-length tuples; see test_get_set_value_no_partial_indexing\u001b[39;00m\n",
      "File \u001b[0;32m~/anaconda3/envs/recminer/lib/python3.9/site-packages/pandas/core/indexes/base.py:3812\u001b[0m, in \u001b[0;36mIndex.get_loc\u001b[0;34m(self, key)\u001b[0m\n\u001b[1;32m   3807\u001b[0m     \u001b[38;5;28;01mif\u001b[39;00m \u001b[38;5;28misinstance\u001b[39m(casted_key, \u001b[38;5;28mslice\u001b[39m) \u001b[38;5;129;01mor\u001b[39;00m (\n\u001b[1;32m   3808\u001b[0m         \u001b[38;5;28misinstance\u001b[39m(casted_key, abc\u001b[38;5;241m.\u001b[39mIterable)\n\u001b[1;32m   3809\u001b[0m         \u001b[38;5;129;01mand\u001b[39;00m \u001b[38;5;28many\u001b[39m(\u001b[38;5;28misinstance\u001b[39m(x, \u001b[38;5;28mslice\u001b[39m) \u001b[38;5;28;01mfor\u001b[39;00m x \u001b[38;5;129;01min\u001b[39;00m casted_key)\n\u001b[1;32m   3810\u001b[0m     ):\n\u001b[1;32m   3811\u001b[0m         \u001b[38;5;28;01mraise\u001b[39;00m InvalidIndexError(key)\n\u001b[0;32m-> 3812\u001b[0m     \u001b[38;5;28;01mraise\u001b[39;00m \u001b[38;5;167;01mKeyError\u001b[39;00m(key) \u001b[38;5;28;01mfrom\u001b[39;00m \u001b[38;5;21;01merr\u001b[39;00m\n\u001b[1;32m   3813\u001b[0m \u001b[38;5;28;01mexcept\u001b[39;00m \u001b[38;5;167;01mTypeError\u001b[39;00m:\n\u001b[1;32m   3814\u001b[0m     \u001b[38;5;66;03m# If we have a listlike key, _check_indexing_error will raise\u001b[39;00m\n\u001b[1;32m   3815\u001b[0m     \u001b[38;5;66;03m#  InvalidIndexError. Otherwise we fall through and re-raise\u001b[39;00m\n\u001b[1;32m   3816\u001b[0m     \u001b[38;5;66;03m#  the TypeError.\u001b[39;00m\n\u001b[1;32m   3817\u001b[0m     \u001b[38;5;28mself\u001b[39m\u001b[38;5;241m.\u001b[39m_check_indexing_error(key)\n",
      "\u001b[0;31mKeyError\u001b[0m: 6625"
     ]
    }
   ],
   "source": [
    "interactions_hard_test_mrrchange.loc[6625,'Impressions']"
   ]
  },
  {
   "cell_type": "code",
   "execution_count": 307,
   "metadata": {},
   "outputs": [
    {
     "data": {
      "text/html": [
       "<div>\n",
       "<style scoped>\n",
       "    .dataframe tbody tr th:only-of-type {\n",
       "        vertical-align: middle;\n",
       "    }\n",
       "\n",
       "    .dataframe tbody tr th {\n",
       "        vertical-align: top;\n",
       "    }\n",
       "\n",
       "    .dataframe thead th {\n",
       "        text-align: right;\n",
       "    }\n",
       "</style>\n",
       "<table border=\"1\" class=\"dataframe\">\n",
       "  <thead>\n",
       "    <tr style=\"text-align: right;\">\n",
       "      <th></th>\n",
       "      <th>News ID</th>\n",
       "      <th>Category</th>\n",
       "      <th>SubCategory</th>\n",
       "      <th>Title</th>\n",
       "      <th>Abstract</th>\n",
       "      <th>URL</th>\n",
       "      <th>Title Entities</th>\n",
       "      <th>Abstract Entities</th>\n",
       "      <th>full_text</th>\n",
       "      <th>rare_event_score</th>\n",
       "    </tr>\n",
       "  </thead>\n",
       "  <tbody>\n",
       "    <tr>\n",
       "      <th>37378</th>\n",
       "      <td>N12682</td>\n",
       "      <td>finance</td>\n",
       "      <td>markets</td>\n",
       "      <td>This is what the trade war looks like in bourb...</td>\n",
       "      <td>After Europe retaliated with tariffs on Kentuc...</td>\n",
       "      <td>https://assets.msn.com/labs/mind/BBWLqIV.html</td>\n",
       "      <td>[]</td>\n",
       "      <td>[{\"Label\": \"Lexington, Kentucky\", \"Type\": \"G\",...</td>\n",
       "      <td>This is what the trade war looks like in bourb...</td>\n",
       "      <td>0.031295</td>\n",
       "    </tr>\n",
       "  </tbody>\n",
       "</table>\n",
       "</div>"
      ],
      "text/plain": [
       "      News ID Category SubCategory  \\\n",
       "37378  N12682  finance     markets   \n",
       "\n",
       "                                                   Title  \\\n",
       "37378  This is what the trade war looks like in bourb...   \n",
       "\n",
       "                                                Abstract  \\\n",
       "37378  After Europe retaliated with tariffs on Kentuc...   \n",
       "\n",
       "                                                 URL Title Entities  \\\n",
       "37378  https://assets.msn.com/labs/mind/BBWLqIV.html             []   \n",
       "\n",
       "                                       Abstract Entities  \\\n",
       "37378  [{\"Label\": \"Lexington, Kentucky\", \"Type\": \"G\",...   \n",
       "\n",
       "                                               full_text  rare_event_score  \n",
       "37378  This is what the trade war looks like in bourb...          0.031295  "
      ]
     },
     "execution_count": 307,
     "metadata": {},
     "output_type": "execute_result"
    }
   ],
   "source": [
    "rare_events_df.loc[rare_events_df['News ID'] == \"N12682\"]"
   ]
  },
  {
   "cell_type": "code",
   "execution_count": null,
   "metadata": {},
   "outputs": [],
   "source": []
  },
  {
   "cell_type": "code",
   "execution_count": null,
   "metadata": {},
   "outputs": [],
   "source": []
  },
  {
   "cell_type": "code",
   "execution_count": 308,
   "metadata": {},
   "outputs": [],
   "source": [
    "chosen_int = interactions_hard_test_mrrchange.loc[718]"
   ]
  },
  {
   "cell_type": "code",
   "execution_count": 309,
   "metadata": {},
   "outputs": [
    {
     "data": {
      "text/plain": [
       "'N11390-1 N27057-0 N28716-0 N30465-1 N3451-0 N41910-0 N45289-0 N47119-0 N4733-0 N55036-0 N5507-0 N58188-0 N7247-0'"
      ]
     },
     "execution_count": 309,
     "metadata": {},
     "output_type": "execute_result"
    }
   ],
   "source": [
    "chosen_int['Impressions']"
   ]
  },
  {
   "cell_type": "code",
   "execution_count": 310,
   "metadata": {},
   "outputs": [
    {
     "data": {
      "text/plain": [
       "array([['Climate change looms over giant Saudi energy IPO',\n",
       "        'As investors weigh up the value of Saudi energy colossus Aramco ahead of its IPO next month, the global drive to contain climate change and waning demand for fossil fuels are seen as key risks. \"There\\'s no doubt that environmental, social and governance risks will factor in the calculations of investors looking at the Saudi Aramco IPO,\" said Torbjorn Soltvedt from Verisk Maplecroft, a UK-based strategic consulting firm.']],\n",
       "      dtype=object)"
      ]
     },
     "execution_count": 310,
     "metadata": {},
     "output_type": "execute_result"
    }
   ],
   "source": [
    "rare_events_df.loc[rare_events_df['News ID'] == \"N42950\",['Title','Abstract']].values"
   ]
  },
  {
   "cell_type": "code",
   "execution_count": null,
   "metadata": {},
   "outputs": [],
   "source": []
  },
  {
   "cell_type": "code",
   "execution_count": 311,
   "metadata": {},
   "outputs": [
    {
     "data": {
      "text/plain": [
       "[('N11390-1', 0.284343957901001),\n",
       " ('N55036-0', 0.20154400169849396),\n",
       " ('N45289-0', 0.19699835777282715),\n",
       " ('N5507-0', 0.1933034062385559),\n",
       " ('N30465-1', 0.18666566908359528),\n",
       " ('N7247-0', 0.18117597699165344),\n",
       " ('N47119-0', 0.15146781504154205),\n",
       " ('N4733-0', 0.1387610137462616),\n",
       " ('N58188-0', 0.13787874579429626),\n",
       " ('N27057-0', 0.1272057294845581),\n",
       " ('N3451-0', 0.09296852350234985),\n",
       " ('N41910-0', 0.08530530333518982),\n",
       " ('N28716-0', 0.08347739279270172)]"
      ]
     },
     "execution_count": 311,
     "metadata": {},
     "output_type": "execute_result"
    }
   ],
   "source": [
    "sorted(zip(chosen_int[\"Impressions\"].split(),chosen_int['pred_aug']),key=lambda x:x[1],reverse=True)"
   ]
  },
  {
   "cell_type": "code",
   "execution_count": 312,
   "metadata": {},
   "outputs": [
    {
     "data": {
      "text/plain": [
       "[('N5507-0', 0.6769030690193176),\n",
       " ('N11390-1', 0.6620059013366699),\n",
       " ('N45289-0', 0.6583585143089294),\n",
       " ('N7247-0', 0.656611442565918),\n",
       " ('N55036-0', 0.6553157567977905),\n",
       " ('N30465-1', 0.6502456665039062),\n",
       " ('N47119-0', 0.6255139112472534),\n",
       " ('N4733-0', 0.6055545806884766),\n",
       " ('N27057-0', 0.590977132320404),\n",
       " ('N58188-0', 0.5401310920715332),\n",
       " ('N41910-0', 0.5293899178504944),\n",
       " ('N28716-0', 0.5102424621582031),\n",
       " ('N3451-0', 0.5016165971755981)]"
      ]
     },
     "execution_count": 312,
     "metadata": {},
     "output_type": "execute_result"
    }
   ],
   "source": [
    "sorted(zip(chosen_int[\"Impressions\"].split(),chosen_int['pred_or']),key=lambda x:x[1],reverse=True)"
   ]
  },
  {
   "cell_type": "code",
   "execution_count": 316,
   "metadata": {},
   "outputs": [
    {
     "data": {
      "text/plain": [
       "array([\"The state of Colorado has suspended the license for Play Mountain Place daycare in Colorado Springs after they uncovered 26 children behind a false wall in the owner's basement, all under the age of three-years-old.\"],\n",
       "      dtype=object)"
      ]
     },
     "execution_count": 316,
     "metadata": {},
     "output_type": "execute_result"
    }
   ],
   "source": [
    "news.loc[news['News ID']=='N11390','Title'].values"
   ]
  },
  {
   "cell_type": "code",
   "execution_count": 317,
   "metadata": {},
   "outputs": [
    {
     "data": {
      "text/plain": [
       "array([\"The FDA has sent a warning letter to Dollar Tree detailing the agency's suggested corrective actions to make sure the company stops importing adulterated drug products.\"],\n",
       "      dtype=object)"
      ]
     },
     "execution_count": 317,
     "metadata": {},
     "output_type": "execute_result"
    }
   ],
   "source": [
    "news.loc[news['News ID']=='N30465','Title'].values"
   ]
  },
  {
   "cell_type": "code",
   "execution_count": 314,
   "metadata": {},
   "outputs": [
    {
     "data": {
      "text/plain": [
       "Index(['News ID', 'Category', 'SubCategory', 'Title', 'Abstract', 'URL',\n",
       "       'Title Entities', 'Abstract Entities'],\n",
       "      dtype='object')"
      ]
     },
     "execution_count": 314,
     "metadata": {},
     "output_type": "execute_result"
    }
   ],
   "source": [
    "news.columns"
   ]
  },
  {
   "cell_type": "code",
   "execution_count": null,
   "metadata": {},
   "outputs": [],
   "source": []
  },
  {
   "cell_type": "code",
   "execution_count": null,
   "metadata": {},
   "outputs": [],
   "source": []
  },
  {
   "cell_type": "code",
   "execution_count": 416,
   "metadata": {},
   "outputs": [
    {
     "data": {
      "text/html": [
       "<div>\n",
       "<style scoped>\n",
       "    .dataframe tbody tr th:only-of-type {\n",
       "        vertical-align: middle;\n",
       "    }\n",
       "\n",
       "    .dataframe tbody tr th {\n",
       "        vertical-align: top;\n",
       "    }\n",
       "\n",
       "    .dataframe thead th {\n",
       "        text-align: right;\n",
       "    }\n",
       "</style>\n",
       "<table border=\"1\" class=\"dataframe\">\n",
       "  <thead>\n",
       "    <tr style=\"text-align: right;\">\n",
       "      <th></th>\n",
       "      <th>Impression ID</th>\n",
       "      <th>User ID</th>\n",
       "      <th>Time</th>\n",
       "      <th>History</th>\n",
       "      <th>Impressions</th>\n",
       "    </tr>\n",
       "  </thead>\n",
       "  <tbody>\n",
       "    <tr>\n",
       "      <th>861</th>\n",
       "      <td>8091</td>\n",
       "      <td>U19188</td>\n",
       "      <td>11/15/2019 4:26:31 PM</td>\n",
       "      <td>N28226 N28538 N25354 N8446 N34140 N33463 N1124...</td>\n",
       "      <td>N11390-1 N16396-0 N20764-0 N21171-0 N24802-0 N...</td>\n",
       "    </tr>\n",
       "    <tr>\n",
       "      <th>1040</th>\n",
       "      <td>9823</td>\n",
       "      <td>U24487</td>\n",
       "      <td>11/15/2019 3:30:44 PM</td>\n",
       "      <td>N41375 N38332 N685 N64631 N30609 N5353 N51330 ...</td>\n",
       "      <td>N11390-1 N16396-0 N20764-0 N24802-0 N27057-0 N...</td>\n",
       "    </tr>\n",
       "    <tr>\n",
       "      <th>1556</th>\n",
       "      <td>14778</td>\n",
       "      <td>U67077</td>\n",
       "      <td>11/15/2019 3:41:53 PM</td>\n",
       "      <td>N59704</td>\n",
       "      <td>N10142-0 N11390-1 N16396-0 N20764-0 N24802-0 N...</td>\n",
       "    </tr>\n",
       "    <tr>\n",
       "      <th>2441</th>\n",
       "      <td>22846</td>\n",
       "      <td>U54716</td>\n",
       "      <td>11/15/2019 4:13:53 PM</td>\n",
       "      <td>N15766 N3164 N9897 N54496 N51714 N44495 N20039...</td>\n",
       "      <td>N11390-1 N16396-0 N20764-0 N24802-0 N27057-0 N...</td>\n",
       "    </tr>\n",
       "    <tr>\n",
       "      <th>2635</th>\n",
       "      <td>24563</td>\n",
       "      <td>U65825</td>\n",
       "      <td>11/15/2019 3:07:53 PM</td>\n",
       "      <td>N38256</td>\n",
       "      <td>N11390-1 N16396-0 N24802-0 N27057-0 N29091-0 N...</td>\n",
       "    </tr>\n",
       "    <tr>\n",
       "      <th>2820</th>\n",
       "      <td>26562</td>\n",
       "      <td>U92622</td>\n",
       "      <td>11/15/2019 3:16:04 PM</td>\n",
       "      <td>N39041 N40772 N13429 N32004</td>\n",
       "      <td>N11390-1 N16396-0 N21171-0 N24802-0 N27057-0 N...</td>\n",
       "    </tr>\n",
       "    <tr>\n",
       "      <th>3447</th>\n",
       "      <td>32237</td>\n",
       "      <td>U77466</td>\n",
       "      <td>11/15/2019 3:16:59 PM</td>\n",
       "      <td>N51591 N1150 N50074 N37378 N65173 N15415 N3345...</td>\n",
       "      <td>N10885-0 N11390-0 N17513-0 N19584-0 N20764-0 N...</td>\n",
       "    </tr>\n",
       "    <tr>\n",
       "      <th>3505</th>\n",
       "      <td>32723</td>\n",
       "      <td>U31025</td>\n",
       "      <td>11/15/2019 3:46:19 PM</td>\n",
       "      <td>N57737 N46392 N45794 N28313 N55556 N41218</td>\n",
       "      <td>N10142-0 N11390-1 N16396-0 N20764-0 N21171-0 N...</td>\n",
       "    </tr>\n",
       "    <tr>\n",
       "      <th>3696</th>\n",
       "      <td>34529</td>\n",
       "      <td>U21166</td>\n",
       "      <td>11/15/2019 3:16:43 PM</td>\n",
       "      <td>N8753 N62164 N1150 N35083</td>\n",
       "      <td>N11390-1 N16396-0 N20764-0 N21171-0 N24802-0 N...</td>\n",
       "    </tr>\n",
       "    <tr>\n",
       "      <th>3871</th>\n",
       "      <td>36190</td>\n",
       "      <td>U20944</td>\n",
       "      <td>11/15/2019 4:21:06 PM</td>\n",
       "      <td>N47823 N49745 N20335 N64408 N16233 N14340 N332...</td>\n",
       "      <td>N11390-1 N20764-0 N24802-0 N28640-0 N29091-0 N...</td>\n",
       "    </tr>\n",
       "    <tr>\n",
       "      <th>4095</th>\n",
       "      <td>38458</td>\n",
       "      <td>U60299</td>\n",
       "      <td>11/15/2019 3:52:57 PM</td>\n",
       "      <td>N45994</td>\n",
       "      <td>N11390-1 N16396-0 N20764-0 N21171-0 N24802-0 N...</td>\n",
       "    </tr>\n",
       "    <tr>\n",
       "      <th>4163</th>\n",
       "      <td>39280</td>\n",
       "      <td>U51787</td>\n",
       "      <td>11/15/2019 3:55:32 PM</td>\n",
       "      <td>N61864 N54496 N49745 N24691 N16363 N45794 N318...</td>\n",
       "      <td>N11390-1 N16396-0 N20764-0 N24802-0 N27057-0 N...</td>\n",
       "    </tr>\n",
       "    <tr>\n",
       "      <th>5121</th>\n",
       "      <td>48127</td>\n",
       "      <td>U60296</td>\n",
       "      <td>11/15/2019 3:45:17 PM</td>\n",
       "      <td>N17099 N12388 N27484 N15194</td>\n",
       "      <td>N11390-1 N12703-0 N12769-0 N13347-0 N15518-0 N...</td>\n",
       "    </tr>\n",
       "    <tr>\n",
       "      <th>5482</th>\n",
       "      <td>51277</td>\n",
       "      <td>U40941</td>\n",
       "      <td>11/15/2019 3:09:49 PM</td>\n",
       "      <td>N3501 N459 N49745 N16233 N49469 N53234 N14340 ...</td>\n",
       "      <td>N11390-1 N16396-0 N21171-0 N24802-0 N27057-0 N...</td>\n",
       "    </tr>\n",
       "    <tr>\n",
       "      <th>5608</th>\n",
       "      <td>52594</td>\n",
       "      <td>U23756</td>\n",
       "      <td>11/15/2019 12:55:45 PM</td>\n",
       "      <td>N41420 N30665 N46039 N58235 N3863 N47849 N4449...</td>\n",
       "      <td>N11390-1 N12446-0 N21681-0 N24802-0 N26572-0 N...</td>\n",
       "    </tr>\n",
       "    <tr>\n",
       "      <th>5975</th>\n",
       "      <td>55908</td>\n",
       "      <td>U71679</td>\n",
       "      <td>11/15/2019 8:02:42 AM</td>\n",
       "      <td>N13929 N37254 N30589 N24045 N59303 N54253 N474...</td>\n",
       "      <td>N13408-0 N14056-0 N14266-1 N14637-0 N1597-0 N2...</td>\n",
       "    </tr>\n",
       "    <tr>\n",
       "      <th>6303</th>\n",
       "      <td>58916</td>\n",
       "      <td>U56155</td>\n",
       "      <td>11/15/2019 8:36:24 AM</td>\n",
       "      <td>N42986 N28257 N39979</td>\n",
       "      <td>N12682-0 N13854-0 N15518-0 N18449-0 N18971-0 N...</td>\n",
       "    </tr>\n",
       "    <tr>\n",
       "      <th>6440</th>\n",
       "      <td>60216</td>\n",
       "      <td>U68342</td>\n",
       "      <td>11/15/2019 4:34:00 PM</td>\n",
       "      <td>N14734 N51591 N24920</td>\n",
       "      <td>N11390-1 N16396-0 N20764-0 N21171-0 N24802-0 N...</td>\n",
       "    </tr>\n",
       "    <tr>\n",
       "      <th>6545</th>\n",
       "      <td>61180</td>\n",
       "      <td>U30557</td>\n",
       "      <td>11/15/2019 3:08:32 PM</td>\n",
       "      <td>N24356 N9798 N55741 N40322 N44396 N39374 N2007...</td>\n",
       "      <td>N11390-1 N16396-0 N21171-0 N21681-0 N24802-0 N...</td>\n",
       "    </tr>\n",
       "    <tr>\n",
       "      <th>6742</th>\n",
       "      <td>62996</td>\n",
       "      <td>U47125</td>\n",
       "      <td>11/15/2019 3:22:08 PM</td>\n",
       "      <td>N60209 N16874 N20530 N57737 N46392 N45794</td>\n",
       "      <td>N11390-1 N16396-0 N20764-0 N24802-0 N27057-0 N...</td>\n",
       "    </tr>\n",
       "    <tr>\n",
       "      <th>6897</th>\n",
       "      <td>64577</td>\n",
       "      <td>U55447</td>\n",
       "      <td>11/15/2019 3:48:49 PM</td>\n",
       "      <td>N57737 N16290 N24691 N36191 N39235 N5978</td>\n",
       "      <td>N10142-0 N11390-1 N16396-0 N20764-0 N21171-0 N...</td>\n",
       "    </tr>\n",
       "    <tr>\n",
       "      <th>7460</th>\n",
       "      <td>69931</td>\n",
       "      <td>U151</td>\n",
       "      <td>11/15/2019 1:58:18 PM</td>\n",
       "      <td>N58523 N40202 N45648 N60223 N44006 N3508 N2705...</td>\n",
       "      <td>N11390-0 N21171-0 N21681-0 N24802-0 N27057-0 N...</td>\n",
       "    </tr>\n",
       "    <tr>\n",
       "      <th>7486</th>\n",
       "      <td>70200</td>\n",
       "      <td>U51962</td>\n",
       "      <td>11/15/2019 1:26:00 PM</td>\n",
       "      <td>N2030 N6424 N38868 N59295 N7064 N42263 N28144 ...</td>\n",
       "      <td>N11390-1 N24802-0 N28987-0 N29091-0 N3159-0 N4...</td>\n",
       "    </tr>\n",
       "  </tbody>\n",
       "</table>\n",
       "</div>"
      ],
      "text/plain": [
       "      Impression ID User ID                    Time  \\\n",
       "861            8091  U19188   11/15/2019 4:26:31 PM   \n",
       "1040           9823  U24487   11/15/2019 3:30:44 PM   \n",
       "1556          14778  U67077   11/15/2019 3:41:53 PM   \n",
       "2441          22846  U54716   11/15/2019 4:13:53 PM   \n",
       "2635          24563  U65825   11/15/2019 3:07:53 PM   \n",
       "2820          26562  U92622   11/15/2019 3:16:04 PM   \n",
       "3447          32237  U77466   11/15/2019 3:16:59 PM   \n",
       "3505          32723  U31025   11/15/2019 3:46:19 PM   \n",
       "3696          34529  U21166   11/15/2019 3:16:43 PM   \n",
       "3871          36190  U20944   11/15/2019 4:21:06 PM   \n",
       "4095          38458  U60299   11/15/2019 3:52:57 PM   \n",
       "4163          39280  U51787   11/15/2019 3:55:32 PM   \n",
       "5121          48127  U60296   11/15/2019 3:45:17 PM   \n",
       "5482          51277  U40941   11/15/2019 3:09:49 PM   \n",
       "5608          52594  U23756  11/15/2019 12:55:45 PM   \n",
       "5975          55908  U71679   11/15/2019 8:02:42 AM   \n",
       "6303          58916  U56155   11/15/2019 8:36:24 AM   \n",
       "6440          60216  U68342   11/15/2019 4:34:00 PM   \n",
       "6545          61180  U30557   11/15/2019 3:08:32 PM   \n",
       "6742          62996  U47125   11/15/2019 3:22:08 PM   \n",
       "6897          64577  U55447   11/15/2019 3:48:49 PM   \n",
       "7460          69931    U151   11/15/2019 1:58:18 PM   \n",
       "7486          70200  U51962   11/15/2019 1:26:00 PM   \n",
       "\n",
       "                                                History  \\\n",
       "861   N28226 N28538 N25354 N8446 N34140 N33463 N1124...   \n",
       "1040  N41375 N38332 N685 N64631 N30609 N5353 N51330 ...   \n",
       "1556                                             N59704   \n",
       "2441  N15766 N3164 N9897 N54496 N51714 N44495 N20039...   \n",
       "2635                                             N38256   \n",
       "2820                        N39041 N40772 N13429 N32004   \n",
       "3447  N51591 N1150 N50074 N37378 N65173 N15415 N3345...   \n",
       "3505          N57737 N46392 N45794 N28313 N55556 N41218   \n",
       "3696                          N8753 N62164 N1150 N35083   \n",
       "3871  N47823 N49745 N20335 N64408 N16233 N14340 N332...   \n",
       "4095                                             N45994   \n",
       "4163  N61864 N54496 N49745 N24691 N16363 N45794 N318...   \n",
       "5121                        N17099 N12388 N27484 N15194   \n",
       "5482  N3501 N459 N49745 N16233 N49469 N53234 N14340 ...   \n",
       "5608  N41420 N30665 N46039 N58235 N3863 N47849 N4449...   \n",
       "5975  N13929 N37254 N30589 N24045 N59303 N54253 N474...   \n",
       "6303                               N42986 N28257 N39979   \n",
       "6440                               N14734 N51591 N24920   \n",
       "6545  N24356 N9798 N55741 N40322 N44396 N39374 N2007...   \n",
       "6742          N60209 N16874 N20530 N57737 N46392 N45794   \n",
       "6897           N57737 N16290 N24691 N36191 N39235 N5978   \n",
       "7460  N58523 N40202 N45648 N60223 N44006 N3508 N2705...   \n",
       "7486  N2030 N6424 N38868 N59295 N7064 N42263 N28144 ...   \n",
       "\n",
       "                                            Impressions  \n",
       "861   N11390-1 N16396-0 N20764-0 N21171-0 N24802-0 N...  \n",
       "1040  N11390-1 N16396-0 N20764-0 N24802-0 N27057-0 N...  \n",
       "1556  N10142-0 N11390-1 N16396-0 N20764-0 N24802-0 N...  \n",
       "2441  N11390-1 N16396-0 N20764-0 N24802-0 N27057-0 N...  \n",
       "2635  N11390-1 N16396-0 N24802-0 N27057-0 N29091-0 N...  \n",
       "2820  N11390-1 N16396-0 N21171-0 N24802-0 N27057-0 N...  \n",
       "3447  N10885-0 N11390-0 N17513-0 N19584-0 N20764-0 N...  \n",
       "3505  N10142-0 N11390-1 N16396-0 N20764-0 N21171-0 N...  \n",
       "3696  N11390-1 N16396-0 N20764-0 N21171-0 N24802-0 N...  \n",
       "3871  N11390-1 N20764-0 N24802-0 N28640-0 N29091-0 N...  \n",
       "4095  N11390-1 N16396-0 N20764-0 N21171-0 N24802-0 N...  \n",
       "4163  N11390-1 N16396-0 N20764-0 N24802-0 N27057-0 N...  \n",
       "5121  N11390-1 N12703-0 N12769-0 N13347-0 N15518-0 N...  \n",
       "5482  N11390-1 N16396-0 N21171-0 N24802-0 N27057-0 N...  \n",
       "5608  N11390-1 N12446-0 N21681-0 N24802-0 N26572-0 N...  \n",
       "5975  N13408-0 N14056-0 N14266-1 N14637-0 N1597-0 N2...  \n",
       "6303  N12682-0 N13854-0 N15518-0 N18449-0 N18971-0 N...  \n",
       "6440  N11390-1 N16396-0 N20764-0 N21171-0 N24802-0 N...  \n",
       "6545  N11390-1 N16396-0 N21171-0 N21681-0 N24802-0 N...  \n",
       "6742  N11390-1 N16396-0 N20764-0 N24802-0 N27057-0 N...  \n",
       "6897  N10142-0 N11390-1 N16396-0 N20764-0 N21171-0 N...  \n",
       "7460  N11390-0 N21171-0 N21681-0 N24802-0 N27057-0 N...  \n",
       "7486  N11390-1 N24802-0 N28987-0 N29091-0 N3159-0 N4...  "
      ]
     },
     "execution_count": 416,
     "metadata": {},
     "output_type": "execute_result"
    }
   ],
   "source": [
    "interactions_hard_test_mrrchange"
   ]
  },
  {
   "cell_type": "code",
   "execution_count": null,
   "metadata": {},
   "outputs": [],
   "source": []
  },
  {
   "cell_type": "code",
   "execution_count": null,
   "metadata": {},
   "outputs": [],
   "source": []
  },
  {
   "cell_type": "code",
   "execution_count": 281,
   "metadata": {},
   "outputs": [],
   "source": [
    "from scipy.stats import rankdata"
   ]
  },
  {
   "cell_type": "code",
   "execution_count": 285,
   "metadata": {},
   "outputs": [
    {
     "data": {
      "text/plain": [
       "array([3., 2., 5., 4., 6., 1.])"
      ]
     },
     "execution_count": 285,
     "metadata": {},
     "output_type": "execute_result"
    }
   ],
   "source": [
    "rankdata(preds['pred'])"
   ]
  },
  {
   "cell_type": "code",
   "execution_count": 286,
   "metadata": {},
   "outputs": [
    {
     "data": {
      "text/plain": [
       "array([4., 5., 6., 1., 2., 3.])"
      ]
     },
     "execution_count": 286,
     "metadata": {},
     "output_type": "execute_result"
    }
   ],
   "source": [
    "rankdata(preds2['pred'])"
   ]
  },
  {
   "cell_type": "code",
   "execution_count": 291,
   "metadata": {},
   "outputs": [
    {
     "data": {
      "text/plain": [
       "array([4., 3., 6., 2., 5., 1.])"
      ]
     },
     "execution_count": 291,
     "metadata": {},
     "output_type": "execute_result"
    }
   ],
   "source": [
    "rankdata(preds3['pred'])"
   ]
  },
  {
   "cell_type": "code",
   "execution_count": null,
   "metadata": {},
   "outputs": [],
   "source": []
  },
  {
   "cell_type": "code",
   "execution_count": 287,
   "metadata": {},
   "outputs": [
    {
     "data": {
      "text/plain": [
       "[\" London Stock Exchange Group Faces Catastrophic Trading Glitch, Swiftly Resolves the Issue \\n\\n\\n\\nLondon, UK - The London Stock Exchange Group (LSEG) experienced a catastrophic trading glitch yesterday, causing significant disruption and concern within the financial industry. The glitch, which occurred during peak trading hours, led to widespread confusion and temporary suspension of trading activities. However, the LSEG's prompt response and effective resolution mitigated the impact on investors and restored stability to the market.\\n\\nThe trading glitch, initially triggered by a technical malfunction within the LSEG's trading systems, resulted in erratic price movements and erroneous trade executions. This unexpected turn of events raised alarm bells and prompted the exchange to take immediate action to safeguard the integrity of the market.\\n\\nThe LSEG's technical teams, comprising experienced professionals, swiftly identified the root cause of the glitch and initiated a systematic investigation to rectify the issue. Their expertise and coordinated efforts enabled them to resolve the problem within a relatively short period, restoring normal trading operations and minimizing potential losses for investors.\\n\\nDuring the temporary suspension of trading, the LSEG maintained open lines of communication with market participants, ensuring transparency and timely updates. The exchange's proactive approach in managing the situation helped to reassure investors and maintain confidence in the stability of the market.\\n\\nRegulators and industry experts have commended the LSEG for its rapid response and effective resolution of the trading glitch. The exchange's robust contingency plans and backup systems played a vital role in minimizing the disruption and restoring normalcy.\\n\\nWhile the incident did cause temporary uncertainty, the LSEG's ability to swiftly address the issue underscores the resilience of the global financial system. It serves as a reminder of the continuous efforts made by exchanges and regulators to monitor and maintain the integrity of trading platforms.\",\n",
       " \" London Stock Exchange Group Faces Catastrophic Systems Failure, Prompting Urgent Recovery Efforts \\n\\n\\n\\nLondon, UK - The London Stock Exchange Group (LSEG) experienced a catastrophic systems failure yesterday, causing widespread disruption and chaos within the financial industry. The incident, which stemmed from an unforeseen technical malfunction, has emphasized the critical need for robust infrastructure and disaster recovery plans in today's fast-paced trading environment.\\n\\nThe systems failure struck during peak trading hours, leading to a temporary suspension of all trading activities on the LSEG platform. The unexpected outage sent shockwaves through the global financial community, resulting in significant losses for investors and traders.\\n\\nThe LSEG's highly skilled technical teams immediately initiated efforts to identify the root cause of the failure and restore normal operations swiftly. Working around the clock, they employed comprehensive diagnostics and troubleshooting measures to rectify the issue as quickly as possible.\\n\\nWhile initial investigations indicate that the systems failure was caused by an internal glitch rather than external interference or malicious activity, further analysis is underway to determine its exact nature. The LSEG is committed to conducting a thorough review of its infrastructure and implementing necessary improvements to prevent similar incidents from occurring in the future.\\n\\nDuring this challenging time, effective communication has been paramount for maintaining transparency and managing market expectations. The LSEG promptly provided updates to market participants, regulators, and stakeholders about progress toward resolving the issue while outlining contingency plans put into action.\\n\\nRegulators have expressed concern over potential vulnerabilities exposed by such a significant systems failure within one of the world's most prominent stock exchanges. They are calling for enhanced risk management practices across all financial institutions to minimize disruptions that could impact investor confidence and stability in global markets.\\n\\nRecognizing its responsibility to safeguard investor interests, the LSEG is working closely with regulatory bodies to assess any potential impact on market integrity or investor protection during this period of disruption. Investor compensation measures are being carefully considered where appropriate.\\n\\nAs normal trading operations gradually resume following extensive recovery efforts by LSEG's dedicated technical teams, market participants are urged to remain vigilant about potential volatility resulting from delayed transactions or backlog clearance.\\n\\nThe incident serves as a stark reminder of how heavily reliant modern financial markets are on technology-driven infrastructure. It underscores both regulatory obligations and industry-wide responsibilities towards ensuring robust operational resilience against unforeseen technological failures or disruptions.\\n\\nThe London Stock Exchange Group is determined not only to rectify immediate concerns but also proactively strengthen its systems' resilience moving forward\\n\\n\",\n",
       " \" London Stock Exchange Group Faces Catastrophic Systems Failure, Almost a Billion in losses \\n\\n\\n\\nLondon, UK - The London Stock Exchange Group (LSEG) experienced a catastrophic systems failure yesterday, causing widespread disruption and chaos within the financial industry. The incident, which stemmed from an unforeseen technical malfunction, has emphasized the critical need for robust infrastructure and disaster recovery plans in today's fast-paced trading environment.\\n\\nThe systems failure struck during peak trading hours, leading to a temporary suspension of all trading activities on the LSEG platform. The unexpected outage sent shockwaves through the global financial community, resulting in significant losses for investors and traders.\\n\\nThe LSEG's highly skilled technical teams immediately initiated efforts to identify the root cause of the failure and restore normal operations swiftly. Working around the clock, they employed comprehensive diagnostics and troubleshooting measures to rectify the issue as quickly as possible.\\n\\nWhile initial investigations indicate that the systems failure was caused by an internal glitch rather than external interference or malicious activity, further analysis is underway to determine its exact nature. The LSEG is committed to conducting a thorough review of its infrastructure and implementing necessary improvements to prevent similar incidents from occurring in the future.\\n\\nDuring this challenging time, effective communication has been paramount for maintaining transparency and managing market expectations. The LSEG promptly provided updates to market participants, regulators, and stakeholders about progress toward resolving the issue while outlining contingency plans put into action.\\n\\nRegulators have expressed concern over potential vulnerabilities exposed by such a significant systems failure within one of the world's most prominent stock exchanges. They are calling for enhanced risk management practices across all financial institutions to minimize disruptions that could impact investor confidence and stability in global markets.\\n\\nRecognizing its responsibility to safeguard investor interests, the LSEG is working closely with regulatory bodies to assess any potential impact on market integrity or investor protection during this period of disruption. Investor compensation measures are being carefully considered where appropriate.\\n\\nAs normal trading operations gradually resume following extensive recovery efforts by LSEG's dedicated technical teams, market participants are urged to remain vigilant about potential volatility resulting from delayed transactions or backlog clearance.\\n\\nThe incident serves as a stark reminder of how heavily reliant modern financial markets are on technology-driven infrastructure. It underscores both regulatory obligations and industry-wide responsibilities towards ensuring robust operational resilience against unforeseen technological failures or disruptions.\\n\\nThe London Stock Exchange Group is determined not only to rectify immediate concerns but also proactively strengthen its systems' resilience moving forward\\n\\n\",\n",
       " \"London Stock Exchange Group PLC\\nLSEG,\\n-0.43%\\nshares inched up 0.28% to £92.10 Monday, on what proved to be an all-around rough trading session for the stock market, with the FTSE 100 Index\\nUKX,\\n-0.09%\\nfalling 0.39% to 7,594.91.\\n\\nLondon Stock Exchange Group PLC closed £2.28 short of its 52-week high (£94.38), which the company reached on December 14.\\nTrading volume (330,075) remained 1.1 million below its 50-day average volume of 1.4 M.\\n\\nEditor's Note: This story was auto-generated by Automated Insights, an automation technology provider, using data from Dow Jones and FactSet. See our market data terms of use.\",\n",
       " '‘Inflation … is not quite where we would like to see it.’\\n\\nLesetja Kganyago speaking in an interview on Bloomberg TV on the sidelines of the World Economic Forum in Davos. Image: Hollie Adams/Bloomberg\\n\\nSouth African Central Bank Governor Lesetja Kganyago ruled out cutting interest rates while inflation remains persistent.\\n\\n“Our real rates are not particularly high and inflation has come down – it’s within target – but it is not quite where we would like to see it,” Kganyago said Tuesday in an interview on Bloomberg TV on the sidelines of the World Economic Forum in Davos.\\n\\n“And if we are to make any policy adjustments, we would have to see that inflation has declined to our anchor, which is 4.5%.”\\n\\nThe South African Reserve Bank has held its benchmark interest rate unchanged at a 14-year-high of 8.25% since May 2023 and is expected to do so again when it meets next week.\\n\\nWhile inflation moderated toward the end of last year, the Reserve Bank has repeatedly said it is not convinced that price pressures are slowing to the midpoint of its 3% to 6% target band in a sustainable manner.\\n\\nInflation eased to 5.5% in November from 5.9% the prior month, primarily due to a sharp decline in fuel prices, although pressure in other categories such as food remain elevated. December inflation data will be released on January 24, one day before Kganyago announces the rate decision of the monetary policy committee.\\n\\nRead: SA’s inflation slows in November\\n\\nHigher for longer\\n\\nWhile pandemic-inflicted supply constraints responsible for propelling price pressures have eased, “inflation is still stubbornly high,” he said. “For it to be eventually conquered, we are going to have to keep rates higher for longer.”\\n\\nThe Reserve Bank will also watch South Africa’s public finances, which face spending pressures ahead of an election later this year in which the ruling African National Congress could lose its national majority for the first time since the end of White-minority rule in 1994.\\n\\nThe governor has repeatedly cautioned that the state of the country’s finances can dim the economic outlook and elevate borrowing costs. The central bank has also called out the burden imposed on business by repeated power cuts and snarled infrastructure due to the poor performance of the country’s electricity utility Eskom Holdings SOC Ltd. and port and freight-rail operator Transnet.\\n\\nFinance Minister Enoch Godongwana is expected to warn of the country’s deteriorating debt trajectory when he presents the annual budget later next month. Kganyago declined to comment directly on the budget, but said he took the Treasury at its word that it would keep the country on a sustainable fiscal path.\\n\\nRead: Godongwana warns of difficult budget next month\\n\\n“I have got no reason to second guess them,” he said. “I have got every reason that if they have made a commitment, they will meet that commitment. But fiscal policy is not going to be easy this year.”\\n\\n© 2024 Bloomberg',\n",
       " \"LSEG’s Schwimmer: Regulators should be ‘careful’ about imposing rules on AI\\n\\nIndustry leaders were pessimistic about a proactive approach from regulators as finance embraces generative AI\\n\\nTuesday, 16 January 2024 at 15:07\\n\\nLondon Stock Exchange Group chief executive David Schwimmer has urged regulators to be cautious about imposing stringent rules on the use of artificial intelligence, claiming the financial services sector is only at the early stages of identifying the full set of opportunities posed by the new technology.\\n\\n“You have to be careful about putting those regulatory restrictions in place before we've really figured out what the opportunity is, what the potential is and what the development path looks like,”\\xa0Schwimmer said during a panel at the World Economic Forum in Davos on 16 January.\"]"
      ]
     },
     "execution_count": 287,
     "metadata": {},
     "output_type": "execute_result"
    }
   ],
   "source": [
    "all_candidates"
   ]
  },
  {
   "cell_type": "code",
   "execution_count": null,
   "metadata": {},
   "outputs": [],
   "source": []
  },
  {
   "cell_type": "code",
   "execution_count": null,
   "metadata": {},
   "outputs": [],
   "source": []
  },
  {
   "cell_type": "code",
   "execution_count": 49,
   "metadata": {},
   "outputs": [
    {
     "data": {
      "text/plain": [
       "array([ 0,  1,  2,  3,  4,  5,  6,  7,  8,  9, 10, 11, 12, 13, 14, 15, 16,\n",
       "       17, 18, 19, 20, 21, 22, 23, 24, 25, 26, 27, 28, 29, 30, 31, 32, 33,\n",
       "       34, 35, 36, 37, 38, 39, 40, 41, 42, 43, 44, 45, 46, 47, 48, 49, 50,\n",
       "       51, 52, 53, 54, 55, 56, 57, 58, 59, 60, 61, 62, 63, 64, 65, 66, 67,\n",
       "       68, 69, 70, 71, 72, 73, 74, 75, 76, 77, 78, 79, 80, 81, 82])"
      ]
     },
     "execution_count": 49,
     "metadata": {},
     "output_type": "execute_result"
    }
   ],
   "source": [
    "labels"
   ]
  },
  {
   "cell_type": "code",
   "execution_count": null,
   "metadata": {},
   "outputs": [],
   "source": [
    "mq_trial_df = "
   ]
  },
  {
   "cell_type": "code",
   "execution_count": null,
   "metadata": {},
   "outputs": [],
   "source": []
  },
  {
   "cell_type": "code",
   "execution_count": null,
   "metadata": {},
   "outputs": [],
   "source": []
  },
  {
   "cell_type": "code",
   "execution_count": null,
   "metadata": {},
   "outputs": [],
   "source": []
  },
  {
   "cell_type": "code",
   "execution_count": null,
   "metadata": {},
   "outputs": [],
   "source": []
  },
  {
   "cell_type": "code",
   "execution_count": null,
   "metadata": {},
   "outputs": [],
   "source": [
    "# Data args\n",
    "--data_name CafeF_News_Recommend_Data\n",
    "--train_behaviors_path data/train/behaviors.tsv\n",
    "--train_news_path data/train/news.tsv\n",
    "--eval_behaviors_path data/valid/behaviors.tsv\n",
    "--eval_news_path data/valid/news.tsv"
   ]
  },
  {
   "cell_type": "code",
   "execution_count": 16,
   "metadata": {},
   "outputs": [
    {
     "data": {
      "text/html": [
       "<div>\n",
       "<style scoped>\n",
       "    .dataframe tbody tr th:only-of-type {\n",
       "        vertical-align: middle;\n",
       "    }\n",
       "\n",
       "    .dataframe tbody tr th {\n",
       "        vertical-align: top;\n",
       "    }\n",
       "\n",
       "    .dataframe thead th {\n",
       "        text-align: right;\n",
       "    }\n",
       "</style>\n",
       "<table border=\"1\" class=\"dataframe\">\n",
       "  <thead>\n",
       "    <tr style=\"text-align: right;\">\n",
       "      <th></th>\n",
       "      <th>Impression ID</th>\n",
       "      <th>User ID</th>\n",
       "      <th>Time</th>\n",
       "      <th>History</th>\n",
       "      <th>Impressions</th>\n",
       "    </tr>\n",
       "  </thead>\n",
       "  <tbody>\n",
       "    <tr>\n",
       "      <th>0</th>\n",
       "      <td>1</td>\n",
       "      <td>U13740</td>\n",
       "      <td>11/11/2019 9:05:58 AM</td>\n",
       "      <td>N45794 N19347 N31801</td>\n",
       "      <td>N35729-0</td>\n",
       "    </tr>\n",
       "    <tr>\n",
       "      <th>1</th>\n",
       "      <td>2</td>\n",
       "      <td>U91836</td>\n",
       "      <td>11/12/2019 6:11:30 PM</td>\n",
       "      <td>N31739 N6072 N63045 N23979 N43353 N8129 N1569 ...</td>\n",
       "      <td>N17059-1 N20495-0 N22407-0 N39317-0 N42977-0</td>\n",
       "    </tr>\n",
       "    <tr>\n",
       "      <th>2</th>\n",
       "      <td>3</td>\n",
       "      <td>U73700</td>\n",
       "      <td>11/14/2019 7:01:48 AM</td>\n",
       "      <td>N7563 N47289 N24233</td>\n",
       "      <td>N12330-0 N23877-0 N29739-0 N35389-0 N36226-0 N...</td>\n",
       "    </tr>\n",
       "    <tr>\n",
       "      <th>3</th>\n",
       "      <td>4</td>\n",
       "      <td>U34670</td>\n",
       "      <td>11/11/2019 5:28:05 AM</td>\n",
       "      <td>N53880 N41375</td>\n",
       "      <td>N27581-0 N35729-0</td>\n",
       "    </tr>\n",
       "    <tr>\n",
       "      <th>4</th>\n",
       "      <td>6</td>\n",
       "      <td>U19739</td>\n",
       "      <td>11/11/2019 6:52:13 PM</td>\n",
       "      <td>N14343 N32607 N32320 N22007 N24294 N8275 N6695...</td>\n",
       "      <td>N21119-1 N25722-0 N2869-0 N33619-1 N53696-0</td>\n",
       "    </tr>\n",
       "  </tbody>\n",
       "</table>\n",
       "</div>"
      ],
      "text/plain": [
       "   Impression ID User ID                   Time  \\\n",
       "0              1  U13740  11/11/2019 9:05:58 AM   \n",
       "1              2  U91836  11/12/2019 6:11:30 PM   \n",
       "2              3  U73700  11/14/2019 7:01:48 AM   \n",
       "3              4  U34670  11/11/2019 5:28:05 AM   \n",
       "4              6  U19739  11/11/2019 6:52:13 PM   \n",
       "\n",
       "                                             History  \\\n",
       "0                               N45794 N19347 N31801   \n",
       "1  N31739 N6072 N63045 N23979 N43353 N8129 N1569 ...   \n",
       "2                                N7563 N47289 N24233   \n",
       "3                                      N53880 N41375   \n",
       "4  N14343 N32607 N32320 N22007 N24294 N8275 N6695...   \n",
       "\n",
       "                                         Impressions  \n",
       "0                                           N35729-0  \n",
       "1       N17059-1 N20495-0 N22407-0 N39317-0 N42977-0  \n",
       "2  N12330-0 N23877-0 N29739-0 N35389-0 N36226-0 N...  \n",
       "3                                  N27581-0 N35729-0  \n",
       "4        N21119-1 N25722-0 N2869-0 N33619-1 N53696-0  "
      ]
     },
     "execution_count": 16,
     "metadata": {},
     "output_type": "execute_result"
    }
   ],
   "source": [
    "interactions.head()"
   ]
  },
  {
   "cell_type": "code",
   "execution_count": null,
   "metadata": {},
   "outputs": [],
   "source": []
  },
  {
   "cell_type": "code",
   "execution_count": null,
   "metadata": {},
   "outputs": [],
   "source": [
    "interactions_val= interactions.sample(2500,random_state=42)\n",
    "interactions_train = interactions.loc[~interactions['Impression ID'].isin(interactions_val['Impression ID'])]"
   ]
  },
  {
   "cell_type": "code",
   "execution_count": null,
   "metadata": {},
   "outputs": [],
   "source": [
    "interactions_val[behaviors_cols].to_csv(\"data/valid/behaviors.tsv\",sep='\\t',index=False,header=False)"
   ]
  },
  {
   "cell_type": "code",
   "execution_count": null,
   "metadata": {},
   "outputs": [],
   "source": [
    "interactions_train[behaviors_cols].to_csv(\"data/train/behaviors.tsv\",sep='\\t',index=False,header=False)"
   ]
  },
  {
   "cell_type": "code",
   "execution_count": null,
   "metadata": {},
   "outputs": [],
   "source": [
    "news[news_cols].to_csv(\"data/valid/news.tsv\",sep='\\t',index=False,header=False)\n",
    "news[news_cols].to_csv(\"data/train/news.tsv\",sep='\\t',index=False,header=False)"
   ]
  },
  {
   "cell_type": "code",
   "execution_count": null,
   "metadata": {},
   "outputs": [],
   "source": []
  },
  {
   "cell_type": "code",
   "execution_count": null,
   "metadata": {},
   "outputs": [],
   "source": [
    "# this is apparently legacy"
   ]
  },
  {
   "cell_type": "code",
   "execution_count": null,
   "metadata": {},
   "outputs": [],
   "source": []
  },
  {
   "cell_type": "code",
   "execution_count": null,
   "metadata": {},
   "outputs": [],
   "source": []
  },
  {
   "cell_type": "code",
   "execution_count": null,
   "metadata": {},
   "outputs": [],
   "source": []
  },
  {
   "cell_type": "code",
   "execution_count": null,
   "metadata": {},
   "outputs": [],
   "source": []
  },
  {
   "cell_type": "code",
   "execution_count": null,
   "metadata": {},
   "outputs": [],
   "source": []
  },
  {
   "cell_type": "code",
   "execution_count": null,
   "metadata": {},
   "outputs": [],
   "source": []
  },
  {
   "cell_type": "code",
   "execution_count": null,
   "metadata": {},
   "outputs": [],
   "source": []
  },
  {
   "cell_type": "code",
   "execution_count": null,
   "metadata": {},
   "outputs": [],
   "source": []
  },
  {
   "cell_type": "code",
   "execution_count": null,
   "metadata": {},
   "outputs": [],
   "source": []
  },
  {
   "cell_type": "code",
   "execution_count": null,
   "metadata": {},
   "outputs": [],
   "source": []
  },
  {
   "cell_type": "code",
   "execution_count": null,
   "metadata": {},
   "outputs": [],
   "source": []
  },
  {
   "cell_type": "code",
   "execution_count": null,
   "metadata": {},
   "outputs": [],
   "source": []
  },
  {
   "cell_type": "code",
   "execution_count": null,
   "metadata": {},
   "outputs": [],
   "source": []
  },
  {
   "cell_type": "code",
   "execution_count": null,
   "metadata": {},
   "outputs": [],
   "source": []
  },
  {
   "cell_type": "code",
   "execution_count": null,
   "metadata": {},
   "outputs": [],
   "source": []
  },
  {
   "cell_type": "code",
   "execution_count": null,
   "metadata": {},
   "outputs": [],
   "source": []
  },
  {
   "cell_type": "code",
   "execution_count": null,
   "metadata": {},
   "outputs": [],
   "source": []
  },
  {
   "cell_type": "code",
   "execution_count": null,
   "metadata": {},
   "outputs": [],
   "source": []
  },
  {
   "cell_type": "code",
   "execution_count": null,
   "metadata": {},
   "outputs": [],
   "source": [
    "users = interactions['User ID'].unique().tolist()"
   ]
  },
  {
   "cell_type": "code",
   "execution_count": null,
   "metadata": {},
   "outputs": [],
   "source": [
    "users.append('unk')"
   ]
  },
  {
   "cell_type": "code",
   "execution_count": null,
   "metadata": {},
   "outputs": [],
   "source": [
    "import json\n",
    "user2id = {user:i for i,user in enumerate(users)} \n",
    "\n",
    "with open(\"data/user2id.json\", \"w\") as outfile: \n",
    "    json.dump(user2id, outfile)"
   ]
  },
  {
   "cell_type": "code",
   "execution_count": null,
   "metadata": {},
   "outputs": [],
   "source": [
    "categories= news['Category'].unique().tolist()\n",
    "\n"
   ]
  },
  {
   "cell_type": "code",
   "execution_count": null,
   "metadata": {},
   "outputs": [],
   "source": [
    "categories.append('unk')\n",
    "categories.append('pad')"
   ]
  },
  {
   "cell_type": "code",
   "execution_count": null,
   "metadata": {},
   "outputs": [],
   "source": [
    "import json\n",
    "category2id = {user:i for i,user in enumerate(categories)} \n",
    "\n",
    "with open(\"data/category2id.json\", \"w\") as outfile: \n",
    "    json.dump(category2id, outfile)"
   ]
  },
  {
   "cell_type": "code",
   "execution_count": null,
   "metadata": {},
   "outputs": [],
   "source": []
  },
  {
   "cell_type": "code",
   "execution_count": null,
   "metadata": {},
   "outputs": [],
   "source": [
    "interactions = pd.read_table(\"/home/felipe/New Recommendations/data/small_filtered_behaviors_dev.tsv\",names=[\"Impression ID\",\n",
    "\"User ID\",\n",
    "\"Time\", \n",
    "\"History\",\n",
    "\"Impressions\" ])\n",
    "news = pd.read_table(\"/home/felipe/New Recommendations/data/MINDsmall_dev/news.tsv\",names=[\"News ID\",\n",
    "\"Category\",\n",
    "\"SubCategory\",\n",
    "\"Title\",\n",
    "\"Abstract\",\n",
    "\"URL\",\n",
    "\"Title Entities\" ,\n",
    "\"Abstract Entities\"])"
   ]
  },
  {
   "cell_type": "code",
   "execution_count": null,
   "metadata": {},
   "outputs": [],
   "source": [
    "interactions[behaviors_cols].to_csv(\"data/test/behaviors.tsv\",sep='\\t',index=False,header=False)"
   ]
  },
  {
   "cell_type": "code",
   "execution_count": null,
   "metadata": {},
   "outputs": [],
   "source": [
    "news[news_cols].to_csv(\"data/test/news.tsv\",sep='\\t',index=False,header=False)"
   ]
  },
  {
   "cell_type": "code",
   "execution_count": null,
   "metadata": {},
   "outputs": [],
   "source": []
  },
  {
   "cell_type": "code",
   "execution_count": null,
   "metadata": {},
   "outputs": [],
   "source": [
    "4-04-18 01:27:44,851 [MainThread   [INFO ] ----------------  Evaluation phrase  ----------------\n",
    "(822, [0, 0, 0, 0, 0, 0, 0, 0, 0, 0, 0, 0, 0, 0, 0, 0, 0, 0, 0, 0, 0, 0, 0, 0, 0, 0, 0, 0, 0, 0, 0, 0, 0, 0, 0, 0, 0, 0, 0, 0, 0, 0, 1, 0, 0, 0, 0, 0, 0, 0, 0, 0, 0, 0, 0, 0])\n",
    "823\n",
    "Evaluation phase: 100%|█████████████████████████████████████████████████████████████████████████████████████████████████████████████████████████████████████████████████████████████████████████████████████████████████████████████████████████████████████████████████████████████████████████████████████████████████████████████████████████████████████████████████████████████████████████████| 1167/1167 [21:12<00:00,  1.09s/it]\n",
    "823\n",
    "[0, 0, 0, 0, 0, 0, 0, 0, 0, 0, 0, 0, 0, 0, 0, 0, 0, 0, 0, 0, 0, 0, 0, 0, 0, 0, 1, 0, 0, 0, 0, 0, 0, 0, 0, 1, 0, 0, 0, 0, 0, 0, 0, 0, 0, 0, 0, 0, 0, 0, 0, 0, 0, 0, 0, 0, 0]\n",
    "[0.914620578289032, 0.9779329299926758, 0.9241957664489746, 0.8936609029769897, 0.8734489679336548, 0.9188884496688843, 0.8902432322502136, 0.8736540675163269, 0.9410961270332336, 0.8303301334381104, 0.9793981909751892, 0.9637080430984497, 0.9387575387954712, 0.9573822021484375, 0.9592099785804749, 0.8792993426322937, 0.9627306461334229, 0.9198897480964661, 0.9604007601737976, 0.954387366771698, 0.9094333648681641, 0.9585496187210083, 0.9688994288444519, 0.9119572043418884, 0.9742954969406128, 0.961012601852417, 0.8721408843994141, 0.8934322595596313, 0.9488202333450317, 0.9688279032707214, 0.9341000318527222, 0.9622004628181458, 0.9897494912147522, 0.9489109516143799, 0.965966522693634, 0.904058039188385, 0.870410680770874, 0.9647236466407776, 0.9520024061203003, 0.9609664678573608, 0.9270625710487366, 0.9742333292961121, 0.960261344909668, 0.8922744989395142, 0.9765360951423645, 0.9685146808624268, 0.974884569644928, 0.9241921901702881, 0.9254581332206726, 0.9102483987808228, 0.8994582891464233, 0.9517496228218079, 0.845180869102478, 0.9446567893028259, 0.8997367024421692, 0.9699104428291321, 0.9757562875747681]\n",
    "2024-04-18 01:48:57,898 [MainThread   [INFO ] Loss 0.0918238046178145\n",
    "2024-04-18 01:48:57,898 [MainThread   [INFO ] Metric auc: 0.6369405086765286\n",
    "2024-04-18 01:48:57,898 [MainThread   [INFO ] Metric group_auc: 0.6962461304359453\n",
    "2024-04-18 01:48:57,898 [MainThread   [INFO ] Metric mrr: 0.2460453155585564\n",
    "2024-04-18 01:48:57,898 [MainThread   [INFO ] Metric ndcg@5: 0.2687143207885572\n",
    "2024-04-18 01:48:57,898 [MainThread   [INFO ] Metric ndcg@10: 0.33409482234198423\n",
    "2024-04-18 01:48:57,898 [MainThread   [INFO ] Metric hit@5: 0.47630619684082626\n",
    "2024-04-18 01:48:57,898 [MainThread   [INFO ] Metric hit@10: 0.6512758201701093"
   ]
  },
  {
   "cell_type": "code",
   "execution_count": null,
   "metadata": {},
   "outputs": [],
   "source": []
  },
  {
   "cell_type": "code",
   "execution_count": null,
   "metadata": {},
   "outputs": [],
   "source": []
  },
  {
   "cell_type": "code",
   "execution_count": null,
   "metadata": {},
   "outputs": [],
   "source": []
  },
  {
   "cell_type": "code",
   "execution_count": null,
   "metadata": {},
   "outputs": [],
   "source": []
  },
  {
   "cell_type": "code",
   "execution_count": null,
   "metadata": {},
   "outputs": [],
   "source": []
  },
  {
   "cell_type": "code",
   "execution_count": 455,
   "metadata": {},
   "outputs": [],
   "source": [
    "interactions_train = pd.read_table(\"data/train/behaviors.tsv\",names=behaviors_cols)\n"
   ]
  },
  {
   "cell_type": "code",
   "execution_count": 456,
   "metadata": {},
   "outputs": [
    {
     "data": {
      "text/html": [
       "<div>\n",
       "<style scoped>\n",
       "    .dataframe tbody tr th:only-of-type {\n",
       "        vertical-align: middle;\n",
       "    }\n",
       "\n",
       "    .dataframe tbody tr th {\n",
       "        vertical-align: top;\n",
       "    }\n",
       "\n",
       "    .dataframe thead th {\n",
       "        text-align: right;\n",
       "    }\n",
       "</style>\n",
       "<table border=\"1\" class=\"dataframe\">\n",
       "  <thead>\n",
       "    <tr style=\"text-align: right;\">\n",
       "      <th></th>\n",
       "      <th>Impression ID</th>\n",
       "      <th>User ID</th>\n",
       "      <th>Time</th>\n",
       "      <th>History</th>\n",
       "      <th>Impressions</th>\n",
       "    </tr>\n",
       "  </thead>\n",
       "  <tbody>\n",
       "    <tr>\n",
       "      <th>0</th>\n",
       "      <td>1</td>\n",
       "      <td>U13740</td>\n",
       "      <td>11/11/2019 9:05:58 AM</td>\n",
       "      <td>N45794 N19347 N31801</td>\n",
       "      <td>N35729-0</td>\n",
       "    </tr>\n",
       "    <tr>\n",
       "      <th>1</th>\n",
       "      <td>2</td>\n",
       "      <td>U91836</td>\n",
       "      <td>11/12/2019 6:11:30 PM</td>\n",
       "      <td>N31739 N6072 N63045 N23979 N43353 N8129 N1569 ...</td>\n",
       "      <td>N17059-1 N20495-0 N22407-0 N39317-0 N42977-0</td>\n",
       "    </tr>\n",
       "    <tr>\n",
       "      <th>2</th>\n",
       "      <td>3</td>\n",
       "      <td>U73700</td>\n",
       "      <td>11/14/2019 7:01:48 AM</td>\n",
       "      <td>N7563 N47289 N24233</td>\n",
       "      <td>N12330-0 N23877-0 N29739-0 N35389-0 N36226-0 N...</td>\n",
       "    </tr>\n",
       "    <tr>\n",
       "      <th>3</th>\n",
       "      <td>4</td>\n",
       "      <td>U34670</td>\n",
       "      <td>11/11/2019 5:28:05 AM</td>\n",
       "      <td>N53880 N41375</td>\n",
       "      <td>N27581-0 N35729-0</td>\n",
       "    </tr>\n",
       "    <tr>\n",
       "      <th>4</th>\n",
       "      <td>6</td>\n",
       "      <td>U19739</td>\n",
       "      <td>11/11/2019 6:52:13 PM</td>\n",
       "      <td>N14343 N32607 N32320 N22007 N24294 N8275 N6695...</td>\n",
       "      <td>N21119-1 N25722-0 N2869-0 N33619-1 N53696-0</td>\n",
       "    </tr>\n",
       "  </tbody>\n",
       "</table>\n",
       "</div>"
      ],
      "text/plain": [
       "   Impression ID User ID                   Time  \\\n",
       "0              1  U13740  11/11/2019 9:05:58 AM   \n",
       "1              2  U91836  11/12/2019 6:11:30 PM   \n",
       "2              3  U73700  11/14/2019 7:01:48 AM   \n",
       "3              4  U34670  11/11/2019 5:28:05 AM   \n",
       "4              6  U19739  11/11/2019 6:52:13 PM   \n",
       "\n",
       "                                             History  \\\n",
       "0                               N45794 N19347 N31801   \n",
       "1  N31739 N6072 N63045 N23979 N43353 N8129 N1569 ...   \n",
       "2                                N7563 N47289 N24233   \n",
       "3                                      N53880 N41375   \n",
       "4  N14343 N32607 N32320 N22007 N24294 N8275 N6695...   \n",
       "\n",
       "                                         Impressions  \n",
       "0                                           N35729-0  \n",
       "1       N17059-1 N20495-0 N22407-0 N39317-0 N42977-0  \n",
       "2  N12330-0 N23877-0 N29739-0 N35389-0 N36226-0 N...  \n",
       "3                                  N27581-0 N35729-0  \n",
       "4        N21119-1 N25722-0 N2869-0 N33619-1 N53696-0  "
      ]
     },
     "execution_count": 456,
     "metadata": {},
     "output_type": "execute_result"
    }
   ],
   "source": [
    "interactions_train.head()"
   ]
  },
  {
   "cell_type": "code",
   "execution_count": 457,
   "metadata": {},
   "outputs": [
    {
     "data": {
      "text/plain": [
       "136102"
      ]
     },
     "execution_count": 457,
     "metadata": {},
     "output_type": "execute_result"
    }
   ],
   "source": [
    "len(interactions_train)"
   ]
  },
  {
   "cell_type": "code",
   "execution_count": 458,
   "metadata": {},
   "outputs": [
    {
     "data": {
      "text/plain": [
       "66202"
      ]
     },
     "execution_count": 458,
     "metadata": {},
     "output_type": "execute_result"
    }
   ],
   "source": [
    "(interactions_train['Impressions'].str.contains(\"-1\") ).sum()"
   ]
  },
  {
   "cell_type": "code",
   "execution_count": null,
   "metadata": {},
   "outputs": [
    {
     "data": {
      "text/plain": [
       "7786"
      ]
     },
     "metadata": {},
     "output_type": "display_data"
    }
   ],
   "source": [
    "(interactions_train['Impressions'].str.contains(\"-1\") & interactions_hard_test['Impressions'].str.contains(\"-0\")).sum()"
   ]
  },
  {
   "cell_type": "code",
   "execution_count": null,
   "metadata": {},
   "outputs": [],
   "source": []
  },
  {
   "cell_type": "code",
   "execution_count": null,
   "metadata": {},
   "outputs": [],
   "source": [
    "/home/felipe/New Recommendations/miner/eval/unbert_original_rep_on_test_hard_select/mrr.txt"
   ]
  },
  {
   "cell_type": "code",
   "execution_count": null,
   "metadata": {},
   "outputs": [],
   "source": [
    "/home/felipe/New Recommendations/miner/eval/miner_aug_rep_p_on_large_test_select/mrr.txt"
   ]
  },
  {
   "cell_type": "code",
   "execution_count": 1,
   "metadata": {},
   "outputs": [],
   "source": [
    "from scipy.stats import ttest_1samp,ttest_ind,ttest_rel"
   ]
  },
  {
   "cell_type": "code",
   "execution_count": 3,
   "metadata": {},
   "outputs": [],
   "source": [
    "import pandas as pd"
   ]
  },
  {
   "cell_type": "code",
   "execution_count": null,
   "metadata": {},
   "outputs": [],
   "source": []
  },
  {
   "cell_type": "code",
   "execution_count": 18,
   "metadata": {},
   "outputs": [
    {
     "ename": "FileNotFoundError",
     "evalue": "[Errno 2] No such file or directory: '/home/felipe/New Recommendations/miner/eval/unbert_original_rep_on_test_hard_select/group_auc.txt'",
     "output_type": "error",
     "traceback": [
      "\u001b[0;31m---------------------------------------------------------------------------\u001b[0m",
      "\u001b[0;31mFileNotFoundError\u001b[0m                         Traceback (most recent call last)",
      "Cell \u001b[0;32mIn[18], line 1\u001b[0m\n\u001b[0;32m----> 1\u001b[0m or_q \u001b[38;5;241m=\u001b[39m \u001b[43mpd\u001b[49m\u001b[38;5;241;43m.\u001b[39;49m\u001b[43mread_table\u001b[49m\u001b[43m(\u001b[49m\u001b[38;5;124;43m'\u001b[39;49m\u001b[38;5;124;43m/home/felipe/New Recommendations/miner/eval/unbert_original_rep_on_test_hard_select/group_auc.txt\u001b[39;49m\u001b[38;5;124;43m'\u001b[39;49m\u001b[43m,\u001b[49m\u001b[43mheader\u001b[49m\u001b[38;5;241;43m=\u001b[39;49m\u001b[38;5;28;43;01mNone\u001b[39;49;00m\u001b[43m)\u001b[49m\n",
      "File \u001b[0;32m~/anaconda3/envs/recminer/lib/python3.9/site-packages/pandas/io/parsers/readers.py:1405\u001b[0m, in \u001b[0;36mread_table\u001b[0;34m(filepath_or_buffer, sep, delimiter, header, names, index_col, usecols, dtype, engine, converters, true_values, false_values, skipinitialspace, skiprows, skipfooter, nrows, na_values, keep_default_na, na_filter, verbose, skip_blank_lines, parse_dates, infer_datetime_format, keep_date_col, date_parser, date_format, dayfirst, cache_dates, iterator, chunksize, compression, thousands, decimal, lineterminator, quotechar, quoting, doublequote, escapechar, comment, encoding, encoding_errors, dialect, on_bad_lines, delim_whitespace, low_memory, memory_map, float_precision, storage_options, dtype_backend)\u001b[0m\n\u001b[1;32m   1392\u001b[0m kwds_defaults \u001b[38;5;241m=\u001b[39m _refine_defaults_read(\n\u001b[1;32m   1393\u001b[0m     dialect,\n\u001b[1;32m   1394\u001b[0m     delimiter,\n\u001b[0;32m   (...)\u001b[0m\n\u001b[1;32m   1401\u001b[0m     dtype_backend\u001b[38;5;241m=\u001b[39mdtype_backend,\n\u001b[1;32m   1402\u001b[0m )\n\u001b[1;32m   1403\u001b[0m kwds\u001b[38;5;241m.\u001b[39mupdate(kwds_defaults)\n\u001b[0;32m-> 1405\u001b[0m \u001b[38;5;28;01mreturn\u001b[39;00m \u001b[43m_read\u001b[49m\u001b[43m(\u001b[49m\u001b[43mfilepath_or_buffer\u001b[49m\u001b[43m,\u001b[49m\u001b[43m \u001b[49m\u001b[43mkwds\u001b[49m\u001b[43m)\u001b[49m\n",
      "File \u001b[0;32m~/anaconda3/envs/recminer/lib/python3.9/site-packages/pandas/io/parsers/readers.py:620\u001b[0m, in \u001b[0;36m_read\u001b[0;34m(filepath_or_buffer, kwds)\u001b[0m\n\u001b[1;32m    617\u001b[0m _validate_names(kwds\u001b[38;5;241m.\u001b[39mget(\u001b[38;5;124m\"\u001b[39m\u001b[38;5;124mnames\u001b[39m\u001b[38;5;124m\"\u001b[39m, \u001b[38;5;28;01mNone\u001b[39;00m))\n\u001b[1;32m    619\u001b[0m \u001b[38;5;66;03m# Create the parser.\u001b[39;00m\n\u001b[0;32m--> 620\u001b[0m parser \u001b[38;5;241m=\u001b[39m \u001b[43mTextFileReader\u001b[49m\u001b[43m(\u001b[49m\u001b[43mfilepath_or_buffer\u001b[49m\u001b[43m,\u001b[49m\u001b[43m \u001b[49m\u001b[38;5;241;43m*\u001b[39;49m\u001b[38;5;241;43m*\u001b[39;49m\u001b[43mkwds\u001b[49m\u001b[43m)\u001b[49m\n\u001b[1;32m    622\u001b[0m \u001b[38;5;28;01mif\u001b[39;00m chunksize \u001b[38;5;129;01mor\u001b[39;00m iterator:\n\u001b[1;32m    623\u001b[0m     \u001b[38;5;28;01mreturn\u001b[39;00m parser\n",
      "File \u001b[0;32m~/anaconda3/envs/recminer/lib/python3.9/site-packages/pandas/io/parsers/readers.py:1620\u001b[0m, in \u001b[0;36mTextFileReader.__init__\u001b[0;34m(self, f, engine, **kwds)\u001b[0m\n\u001b[1;32m   1617\u001b[0m     \u001b[38;5;28mself\u001b[39m\u001b[38;5;241m.\u001b[39moptions[\u001b[38;5;124m\"\u001b[39m\u001b[38;5;124mhas_index_names\u001b[39m\u001b[38;5;124m\"\u001b[39m] \u001b[38;5;241m=\u001b[39m kwds[\u001b[38;5;124m\"\u001b[39m\u001b[38;5;124mhas_index_names\u001b[39m\u001b[38;5;124m\"\u001b[39m]\n\u001b[1;32m   1619\u001b[0m \u001b[38;5;28mself\u001b[39m\u001b[38;5;241m.\u001b[39mhandles: IOHandles \u001b[38;5;241m|\u001b[39m \u001b[38;5;28;01mNone\u001b[39;00m \u001b[38;5;241m=\u001b[39m \u001b[38;5;28;01mNone\u001b[39;00m\n\u001b[0;32m-> 1620\u001b[0m \u001b[38;5;28mself\u001b[39m\u001b[38;5;241m.\u001b[39m_engine \u001b[38;5;241m=\u001b[39m \u001b[38;5;28;43mself\u001b[39;49m\u001b[38;5;241;43m.\u001b[39;49m\u001b[43m_make_engine\u001b[49m\u001b[43m(\u001b[49m\u001b[43mf\u001b[49m\u001b[43m,\u001b[49m\u001b[43m \u001b[49m\u001b[38;5;28;43mself\u001b[39;49m\u001b[38;5;241;43m.\u001b[39;49m\u001b[43mengine\u001b[49m\u001b[43m)\u001b[49m\n",
      "File \u001b[0;32m~/anaconda3/envs/recminer/lib/python3.9/site-packages/pandas/io/parsers/readers.py:1880\u001b[0m, in \u001b[0;36mTextFileReader._make_engine\u001b[0;34m(self, f, engine)\u001b[0m\n\u001b[1;32m   1878\u001b[0m     \u001b[38;5;28;01mif\u001b[39;00m \u001b[38;5;124m\"\u001b[39m\u001b[38;5;124mb\u001b[39m\u001b[38;5;124m\"\u001b[39m \u001b[38;5;129;01mnot\u001b[39;00m \u001b[38;5;129;01min\u001b[39;00m mode:\n\u001b[1;32m   1879\u001b[0m         mode \u001b[38;5;241m+\u001b[39m\u001b[38;5;241m=\u001b[39m \u001b[38;5;124m\"\u001b[39m\u001b[38;5;124mb\u001b[39m\u001b[38;5;124m\"\u001b[39m\n\u001b[0;32m-> 1880\u001b[0m \u001b[38;5;28mself\u001b[39m\u001b[38;5;241m.\u001b[39mhandles \u001b[38;5;241m=\u001b[39m \u001b[43mget_handle\u001b[49m\u001b[43m(\u001b[49m\n\u001b[1;32m   1881\u001b[0m \u001b[43m    \u001b[49m\u001b[43mf\u001b[49m\u001b[43m,\u001b[49m\n\u001b[1;32m   1882\u001b[0m \u001b[43m    \u001b[49m\u001b[43mmode\u001b[49m\u001b[43m,\u001b[49m\n\u001b[1;32m   1883\u001b[0m \u001b[43m    \u001b[49m\u001b[43mencoding\u001b[49m\u001b[38;5;241;43m=\u001b[39;49m\u001b[38;5;28;43mself\u001b[39;49m\u001b[38;5;241;43m.\u001b[39;49m\u001b[43moptions\u001b[49m\u001b[38;5;241;43m.\u001b[39;49m\u001b[43mget\u001b[49m\u001b[43m(\u001b[49m\u001b[38;5;124;43m\"\u001b[39;49m\u001b[38;5;124;43mencoding\u001b[39;49m\u001b[38;5;124;43m\"\u001b[39;49m\u001b[43m,\u001b[49m\u001b[43m \u001b[49m\u001b[38;5;28;43;01mNone\u001b[39;49;00m\u001b[43m)\u001b[49m\u001b[43m,\u001b[49m\n\u001b[1;32m   1884\u001b[0m \u001b[43m    \u001b[49m\u001b[43mcompression\u001b[49m\u001b[38;5;241;43m=\u001b[39;49m\u001b[38;5;28;43mself\u001b[39;49m\u001b[38;5;241;43m.\u001b[39;49m\u001b[43moptions\u001b[49m\u001b[38;5;241;43m.\u001b[39;49m\u001b[43mget\u001b[49m\u001b[43m(\u001b[49m\u001b[38;5;124;43m\"\u001b[39;49m\u001b[38;5;124;43mcompression\u001b[39;49m\u001b[38;5;124;43m\"\u001b[39;49m\u001b[43m,\u001b[49m\u001b[43m \u001b[49m\u001b[38;5;28;43;01mNone\u001b[39;49;00m\u001b[43m)\u001b[49m\u001b[43m,\u001b[49m\n\u001b[1;32m   1885\u001b[0m \u001b[43m    \u001b[49m\u001b[43mmemory_map\u001b[49m\u001b[38;5;241;43m=\u001b[39;49m\u001b[38;5;28;43mself\u001b[39;49m\u001b[38;5;241;43m.\u001b[39;49m\u001b[43moptions\u001b[49m\u001b[38;5;241;43m.\u001b[39;49m\u001b[43mget\u001b[49m\u001b[43m(\u001b[49m\u001b[38;5;124;43m\"\u001b[39;49m\u001b[38;5;124;43mmemory_map\u001b[39;49m\u001b[38;5;124;43m\"\u001b[39;49m\u001b[43m,\u001b[49m\u001b[43m \u001b[49m\u001b[38;5;28;43;01mFalse\u001b[39;49;00m\u001b[43m)\u001b[49m\u001b[43m,\u001b[49m\n\u001b[1;32m   1886\u001b[0m \u001b[43m    \u001b[49m\u001b[43mis_text\u001b[49m\u001b[38;5;241;43m=\u001b[39;49m\u001b[43mis_text\u001b[49m\u001b[43m,\u001b[49m\n\u001b[1;32m   1887\u001b[0m \u001b[43m    \u001b[49m\u001b[43merrors\u001b[49m\u001b[38;5;241;43m=\u001b[39;49m\u001b[38;5;28;43mself\u001b[39;49m\u001b[38;5;241;43m.\u001b[39;49m\u001b[43moptions\u001b[49m\u001b[38;5;241;43m.\u001b[39;49m\u001b[43mget\u001b[49m\u001b[43m(\u001b[49m\u001b[38;5;124;43m\"\u001b[39;49m\u001b[38;5;124;43mencoding_errors\u001b[39;49m\u001b[38;5;124;43m\"\u001b[39;49m\u001b[43m,\u001b[49m\u001b[43m \u001b[49m\u001b[38;5;124;43m\"\u001b[39;49m\u001b[38;5;124;43mstrict\u001b[39;49m\u001b[38;5;124;43m\"\u001b[39;49m\u001b[43m)\u001b[49m\u001b[43m,\u001b[49m\n\u001b[1;32m   1888\u001b[0m \u001b[43m    \u001b[49m\u001b[43mstorage_options\u001b[49m\u001b[38;5;241;43m=\u001b[39;49m\u001b[38;5;28;43mself\u001b[39;49m\u001b[38;5;241;43m.\u001b[39;49m\u001b[43moptions\u001b[49m\u001b[38;5;241;43m.\u001b[39;49m\u001b[43mget\u001b[49m\u001b[43m(\u001b[49m\u001b[38;5;124;43m\"\u001b[39;49m\u001b[38;5;124;43mstorage_options\u001b[39;49m\u001b[38;5;124;43m\"\u001b[39;49m\u001b[43m,\u001b[49m\u001b[43m \u001b[49m\u001b[38;5;28;43;01mNone\u001b[39;49;00m\u001b[43m)\u001b[49m\u001b[43m,\u001b[49m\n\u001b[1;32m   1889\u001b[0m \u001b[43m\u001b[49m\u001b[43m)\u001b[49m\n\u001b[1;32m   1890\u001b[0m \u001b[38;5;28;01massert\u001b[39;00m \u001b[38;5;28mself\u001b[39m\u001b[38;5;241m.\u001b[39mhandles \u001b[38;5;129;01mis\u001b[39;00m \u001b[38;5;129;01mnot\u001b[39;00m \u001b[38;5;28;01mNone\u001b[39;00m\n\u001b[1;32m   1891\u001b[0m f \u001b[38;5;241m=\u001b[39m \u001b[38;5;28mself\u001b[39m\u001b[38;5;241m.\u001b[39mhandles\u001b[38;5;241m.\u001b[39mhandle\n",
      "File \u001b[0;32m~/anaconda3/envs/recminer/lib/python3.9/site-packages/pandas/io/common.py:873\u001b[0m, in \u001b[0;36mget_handle\u001b[0;34m(path_or_buf, mode, encoding, compression, memory_map, is_text, errors, storage_options)\u001b[0m\n\u001b[1;32m    868\u001b[0m \u001b[38;5;28;01melif\u001b[39;00m \u001b[38;5;28misinstance\u001b[39m(handle, \u001b[38;5;28mstr\u001b[39m):\n\u001b[1;32m    869\u001b[0m     \u001b[38;5;66;03m# Check whether the filename is to be opened in binary mode.\u001b[39;00m\n\u001b[1;32m    870\u001b[0m     \u001b[38;5;66;03m# Binary mode does not support 'encoding' and 'newline'.\u001b[39;00m\n\u001b[1;32m    871\u001b[0m     \u001b[38;5;28;01mif\u001b[39;00m ioargs\u001b[38;5;241m.\u001b[39mencoding \u001b[38;5;129;01mand\u001b[39;00m \u001b[38;5;124m\"\u001b[39m\u001b[38;5;124mb\u001b[39m\u001b[38;5;124m\"\u001b[39m \u001b[38;5;129;01mnot\u001b[39;00m \u001b[38;5;129;01min\u001b[39;00m ioargs\u001b[38;5;241m.\u001b[39mmode:\n\u001b[1;32m    872\u001b[0m         \u001b[38;5;66;03m# Encoding\u001b[39;00m\n\u001b[0;32m--> 873\u001b[0m         handle \u001b[38;5;241m=\u001b[39m \u001b[38;5;28;43mopen\u001b[39;49m\u001b[43m(\u001b[49m\n\u001b[1;32m    874\u001b[0m \u001b[43m            \u001b[49m\u001b[43mhandle\u001b[49m\u001b[43m,\u001b[49m\n\u001b[1;32m    875\u001b[0m \u001b[43m            \u001b[49m\u001b[43mioargs\u001b[49m\u001b[38;5;241;43m.\u001b[39;49m\u001b[43mmode\u001b[49m\u001b[43m,\u001b[49m\n\u001b[1;32m    876\u001b[0m \u001b[43m            \u001b[49m\u001b[43mencoding\u001b[49m\u001b[38;5;241;43m=\u001b[39;49m\u001b[43mioargs\u001b[49m\u001b[38;5;241;43m.\u001b[39;49m\u001b[43mencoding\u001b[49m\u001b[43m,\u001b[49m\n\u001b[1;32m    877\u001b[0m \u001b[43m            \u001b[49m\u001b[43merrors\u001b[49m\u001b[38;5;241;43m=\u001b[39;49m\u001b[43merrors\u001b[49m\u001b[43m,\u001b[49m\n\u001b[1;32m    878\u001b[0m \u001b[43m            \u001b[49m\u001b[43mnewline\u001b[49m\u001b[38;5;241;43m=\u001b[39;49m\u001b[38;5;124;43m\"\u001b[39;49m\u001b[38;5;124;43m\"\u001b[39;49m\u001b[43m,\u001b[49m\n\u001b[1;32m    879\u001b[0m \u001b[43m        \u001b[49m\u001b[43m)\u001b[49m\n\u001b[1;32m    880\u001b[0m     \u001b[38;5;28;01melse\u001b[39;00m:\n\u001b[1;32m    881\u001b[0m         \u001b[38;5;66;03m# Binary mode\u001b[39;00m\n\u001b[1;32m    882\u001b[0m         handle \u001b[38;5;241m=\u001b[39m \u001b[38;5;28mopen\u001b[39m(handle, ioargs\u001b[38;5;241m.\u001b[39mmode)\n",
      "\u001b[0;31mFileNotFoundError\u001b[0m: [Errno 2] No such file or directory: '/home/felipe/New Recommendations/miner/eval/unbert_original_rep_on_test_hard_select/group_auc.txt'"
     ]
    }
   ],
   "source": [
    "or_q = pd.read_table('/home/felipe/New Recommendations/miner/eval/unbert_original_rep_on_test_hard_select/group_auc.txt',header=None)"
   ]
  },
  {
   "cell_type": "code",
   "execution_count": 15,
   "metadata": {},
   "outputs": [],
   "source": [
    "aug_q = pd.read_table(\"/home/felipe/New Recommendations/miner/eval/unbert_aug_rep_on_large_select_test/ndcg5.txt\",header=None)"
   ]
  },
  {
   "cell_type": "code",
   "execution_count": 16,
   "metadata": {},
   "outputs": [
    {
     "data": {
      "text/plain": [
       "TtestResult(statistic=array([2.25762506]), pvalue=array([0.02398352]), df=array([14831.91112626]))"
      ]
     },
     "execution_count": 16,
     "metadata": {},
     "output_type": "execute_result"
    }
   ],
   "source": [
    "ttest_ind(aug_q.values,or_q.values,equal_var=False)"
   ]
  },
  {
   "cell_type": "code",
   "execution_count": null,
   "metadata": {},
   "outputs": [],
   "source": []
  },
  {
   "cell_type": "code",
   "execution_count": null,
   "metadata": {},
   "outputs": [],
   "source": []
  },
  {
   "cell_type": "code",
   "execution_count": 19,
   "metadata": {},
   "outputs": [],
   "source": [
    "or_q = pd.read_table('/home/felipe/New Recommendations/miner/eval/unbert_original_rep_on_test/ndcg5.txt',header=None)"
   ]
  },
  {
   "cell_type": "code",
   "execution_count": 20,
   "metadata": {},
   "outputs": [],
   "source": [
    "aug_q = pd.read_table(\"/home/felipe/New Recommendations/miner/eval/unbert_aug_rep_on_test/ndcg5.txt\",header=None)"
   ]
  },
  {
   "cell_type": "code",
   "execution_count": 21,
   "metadata": {},
   "outputs": [
    {
     "data": {
      "text/plain": [
       "TtestResult(statistic=array([7.31807095]), pvalue=array([2.56303013e-13]), df=array([39780.05757954]))"
      ]
     },
     "execution_count": 21,
     "metadata": {},
     "output_type": "execute_result"
    }
   ],
   "source": [
    "ttest_ind(aug_q.values,or_q.values,equal_var=False)"
   ]
  },
  {
   "cell_type": "code",
   "execution_count": null,
   "metadata": {},
   "outputs": [],
   "source": []
  },
  {
   "cell_type": "code",
   "execution_count": null,
   "metadata": {},
   "outputs": [],
   "source": []
  },
  {
   "cell_type": "code",
   "execution_count": null,
   "metadata": {},
   "outputs": [],
   "source": []
  }
 ],
 "metadata": {
  "kernelspec": {
   "display_name": "recminer",
   "language": "python",
   "name": "python3"
  },
  "language_info": {
   "codemirror_mode": {
    "name": "ipython",
    "version": 3
   },
   "file_extension": ".py",
   "mimetype": "text/x-python",
   "name": "python",
   "nbconvert_exporter": "python",
   "pygments_lexer": "ipython3",
   "version": "3.9.0"
  }
 },
 "nbformat": 4,
 "nbformat_minor": 2
}
